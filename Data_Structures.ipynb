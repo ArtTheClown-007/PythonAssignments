{
 "cells": [
  {
   "cell_type": "code",
   "execution_count": null,
   "id": "d206a524-6d9b-44f5-a40f-2d71c7a3d485",
   "metadata": {},
   "outputs": [],
   "source": [
    "# Data Structure:  way of organising anf storing data so that it can be acceses and manipulated"
   ]
  },
  {
   "cell_type": "code",
   "execution_count": 1,
   "id": "3a08e8d7-c723-4a72-93ed-9366d91f7680",
   "metadata": {},
   "outputs": [],
   "source": [
    "# data structures: string, list, set, tuples, dictionary, array"
   ]
  },
  {
   "cell_type": "code",
   "execution_count": 10,
   "id": "1beb7be6-cdb3-4748-b41e-56bf4ae4e29b",
   "metadata": {},
   "outputs": [],
   "source": [
    "num = [1,2,3,4,5]\n",
    "Big_list = [1,3,5,'bull','tomato']\n",
    "#list"
   ]
  },
  {
   "cell_type": "code",
   "execution_count": 11,
   "id": "617fee11-3396-4a29-8ac3-90fca428711e",
   "metadata": {},
   "outputs": [
    {
     "data": {
      "text/plain": [
       "list"
      ]
     },
     "execution_count": 11,
     "metadata": {},
     "output_type": "execute_result"
    }
   ],
   "source": [
    "type(num)\n"
   ]
  },
  {
   "cell_type": "code",
   "execution_count": 12,
   "id": "138b6915-8710-4f99-8e74-c2ed84a40766",
   "metadata": {},
   "outputs": [
    {
     "data": {
      "text/plain": [
       "1"
      ]
     },
     "execution_count": 12,
     "metadata": {},
     "output_type": "execute_result"
    }
   ],
   "source": [
    "num[0]"
   ]
  },
  {
   "cell_type": "code",
   "execution_count": 13,
   "id": "d6c8f048-3e93-461d-95c3-fbf0b8d20c1e",
   "metadata": {},
   "outputs": [
    {
     "data": {
      "text/plain": [
       "4"
      ]
     },
     "execution_count": 13,
     "metadata": {},
     "output_type": "execute_result"
    }
   ],
   "source": [
    "num[3]"
   ]
  },
  {
   "cell_type": "code",
   "execution_count": 14,
   "id": "7cd18dfc-1dc3-4fbc-a9ed-301370b642a2",
   "metadata": {},
   "outputs": [],
   "source": [
    "fruits = [ 'banana','apple' , 'guava'] \n",
    "#append() append object at the end.."
   ]
  },
  {
   "cell_type": "code",
   "execution_count": 15,
   "id": "819a0391-8f5e-4bba-94f6-3f74d35e6c9e",
   "metadata": {},
   "outputs": [
    {
     "data": {
      "text/plain": [
       "['banana', 'apple', 'guava', 'orange']"
      ]
     },
     "execution_count": 15,
     "metadata": {},
     "output_type": "execute_result"
    }
   ],
   "source": [
    "fruits.append('orange')\n",
    "fruits"
   ]
  },
  {
   "cell_type": "code",
   "execution_count": 16,
   "id": "5949e3a1-0252-4f90-b6f7-9b49d839ed4d",
   "metadata": {},
   "outputs": [
    {
     "data": {
      "text/plain": [
       "['apple', 'guava', 'orange']"
      ]
     },
     "execution_count": 16,
     "metadata": {},
     "output_type": "execute_result"
    }
   ],
   "source": [
    "fruits.remove('banana')\n",
    "fruits"
   ]
  },
  {
   "cell_type": "code",
   "execution_count": 17,
   "id": "43020f09-7568-436d-96c0-024d0512b42e",
   "metadata": {},
   "outputs": [],
   "source": [
    "Nested_list = [ [1,3,5] , ['a','b'] , [2,4,6] ]"
   ]
  },
  {
   "cell_type": "code",
   "execution_count": 18,
   "id": "c752eb70-517b-463e-a3f2-9bcba9638420",
   "metadata": {},
   "outputs": [
    {
     "data": {
      "text/plain": [
       "list"
      ]
     },
     "execution_count": 18,
     "metadata": {},
     "output_type": "execute_result"
    }
   ],
   "source": [
    "type(Nested_list)"
   ]
  },
  {
   "cell_type": "code",
   "execution_count": 20,
   "id": "3eebb2ea-896e-480a-93d3-cc42e719210b",
   "metadata": {},
   "outputs": [
    {
     "data": {
      "text/plain": [
       "3"
      ]
     },
     "execution_count": 20,
     "metadata": {},
     "output_type": "execute_result"
    }
   ],
   "source": [
    "Nested_list[0][1]\n"
   ]
  },
  {
   "cell_type": "code",
   "execution_count": 21,
   "id": "189a5e72-0579-4770-aaec-b657503710a8",
   "metadata": {},
   "outputs": [
    {
     "data": {
      "text/plain": [
       "'b'"
      ]
     },
     "execution_count": 21,
     "metadata": {},
     "output_type": "execute_result"
    }
   ],
   "source": [
    "Nested_list[1][1]"
   ]
  },
  {
   "cell_type": "code",
   "execution_count": 25,
   "id": "34c86b8a-2814-4938-9876-5db77d131a30",
   "metadata": {},
   "outputs": [],
   "source": [
    "#dictionary\n",
    "phonebook = {\"Ash\":98790 , 'Bateman':7666}"
   ]
  },
  {
   "cell_type": "code",
   "execution_count": 26,
   "id": "8a4f6660-c18a-44b2-9161-ccc6dee372d6",
   "metadata": {},
   "outputs": [
    {
     "data": {
      "text/plain": [
       "98790"
      ]
     },
     "execution_count": 26,
     "metadata": {},
     "output_type": "execute_result"
    }
   ],
   "source": [
    "phonebook['Ash']"
   ]
  },
  {
   "cell_type": "code",
   "execution_count": 29,
   "id": "8291a3c3-8418-4f80-811b-eb9d3b042c21",
   "metadata": {},
   "outputs": [],
   "source": [
    "phonebook['Ash'] = 'Mobile number hidden due to unknown reasons...'"
   ]
  },
  {
   "cell_type": "code",
   "execution_count": 30,
   "id": "2bc57ba7-dbae-4718-97e4-c8e33fc738ed",
   "metadata": {},
   "outputs": [
    {
     "data": {
      "text/plain": [
       "'Mobile number hidden due to unknown reasons...'"
      ]
     },
     "execution_count": 30,
     "metadata": {},
     "output_type": "execute_result"
    }
   ],
   "source": [
    "phonebook['Ash']"
   ]
  },
  {
   "cell_type": "code",
   "execution_count": 31,
   "id": "a1c7893b-1318-45e9-8eef-483d4083e475",
   "metadata": {},
   "outputs": [],
   "source": [
    "#tuple --> immutable"
   ]
  },
  {
   "cell_type": "code",
   "execution_count": 32,
   "id": "a3196011-6826-4b14-870f-1399641fe69d",
   "metadata": {},
   "outputs": [],
   "source": [
    "tuple = (1,2,4,'string')"
   ]
  },
  {
   "cell_type": "code",
   "execution_count": 33,
   "id": "cd72187c-6906-4b44-9321-46f9b2e09386",
   "metadata": {},
   "outputs": [
    {
     "data": {
      "text/plain": [
       "(1, 2, 4, 'string')"
      ]
     },
     "execution_count": 33,
     "metadata": {},
     "output_type": "execute_result"
    }
   ],
   "source": [
    "tuple\n"
   ]
  },
  {
   "cell_type": "code",
   "execution_count": 34,
   "id": "5eabe5d6-23b3-4839-b67e-246dabcd32b7",
   "metadata": {},
   "outputs": [
    {
     "ename": "TypeError",
     "evalue": "'tuple' object does not support item assignment",
     "output_type": "error",
     "traceback": [
      "\u001b[1;31m---------------------------------------------------------------------------\u001b[0m",
      "\u001b[1;31mTypeError\u001b[0m                                 Traceback (most recent call last)",
      "Cell \u001b[1;32mIn[34], line 1\u001b[0m\n\u001b[1;32m----> 1\u001b[0m \u001b[38;5;28;43mtuple\u001b[39;49m\u001b[43m[\u001b[49m\u001b[38;5;241;43m0\u001b[39;49m\u001b[43m]\u001b[49m \u001b[38;5;241m=\u001b[39m \u001b[38;5;241m2\u001b[39m\n",
      "\u001b[1;31mTypeError\u001b[0m: 'tuple' object does not support item assignment"
     ]
    }
   ],
   "source": [
    "tuple[0] = 2"
   ]
  },
  {
   "cell_type": "code",
   "execution_count": 36,
   "id": "0c8e4909-405c-44a1-b014-af4958b486f3",
   "metadata": {},
   "outputs": [],
   "source": [
    "#set --> different elements unordered"
   ]
  },
  {
   "cell_type": "code",
   "execution_count": 37,
   "id": "35777931-5023-44a4-aa87-9f1ddf1136d3",
   "metadata": {},
   "outputs": [],
   "source": [
    "set = {'stuff',1,3,54,69}"
   ]
  },
  {
   "cell_type": "code",
   "execution_count": 38,
   "id": "284697e9-82da-4a15-8ad4-4577c66abaf5",
   "metadata": {},
   "outputs": [],
   "source": [
    "set.add('more stuff')"
   ]
  },
  {
   "cell_type": "code",
   "execution_count": 39,
   "id": "d38379e8-bdd6-4ea8-a86d-e2c9fb47c786",
   "metadata": {},
   "outputs": [
    {
     "data": {
      "text/plain": [
       "{1, 3, 54, 69, 'more stuff', 'stuff'}"
      ]
     },
     "execution_count": 39,
     "metadata": {},
     "output_type": "execute_result"
    }
   ],
   "source": [
    "set"
   ]
  },
  {
   "cell_type": "code",
   "execution_count": 40,
   "id": "d9732f36-5d9a-4b5d-8768-8a917e9a97c8",
   "metadata": {},
   "outputs": [],
   "source": [
    "set.remove('stuff')"
   ]
  },
  {
   "cell_type": "code",
   "execution_count": 41,
   "id": "d3e428de-e434-4b95-a1a3-2eae2effb541",
   "metadata": {},
   "outputs": [
    {
     "data": {
      "text/plain": [
       "{1, 3, 54, 69, 'more stuff'}"
      ]
     },
     "execution_count": 41,
     "metadata": {},
     "output_type": "execute_result"
    }
   ],
   "source": [
    "set"
   ]
  },
  {
   "cell_type": "code",
   "execution_count": 43,
   "id": "8451774a-b39e-41ab-ad47-e3285618e54b",
   "metadata": {},
   "outputs": [],
   "source": [
    "from array import array   #stores homogenous data"
   ]
  },
  {
   "cell_type": "code",
   "execution_count": 44,
   "id": "d46022f3-fec6-428e-b8f0-990bde4d6d84",
   "metadata": {},
   "outputs": [
    {
     "data": {
      "text/plain": [
       "array('i', [1, 2, 3, 4])"
      ]
     },
     "execution_count": 44,
     "metadata": {},
     "output_type": "execute_result"
    }
   ],
   "source": [
    "array('i',[1,2,3,4])"
   ]
  },
  {
   "cell_type": "code",
   "execution_count": 46,
   "id": "1dd6958d-3b0a-489d-9e22-03c274940dc7",
   "metadata": {},
   "outputs": [],
   "source": [
    "#--------------------------------------------Strings----------"
   ]
  },
  {
   "cell_type": "code",
   "execution_count": 48,
   "id": "fda66ce8-bab1-4e64-a534-595f5294cffc",
   "metadata": {},
   "outputs": [
    {
     "data": {
      "text/plain": [
       "65"
      ]
     },
     "execution_count": 48,
     "metadata": {},
     "output_type": "execute_result"
    }
   ],
   "source": [
    "char = 'A'\n",
    "ord(char)"
   ]
  },
  {
   "cell_type": "code",
   "execution_count": 49,
   "id": "7b97815c-2d0a-4fda-996f-fae462592d94",
   "metadata": {},
   "outputs": [
    {
     "data": {
      "text/plain": [
       "'A'"
      ]
     },
     "execution_count": 49,
     "metadata": {},
     "output_type": "execute_result"
    }
   ],
   "source": [
    "chr(65)"
   ]
  },
  {
   "cell_type": "code",
   "execution_count": 50,
   "id": "e1c994ef-a2f6-48ca-b197-15b310758a77",
   "metadata": {},
   "outputs": [],
   "source": [
    "#UNICODE Rep"
   ]
  },
  {
   "cell_type": "code",
   "execution_count": 51,
   "id": "fad43328-84d7-41df-b0dc-10aabd01ad0c",
   "metadata": {},
   "outputs": [
    {
     "data": {
      "text/plain": [
       "'Σ'"
      ]
     },
     "execution_count": 51,
     "metadata": {},
     "output_type": "execute_result"
    }
   ],
   "source": [
    "'\\u03A3'"
   ]
  },
  {
   "cell_type": "code",
   "execution_count": 52,
   "id": "c4bb3eea-c258-4005-b6b3-4306ff1033cf",
   "metadata": {},
   "outputs": [
    {
     "data": {
      "text/plain": [
       "'ॳ'"
      ]
     },
     "execution_count": 52,
     "metadata": {},
     "output_type": "execute_result"
    }
   ],
   "source": [
    "'\\u0973'"
   ]
  },
  {
   "cell_type": "code",
   "execution_count": 53,
   "id": "54d77597-a874-4039-830e-0c19c1a6ef20",
   "metadata": {},
   "outputs": [
    {
     "data": {
      "text/plain": [
       "'ই'"
      ]
     },
     "execution_count": 53,
     "metadata": {},
     "output_type": "execute_result"
    }
   ],
   "source": [
    "'\\u0987'"
   ]
  },
  {
   "cell_type": "code",
   "execution_count": 6,
   "id": "d639cac4-1fa4-42ec-bc7a-23b84ea33c5c",
   "metadata": {},
   "outputs": [],
   "source": [
    "string0 = 'bool'"
   ]
  },
  {
   "cell_type": "code",
   "execution_count": 7,
   "id": "57904432-ad9c-4b31-b27d-dc3951927371",
   "metadata": {},
   "outputs": [
    {
     "data": {
      "text/plain": [
       "'I\\'m  6\\'5\" '"
      ]
     },
     "execution_count": 7,
     "metadata": {},
     "output_type": "execute_result"
    }
   ],
   "source": [
    "\"\"\"I'm  6'5\" \"\"\""
   ]
  },
  {
   "cell_type": "code",
   "execution_count": 8,
   "id": "c70651a7-e734-4388-840b-b7bf55ab9f08",
   "metadata": {},
   "outputs": [
    {
     "data": {
      "text/plain": [
       "'I am a hooman\\nI eat food.\\nI eat animals.\\nI eat hoomanwooman'"
      ]
     },
     "execution_count": 8,
     "metadata": {},
     "output_type": "execute_result"
    }
   ],
   "source": [
    "'''I am a hooman\n",
    "I eat food.\n",
    "I eat animals.\n",
    "I eat hoomanwooman'''"
   ]
  },
  {
   "cell_type": "code",
   "execution_count": 9,
   "id": "a33ee606-2b06-456e-aff4-b06c516a4cf0",
   "metadata": {},
   "outputs": [],
   "source": [
    "#Concatenation >> combination of two strings"
   ]
  },
  {
   "cell_type": "code",
   "execution_count": 13,
   "id": "1911ae3e-5ac7-4c3c-bc9d-d4b2347d675a",
   "metadata": {},
   "outputs": [
    {
     "data": {
      "text/plain": [
       "'Hello World ,Whateva!'"
      ]
     },
     "execution_count": 13,
     "metadata": {},
     "output_type": "execute_result"
    }
   ],
   "source": [
    "\"Hello \" + \"World\" + \" ,Whateva!\""
   ]
  },
  {
   "cell_type": "code",
   "execution_count": 15,
   "id": "40294977-6f0a-423a-98c7-722da0ef5e2e",
   "metadata": {},
   "outputs": [],
   "source": [
    "#Extract/Slicing of string\n",
    "a = 'SomethingStupid'"
   ]
  },
  {
   "cell_type": "code",
   "execution_count": 16,
   "id": "056ec7b4-3c5a-43c2-8377-a65ac70391b0",
   "metadata": {},
   "outputs": [
    {
     "data": {
      "text/plain": [
       "'S'"
      ]
     },
     "execution_count": 16,
     "metadata": {},
     "output_type": "execute_result"
    }
   ],
   "source": [
    "a[0]"
   ]
  },
  {
   "cell_type": "code",
   "execution_count": 17,
   "id": "f3ef547e-32e9-45bd-923d-d6afac74cbd5",
   "metadata": {},
   "outputs": [
    {
     "data": {
      "text/plain": [
       "'o'"
      ]
     },
     "execution_count": 17,
     "metadata": {},
     "output_type": "execute_result"
    }
   ],
   "source": [
    "a[1]"
   ]
  },
  {
   "cell_type": "code",
   "execution_count": 18,
   "id": "c32a9211-61a3-43fb-b1f6-f54c48165813",
   "metadata": {},
   "outputs": [],
   "source": [
    "TEXT = 'Whatchu doin here, man !'"
   ]
  },
  {
   "cell_type": "code",
   "execution_count": 20,
   "id": "226fc81e-4f70-4346-8259-d027494ad9e2",
   "metadata": {},
   "outputs": [
    {
     "data": {
      "text/plain": [
       "'Whatchu doin here'"
      ]
     },
     "execution_count": 20,
     "metadata": {},
     "output_type": "execute_result"
    }
   ],
   "source": [
    "TEXT[0:17] # 17 is exclusive"
   ]
  },
  {
   "cell_type": "code",
   "execution_count": 22,
   "id": "ce1f5128-19e0-4af2-8fe8-c70a1652f834",
   "metadata": {},
   "outputs": [
    {
     "data": {
      "text/plain": [
       "'Whatchu doin here, man !'"
      ]
     },
     "execution_count": 22,
     "metadata": {},
     "output_type": "execute_result"
    }
   ],
   "source": [
    " TEXT[0: ] # unending value"
   ]
  },
  {
   "cell_type": "code",
   "execution_count": 25,
   "id": "f8e8b0ef-d018-4b6f-ae15-dea8a875c889",
   "metadata": {},
   "outputs": [
    {
     "data": {
      "text/plain": [
       "'Whatchu doin here, ma'"
      ]
     },
     "execution_count": 25,
     "metadata": {},
     "output_type": "execute_result"
    }
   ],
   "source": [
    "TEXT[ : -3] #last three char omiited"
   ]
  },
  {
   "cell_type": "code",
   "execution_count": 28,
   "id": "1ca85220-2688-4ee5-a56f-7a5030f9626e",
   "metadata": {},
   "outputs": [
    {
     "data": {
      "text/plain": [
       "'Wacu'"
      ]
     },
     "execution_count": 28,
     "metadata": {},
     "output_type": "execute_result"
    }
   ],
   "source": [
    "TEXT[0:8:2] #last paramater is steps taken"
   ]
  },
  {
   "cell_type": "code",
   "execution_count": 29,
   "id": "74c204cc-3d71-432c-a6d9-92a7386380f3",
   "metadata": {},
   "outputs": [
    {
     "data": {
      "text/plain": [
       "'Wtuo'"
      ]
     },
     "execution_count": 29,
     "metadata": {},
     "output_type": "execute_result"
    }
   ],
   "source": [
    "TEXT[0:12:3]"
   ]
  },
  {
   "cell_type": "code",
   "execution_count": 30,
   "id": "25c5b587-7f7f-432a-86cc-7a2b6cd34632",
   "metadata": {},
   "outputs": [
    {
     "data": {
      "text/plain": [
       "'Whatchu doin here, man !'"
      ]
     },
     "execution_count": 30,
     "metadata": {},
     "output_type": "execute_result"
    }
   ],
   "source": [
    "TEXT[::1]"
   ]
  },
  {
   "cell_type": "code",
   "execution_count": 31,
   "id": "436d4668-a550-4d6a-99ea-cf933a74a549",
   "metadata": {},
   "outputs": [],
   "source": [
    "#syntax-->stringName[start:end:step]"
   ]
  },
  {
   "cell_type": "code",
   "execution_count": 33,
   "id": "fffce979-130b-4287-8f11-7ca5cbce66c5",
   "metadata": {},
   "outputs": [
    {
     "data": {
      "text/plain": [
       "'! nam ,ereh niod uhctahW'"
      ]
     },
     "execution_count": 33,
     "metadata": {},
     "output_type": "execute_result"
    }
   ],
   "source": [
    "TEXT[::-1] #iterate over the sequence in reverse order"
   ]
  },
  {
   "cell_type": "code",
   "execution_count": 34,
   "id": "8ddd749c-ba09-448b-a12f-b55cfc9a313b",
   "metadata": {},
   "outputs": [],
   "source": [
    "#strings are immutable"
   ]
  },
  {
   "cell_type": "code",
   "execution_count": 35,
   "id": "64e48ed5-d085-41b3-b5cc-586591db732f",
   "metadata": {},
   "outputs": [
    {
     "ename": "TypeError",
     "evalue": "'str' object does not support item assignment",
     "output_type": "error",
     "traceback": [
      "\u001b[1;31m---------------------------------------------------------------------------\u001b[0m",
      "\u001b[1;31mTypeError\u001b[0m                                 Traceback (most recent call last)",
      "Cell \u001b[1;32mIn[35], line 1\u001b[0m\n\u001b[1;32m----> 1\u001b[0m \u001b[43mTEXT\u001b[49m\u001b[43m[\u001b[49m\u001b[38;5;241;43m4\u001b[39;49m\u001b[43m]\u001b[49m \u001b[38;5;241m=\u001b[39m \u001b[38;5;124m'\u001b[39m\u001b[38;5;124mb\u001b[39m\u001b[38;5;124m'\u001b[39m\n",
      "\u001b[1;31mTypeError\u001b[0m: 'str' object does not support item assignment"
     ]
    }
   ],
   "source": [
    "TEXT[4] = 'b'"
   ]
  },
  {
   "cell_type": "code",
   "execution_count": 36,
   "id": "c3b19461-0021-4c79-b0fe-871f68d9ddcf",
   "metadata": {},
   "outputs": [
    {
     "data": {
      "text/plain": [
       "24"
      ]
     },
     "execution_count": 36,
     "metadata": {},
     "output_type": "execute_result"
    }
   ],
   "source": [
    "len(TEXT)"
   ]
  },
  {
   "cell_type": "code",
   "execution_count": 37,
   "id": "202b7802-572c-46ac-b7bb-c3e3f3eb6e78",
   "metadata": {},
   "outputs": [],
   "source": [
    "#modification of string using replace function"
   ]
  },
  {
   "cell_type": "code",
   "execution_count": 38,
   "id": "af836567-7438-4f1a-8d68-c554f5618ed9",
   "metadata": {},
   "outputs": [
    {
     "data": {
      "text/plain": [
       "'Whatchu doin here, man !'"
      ]
     },
     "execution_count": 38,
     "metadata": {},
     "output_type": "execute_result"
    }
   ],
   "source": [
    "TEXT\n"
   ]
  },
  {
   "cell_type": "code",
   "execution_count": 43,
   "id": "c9e4d01a-1226-4a86-b029-a005379743a9",
   "metadata": {},
   "outputs": [
    {
     "data": {
      "text/plain": [
       "'Whatchu doin ere, man !'"
      ]
     },
     "execution_count": 43,
     "metadata": {},
     "output_type": "execute_result"
    }
   ],
   "source": [
    "TEXT.replace(\"here\",\"ere\")"
   ]
  },
  {
   "cell_type": "code",
   "execution_count": 45,
   "id": "add15747-e382-4025-9fcf-3331885bb56a",
   "metadata": {},
   "outputs": [
    {
     "data": {
      "text/plain": [
       "'What are you doin here, man !'"
      ]
     },
     "execution_count": 45,
     "metadata": {},
     "output_type": "execute_result"
    }
   ],
   "source": [
    "TEXT.replace('Whatchu','What are you')"
   ]
  },
  {
   "cell_type": "code",
   "execution_count": 46,
   "id": "8bb55726-f095-4f73-997e-b9527459b3cb",
   "metadata": {},
   "outputs": [],
   "source": [
    "CAPITAL = \"BURNING DOWN THE HOUSE\""
   ]
  },
  {
   "cell_type": "code",
   "execution_count": 47,
   "id": "f775c7a0-c61b-4109-9051-3a1e5b887166",
   "metadata": {},
   "outputs": [
    {
     "data": {
      "text/plain": [
       "'burning down the house'"
      ]
     },
     "execution_count": 47,
     "metadata": {},
     "output_type": "execute_result"
    }
   ],
   "source": [
    "CAPITAL.lower()"
   ]
  },
  {
   "cell_type": "code",
   "execution_count": 48,
   "id": "264f4444-9eb8-4bcc-a502-c88de9a68bf4",
   "metadata": {},
   "outputs": [
    {
     "data": {
      "text/plain": [
       "'BURNING DOWN THE HOUSE'"
      ]
     },
     "execution_count": 48,
     "metadata": {},
     "output_type": "execute_result"
    }
   ],
   "source": [
    "CAPITAL.upper()"
   ]
  },
  {
   "cell_type": "code",
   "execution_count": 49,
   "id": "566bb39d-9276-4f08-b893-6ffdb46e13f2",
   "metadata": {},
   "outputs": [
    {
     "data": {
      "text/plain": [
       "'Burning Down The House'"
      ]
     },
     "execution_count": 49,
     "metadata": {},
     "output_type": "execute_result"
    }
   ],
   "source": [
    "CAPITAL.title()"
   ]
  },
  {
   "cell_type": "code",
   "execution_count": 50,
   "id": "13588d05-b5cc-4574-87ba-3b2dcd4b5811",
   "metadata": {},
   "outputs": [
    {
     "data": {
      "text/plain": [
       "'burning down the house'"
      ]
     },
     "execution_count": 50,
     "metadata": {},
     "output_type": "execute_result"
    }
   ],
   "source": [
    "CAPITAL.swapcase()"
   ]
  },
  {
   "cell_type": "code",
   "execution_count": 51,
   "id": "ca2053eb-d9d3-49f5-863b-d7b46efdbe03",
   "metadata": {},
   "outputs": [
    {
     "data": {
      "text/plain": [
       "'Burning down the house'"
      ]
     },
     "execution_count": 51,
     "metadata": {},
     "output_type": "execute_result"
    }
   ],
   "source": [
    "CAPITAL.capitalize()"
   ]
  },
  {
   "cell_type": "code",
   "execution_count": 55,
   "id": "af90250b-6e91-4559-b1dc-adea43ac872f",
   "metadata": {},
   "outputs": [
    {
     "data": {
      "text/plain": [
       "True"
      ]
     },
     "execution_count": 55,
     "metadata": {},
     "output_type": "execute_result"
    }
   ],
   "source": [
    "#string searching\n",
    "CAPITAL = \"BURNING DOWN THE HOUSE\"\n",
    "'HOUSE' in CAPITAL"
   ]
  },
  {
   "cell_type": "code",
   "execution_count": 65,
   "id": "3d48fd49-ec82-460f-9258-0390f02a620f",
   "metadata": {},
   "outputs": [
    {
     "name": "stdout",
     "output_type": "stream",
     "text": [
      "valid email\n"
     ]
    }
   ],
   "source": [
    "email = 'maxp123@gmail.com'\n",
    "if (\"@gmail.com\" or \"@yahoo.co.in\" or \"@hotmail.com\") in email:\n",
    "    print(\"valid email\")\n",
    "else:\n",
    "    print(\"Invalid email\")"
   ]
  },
  {
   "cell_type": "code",
   "execution_count": 68,
   "id": "441657fc-d767-4192-ae17-4509a688ef4f",
   "metadata": {},
   "outputs": [],
   "source": [
    "#string comparison\n",
    "str1 = \"Hello\"\n",
    "str2 = \"ello\""
   ]
  },
  {
   "cell_type": "code",
   "execution_count": 69,
   "id": "084c6f2c-e1c7-43c6-8517-d4af0c111734",
   "metadata": {},
   "outputs": [
    {
     "data": {
      "text/plain": [
       "False"
      ]
     },
     "execution_count": 69,
     "metadata": {},
     "output_type": "execute_result"
    }
   ],
   "source": [
    "str1 == str2"
   ]
  },
  {
   "cell_type": "code",
   "execution_count": 70,
   "id": "a5c0b13c-296f-4cc5-917c-18f706e878a3",
   "metadata": {},
   "outputs": [
    {
     "name": "stdout",
     "output_type": "stream",
     "text": [
      "valid username :)\n"
     ]
    }
   ],
   "source": [
    "reg_username = ['max','maxp','MaxPayne']\n",
    "new_user = 'MaxPayne007'\n",
    "if new_user in reg_username:\n",
    "    print('already in use')\n",
    "else:\n",
    "    print('valid username :)')"
   ]
  },
  {
   "cell_type": "code",
   "execution_count": 71,
   "id": "3ed1c87a-af14-4ea2-af52-615451647921",
   "metadata": {},
   "outputs": [],
   "source": [
    "#string ordering"
   ]
  },
  {
   "cell_type": "code",
   "execution_count": 77,
   "id": "d29316e2-5923-4211-adf8-348aef472ede",
   "metadata": {},
   "outputs": [],
   "source": [
    "name = [ 'Art','Damien','Jason Voorhees','Jacob','Nate','Ezekiel','Francesca','Bateman','Cristie']"
   ]
  },
  {
   "cell_type": "code",
   "execution_count": 78,
   "id": "8e561a8e-1cb9-4dc5-a0c5-f17af0a05128",
   "metadata": {},
   "outputs": [
    {
     "data": {
      "text/plain": [
       "['Art',\n",
       " 'Bateman',\n",
       " 'Cristie',\n",
       " 'Damien',\n",
       " 'Ezekiel',\n",
       " 'Francesca',\n",
       " 'Jacob',\n",
       " 'Jason Voorhees',\n",
       " 'Nate']"
      ]
     },
     "execution_count": 78,
     "metadata": {},
     "output_type": "execute_result"
    }
   ],
   "source": [
    "sorted(name)"
   ]
  },
  {
   "cell_type": "code",
   "execution_count": 79,
   "id": "4001323a-9110-4afb-acec-4e9cc9bce2ae",
   "metadata": {},
   "outputs": [],
   "source": [
    "#common string op\n",
    "input_str = \"                Max Payne     \"\n"
   ]
  },
  {
   "cell_type": "code",
   "execution_count": 80,
   "id": "252b586c-f6a1-4fbf-82d2-4314c964c898",
   "metadata": {},
   "outputs": [
    {
     "data": {
      "text/plain": [
       "'Max Payne'"
      ]
     },
     "execution_count": 80,
     "metadata": {},
     "output_type": "execute_result"
    }
   ],
   "source": [
    "input_str.strip()"
   ]
  },
  {
   "cell_type": "code",
   "execution_count": 87,
   "id": "66b7b03a-0b88-486f-942b-e06c07823843",
   "metadata": {},
   "outputs": [],
   "source": [
    "#string splititng\n",
    "data = 'Art,Damien,Jason Voorhees,Jacob,Nate,Ezekiel,Francesca,Bateman,Cristie'"
   ]
  },
  {
   "cell_type": "code",
   "execution_count": 90,
   "id": "811237ea-172b-4dab-be09-0cc0fdd3c948",
   "metadata": {},
   "outputs": [],
   "source": [
    "char_info = data.split(',')"
   ]
  },
  {
   "cell_type": "code",
   "execution_count": 91,
   "id": "05d1cd4d-6b6b-44b5-a1aa-21690fcf0fe8",
   "metadata": {},
   "outputs": [
    {
     "data": {
      "text/plain": [
       "['Art',\n",
       " 'Damien',\n",
       " 'Jason Voorhees',\n",
       " 'Jacob',\n",
       " 'Nate',\n",
       " 'Ezekiel',\n",
       " 'Francesca',\n",
       " 'Bateman',\n",
       " 'Cristie']"
      ]
     },
     "execution_count": 91,
     "metadata": {},
     "output_type": "execute_result"
    }
   ],
   "source": [
    "char_info\n"
   ]
  },
  {
   "cell_type": "code",
   "execution_count": 92,
   "id": "ad9c7b4d-a8a6-439f-9b2d-62d9bd6a24ae",
   "metadata": {},
   "outputs": [],
   "source": [
    "Clown = char_info[0]"
   ]
  },
  {
   "cell_type": "code",
   "execution_count": 93,
   "id": "6f128a76-d889-4abe-ad3f-8b8a6140e254",
   "metadata": {},
   "outputs": [
    {
     "data": {
      "text/plain": [
       "'Art'"
      ]
     },
     "execution_count": 93,
     "metadata": {},
     "output_type": "execute_result"
    }
   ],
   "source": [
    "Clown"
   ]
  },
  {
   "cell_type": "code",
   "execution_count": 95,
   "id": "1fccf71e-055f-4b80-9504-4f7ee7bfeccc",
   "metadata": {},
   "outputs": [],
   "source": [
    "#Escape sequence >> special combination of char used within a string"
   ]
  },
  {
   "cell_type": "code",
   "execution_count": 97,
   "id": "a6aa6152-3d46-4756-99b1-34a73d0f689e",
   "metadata": {},
   "outputs": [],
   "source": [
    "# \\n -->newline char"
   ]
  },
  {
   "cell_type": "code",
   "execution_count": 101,
   "id": "f9315bd8-f2b0-4425-8125-f9bbbffaacd4",
   "metadata": {},
   "outputs": [],
   "source": [
    "# \\t -->tab\n",
    "table = \"Name\\tAge\\tGrade\\nRuth\\t19\\tA\\nJules\\t22\\tA+\""
   ]
  },
  {
   "cell_type": "code",
   "execution_count": 102,
   "id": "727565f8-9aef-4030-80cc-99394235d3c2",
   "metadata": {},
   "outputs": [
    {
     "name": "stdout",
     "output_type": "stream",
     "text": [
      "Name\tAge\tGrade\n",
      "Ruth\t19\tA\n",
      "Jules\t22\tA+\n"
     ]
    }
   ],
   "source": [
    "print(table)"
   ]
  },
  {
   "cell_type": "code",
   "execution_count": 103,
   "id": "8103223c-a609-4e10-a902-18837bbc8a93",
   "metadata": {},
   "outputs": [],
   "source": [
    "file_path = \"C\\\\Users\\\\Max\\\\Downloads\\\\JupyterLab.exe\""
   ]
  },
  {
   "cell_type": "code",
   "execution_count": 104,
   "id": "7ff7b7f3-2392-425b-913c-8abbe83d5208",
   "metadata": {},
   "outputs": [
    {
     "name": "stdout",
     "output_type": "stream",
     "text": [
      "C\\Users\\Max\\Downloads\\JupyterLab.exe\n"
     ]
    }
   ],
   "source": [
    "print(file_path)"
   ]
  },
  {
   "cell_type": "code",
   "execution_count": 105,
   "id": "cf09dba4-8ed1-4af2-a5ab-4812163e03f5",
   "metadata": {},
   "outputs": [],
   "source": [
    "# \\' single quote escape"
   ]
  },
  {
   "cell_type": "code",
   "execution_count": 107,
   "id": "e76e2fad-cd90-427b-a613-646664b217df",
   "metadata": {},
   "outputs": [],
   "source": [
    "str1 = 'I\\'m six-five'"
   ]
  },
  {
   "cell_type": "code",
   "execution_count": 108,
   "id": "04d385c0-1ffd-4763-897b-1f06b7070dc7",
   "metadata": {},
   "outputs": [
    {
     "data": {
      "text/plain": [
       "\"I'm six-five\""
      ]
     },
     "execution_count": 108,
     "metadata": {},
     "output_type": "execute_result"
    }
   ],
   "source": [
    "str1"
   ]
  },
  {
   "cell_type": "code",
   "execution_count": 112,
   "id": "aa95a637-b22f-4836-96df-41fb4af0e64b",
   "metadata": {},
   "outputs": [
    {
     "name": "stdout",
     "output_type": "stream",
     "text": [
      "them to Belize\n"
     ]
    }
   ],
   "source": [
    "#carriage return \\r >>moves the cursor to the beginning of line\n",
    "print(\"Send \\rthem to Belize\")"
   ]
  },
  {
   "cell_type": "code",
   "execution_count": 125,
   "id": "42a2050e-34aa-4d55-9a5d-cc45bcb79187",
   "metadata": {},
   "outputs": [
    {
     "name": "stdout",
     "output_type": "stream",
     "text": [
      "Hello Jules, how are you?\n"
     ]
    }
   ],
   "source": [
    "#string formatting>> creating string with placeholder for variables\n",
    "#f string\n",
    "name = 'Jules'\n",
    "greetings = f\"Hello {name}, how are you?\"\n",
    "print(greetings)"
   ]
  },
  {
   "cell_type": "code",
   "execution_count": 129,
   "id": "36319e22-924e-4d23-b0e5-6bcc4f874a73",
   "metadata": {},
   "outputs": [],
   "source": [
    "#another way of formatting\n",
    "name2 = \"Ruth Bennet\"\n",
    "greeting = \"Hello %s, wish you a wonderful day\"%name2"
   ]
  },
  {
   "cell_type": "code",
   "execution_count": 130,
   "id": "51a14725-924f-4369-a500-10c88adfcd7f",
   "metadata": {},
   "outputs": [
    {
     "name": "stdout",
     "output_type": "stream",
     "text": [
      "Hello Ruth Bennet, wish you a wonderful day\n"
     ]
    }
   ],
   "source": [
    "print(greeting)"
   ]
  },
  {
   "cell_type": "code",
   "execution_count": 131,
   "id": "ca0cca23-c087-4845-940a-43bae37951f9",
   "metadata": {},
   "outputs": [
    {
     "name": "stdout",
     "output_type": "stream",
     "text": [
      "Hello, Max Welcome to Jupyter Lab\n"
     ]
    }
   ],
   "source": [
    "# .format() \n",
    "template = \"Hello, {} Welcome to {}\"\n",
    "message = template.format(\"Max\",\"Jupyter Lab\")\n",
    "print(message)"
   ]
  },
  {
   "cell_type": "code",
   "execution_count": 133,
   "id": "18fd0f33-1a79-42a2-b123-4087b69dc057",
   "metadata": {},
   "outputs": [
    {
     "data": {
      "text/plain": [
       "True"
      ]
     },
     "execution_count": 133,
     "metadata": {},
     "output_type": "execute_result"
    }
   ],
   "source": [
    "string_00 = \"AWSSS\"\n",
    "string_00.startswith(\"A\")"
   ]
  },
  {
   "cell_type": "code",
   "execution_count": 134,
   "id": "70013bc2-9397-4a4a-838c-90a8cad04bc6",
   "metadata": {},
   "outputs": [
    {
     "data": {
      "text/plain": [
       "True"
      ]
     },
     "execution_count": 134,
     "metadata": {},
     "output_type": "execute_result"
    }
   ],
   "source": [
    "string_00.endswith('S')"
   ]
  },
  {
   "cell_type": "code",
   "execution_count": 135,
   "id": "ed676d5c-8ce2-464c-927f-9bd430591a1d",
   "metadata": {},
   "outputs": [
    {
     "data": {
      "text/plain": [
       "True"
      ]
     },
     "execution_count": 135,
     "metadata": {},
     "output_type": "execute_result"
    }
   ],
   "source": [
    "A_num = \"123abc\"\n",
    "A_num.isalnum()"
   ]
  },
  {
   "cell_type": "code",
   "execution_count": 2,
   "id": "9eb712e3-36d2-4749-ab23-83c9f37d5590",
   "metadata": {},
   "outputs": [
    {
     "data": {
      "text/plain": [
       "'Lists[]'"
      ]
     },
     "execution_count": 2,
     "metadata": {},
     "output_type": "execute_result"
    }
   ],
   "source": [
    "#------------------------------------------------------------\n",
    "'''Lists[]'''\n"
   ]
  },
  {
   "cell_type": "code",
   "execution_count": 7,
   "id": "76b437e5-7c03-451b-8dc6-2729ffffbd65",
   "metadata": {},
   "outputs": [],
   "source": [
    "Movies = [ \"Terrifier 1\", \"Terrifier 2\", \"Blood and Honey\", \"The Green Inferno\"]"
   ]
  },
  {
   "cell_type": "code",
   "execution_count": 8,
   "id": "a9ba8f6e-4461-417c-b1ac-5361daf09225",
   "metadata": {},
   "outputs": [
    {
     "data": {
      "text/plain": [
       "['Terrifier 1', 'Terrifier 2', 'Blood and Honey']"
      ]
     },
     "execution_count": 8,
     "metadata": {},
     "output_type": "execute_result"
    }
   ],
   "source": [
    "Movies[0:3]"
   ]
  },
  {
   "cell_type": "code",
   "execution_count": 9,
   "id": "c9927a0e-786f-41de-b9dc-3ae67ed651bb",
   "metadata": {},
   "outputs": [
    {
     "data": {
      "text/plain": [
       "['Terrifier 1', 'Terrifier 2', 'Blood and Honey', 'The Green Inferno']"
      ]
     },
     "execution_count": 9,
     "metadata": {},
     "output_type": "execute_result"
    }
   ],
   "source": [
    "Movies[0:]"
   ]
  },
  {
   "cell_type": "code",
   "execution_count": 13,
   "id": "3942a4a9-b261-4b80-8597-48e219609a21",
   "metadata": {},
   "outputs": [
    {
     "data": {
      "text/plain": [
       "['The Green Inferno', 'Blood and Honey', 'Terrifier 2', 'Terrifier 1']"
      ]
     },
     "execution_count": 13,
     "metadata": {},
     "output_type": "execute_result"
    }
   ],
   "source": [
    "Movies[::-1]"
   ]
  },
  {
   "cell_type": "code",
   "execution_count": 14,
   "id": "61cc7f99-be3d-4b18-9994-3ce0616d0461",
   "metadata": {},
   "outputs": [],
   "source": [
    "Movies.append(\"The Hostel\")"
   ]
  },
  {
   "cell_type": "code",
   "execution_count": 15,
   "id": "fb2429b2-2e15-4ec1-86d3-ee166c865754",
   "metadata": {},
   "outputs": [
    {
     "data": {
      "text/plain": [
       "['Terrifier 1',\n",
       " 'Terrifier 2',\n",
       " 'Blood and Honey',\n",
       " 'The Green Inferno',\n",
       " 'The Hostel']"
      ]
     },
     "execution_count": 15,
     "metadata": {},
     "output_type": "execute_result"
    }
   ],
   "source": [
    "Movies"
   ]
  },
  {
   "cell_type": "code",
   "execution_count": 16,
   "id": "62caeb55-6cbe-43f1-8c95-ab71c4b9b9e7",
   "metadata": {},
   "outputs": [],
   "source": [
    "playlist = []"
   ]
  },
  {
   "cell_type": "code",
   "execution_count": 35,
   "id": "b5e69207-b527-44ed-9d6e-51620913cc42",
   "metadata": {},
   "outputs": [],
   "source": [
    "playlist.append(\"Something Stupid ~ Frank Sinatra\")\n",
    "playlist.append(\"Burning Down The House ~ Talking Heads\")\n",
    "playlist.append(\"Psycho Killer ~ Talking Heads\")\n",
    "playlist.append(\"Lonely is the Night\")\n",
    "\n",
    "\n"
   ]
  },
  {
   "cell_type": "code",
   "execution_count": 36,
   "id": "a75dc3a5-c944-4bfa-b413-ef68f1293bf4",
   "metadata": {},
   "outputs": [],
   "source": [
    "playlist[0] = \"Redbone \"\n"
   ]
  },
  {
   "cell_type": "code",
   "execution_count": 37,
   "id": "fadfb272-e385-4484-b40b-2641ef452072",
   "metadata": {},
   "outputs": [
    {
     "data": {
      "text/plain": [
       "'Redbone '"
      ]
     },
     "execution_count": 37,
     "metadata": {},
     "output_type": "execute_result"
    }
   ],
   "source": [
    "playlist[0]"
   ]
  },
  {
   "cell_type": "code",
   "execution_count": 38,
   "id": "9e20b141-f0f3-49c5-b59a-86bfdc52c2e1",
   "metadata": {},
   "outputs": [],
   "source": [
    "playlist.insert(1, \"The Less I Know The Better ~ Tame Impala\")\n",
    "playlist.insert(2,\"Please Don't Go ~ KC\")\n",
    "#Inserts object before index"
   ]
  },
  {
   "cell_type": "code",
   "execution_count": 39,
   "id": "6b896d84-80cf-471f-bc0b-51a1a2697aa0",
   "metadata": {},
   "outputs": [
    {
     "data": {
      "text/plain": [
       "['Redbone ',\n",
       " 'The Less I Know The Better ~ Tame Impala',\n",
       " \"Please Don't Go ~ KC\",\n",
       " 'The Less I Know The Better ~ Tame Impala',\n",
       " \"Please Don't Go ~ KC\",\n",
       " 'The Less I Know The Better ~ Tame Impala',\n",
       " 'Something Stupid ~ Frank Sinatra',\n",
       " 'Burning Down The House ~ Talking Heads',\n",
       " 'Psycho Killer ~ Talking Heads',\n",
       " 'Something Stupid ~ Frank Sinatra',\n",
       " 'Burning Down The House ~ Talking Heads',\n",
       " 'Psycho Killer ~ Talking Heads',\n",
       " 'Lonely is the Night',\n",
       " 'Something Stupid ~ Frank Sinatra',\n",
       " 'Burning Down The House ~ Talking Heads',\n",
       " 'Psycho Killer ~ Talking Heads',\n",
       " 'Lonely is the Night',\n",
       " 'Something Stupid ~ Frank Sinatra',\n",
       " 'Burning Down The House ~ Talking Heads',\n",
       " 'Psycho Killer ~ Talking Heads',\n",
       " 'Lonely is the Night']"
      ]
     },
     "execution_count": 39,
     "metadata": {},
     "output_type": "execute_result"
    }
   ],
   "source": [
    "playlist"
   ]
  },
  {
   "cell_type": "code",
   "execution_count": 40,
   "id": "eafbeb0e-356c-43b1-a3f4-03656083b4ea",
   "metadata": {},
   "outputs": [],
   "source": [
    "Movies_and_Music = []"
   ]
  },
  {
   "cell_type": "code",
   "execution_count": 41,
   "id": "f7fd0402-d85f-4774-b1a7-2e9a19c3c2bb",
   "metadata": {},
   "outputs": [],
   "source": [
    "Movies_and_Music.extend(playlist)\n",
    "Movies_and_Music.extend(Movies)\n"
   ]
  },
  {
   "cell_type": "code",
   "execution_count": 42,
   "id": "920bbac2-636b-42f1-ae4d-0f3dc6abbc45",
   "metadata": {},
   "outputs": [
    {
     "data": {
      "text/plain": [
       "['Redbone ',\n",
       " 'The Less I Know The Better ~ Tame Impala',\n",
       " \"Please Don't Go ~ KC\",\n",
       " 'The Less I Know The Better ~ Tame Impala',\n",
       " \"Please Don't Go ~ KC\",\n",
       " 'The Less I Know The Better ~ Tame Impala',\n",
       " 'Something Stupid ~ Frank Sinatra',\n",
       " 'Burning Down The House ~ Talking Heads',\n",
       " 'Psycho Killer ~ Talking Heads',\n",
       " 'Something Stupid ~ Frank Sinatra',\n",
       " 'Burning Down The House ~ Talking Heads',\n",
       " 'Psycho Killer ~ Talking Heads',\n",
       " 'Lonely is the Night',\n",
       " 'Something Stupid ~ Frank Sinatra',\n",
       " 'Burning Down The House ~ Talking Heads',\n",
       " 'Psycho Killer ~ Talking Heads',\n",
       " 'Lonely is the Night',\n",
       " 'Something Stupid ~ Frank Sinatra',\n",
       " 'Burning Down The House ~ Talking Heads',\n",
       " 'Psycho Killer ~ Talking Heads',\n",
       " 'Lonely is the Night',\n",
       " 'Terrifier 1',\n",
       " 'Terrifier 2',\n",
       " 'Blood and Honey',\n",
       " 'The Green Inferno',\n",
       " 'The Hostel']"
      ]
     },
     "execution_count": 42,
     "metadata": {},
     "output_type": "execute_result"
    }
   ],
   "source": [
    "Movies_and_Music"
   ]
  },
  {
   "cell_type": "code",
   "execution_count": 48,
   "id": "ea480d9c-4190-4f96-a7d2-5b8ef4f9304d",
   "metadata": {},
   "outputs": [
    {
     "data": {
      "text/plain": [
       "'________________________________________________________________________________________________________________________________________________________________'"
      ]
     },
     "execution_count": 48,
     "metadata": {},
     "output_type": "execute_result"
    }
   ],
   "source": [
    "#repetition operation\n",
    "\"_\"*160"
   ]
  },
  {
   "cell_type": "code",
   "execution_count": 49,
   "id": "f9b9f534-7270-4336-9b6e-39cdcf769e43",
   "metadata": {},
   "outputs": [
    {
     "data": {
      "text/plain": [
       "[0, 0, 0, 0, 0, 0, 0, 0, 0, 0]"
      ]
     },
     "execution_count": 49,
     "metadata": {},
     "output_type": "execute_result"
    }
   ],
   "source": [
    "[0]*10"
   ]
  },
  {
   "cell_type": "code",
   "execution_count": 52,
   "id": "69108b02-a632-47eb-b613-6b47aa4e6277",
   "metadata": {},
   "outputs": [
    {
     "data": {
      "text/plain": [
       "[1, 2, 3, 1, 2, 3, 1, 2, 3, 1, 2, 3, 1, 2, 3]"
      ]
     },
     "execution_count": 52,
     "metadata": {},
     "output_type": "execute_result"
    }
   ],
   "source": [
    "[1,2,3]*5"
   ]
  },
  {
   "cell_type": "code",
   "execution_count": 54,
   "id": "bdc67719-f8c1-4ded-9292-e523a443df28",
   "metadata": {},
   "outputs": [
    {
     "name": "stdout",
     "output_type": "stream",
     "text": [
      "You have incomplete tasks!\n",
      "You have incomplete tasks!\n",
      "You have incomplete tasks!\n",
      "\n"
     ]
    }
   ],
   "source": [
    "msg = \"You have incomplete tasks!\\n\"\n",
    "print(msg*3)"
   ]
  },
  {
   "cell_type": "code",
   "execution_count": 56,
   "id": "5d861e63-0755-4f17-abd9-f45a5f6d9aeb",
   "metadata": {},
   "outputs": [
    {
     "data": {
      "text/plain": [
       "False"
      ]
     },
     "execution_count": 56,
     "metadata": {},
     "output_type": "execute_result"
    }
   ],
   "source": [
    "\"Psycho Killer\" in playlist"
   ]
  },
  {
   "cell_type": "code",
   "execution_count": 80,
   "id": "d293692a-1db5-47e5-918c-81bb22c0f93e",
   "metadata": {},
   "outputs": [],
   "source": [
    "# deep copy and shallow copy\n",
    "list_A = [1,2,30]\n",
    "list_B = [3,5,90]"
   ]
  },
  {
   "cell_type": "code",
   "execution_count": 88,
   "id": "df8d96b4-f330-401b-9e1f-64a62c7c5aca",
   "metadata": {},
   "outputs": [],
   "source": [
    "list_A = list_B # shallow copy\n"
   ]
  },
  {
   "cell_type": "code",
   "execution_count": 89,
   "id": "4f959452-e7a2-423c-91f0-5ee7e6aebda3",
   "metadata": {},
   "outputs": [
    {
     "data": {
      "text/plain": [
       "[69, 5, 90]"
      ]
     },
     "execution_count": 89,
     "metadata": {},
     "output_type": "execute_result"
    }
   ],
   "source": [
    "list_A"
   ]
  },
  {
   "cell_type": "code",
   "execution_count": 90,
   "id": "880707b4-38f4-4194-bc2e-8e3b674fa757",
   "metadata": {},
   "outputs": [
    {
     "data": {
      "text/plain": [
       "[69, 5, 90]"
      ]
     },
     "execution_count": 90,
     "metadata": {},
     "output_type": "execute_result"
    }
   ],
   "source": [
    "list_B\n"
   ]
  },
  {
   "cell_type": "code",
   "execution_count": 91,
   "id": "966a3a10-9168-4fe0-b73b-2b78cfe4d782",
   "metadata": {},
   "outputs": [],
   "source": [
    "list_A[0] = 69"
   ]
  },
  {
   "cell_type": "code",
   "execution_count": 141,
   "id": "214895c8-306f-4063-9913-3dd8858e2f78",
   "metadata": {},
   "outputs": [],
   "source": [
    "# deep copy >> will not change the value in another list \n",
    "entity1 = [\"Batman\",\"Patric Bateman\"]\n",
    "entity2 = [\"Homelander\", \"Web Weaver\"]"
   ]
  },
  {
   "cell_type": "code",
   "execution_count": 142,
   "id": "18e081c0-a5cd-49c2-b57f-bec84ce44e07",
   "metadata": {},
   "outputs": [],
   "source": [
    "entity1 = entity2.copy()\n",
    "\n"
   ]
  },
  {
   "cell_type": "code",
   "execution_count": 143,
   "id": "046233af-aad6-4f3d-92b4-7bdf3b7708cc",
   "metadata": {},
   "outputs": [
    {
     "data": {
      "text/plain": [
       "['Homelander', 'Web Weaver']"
      ]
     },
     "execution_count": 143,
     "metadata": {},
     "output_type": "execute_result"
    }
   ],
   "source": [
    "entity2"
   ]
  },
  {
   "cell_type": "code",
   "execution_count": 144,
   "id": "68799fbc-67d2-4ce6-a2e8-518592eb5063",
   "metadata": {},
   "outputs": [
    {
     "data": {
      "text/plain": [
       "['Homelander', 'Web Weaver']"
      ]
     },
     "execution_count": 144,
     "metadata": {},
     "output_type": "execute_result"
    }
   ],
   "source": [
    "entity1"
   ]
  },
  {
   "cell_type": "code",
   "execution_count": 145,
   "id": "399a19c9-d135-42f8-917e-4de1eb043f02",
   "metadata": {},
   "outputs": [],
   "source": [
    "entity1.append(\"Atrain\")"
   ]
  },
  {
   "cell_type": "code",
   "execution_count": 146,
   "id": "dd915d9d-f11e-4eed-9e25-376e557959e0",
   "metadata": {},
   "outputs": [
    {
     "data": {
      "text/plain": [
       "['Homelander', 'Web Weaver', 'Atrain']"
      ]
     },
     "execution_count": 146,
     "metadata": {},
     "output_type": "execute_result"
    }
   ],
   "source": [
    "entity1"
   ]
  },
  {
   "cell_type": "code",
   "execution_count": 147,
   "id": "a6f38277-c301-42d0-8b3d-2c7dae9a3b09",
   "metadata": {},
   "outputs": [
    {
     "data": {
      "text/plain": [
       "['Homelander', 'Web Weaver']"
      ]
     },
     "execution_count": 147,
     "metadata": {},
     "output_type": "execute_result"
    }
   ],
   "source": [
    "entity2"
   ]
  },
  {
   "cell_type": "code",
   "execution_count": 148,
   "id": "9eaecdaa-8b39-40db-81a7-9025ef06a2a8",
   "metadata": {},
   "outputs": [
    {
     "data": {
      "text/plain": [
       "2"
      ]
     },
     "execution_count": 148,
     "metadata": {},
     "output_type": "execute_result"
    }
   ],
   "source": [
    "entity1.index(\"Atrain\")"
   ]
  },
  {
   "cell_type": "code",
   "execution_count": 149,
   "id": "1d3c3441-a396-4e0b-9905-d09cff11c320",
   "metadata": {},
   "outputs": [
    {
     "data": {
      "text/plain": [
       "2"
      ]
     },
     "execution_count": 149,
     "metadata": {},
     "output_type": "execute_result"
    }
   ],
   "source": [
    "len(entity2)"
   ]
  },
  {
   "cell_type": "code",
   "execution_count": 150,
   "id": "95365750-5a1d-461a-aa0e-63cefd7b9a02",
   "metadata": {},
   "outputs": [
    {
     "data": {
      "text/plain": [
       "0"
      ]
     },
     "execution_count": 150,
     "metadata": {},
     "output_type": "execute_result"
    }
   ],
   "source": [
    "entity2.count(\"Spiderman\")"
   ]
  },
  {
   "cell_type": "code",
   "execution_count": 151,
   "id": "a4447456-9b49-4e4d-b46c-6cd8cde3b35b",
   "metadata": {},
   "outputs": [],
   "source": [
    "entity2.remove(\"Web Weaver\")"
   ]
  },
  {
   "cell_type": "code",
   "execution_count": 152,
   "id": "5afa3988-2c01-486b-8209-48800112947b",
   "metadata": {},
   "outputs": [
    {
     "data": {
      "text/plain": [
       "['Homelander']"
      ]
     },
     "execution_count": 152,
     "metadata": {},
     "output_type": "execute_result"
    }
   ],
   "source": [
    "entity2"
   ]
  },
  {
   "cell_type": "code",
   "execution_count": 153,
   "id": "f2bc3231-8baa-4532-afd5-235054c73b9d",
   "metadata": {},
   "outputs": [],
   "source": [
    "entity2.append(\"The Deep\")"
   ]
  },
  {
   "cell_type": "code",
   "execution_count": 154,
   "id": "234a489a-961d-48e8-b98b-ef6ec98fe0d3",
   "metadata": {},
   "outputs": [],
   "source": [
    "entity1.clear() # empties the list"
   ]
  },
  {
   "cell_type": "code",
   "execution_count": 155,
   "id": "771c0bb5-9956-4e5f-97ac-967510735b07",
   "metadata": {},
   "outputs": [
    {
     "data": {
      "text/plain": [
       "[]"
      ]
     },
     "execution_count": 155,
     "metadata": {},
     "output_type": "execute_result"
    }
   ],
   "source": [
    "entity1"
   ]
  },
  {
   "cell_type": "code",
   "execution_count": 156,
   "id": "b969b44a-65dd-44af-9901-799224225b6e",
   "metadata": {},
   "outputs": [],
   "source": [
    "#entity2.pop() #removes the last element"
   ]
  },
  {
   "cell_type": "code",
   "execution_count": 158,
   "id": "ade65121-ef21-428e-b122-3b51ddff0c17",
   "metadata": {},
   "outputs": [],
   "source": [
    "entity2.append(\"Black Noir\")"
   ]
  },
  {
   "cell_type": "code",
   "execution_count": 159,
   "id": "f809fa51-9b54-4bf4-98bc-04e426e0d514",
   "metadata": {},
   "outputs": [
    {
     "data": {
      "text/plain": [
       "['Homelander', 'The Deep', 'Black Noir']"
      ]
     },
     "execution_count": 159,
     "metadata": {},
     "output_type": "execute_result"
    }
   ],
   "source": [
    "entity2"
   ]
  },
  {
   "cell_type": "code",
   "execution_count": 161,
   "id": "5de47b7b-0ba4-4efd-a67b-509368502dbf",
   "metadata": {},
   "outputs": [],
   "source": [
    "prices = [1,2,3,4,5,6,7,8,9]\n",
    "doubled_price = []\n",
    "for i in prices:\n",
    "    doubled_price.append(i*2)"
   ]
  },
  {
   "cell_type": "code",
   "execution_count": 162,
   "id": "b15a285b-dac5-4f6b-8380-e08206a5d4e4",
   "metadata": {},
   "outputs": [
    {
     "data": {
      "text/plain": [
       "[2, 4, 6, 8, 10, 12, 14, 16, 18]"
      ]
     },
     "execution_count": 162,
     "metadata": {},
     "output_type": "execute_result"
    }
   ],
   "source": [
    "doubled_price\n"
   ]
  },
  {
   "cell_type": "code",
   "execution_count": 164,
   "id": "4fabbdbf-190c-480d-9d85-0eb26e63de3e",
   "metadata": {},
   "outputs": [
    {
     "data": {
      "text/plain": [
       "[2, 4, 6, 8, 10, 12, 14, 16, 18]"
      ]
     },
     "execution_count": 164,
     "metadata": {},
     "output_type": "execute_result"
    }
   ],
   "source": [
    "[price * 2 for price in prices]"
   ]
  },
  {
   "cell_type": "code",
   "execution_count": 174,
   "id": "d60c675a-39a5-4f40-9880-ed4513126757",
   "metadata": {},
   "outputs": [],
   "source": [
    "Seven = [\"homelander\", \"black noir\", \"A-Train\", \"The deep\", \"Firecracker\", \"Sister Sage\"]"
   ]
  },
  {
   "cell_type": "code",
   "execution_count": 175,
   "id": "f864e422-d4ad-45ae-9a59-aef819c454f8",
   "metadata": {},
   "outputs": [
    {
     "data": {
      "text/plain": [
       "['Homelander',\n",
       " 'Black noir',\n",
       " 'A-train',\n",
       " 'The deep',\n",
       " 'Firecracker',\n",
       " 'Sister sage']"
      ]
     },
     "execution_count": 175,
     "metadata": {},
     "output_type": "execute_result"
    }
   ],
   "source": [
    "[name.capitalize() for name in Seven]"
   ]
  },
  {
   "cell_type": "code",
   "execution_count": 176,
   "id": "99916fb1-0ba9-42c3-a687-5158a4c6ccaf",
   "metadata": {},
   "outputs": [
    {
     "data": {
      "text/plain": [
       "['Death', 'exe']"
      ]
     },
     "execution_count": 176,
     "metadata": {},
     "output_type": "execute_result"
    }
   ],
   "source": [
    "str1 = \"Death.exe\"\n",
    "str1.split(\".\")"
   ]
  },
  {
   "cell_type": "code",
   "execution_count": 178,
   "id": "471194f2-f8ca-46eb-83e4-95e0132639bd",
   "metadata": {},
   "outputs": [
    {
     "data": {
      "text/plain": [
       "['jpg', 'exe']"
      ]
     },
     "execution_count": 178,
     "metadata": {},
     "output_type": "execute_result"
    }
   ],
   "source": [
    "apps = [\"img.jpg\",\"Minecraft.exe\"]\n",
    "[app.split(\".\")[-1] for app in apps]"
   ]
  },
  {
   "cell_type": "code",
   "execution_count": 181,
   "id": "01df74e1-c55d-4ea9-9ad2-dc01bc5e04c2",
   "metadata": {},
   "outputs": [
    {
     "data": {
      "text/plain": [
       "['maxp08@yahoo.com']"
      ]
     },
     "execution_count": 181,
     "metadata": {},
     "output_type": "execute_result"
    }
   ],
   "source": [
    "#conditional list comprehension\n",
    "email_address = [\"maxp@gmail.com\",\"maxp08@yahoo.com\"]\n",
    "[email for email in email_address if email.endswith(\"@yahoo.com\")]"
   ]
  },
  {
   "cell_type": "code",
   "execution_count": 183,
   "id": "130f343c-4a58-4e23-b2fa-0d59e90993e8",
   "metadata": {},
   "outputs": [],
   "source": [
    "#nested list comprehension"
   ]
  },
  {
   "cell_type": "code",
   "execution_count": 184,
   "id": "c1678632-06fc-4756-b573-8570362c4637",
   "metadata": {},
   "outputs": [
    {
     "data": {
      "text/plain": [
       "[[1, 4], [1, 5], [1, 6], [2, 4], [2, 5], [2, 6], [3, 4], [3, 5], [3, 6]]"
      ]
     },
     "execution_count": 184,
     "metadata": {},
     "output_type": "execute_result"
    }
   ],
   "source": [
    "pairs = []\n",
    "for x in [1,2,3]:\n",
    "    for y in [4,5,6]:\n",
    "        pairs.append([x,y])\n",
    "\n",
    "pairs"
   ]
  },
  {
   "cell_type": "code",
   "execution_count": 186,
   "id": "084f7ee7-18d0-4fa3-81e1-3d6da09b9ae6",
   "metadata": {},
   "outputs": [
    {
     "data": {
      "text/plain": [
       "[[1, 4], [1, 5], [1, 6], [2, 4], [2, 5], [2, 6], [3, 4], [3, 5], [3, 6]]"
      ]
     },
     "execution_count": 186,
     "metadata": {},
     "output_type": "execute_result"
    }
   ],
   "source": [
    "[[x,y] for x in [1,2,3] for y in [4,5,6]] # same as above "
   ]
  },
  {
   "cell_type": "code",
   "execution_count": 187,
   "id": "e692240d-74ab-472d-a3ee-ed743f35a36d",
   "metadata": {},
   "outputs": [],
   "source": [
    "''' lists as stack and queue \n",
    "'''"
   ]
  },
  {
   "cell_type": "code",
   "execution_count": 195,
   "id": "319abf73-1791-42ba-8387-6177783bff8c",
   "metadata": {},
   "outputs": [
    {
     "data": {
      "text/plain": [
       "'Stack\\nfollows principle of last in first out'"
      ]
     },
     "execution_count": 195,
     "metadata": {},
     "output_type": "execute_result"
    }
   ],
   "source": [
    "\"\"\"Stack\n",
    "follows principle of last in first out\"\"\"\n",
    "# Last one in is the first one out \n",
    "# one end"
   ]
  },
  {
   "cell_type": "code",
   "execution_count": 196,
   "id": "a26c4fbf-4950-4cef-8ae7-cc25d159a43e",
   "metadata": {},
   "outputs": [],
   "source": [
    "stack_of_plates = []\n",
    "stack_of_plates.append(\"plate1\")\n",
    "stack_of_plates.append(\"plate2\")\n",
    "stack_of_plates.append(\"plate3\")\n",
    "stack_of_plates.append(\"plate4\")"
   ]
  },
  {
   "cell_type": "code",
   "execution_count": 197,
   "id": "80dc2950-fd2c-4c30-8ef9-c1d34bd36436",
   "metadata": {},
   "outputs": [
    {
     "data": {
      "text/plain": [
       "['plate1', 'plate2', 'plate3', 'plate4']"
      ]
     },
     "execution_count": 197,
     "metadata": {},
     "output_type": "execute_result"
    }
   ],
   "source": [
    "stack_of_plates"
   ]
  },
  {
   "cell_type": "code",
   "execution_count": 198,
   "id": "a353445e-17b5-40f9-af31-5198fa8d58f7",
   "metadata": {},
   "outputs": [
    {
     "data": {
      "text/plain": [
       "'plate4'"
      ]
     },
     "execution_count": 198,
     "metadata": {},
     "output_type": "execute_result"
    }
   ],
   "source": [
    "stack_of_plates.pop()"
   ]
  },
  {
   "cell_type": "code",
   "execution_count": 199,
   "id": "156170f2-2394-4eed-803a-d35daef0f444",
   "metadata": {},
   "outputs": [
    {
     "data": {
      "text/plain": [
       "['plate1', 'plate2', 'plate3']"
      ]
     },
     "execution_count": 199,
     "metadata": {},
     "output_type": "execute_result"
    }
   ],
   "source": [
    "stack_of_plates"
   ]
  },
  {
   "cell_type": "code",
   "execution_count": 202,
   "id": "7983b471-c115-45aa-a6cf-bd743b651742",
   "metadata": {},
   "outputs": [],
   "source": [
    "#Queues\n",
    "# FIFO --> First one in is the first one out\n",
    "# two ends\n",
    "#Enqueue -->adding to queue\n",
    "# Dequeue --> removing from queue"
   ]
  },
  {
   "cell_type": "code",
   "execution_count": 3,
   "id": "cf90446b-cdbe-4b7a-be58-229bcfb7fa5c",
   "metadata": {},
   "outputs": [],
   "source": [
    "from collections import deque \n",
    "# lib is a collection of python code(module)\n",
    "# collection is a library and deque is a module"
   ]
  },
  {
   "cell_type": "code",
   "execution_count": 4,
   "id": "6f9972b3-db42-4b73-8cac-c23a9cd14b85",
   "metadata": {},
   "outputs": [
    {
     "data": {
      "text/plain": [
       "deque(['user1', 'user2', 'user3', 'user4', 'user5', 'user6'])"
      ]
     },
     "execution_count": 4,
     "metadata": {},
     "output_type": "execute_result"
    }
   ],
   "source": [
    "\"\"\" deque (pronounced \"deck\") is a double ended queue that lets us add \n",
    "or remove elements from both ends. \n",
    "both LIFO and FIFO principles apply to it\"\"\"\n",
    "checkout = deque()\n",
    "checkout.append(\"user1\")\n",
    "checkout.append(\"user2\")\n",
    "checkout.append(\"user3\")\n",
    "checkout.append(\"user4\")\n",
    "checkout.append(\"user5\")\n",
    "checkout.append(\"user6\")\n",
    "checkout"
   ]
  },
  {
   "cell_type": "code",
   "execution_count": 5,
   "id": "147a174d-da32-42a8-a853-6e1ae09c2e0e",
   "metadata": {},
   "outputs": [
    {
     "name": "stdout",
     "output_type": "stream",
     "text": [
      "logged in user1\n",
      "logged in user2\n",
      "logged in user3\n",
      "logged in user4\n",
      "logged in user5\n",
      "logged in user6\n"
     ]
    }
   ],
   "source": [
    "while checkout:\n",
    "    user = checkout.popleft()\n",
    "    print(\"logged in\", user)"
   ]
  },
  {
   "cell_type": "code",
   "execution_count": 6,
   "id": "1f032ac9-4c1b-45e1-bcc1-520cf3d405b5",
   "metadata": {},
   "outputs": [],
   "source": [
    "from queue import Queue\n",
    "print_queue = Queue()\n",
    "print_queue.put(\"Print the first pdf\")  # put is similar to push\n",
    "print_queue.put(\"Print the second pdf\")\n",
    "print_queue.put(\"Print the third pdf\")"
   ]
  },
  {
   "cell_type": "code",
   "execution_count": 7,
   "id": "09fce962-3695-4dbc-a8e2-3560c548093a",
   "metadata": {},
   "outputs": [
    {
     "name": "stdout",
     "output_type": "stream",
     "text": [
      "printing Print the first pdf\n",
      "printing Print the second pdf\n",
      "printing Print the third pdf\n"
     ]
    }
   ],
   "source": [
    "while not print_queue.empty():\n",
    "    print_job = print_queue.get() # get is similar to pop\n",
    "    print(\"printing\",print_job)\n",
    "    "
   ]
  },
  {
   "cell_type": "code",
   "execution_count": null,
   "id": "6f86d010-f017-4f49-a815-556245cad0c8",
   "metadata": {},
   "outputs": [],
   "source": [
    "#------------------tuple-------------------------"
   ]
  },
  {
   "cell_type": "code",
   "execution_count": 8,
   "id": "7b688a7e-3c77-4912-b7c9-5c0db5c4a6f3",
   "metadata": {},
   "outputs": [
    {
     "data": {
      "text/plain": [
       "' Ordered Collection of items , immutable'"
      ]
     },
     "execution_count": 8,
     "metadata": {},
     "output_type": "execute_result"
    }
   ],
   "source": [
    "\"\"\" Ordered Collection of items , immutable\"\"\""
   ]
  },
  {
   "cell_type": "code",
   "execution_count": 11,
   "id": "b2b42351-db3d-4cac-b27d-713b5df45718",
   "metadata": {},
   "outputs": [],
   "source": [
    "t = ()"
   ]
  },
  {
   "cell_type": "code",
   "execution_count": 12,
   "id": "45717af9-711e-4e44-9e1d-e5a64505d9bc",
   "metadata": {},
   "outputs": [
    {
     "data": {
      "text/plain": [
       "tuple"
      ]
     },
     "execution_count": 12,
     "metadata": {},
     "output_type": "execute_result"
    }
   ],
   "source": [
    "type(t)"
   ]
  },
  {
   "cell_type": "code",
   "execution_count": 14,
   "id": "5113d2b0-000c-45fd-a707-fa8d73f45b54",
   "metadata": {},
   "outputs": [],
   "source": [
    "t = (\"banana\",\"orange\",\"apple\",90,87)"
   ]
  },
  {
   "cell_type": "code",
   "execution_count": 15,
   "id": "51170e20-605e-4f4a-b266-9ba4e63a3a14",
   "metadata": {},
   "outputs": [
    {
     "data": {
      "text/plain": [
       "'banana'"
      ]
     },
     "execution_count": 15,
     "metadata": {},
     "output_type": "execute_result"
    }
   ],
   "source": [
    "t[0]"
   ]
  },
  {
   "cell_type": "code",
   "execution_count": 16,
   "id": "01d587c8-da84-475e-a739-4a3157da6a73",
   "metadata": {},
   "outputs": [
    {
     "data": {
      "text/plain": [
       "87"
      ]
     },
     "execution_count": 16,
     "metadata": {},
     "output_type": "execute_result"
    }
   ],
   "source": [
    "t[-1]"
   ]
  },
  {
   "cell_type": "code",
   "execution_count": 17,
   "id": "19d3c71c-1e6d-4ca7-a6fe-4d21b82fa057",
   "metadata": {},
   "outputs": [
    {
     "ename": "TypeError",
     "evalue": "'tuple' object does not support item assignment",
     "output_type": "error",
     "traceback": [
      "\u001b[1;31m---------------------------------------------------------------------------\u001b[0m",
      "\u001b[1;31mTypeError\u001b[0m                                 Traceback (most recent call last)",
      "Cell \u001b[1;32mIn[17], line 1\u001b[0m\n\u001b[1;32m----> 1\u001b[0m \u001b[43mt\u001b[49m\u001b[43m[\u001b[49m\u001b[38;5;241;43m0\u001b[39;49m\u001b[43m]\u001b[49m \u001b[38;5;241m=\u001b[39m \u001b[38;5;241m100\u001b[39m\n",
      "\u001b[1;31mTypeError\u001b[0m: 'tuple' object does not support item assignment"
     ]
    }
   ],
   "source": [
    "t[0] = 100"
   ]
  },
  {
   "cell_type": "code",
   "execution_count": 31,
   "id": "83fee44e-7db1-4692-bf63-6edef5a01f8b",
   "metadata": {},
   "outputs": [],
   "source": [
    "# usage --> data structures --> where you dont wanna modify the data\n",
    "empid =(1,2,3,4,3,4,\"string\",6,7,5,5)\n"
   ]
  },
  {
   "cell_type": "code",
   "execution_count": 32,
   "id": "bc077f0d-b33d-4f39-8054-29ce7dce00c8",
   "metadata": {},
   "outputs": [
    {
     "data": {
      "text/plain": [
       "1"
      ]
     },
     "execution_count": 32,
     "metadata": {},
     "output_type": "execute_result"
    }
   ],
   "source": [
    "empid.count(1)"
   ]
  },
  {
   "cell_type": "code",
   "execution_count": 33,
   "id": "9735185c-950b-4fba-9cb6-50a9871c6b8c",
   "metadata": {},
   "outputs": [
    {
     "data": {
      "text/plain": [
       "1"
      ]
     },
     "execution_count": 33,
     "metadata": {},
     "output_type": "execute_result"
    }
   ],
   "source": [
    "empid.index(2)"
   ]
  },
  {
   "cell_type": "code",
   "execution_count": 34,
   "id": "23a62d5a-c5ad-4073-afcb-e3f4ca49709e",
   "metadata": {},
   "outputs": [
    {
     "data": {
      "text/plain": [
       "0"
      ]
     },
     "execution_count": 34,
     "metadata": {},
     "output_type": "execute_result"
    }
   ],
   "source": [
    "empid.index(1)"
   ]
  },
  {
   "cell_type": "code",
   "execution_count": 35,
   "id": "91f819ad-335d-44ba-8ffc-612bbf245cb7",
   "metadata": {},
   "outputs": [
    {
     "data": {
      "text/plain": [
       "(1, 2, 3, 4)"
      ]
     },
     "execution_count": 35,
     "metadata": {},
     "output_type": "execute_result"
    }
   ],
   "source": [
    "empid[0:4]\n"
   ]
  },
  {
   "cell_type": "code",
   "execution_count": 36,
   "id": "c7c7dc31-4bd7-46f8-be16-c4afefb84b98",
   "metadata": {},
   "outputs": [
    {
     "data": {
      "text/plain": [
       "(5, 5, 7, 6, 'string', 4, 3, 4, 3, 2, 1)"
      ]
     },
     "execution_count": 36,
     "metadata": {},
     "output_type": "execute_result"
    }
   ],
   "source": [
    "empid[::-1]\n"
   ]
  },
  {
   "cell_type": "code",
   "execution_count": 37,
   "id": "fc872c9e-41dd-4756-8dc4-37e0971b7105",
   "metadata": {},
   "outputs": [
    {
     "name": "stdout",
     "output_type": "stream",
     "text": [
      "1 <class 'int'>\n",
      "2 <class 'int'>\n",
      "3 <class 'int'>\n",
      "4 <class 'int'>\n",
      "3 <class 'int'>\n",
      "4 <class 'int'>\n",
      "string <class 'str'>\n",
      "6 <class 'int'>\n",
      "7 <class 'int'>\n",
      "5 <class 'int'>\n",
      "5 <class 'int'>\n"
     ]
    }
   ],
   "source": [
    "for i in empid:\n",
    "    print(i,type(i))\n",
    "    "
   ]
  },
  {
   "cell_type": "code",
   "execution_count": 41,
   "id": "90fe3f3c-745e-4b61-90b4-14541dd60363",
   "metadata": {},
   "outputs": [],
   "source": [
    "t1 = (23,65)\n",
    "t2 = (69,96)"
   ]
  },
  {
   "cell_type": "code",
   "execution_count": 42,
   "id": "618b5490-91fa-48a0-80f6-24be17fceaae",
   "metadata": {},
   "outputs": [],
   "source": [
    "t3 = (t1,t2)"
   ]
  },
  {
   "cell_type": "code",
   "execution_count": 43,
   "id": "ef11e94f-6573-48f3-b69f-26a27084aa96",
   "metadata": {},
   "outputs": [
    {
     "data": {
      "text/plain": [
       "((23, 65), (69, 96))"
      ]
     },
     "execution_count": 43,
     "metadata": {},
     "output_type": "execute_result"
    }
   ],
   "source": [
    "t3"
   ]
  },
  {
   "cell_type": "code",
   "execution_count": 44,
   "id": "b0e23bae-058d-43d7-b6fc-90eed3306a57",
   "metadata": {},
   "outputs": [],
   "source": [
    "del t3 #delete"
   ]
  },
  {
   "cell_type": "code",
   "execution_count": 45,
   "id": "d57865e5-f36b-432d-a654-7c4bdc1c3feb",
   "metadata": {},
   "outputs": [
    {
     "ename": "NameError",
     "evalue": "name 't3' is not defined",
     "output_type": "error",
     "traceback": [
      "\u001b[1;31m---------------------------------------------------------------------------\u001b[0m",
      "\u001b[1;31mNameError\u001b[0m                                 Traceback (most recent call last)",
      "Cell \u001b[1;32mIn[45], line 1\u001b[0m\n\u001b[1;32m----> 1\u001b[0m \u001b[43mt3\u001b[49m\n",
      "\u001b[1;31mNameError\u001b[0m: name 't3' is not defined"
     ]
    }
   ],
   "source": [
    "t3"
   ]
  },
  {
   "cell_type": "code",
   "execution_count": 46,
   "id": "19645975-3625-486b-9f3a-9c1ca2c053ff",
   "metadata": {},
   "outputs": [
    {
     "data": {
      "text/plain": [
       "2"
      ]
     },
     "execution_count": 46,
     "metadata": {},
     "output_type": "execute_result"
    }
   ],
   "source": [
    "len(t1)"
   ]
  },
  {
   "cell_type": "code",
   "execution_count": 47,
   "id": "f4c9e5f4-c8b3-4e8b-9f59-fe2b9b406bc7",
   "metadata": {},
   "outputs": [
    {
     "data": {
      "text/plain": [
       "False"
      ]
     },
     "execution_count": 47,
     "metadata": {},
     "output_type": "execute_result"
    }
   ],
   "source": [
    "1 in t1"
   ]
  },
  {
   "cell_type": "code",
   "execution_count": 48,
   "id": "81700985-f69b-4b49-b1f4-26d9a511f551",
   "metadata": {},
   "outputs": [
    {
     "data": {
      "text/plain": [
       "True"
      ]
     },
     "execution_count": 48,
     "metadata": {},
     "output_type": "execute_result"
    }
   ],
   "source": [
    "23 in t1"
   ]
  },
  {
   "cell_type": "code",
   "execution_count": 49,
   "id": "a6881b20-8103-4acb-810f-990767925d6a",
   "metadata": {},
   "outputs": [
    {
     "data": {
      "text/plain": [
       "True"
      ]
     },
     "execution_count": 49,
     "metadata": {},
     "output_type": "execute_result"
    }
   ],
   "source": [
    "69 in t2"
   ]
  },
  {
   "cell_type": "code",
   "execution_count": 51,
   "id": "b865d547-8d5d-416c-88d1-5a31029095f2",
   "metadata": {},
   "outputs": [],
   "source": [
    "t3 = t1 + t2"
   ]
  },
  {
   "cell_type": "code",
   "execution_count": 52,
   "id": "121c6927-2b79-4c76-ab40-7d7f90715cc4",
   "metadata": {},
   "outputs": [
    {
     "data": {
      "text/plain": [
       "(23, 65, 69, 96)"
      ]
     },
     "execution_count": 52,
     "metadata": {},
     "output_type": "execute_result"
    }
   ],
   "source": [
    "t3"
   ]
  },
  {
   "cell_type": "code",
   "execution_count": 53,
   "id": "ab50023b-8f0e-4a97-8373-baff5b6aacd0",
   "metadata": {},
   "outputs": [],
   "source": [
    "# SETS---------------------------------------------"
   ]
  },
  {
   "cell_type": "code",
   "execution_count": 54,
   "id": "61e0e688-b0ff-48e0-8871-3736662d57b6",
   "metadata": {},
   "outputs": [
    {
     "data": {
      "text/plain": [
       "' Sets are unordered and unique collection of elements\\n    Doesnt allow duplicate elements '"
      ]
     },
     "execution_count": 54,
     "metadata": {},
     "output_type": "execute_result"
    }
   ],
   "source": [
    "\"\"\" Sets are unordered and unique collection of elements\n",
    "    Doesnt allow duplicate elements \"\"\"\n"
   ]
  },
  {
   "cell_type": "code",
   "execution_count": 57,
   "id": "8a6fe985-3042-4745-b2bc-cbf98d5fc1d6",
   "metadata": {},
   "outputs": [],
   "source": [
    "s = {1}"
   ]
  },
  {
   "cell_type": "code",
   "execution_count": 58,
   "id": "3605b959-e01d-4590-9bb2-46c0ab893b90",
   "metadata": {},
   "outputs": [
    {
     "data": {
      "text/plain": [
       "set"
      ]
     },
     "execution_count": 58,
     "metadata": {},
     "output_type": "execute_result"
    }
   ],
   "source": [
    "type(s)"
   ]
  },
  {
   "cell_type": "code",
   "execution_count": 78,
   "id": "2020c999-16b2-4038-82e3-5eda6e41f730",
   "metadata": {},
   "outputs": [],
   "source": [
    "list1 = [\"apple\",\"apple\",\"milk\"]"
   ]
  },
  {
   "cell_type": "code",
   "execution_count": 85,
   "id": "c257028e-f0aa-4f17-9f33-04e46a4cb747",
   "metadata": {},
   "outputs": [],
   "source": [
    "s = set(list1)"
   ]
  },
  {
   "cell_type": "code",
   "execution_count": 89,
   "id": "cd4f43c9-2095-4072-8a7a-401ab0506c02",
   "metadata": {},
   "outputs": [
    {
     "data": {
      "text/plain": [
       "{'apple', 'milk'}"
      ]
     },
     "execution_count": 89,
     "metadata": {},
     "output_type": "execute_result"
    }
   ],
   "source": [
    "s"
   ]
  },
  {
   "cell_type": "code",
   "execution_count": 91,
   "id": "5abb626d-deb5-4f38-a694-fbfa17d804c4",
   "metadata": {},
   "outputs": [
    {
     "ename": "TypeError",
     "evalue": "'set' object is not subscriptable",
     "output_type": "error",
     "traceback": [
      "\u001b[1;31m---------------------------------------------------------------------------\u001b[0m",
      "\u001b[1;31mTypeError\u001b[0m                                 Traceback (most recent call last)",
      "Cell \u001b[1;32mIn[91], line 1\u001b[0m\n\u001b[1;32m----> 1\u001b[0m \u001b[43ms\u001b[49m\u001b[43m[\u001b[49m\u001b[38;5;241;43m0\u001b[39;49m\u001b[43m]\u001b[49m \u001b[38;5;66;03m#unordered\u001b[39;00m\n",
      "\u001b[1;31mTypeError\u001b[0m: 'set' object is not subscriptable"
     ]
    }
   ],
   "source": [
    "s[0] #unordered"
   ]
  },
  {
   "cell_type": "code",
   "execution_count": 98,
   "id": "465db86c-669f-441d-957a-204be82affda",
   "metadata": {},
   "outputs": [
    {
     "ename": "TypeError",
     "evalue": "unhashable type: 'set'",
     "output_type": "error",
     "traceback": [
      "\u001b[1;31m---------------------------------------------------------------------------\u001b[0m",
      "\u001b[1;31mTypeError\u001b[0m                                 Traceback (most recent call last)",
      "Cell \u001b[1;32mIn[98], line 1\u001b[0m\n\u001b[1;32m----> 1\u001b[0m S \u001b[38;5;241m=\u001b[39m { \u001b[38;5;241m1\u001b[39m,\u001b[38;5;241m2\u001b[39m,\u001b[38;5;241m3\u001b[39m ,{\u001b[38;5;241m1\u001b[39m,\u001b[38;5;241m2\u001b[39m,\u001b[38;5;241m3\u001b[39m} } \u001b[38;5;66;03m# set inside set must be immutable  like tuple\u001b[39;00m\n",
      "\u001b[1;31mTypeError\u001b[0m: unhashable type: 'set'"
     ]
    }
   ],
   "source": [
    "S = { 1,2,3 ,{1,2,3} } # set inside set must be immutable  like tuple"
   ]
  },
  {
   "cell_type": "code",
   "execution_count": 99,
   "id": "5ef1821c-b37f-429b-9683-9537890648b4",
   "metadata": {},
   "outputs": [],
   "source": [
    "#unhashable type --> it is mutable list"
   ]
  },
  {
   "cell_type": "code",
   "execution_count": 100,
   "id": "51419afc-be31-41ee-ac9b-7b26177f10c9",
   "metadata": {},
   "outputs": [
    {
     "data": {
      "text/plain": [
       "{(0, 45, 66, 3), 1, 3, 4}"
      ]
     },
     "execution_count": 100,
     "metadata": {},
     "output_type": "execute_result"
    }
   ],
   "source": [
    "{ 1, 3, 4, (0,45,66,3)} # tuple is immutable"
   ]
  },
  {
   "cell_type": "code",
   "execution_count": 101,
   "id": "3883ff69-1626-403a-bd05-0076d38ab855",
   "metadata": {},
   "outputs": [],
   "source": [
    "# set is mutable"
   ]
  },
  {
   "cell_type": "code",
   "execution_count": 102,
   "id": "4498fcc3-40ac-4edd-9105-291c45dc0087",
   "metadata": {},
   "outputs": [],
   "source": [
    "ss = {1,2,3,4}"
   ]
  },
  {
   "cell_type": "code",
   "execution_count": 103,
   "id": "e39df0a1-f3ab-4dca-a17e-422b27205f5b",
   "metadata": {},
   "outputs": [],
   "source": [
    "ss.add(123)\n",
    "ss.add(998)"
   ]
  },
  {
   "cell_type": "code",
   "execution_count": 104,
   "id": "1fbe62e7-5e69-4046-99ce-56d80cea3f15",
   "metadata": {},
   "outputs": [
    {
     "data": {
      "text/plain": [
       "{1, 2, 3, 4, 123, 998}"
      ]
     },
     "execution_count": 104,
     "metadata": {},
     "output_type": "execute_result"
    }
   ],
   "source": [
    "ss"
   ]
  },
  {
   "cell_type": "code",
   "execution_count": 105,
   "id": "adaaa42f-8015-47c1-ad7c-1e009bf092c6",
   "metadata": {},
   "outputs": [
    {
     "data": {
      "text/plain": [
       "1"
      ]
     },
     "execution_count": 105,
     "metadata": {},
     "output_type": "execute_result"
    }
   ],
   "source": [
    "ss.pop()"
   ]
  },
  {
   "cell_type": "code",
   "execution_count": 106,
   "id": "c5794fee-d8ae-4571-91fc-25d22f8ecd55",
   "metadata": {},
   "outputs": [],
   "source": [
    "ss.remove(123)"
   ]
  },
  {
   "cell_type": "code",
   "execution_count": 107,
   "id": "5ef755ee-0e02-4e82-8fe3-a8409162bb53",
   "metadata": {},
   "outputs": [
    {
     "data": {
      "text/plain": [
       "{2, 3, 4, 998}"
      ]
     },
     "execution_count": 107,
     "metadata": {},
     "output_type": "execute_result"
    }
   ],
   "source": [
    "ss\n"
   ]
  },
  {
   "cell_type": "code",
   "execution_count": 108,
   "id": "fd90a8a6-af03-43d9-86bc-f6d7ec99b99f",
   "metadata": {},
   "outputs": [],
   "source": [
    "ss.update(\"Max\")"
   ]
  },
  {
   "cell_type": "code",
   "execution_count": 109,
   "id": "d7abd828-cc02-480d-b290-6e10d6f132ec",
   "metadata": {},
   "outputs": [
    {
     "data": {
      "text/plain": [
       "{2, 3, 4, 998, 'M', 'a', 'x'}"
      ]
     },
     "execution_count": 109,
     "metadata": {},
     "output_type": "execute_result"
    }
   ],
   "source": [
    "ss"
   ]
  },
  {
   "cell_type": "code",
   "execution_count": 110,
   "id": "07264e6a-cbeb-4e1c-8ca0-3f51bf36f6a6",
   "metadata": {},
   "outputs": [
    {
     "data": {
      "text/plain": [
       "{'Max', 'apple', 'milk'}"
      ]
     },
     "execution_count": 110,
     "metadata": {},
     "output_type": "execute_result"
    }
   ],
   "source": [
    "s.update([\"Max\"])\n",
    "s"
   ]
  },
  {
   "cell_type": "code",
   "execution_count": 111,
   "id": "33247508-a11e-42e5-a3ea-d8bf8eba54c2",
   "metadata": {},
   "outputs": [],
   "source": [
    "s.clear()"
   ]
  },
  {
   "cell_type": "code",
   "execution_count": 113,
   "id": "fc1d3208-4849-4b8b-93b2-8da114b45217",
   "metadata": {},
   "outputs": [
    {
     "data": {
      "text/plain": [
       "set()"
      ]
     },
     "execution_count": 113,
     "metadata": {},
     "output_type": "execute_result"
    }
   ],
   "source": [
    "s"
   ]
  },
  {
   "cell_type": "code",
   "execution_count": 115,
   "id": "13667bad-2472-45cf-868a-d2b931e3ed3d",
   "metadata": {},
   "outputs": [],
   "source": [
    "ss.discard(10) # error will not be thrown if elemnt is not present"
   ]
  },
  {
   "cell_type": "code",
   "execution_count": 116,
   "id": "b7b56485-d563-439a-ab8b-2fc0e294f844",
   "metadata": {},
   "outputs": [],
   "source": [
    "# Set Operation-------------"
   ]
  },
  {
   "cell_type": "code",
   "execution_count": 118,
   "id": "0ffd2367-3a68-4a2a-b971-187de2cbc295",
   "metadata": {},
   "outputs": [],
   "source": [
    "A = {1,2,3,5,8,9}\n",
    "B = {4,5,6,1,2,10}"
   ]
  },
  {
   "cell_type": "code",
   "execution_count": 119,
   "id": "84bf81b5-8605-4163-ad3c-3038a2f5a719",
   "metadata": {},
   "outputs": [
    {
     "data": {
      "text/plain": [
       "'\\nUnion (|):\\nCombine two sets to create a new set containing all unique elements from both\\n\\nIntersection (&):\\nFind the common elements that exist across multiple sets\\n\\nDifference (-):\\nDiscover elements that exist in one set but not the other\\n\\nSymmetric Difference (^):\\nThis one’s like a magical mirror reflecting difference\\n'"
      ]
     },
     "execution_count": 119,
     "metadata": {},
     "output_type": "execute_result"
    }
   ],
   "source": [
    "\"\"\"\n",
    "Union (|):\n",
    "Combine two sets to create a new set containing all unique elements from both\n",
    "\n",
    "Intersection (&):\n",
    "Find the common elements that exist across multiple sets\n",
    "\n",
    "Difference (-):\n",
    "Discover elements that exist in one set but not the other\n",
    "\n",
    "Symmetric Difference (^):\n",
    "This one’s like a magical mirror reflecting difference\n",
    "\"\"\""
   ]
  },
  {
   "cell_type": "code",
   "execution_count": 120,
   "id": "99561593-a7b7-4612-bdcc-94e49e0e69f5",
   "metadata": {},
   "outputs": [],
   "source": [
    "# frozen sets >> immutable version of set, any new item cannot be added or \n",
    "# removed from the set"
   ]
  },
  {
   "cell_type": "code",
   "execution_count": 121,
   "id": "0933ce1c-5884-415e-bd0a-f84bbcf68d26",
   "metadata": {},
   "outputs": [],
   "source": [
    "my_fs = frozenset([1,3,4,4,5,6,4])"
   ]
  },
  {
   "cell_type": "code",
   "execution_count": 122,
   "id": "f64c4c2a-c16f-438d-947a-db2602993a2b",
   "metadata": {},
   "outputs": [
    {
     "data": {
      "text/plain": [
       "frozenset"
      ]
     },
     "execution_count": 122,
     "metadata": {},
     "output_type": "execute_result"
    }
   ],
   "source": [
    "type(my_fs)"
   ]
  },
  {
   "cell_type": "code",
   "execution_count": 123,
   "id": "8778d2d1-f2ad-49da-a1a1-2fb1c1e7a1de",
   "metadata": {},
   "outputs": [
    {
     "data": {
      "text/plain": [
       "frozenset({1, 3, 4, 5, 6})"
      ]
     },
     "execution_count": 123,
     "metadata": {},
     "output_type": "execute_result"
    }
   ],
   "source": [
    "my_fs"
   ]
  },
  {
   "cell_type": "code",
   "execution_count": 124,
   "id": "0259c1e5-c6e4-437e-9a5a-a6b7136cf98b",
   "metadata": {},
   "outputs": [],
   "source": [
    "#--------------------DICTIONARY-------------"
   ]
  },
  {
   "cell_type": "code",
   "execution_count": 125,
   "id": "9273eff8-0d53-429d-a850-fcd08e378bbe",
   "metadata": {},
   "outputs": [
    {
     "data": {
      "text/plain": [
       "'  \\nKeys are unique and immutable.\\nDictionaries are unordered. but from py 3.7 ver, \\ndict retain the order.\\n\\n\\n'"
      ]
     },
     "execution_count": 125,
     "metadata": {},
     "output_type": "execute_result"
    }
   ],
   "source": [
    "\"\"\"  \n",
    "Keys are unique and immutable.\n",
    "Dictionaries are unordered. but from py 3.7 ver, \n",
    "dict retain the order.\n",
    "\n",
    "\n",
    "\"\"\""
   ]
  },
  {
   "cell_type": "code",
   "execution_count": 126,
   "id": "322fe593-f7d0-4c28-906d-257971078118",
   "metadata": {},
   "outputs": [
    {
     "data": {
      "text/plain": [
       "dict"
      ]
     },
     "execution_count": 126,
     "metadata": {},
     "output_type": "execute_result"
    }
   ],
   "source": [
    "d = {}\n",
    "type(d)"
   ]
  },
  {
   "cell_type": "code",
   "execution_count": 127,
   "id": "73cf1199-3f42-43cd-8d77-aaaf6b6b992e",
   "metadata": {},
   "outputs": [],
   "source": [
    "d = {\"name\" : \"Max\", \"email\": \"maxp@gmail.com\",\"contact\":9876}"
   ]
  },
  {
   "cell_type": "code",
   "execution_count": 132,
   "id": "645655f9-3cbc-4d75-b76f-a4fb399cd91f",
   "metadata": {},
   "outputs": [
    {
     "data": {
      "text/plain": [
       "'Max'"
      ]
     },
     "execution_count": 132,
     "metadata": {},
     "output_type": "execute_result"
    }
   ],
   "source": [
    "d[\"name\"] #usage of dict"
   ]
  },
  {
   "cell_type": "code",
   "execution_count": 133,
   "id": "975eefb4-1a75-4ab7-af9d-7393fe9efac7",
   "metadata": {},
   "outputs": [
    {
     "data": {
      "text/plain": [
       "{'name': 'Max', 'email': 'maxp@gmail.com', 'contact': 9876}"
      ]
     },
     "execution_count": 133,
     "metadata": {},
     "output_type": "execute_result"
    }
   ],
   "source": [
    "d"
   ]
  },
  {
   "cell_type": "code",
   "execution_count": 135,
   "id": "3d939475-35ad-4453-a8f9-1412e7d84c37",
   "metadata": {},
   "outputs": [
    {
     "data": {
      "text/plain": [
       "'maxp@gmail.com'"
      ]
     },
     "execution_count": 135,
     "metadata": {},
     "output_type": "execute_result"
    }
   ],
   "source": [
    "d[\"email\"] # acces values using key"
   ]
  },
  {
   "cell_type": "code",
   "execution_count": 146,
   "id": "b3e27724-0ffd-4e9d-9847-e805bed03abf",
   "metadata": {},
   "outputs": [],
   "source": [
    "my_dict = {1:\"bingo\",2.3:\"try again\",True:\"false\",False:(1,2,3),69:[1,3,\"bla\"]}"
   ]
  },
  {
   "cell_type": "code",
   "execution_count": 147,
   "id": "e9c3b622-2bb9-428c-abe9-cce0818ed8f6",
   "metadata": {},
   "outputs": [],
   "source": [
    "# cannot have # or @ or list as a key"
   ]
  },
  {
   "cell_type": "code",
   "execution_count": 148,
   "id": "d33cf830-11e5-4f3d-969a-609a768b91c2",
   "metadata": {},
   "outputs": [
    {
     "data": {
      "text/plain": [
       "(1, 2, 3)"
      ]
     },
     "execution_count": 148,
     "metadata": {},
     "output_type": "execute_result"
    }
   ],
   "source": [
    "my_dict[False]\n"
   ]
  },
  {
   "cell_type": "code",
   "execution_count": 149,
   "id": "cde8db59-363c-411f-ac79-1e1b3e1ceff0",
   "metadata": {},
   "outputs": [
    {
     "data": {
      "text/plain": [
       "[1, 3, 'bla']"
      ]
     },
     "execution_count": 149,
     "metadata": {},
     "output_type": "execute_result"
    }
   ],
   "source": [
    "my_dict[69]"
   ]
  },
  {
   "cell_type": "code",
   "execution_count": 150,
   "id": "9aa8d8aa-0918-4a3f-90a0-913a07f9385a",
   "metadata": {},
   "outputs": [
    {
     "data": {
      "text/plain": [
       "{'name': 'Max', 'email': 'maxp@gmail.com', 'contact': 9876}"
      ]
     },
     "execution_count": 150,
     "metadata": {},
     "output_type": "execute_result"
    }
   ],
   "source": [
    "d"
   ]
  },
  {
   "cell_type": "code",
   "execution_count": 156,
   "id": "467cab56-41fe-43d1-a449-ab2baa327e96",
   "metadata": {},
   "outputs": [
    {
     "data": {
      "text/plain": [
       "{1: 'false', 2.3: 'try again', False: (1, 2, 3)}"
      ]
     },
     "execution_count": 156,
     "metadata": {},
     "output_type": "execute_result"
    }
   ],
   "source": [
    "my_dict"
   ]
  },
  {
   "cell_type": "code",
   "execution_count": 158,
   "id": "52fadd88-fcf4-439a-afd0-a280720cb389",
   "metadata": {},
   "outputs": [],
   "source": [
    "del my_dict [1] #delete a specific key"
   ]
  },
  {
   "cell_type": "code",
   "execution_count": 160,
   "id": "731c0ee8-21f8-4bc3-90ca-e02d2946b801",
   "metadata": {},
   "outputs": [
    {
     "ename": "NameError",
     "evalue": "name 'd' is not defined",
     "output_type": "error",
     "traceback": [
      "\u001b[1;31m---------------------------------------------------------------------------\u001b[0m",
      "\u001b[1;31mNameError\u001b[0m                                 Traceback (most recent call last)",
      "Cell \u001b[1;32mIn[160], line 1\u001b[0m\n\u001b[1;32m----> 1\u001b[0m \u001b[38;5;28;01mdel\u001b[39;00m \u001b[43md\u001b[49m \u001b[38;5;66;03m#deletes the entire dictionary\u001b[39;00m\n",
      "\u001b[1;31mNameError\u001b[0m: name 'd' is not defined"
     ]
    }
   ],
   "source": [
    "del d #deletes the entire dictionary"
   ]
  },
  {
   "cell_type": "code",
   "execution_count": 161,
   "id": "b14e0ee9-d3c6-4bb2-8c84-8ba92e178d6a",
   "metadata": {},
   "outputs": [
    {
     "ename": "NameError",
     "evalue": "name 'd' is not defined",
     "output_type": "error",
     "traceback": [
      "\u001b[1;31m---------------------------------------------------------------------------\u001b[0m",
      "\u001b[1;31mNameError\u001b[0m                                 Traceback (most recent call last)",
      "Cell \u001b[1;32mIn[161], line 1\u001b[0m\n\u001b[1;32m----> 1\u001b[0m \u001b[43md\u001b[49m\n",
      "\u001b[1;31mNameError\u001b[0m: name 'd' is not defined"
     ]
    }
   ],
   "source": [
    "d"
   ]
  },
  {
   "cell_type": "code",
   "execution_count": 162,
   "id": "0477ff0d-2cc5-42d0-ac1d-c837678d02d0",
   "metadata": {},
   "outputs": [
    {
     "data": {
      "text/plain": [
       "2"
      ]
     },
     "execution_count": 162,
     "metadata": {},
     "output_type": "execute_result"
    }
   ],
   "source": [
    "len(my_dict)"
   ]
  },
  {
   "cell_type": "code",
   "execution_count": 164,
   "id": "c30dbe0e-57b1-4946-9bb2-8eddec6fc7a4",
   "metadata": {},
   "outputs": [
    {
     "data": {
      "text/plain": [
       "dict_keys([2.3, False])"
      ]
     },
     "execution_count": 164,
     "metadata": {},
     "output_type": "execute_result"
    }
   ],
   "source": [
    "my_dict.keys()"
   ]
  },
  {
   "cell_type": "code",
   "execution_count": 165,
   "id": "91b7dd6b-febf-4cd6-b582-8557a7fc2da9",
   "metadata": {},
   "outputs": [],
   "source": [
    "d ={}"
   ]
  },
  {
   "cell_type": "code",
   "execution_count": 166,
   "id": "abddc59a-6559-4e73-9ad7-06b54c082d42",
   "metadata": {},
   "outputs": [],
   "source": [
    "d = my_dict.copy()"
   ]
  },
  {
   "cell_type": "code",
   "execution_count": 167,
   "id": "ce3f9b6b-05f2-4337-9e31-9de7ce851532",
   "metadata": {},
   "outputs": [
    {
     "data": {
      "text/plain": [
       "{2.3: 'try again', False: (1, 2, 3)}"
      ]
     },
     "execution_count": 167,
     "metadata": {},
     "output_type": "execute_result"
    }
   ],
   "source": [
    "d\n"
   ]
  },
  {
   "cell_type": "code",
   "execution_count": 168,
   "id": "ad215ef6-d26b-40f3-a2e5-8371da684856",
   "metadata": {},
   "outputs": [],
   "source": [
    "d1 = {\"W\":\"MoveForward\"}"
   ]
  },
  {
   "cell_type": "code",
   "execution_count": 171,
   "id": "dac08ca4-2690-4a45-88ab-85120a6ba824",
   "metadata": {},
   "outputs": [],
   "source": [
    "d.update(d1) # adds a key"
   ]
  },
  {
   "cell_type": "code",
   "execution_count": 172,
   "id": "f09ca799-d5b5-494f-8594-33341e4709e9",
   "metadata": {},
   "outputs": [
    {
     "data": {
      "text/plain": [
       "{2.3: 'try again', False: (1, 2, 3), 'W': 'MoveForward'}"
      ]
     },
     "execution_count": 172,
     "metadata": {},
     "output_type": "execute_result"
    }
   ],
   "source": [
    "d"
   ]
  },
  {
   "cell_type": "code",
   "execution_count": 174,
   "id": "00a2c6ab-0b30-452e-b419-1d58aa1ad04c",
   "metadata": {},
   "outputs": [
    {
     "data": {
      "text/plain": [
       "'MoveForward'"
      ]
     },
     "execution_count": 174,
     "metadata": {},
     "output_type": "execute_result"
    }
   ],
   "source": [
    "d.get(\"W\")"
   ]
  },
  {
   "cell_type": "code",
   "execution_count": 175,
   "id": "6508292b-042b-4bc9-aedb-da3c76028959",
   "metadata": {},
   "outputs": [
    {
     "data": {
      "text/plain": [
       "{1: ('a', 'b', 'c'), 2: ('a', 'b', 'c'), 3: ('a', 'b', 'c')}"
      ]
     },
     "execution_count": 175,
     "metadata": {},
     "output_type": "execute_result"
    }
   ],
   "source": [
    "d.fromkeys((1,2,3),(\"a\",\"b\",\"c\"))"
   ]
  },
  {
   "cell_type": "code",
   "execution_count": 176,
   "id": "d9f28262-7de0-427d-9481-a2e7309f2344",
   "metadata": {},
   "outputs": [],
   "source": [
    "# zip function"
   ]
  },
  {
   "cell_type": "code",
   "execution_count": 178,
   "id": "08d101ba-8142-4227-a6d4-2faf19d83a17",
   "metadata": {},
   "outputs": [],
   "source": [
    "students = [\"Max\",\"Andrew\",\"Nate\"]\n",
    "marks = [80,90,100]"
   ]
  },
  {
   "cell_type": "code",
   "execution_count": 179,
   "id": "f7c5b1a4-a661-4d6e-a741-4a4e1e19e351",
   "metadata": {},
   "outputs": [
    {
     "name": "stdout",
     "output_type": "stream",
     "text": [
      "('Max', 80)\n",
      "('Andrew', 90)\n",
      "('Nate', 100)\n"
     ]
    }
   ],
   "source": [
    "for i in zip(students,marks):\n",
    "    print(i)"
   ]
  },
  {
   "cell_type": "code",
   "execution_count": 180,
   "id": "70344afe-f422-4ef1-b7db-3132d1dc7ad0",
   "metadata": {},
   "outputs": [],
   "source": [
    "# store the above info in dictionary"
   ]
  },
  {
   "cell_type": "code",
   "execution_count": 184,
   "id": "dda162d5-d2c7-40de-86bc-83b43e66e11d",
   "metadata": {},
   "outputs": [],
   "source": [
    "students = [\"Max\",\"Andrew\",\"Nate\"]\n",
    "marks = [80,90,100]\n",
    "student_marks = {}\n",
    "for student, mark in zip(students,marks):\n",
    "    student_marks[student] = mark"
   ]
  },
  {
   "cell_type": "code",
   "execution_count": 185,
   "id": "a58439b7-af8e-45cc-952d-19e432a959ff",
   "metadata": {},
   "outputs": [
    {
     "data": {
      "text/plain": [
       "{'Max': 80, 'Andrew': 90, 'Nate': 100}"
      ]
     },
     "execution_count": 185,
     "metadata": {},
     "output_type": "execute_result"
    }
   ],
   "source": [
    "student_marks"
   ]
  },
  {
   "cell_type": "code",
   "execution_count": 188,
   "id": "7f425a42-eae4-4a0e-a0f0-5c40b3f63a1c",
   "metadata": {},
   "outputs": [
    {
     "data": {
      "text/plain": [
       "{'Max': 80, 'Andrew': 90, 'Nate': 100}"
      ]
     },
     "execution_count": 188,
     "metadata": {},
     "output_type": "execute_result"
    }
   ],
   "source": [
    "students = [\"Max\",\"Andrew\",\"Nate\"]\n",
    "marks = [80,90,100]\n",
    "{student:marks for student,marks in zip(students,marks)}"
   ]
  },
  {
   "cell_type": "code",
   "execution_count": null,
   "id": "ed7170de-2408-4183-a978-36ca6ef9a14f",
   "metadata": {},
   "outputs": [],
   "source": []
  }
 ],
 "metadata": {
  "kernelspec": {
   "display_name": "Python 3 (ipykernel)",
   "language": "python",
   "name": "python3"
  },
  "language_info": {
   "codemirror_mode": {
    "name": "ipython",
    "version": 3
   },
   "file_extension": ".py",
   "mimetype": "text/x-python",
   "name": "python",
   "nbconvert_exporter": "python",
   "pygments_lexer": "ipython3",
   "version": "3.12.4"
  }
 },
 "nbformat": 4,
 "nbformat_minor": 5
}
