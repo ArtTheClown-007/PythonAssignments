{
 "cells": [
  {
   "cell_type": "code",
   "execution_count": null,
   "id": "d206a524-6d9b-44f5-a40f-2d71c7a3d485",
   "metadata": {},
   "outputs": [],
   "source": [
    "# Data Structure:  way of organising anf storing data so that it can be acceses and manipulated"
   ]
  },
  {
   "cell_type": "code",
   "execution_count": 1,
   "id": "3a08e8d7-c723-4a72-93ed-9366d91f7680",
   "metadata": {},
   "outputs": [],
   "source": [
    "# data structures: string, list, set, tuples, dictionary, array"
   ]
  },
  {
   "cell_type": "code",
   "execution_count": 10,
   "id": "1beb7be6-cdb3-4748-b41e-56bf4ae4e29b",
   "metadata": {},
   "outputs": [],
   "source": [
    "num = [1,2,3,4,5]\n",
    "Big_list = [1,3,5,'bull','tomato']\n",
    "#list"
   ]
  },
  {
   "cell_type": "code",
   "execution_count": 11,
   "id": "617fee11-3396-4a29-8ac3-90fca428711e",
   "metadata": {},
   "outputs": [
    {
     "data": {
      "text/plain": [
       "list"
      ]
     },
     "execution_count": 11,
     "metadata": {},
     "output_type": "execute_result"
    }
   ],
   "source": [
    "type(num)\n"
   ]
  },
  {
   "cell_type": "code",
   "execution_count": 12,
   "id": "138b6915-8710-4f99-8e74-c2ed84a40766",
   "metadata": {},
   "outputs": [
    {
     "data": {
      "text/plain": [
       "1"
      ]
     },
     "execution_count": 12,
     "metadata": {},
     "output_type": "execute_result"
    }
   ],
   "source": [
    "num[0]"
   ]
  },
  {
   "cell_type": "code",
   "execution_count": 13,
   "id": "d6c8f048-3e93-461d-95c3-fbf0b8d20c1e",
   "metadata": {},
   "outputs": [
    {
     "data": {
      "text/plain": [
       "4"
      ]
     },
     "execution_count": 13,
     "metadata": {},
     "output_type": "execute_result"
    }
   ],
   "source": [
    "num[3]"
   ]
  },
  {
   "cell_type": "code",
   "execution_count": 14,
   "id": "7cd18dfc-1dc3-4fbc-a9ed-301370b642a2",
   "metadata": {},
   "outputs": [],
   "source": [
    "fruits = [ 'banana','apple' , 'guava'] \n",
    "#append() append object at the end.."
   ]
  },
  {
   "cell_type": "code",
   "execution_count": 15,
   "id": "819a0391-8f5e-4bba-94f6-3f74d35e6c9e",
   "metadata": {},
   "outputs": [
    {
     "data": {
      "text/plain": [
       "['banana', 'apple', 'guava', 'orange']"
      ]
     },
     "execution_count": 15,
     "metadata": {},
     "output_type": "execute_result"
    }
   ],
   "source": [
    "fruits.append('orange')\n",
    "fruits"
   ]
  },
  {
   "cell_type": "code",
   "execution_count": 16,
   "id": "5949e3a1-0252-4f90-b6f7-9b49d839ed4d",
   "metadata": {},
   "outputs": [
    {
     "data": {
      "text/plain": [
       "['apple', 'guava', 'orange']"
      ]
     },
     "execution_count": 16,
     "metadata": {},
     "output_type": "execute_result"
    }
   ],
   "source": [
    "fruits.remove('banana')\n",
    "fruits"
   ]
  },
  {
   "cell_type": "code",
   "execution_count": 17,
   "id": "43020f09-7568-436d-96c0-024d0512b42e",
   "metadata": {},
   "outputs": [],
   "source": [
    "Nested_list = [ [1,3,5] , ['a','b'] , [2,4,6] ]"
   ]
  },
  {
   "cell_type": "code",
   "execution_count": 18,
   "id": "c752eb70-517b-463e-a3f2-9bcba9638420",
   "metadata": {},
   "outputs": [
    {
     "data": {
      "text/plain": [
       "list"
      ]
     },
     "execution_count": 18,
     "metadata": {},
     "output_type": "execute_result"
    }
   ],
   "source": [
    "type(Nested_list)"
   ]
  },
  {
   "cell_type": "code",
   "execution_count": 20,
   "id": "3eebb2ea-896e-480a-93d3-cc42e719210b",
   "metadata": {},
   "outputs": [
    {
     "data": {
      "text/plain": [
       "3"
      ]
     },
     "execution_count": 20,
     "metadata": {},
     "output_type": "execute_result"
    }
   ],
   "source": [
    "Nested_list[0][1]\n"
   ]
  },
  {
   "cell_type": "code",
   "execution_count": 21,
   "id": "189a5e72-0579-4770-aaec-b657503710a8",
   "metadata": {},
   "outputs": [
    {
     "data": {
      "text/plain": [
       "'b'"
      ]
     },
     "execution_count": 21,
     "metadata": {},
     "output_type": "execute_result"
    }
   ],
   "source": [
    "Nested_list[1][1]"
   ]
  },
  {
   "cell_type": "code",
   "execution_count": 25,
   "id": "34c86b8a-2814-4938-9876-5db77d131a30",
   "metadata": {},
   "outputs": [],
   "source": [
    "#dictionary\n",
    "phonebook = {\"Ash\":98790 , 'Bateman':7666}"
   ]
  },
  {
   "cell_type": "code",
   "execution_count": 26,
   "id": "8a4f6660-c18a-44b2-9161-ccc6dee372d6",
   "metadata": {},
   "outputs": [
    {
     "data": {
      "text/plain": [
       "98790"
      ]
     },
     "execution_count": 26,
     "metadata": {},
     "output_type": "execute_result"
    }
   ],
   "source": [
    "phonebook['Ash']"
   ]
  },
  {
   "cell_type": "code",
   "execution_count": 29,
   "id": "8291a3c3-8418-4f80-811b-eb9d3b042c21",
   "metadata": {},
   "outputs": [],
   "source": [
    "phonebook['Ash'] = 'Mobile number hidden due to unknown reasons...'"
   ]
  },
  {
   "cell_type": "code",
   "execution_count": 30,
   "id": "2bc57ba7-dbae-4718-97e4-c8e33fc738ed",
   "metadata": {},
   "outputs": [
    {
     "data": {
      "text/plain": [
       "'Mobile number hidden due to unknown reasons...'"
      ]
     },
     "execution_count": 30,
     "metadata": {},
     "output_type": "execute_result"
    }
   ],
   "source": [
    "phonebook['Ash']"
   ]
  },
  {
   "cell_type": "code",
   "execution_count": 31,
   "id": "a1c7893b-1318-45e9-8eef-483d4083e475",
   "metadata": {},
   "outputs": [],
   "source": [
    "#tuple --> immutable"
   ]
  },
  {
   "cell_type": "code",
   "execution_count": 32,
   "id": "a3196011-6826-4b14-870f-1399641fe69d",
   "metadata": {},
   "outputs": [],
   "source": [
    "tuple = (1,2,4,'string')"
   ]
  },
  {
   "cell_type": "code",
   "execution_count": 33,
   "id": "cd72187c-6906-4b44-9321-46f9b2e09386",
   "metadata": {},
   "outputs": [
    {
     "data": {
      "text/plain": [
       "(1, 2, 4, 'string')"
      ]
     },
     "execution_count": 33,
     "metadata": {},
     "output_type": "execute_result"
    }
   ],
   "source": [
    "tuple\n"
   ]
  },
  {
   "cell_type": "code",
   "execution_count": 34,
   "id": "5eabe5d6-23b3-4839-b67e-246dabcd32b7",
   "metadata": {},
   "outputs": [
    {
     "ename": "TypeError",
     "evalue": "'tuple' object does not support item assignment",
     "output_type": "error",
     "traceback": [
      "\u001b[1;31m---------------------------------------------------------------------------\u001b[0m",
      "\u001b[1;31mTypeError\u001b[0m                                 Traceback (most recent call last)",
      "Cell \u001b[1;32mIn[34], line 1\u001b[0m\n\u001b[1;32m----> 1\u001b[0m \u001b[38;5;28;43mtuple\u001b[39;49m\u001b[43m[\u001b[49m\u001b[38;5;241;43m0\u001b[39;49m\u001b[43m]\u001b[49m \u001b[38;5;241m=\u001b[39m \u001b[38;5;241m2\u001b[39m\n",
      "\u001b[1;31mTypeError\u001b[0m: 'tuple' object does not support item assignment"
     ]
    }
   ],
   "source": [
    "tuple[0] = 2"
   ]
  },
  {
   "cell_type": "code",
   "execution_count": 36,
   "id": "0c8e4909-405c-44a1-b014-af4958b486f3",
   "metadata": {},
   "outputs": [],
   "source": [
    "#set --> different elements unordered"
   ]
  },
  {
   "cell_type": "code",
   "execution_count": 37,
   "id": "35777931-5023-44a4-aa87-9f1ddf1136d3",
   "metadata": {},
   "outputs": [],
   "source": [
    "set = {'stuff',1,3,54,69}"
   ]
  },
  {
   "cell_type": "code",
   "execution_count": 38,
   "id": "284697e9-82da-4a15-8ad4-4577c66abaf5",
   "metadata": {},
   "outputs": [],
   "source": [
    "set.add('more stuff')"
   ]
  },
  {
   "cell_type": "code",
   "execution_count": 39,
   "id": "d38379e8-bdd6-4ea8-a86d-e2c9fb47c786",
   "metadata": {},
   "outputs": [
    {
     "data": {
      "text/plain": [
       "{1, 3, 54, 69, 'more stuff', 'stuff'}"
      ]
     },
     "execution_count": 39,
     "metadata": {},
     "output_type": "execute_result"
    }
   ],
   "source": [
    "set\n"
   ]
  },
  {
   "cell_type": "code",
   "execution_count": 40,
   "id": "d9732f36-5d9a-4b5d-8768-8a917e9a97c8",
   "metadata": {},
   "outputs": [],
   "source": [
    "set.remove('stuff')"
   ]
  },
  {
   "cell_type": "code",
   "execution_count": 41,
   "id": "d3e428de-e434-4b95-a1a3-2eae2effb541",
   "metadata": {},
   "outputs": [
    {
     "data": {
      "text/plain": [
       "{1, 3, 54, 69, 'more stuff'}"
      ]
     },
     "execution_count": 41,
     "metadata": {},
     "output_type": "execute_result"
    }
   ],
   "source": [
    "set"
   ]
  },
  {
   "cell_type": "code",
   "execution_count": 43,
   "id": "8451774a-b39e-41ab-ad47-e3285618e54b",
   "metadata": {},
   "outputs": [],
   "source": [
    "from array import array   #stores homogenous data"
   ]
  },
  {
   "cell_type": "code",
   "execution_count": 44,
   "id": "d46022f3-fec6-428e-b8f0-990bde4d6d84",
   "metadata": {},
   "outputs": [
    {
     "data": {
      "text/plain": [
       "array('i', [1, 2, 3, 4])"
      ]
     },
     "execution_count": 44,
     "metadata": {},
     "output_type": "execute_result"
    }
   ],
   "source": [
    "array('i',[1,2,3,4])"
   ]
  },
  {
   "cell_type": "code",
   "execution_count": 46,
   "id": "1dd6958d-3b0a-489d-9e22-03c274940dc7",
   "metadata": {},
   "outputs": [],
   "source": [
    "#--------------------------------------------Strings----------"
   ]
  },
  {
   "cell_type": "code",
   "execution_count": 48,
   "id": "fda66ce8-bab1-4e64-a534-595f5294cffc",
   "metadata": {},
   "outputs": [
    {
     "data": {
      "text/plain": [
       "65"
      ]
     },
     "execution_count": 48,
     "metadata": {},
     "output_type": "execute_result"
    }
   ],
   "source": [
    "char = 'A'\n",
    "ord(char)"
   ]
  },
  {
   "cell_type": "code",
   "execution_count": 49,
   "id": "7b97815c-2d0a-4fda-996f-fae462592d94",
   "metadata": {},
   "outputs": [
    {
     "data": {
      "text/plain": [
       "'A'"
      ]
     },
     "execution_count": 49,
     "metadata": {},
     "output_type": "execute_result"
    }
   ],
   "source": [
    "chr(65)"
   ]
  },
  {
   "cell_type": "code",
   "execution_count": 50,
   "id": "e1c994ef-a2f6-48ca-b197-15b310758a77",
   "metadata": {},
   "outputs": [],
   "source": [
    "#UNICODE Rep"
   ]
  },
  {
   "cell_type": "code",
   "execution_count": 51,
   "id": "fad43328-84d7-41df-b0dc-10aabd01ad0c",
   "metadata": {},
   "outputs": [
    {
     "data": {
      "text/plain": [
       "'Σ'"
      ]
     },
     "execution_count": 51,
     "metadata": {},
     "output_type": "execute_result"
    }
   ],
   "source": [
    "'\\u03A3'"
   ]
  },
  {
   "cell_type": "code",
   "execution_count": 52,
   "id": "c4bb3eea-c258-4005-b6b3-4306ff1033cf",
   "metadata": {},
   "outputs": [
    {
     "data": {
      "text/plain": [
       "'ॳ'"
      ]
     },
     "execution_count": 52,
     "metadata": {},
     "output_type": "execute_result"
    }
   ],
   "source": [
    "'\\u0973'"
   ]
  },
  {
   "cell_type": "code",
   "execution_count": 53,
   "id": "54d77597-a874-4039-830e-0c19c1a6ef20",
   "metadata": {},
   "outputs": [
    {
     "data": {
      "text/plain": [
       "'ই'"
      ]
     },
     "execution_count": 53,
     "metadata": {},
     "output_type": "execute_result"
    }
   ],
   "source": [
    "'\\u0987'"
   ]
  },
  {
   "cell_type": "code",
   "execution_count": 6,
   "id": "d639cac4-1fa4-42ec-bc7a-23b84ea33c5c",
   "metadata": {},
   "outputs": [],
   "source": [
    "string0 = 'bool'"
   ]
  },
  {
   "cell_type": "code",
   "execution_count": 7,
   "id": "57904432-ad9c-4b31-b27d-dc3951927371",
   "metadata": {},
   "outputs": [
    {
     "data": {
      "text/plain": [
       "'I\\'m  6\\'5\" '"
      ]
     },
     "execution_count": 7,
     "metadata": {},
     "output_type": "execute_result"
    }
   ],
   "source": [
    "\"\"\"I'm  6'5\" \"\"\""
   ]
  },
  {
   "cell_type": "code",
   "execution_count": 8,
   "id": "c70651a7-e734-4388-840b-b7bf55ab9f08",
   "metadata": {},
   "outputs": [
    {
     "data": {
      "text/plain": [
       "'I am a hooman\\nI eat food.\\nI eat animals.\\nI eat hoomanwooman'"
      ]
     },
     "execution_count": 8,
     "metadata": {},
     "output_type": "execute_result"
    }
   ],
   "source": [
    "'''I am a hooman\n",
    "I eat food.\n",
    "I eat animals.\n",
    "I eat hoomanwooman'''"
   ]
  },
  {
   "cell_type": "code",
   "execution_count": 9,
   "id": "a33ee606-2b06-456e-aff4-b06c516a4cf0",
   "metadata": {},
   "outputs": [],
   "source": [
    "#Concatenation >> combination of two strings"
   ]
  },
  {
   "cell_type": "code",
   "execution_count": 13,
   "id": "1911ae3e-5ac7-4c3c-bc9d-d4b2347d675a",
   "metadata": {},
   "outputs": [
    {
     "data": {
      "text/plain": [
       "'Hello World ,Whateva!'"
      ]
     },
     "execution_count": 13,
     "metadata": {},
     "output_type": "execute_result"
    }
   ],
   "source": [
    "\"Hello \" + \"World\" + \" ,Whateva!\""
   ]
  },
  {
   "cell_type": "code",
   "execution_count": 15,
   "id": "40294977-6f0a-423a-98c7-722da0ef5e2e",
   "metadata": {},
   "outputs": [],
   "source": [
    "#Extract/Slicing of string\n",
    "a = 'SomethingStupid'"
   ]
  },
  {
   "cell_type": "code",
   "execution_count": 16,
   "id": "056ec7b4-3c5a-43c2-8377-a65ac70391b0",
   "metadata": {},
   "outputs": [
    {
     "data": {
      "text/plain": [
       "'S'"
      ]
     },
     "execution_count": 16,
     "metadata": {},
     "output_type": "execute_result"
    }
   ],
   "source": [
    "a[0]"
   ]
  },
  {
   "cell_type": "code",
   "execution_count": 17,
   "id": "f3ef547e-32e9-45bd-923d-d6afac74cbd5",
   "metadata": {},
   "outputs": [
    {
     "data": {
      "text/plain": [
       "'o'"
      ]
     },
     "execution_count": 17,
     "metadata": {},
     "output_type": "execute_result"
    }
   ],
   "source": [
    "a[1]"
   ]
  },
  {
   "cell_type": "code",
   "execution_count": 18,
   "id": "c32a9211-61a3-43fb-b1f6-f54c48165813",
   "metadata": {},
   "outputs": [],
   "source": [
    "TEXT = 'Whatchu doin here, man !'"
   ]
  },
  {
   "cell_type": "code",
   "execution_count": 20,
   "id": "226fc81e-4f70-4346-8259-d027494ad9e2",
   "metadata": {},
   "outputs": [
    {
     "data": {
      "text/plain": [
       "'Whatchu doin here'"
      ]
     },
     "execution_count": 20,
     "metadata": {},
     "output_type": "execute_result"
    }
   ],
   "source": [
    "TEXT[0:17] # 17 is exclusive"
   ]
  },
  {
   "cell_type": "code",
   "execution_count": 22,
   "id": "ce1f5128-19e0-4af2-8fe8-c70a1652f834",
   "metadata": {},
   "outputs": [
    {
     "data": {
      "text/plain": [
       "'Whatchu doin here, man !'"
      ]
     },
     "execution_count": 22,
     "metadata": {},
     "output_type": "execute_result"
    }
   ],
   "source": [
    " TEXT[0: ] # unending value"
   ]
  },
  {
   "cell_type": "code",
   "execution_count": 25,
   "id": "f8e8b0ef-d018-4b6f-ae15-dea8a875c889",
   "metadata": {},
   "outputs": [
    {
     "data": {
      "text/plain": [
       "'Whatchu doin here, ma'"
      ]
     },
     "execution_count": 25,
     "metadata": {},
     "output_type": "execute_result"
    }
   ],
   "source": [
    "TEXT[ : -3] #last three char omiited"
   ]
  },
  {
   "cell_type": "code",
   "execution_count": 28,
   "id": "1ca85220-2688-4ee5-a56f-7a5030f9626e",
   "metadata": {},
   "outputs": [
    {
     "data": {
      "text/plain": [
       "'Wacu'"
      ]
     },
     "execution_count": 28,
     "metadata": {},
     "output_type": "execute_result"
    }
   ],
   "source": [
    "TEXT[0:8:2] #last paramater is steps taken"
   ]
  },
  {
   "cell_type": "code",
   "execution_count": 29,
   "id": "74c204cc-3d71-432c-a6d9-92a7386380f3",
   "metadata": {},
   "outputs": [
    {
     "data": {
      "text/plain": [
       "'Wtuo'"
      ]
     },
     "execution_count": 29,
     "metadata": {},
     "output_type": "execute_result"
    }
   ],
   "source": [
    "TEXT[0:12:3]"
   ]
  },
  {
   "cell_type": "code",
   "execution_count": 30,
   "id": "25c5b587-7f7f-432a-86cc-7a2b6cd34632",
   "metadata": {},
   "outputs": [
    {
     "data": {
      "text/plain": [
       "'Whatchu doin here, man !'"
      ]
     },
     "execution_count": 30,
     "metadata": {},
     "output_type": "execute_result"
    }
   ],
   "source": [
    "TEXT[::1]"
   ]
  },
  {
   "cell_type": "code",
   "execution_count": 31,
   "id": "436d4668-a550-4d6a-99ea-cf933a74a549",
   "metadata": {},
   "outputs": [],
   "source": [
    "#syntax-->stringName[start:end:step]"
   ]
  },
  {
   "cell_type": "code",
   "execution_count": 33,
   "id": "fffce979-130b-4287-8f11-7ca5cbce66c5",
   "metadata": {},
   "outputs": [
    {
     "data": {
      "text/plain": [
       "'! nam ,ereh niod uhctahW'"
      ]
     },
     "execution_count": 33,
     "metadata": {},
     "output_type": "execute_result"
    }
   ],
   "source": [
    "TEXT[::-1] #iterate over the sequence in reverse order"
   ]
  },
  {
   "cell_type": "code",
   "execution_count": 34,
   "id": "8ddd749c-ba09-448b-a12f-b55cfc9a313b",
   "metadata": {},
   "outputs": [],
   "source": [
    "#strings are immutable"
   ]
  },
  {
   "cell_type": "code",
   "execution_count": 35,
   "id": "64e48ed5-d085-41b3-b5cc-586591db732f",
   "metadata": {},
   "outputs": [
    {
     "ename": "TypeError",
     "evalue": "'str' object does not support item assignment",
     "output_type": "error",
     "traceback": [
      "\u001b[1;31m---------------------------------------------------------------------------\u001b[0m",
      "\u001b[1;31mTypeError\u001b[0m                                 Traceback (most recent call last)",
      "Cell \u001b[1;32mIn[35], line 1\u001b[0m\n\u001b[1;32m----> 1\u001b[0m \u001b[43mTEXT\u001b[49m\u001b[43m[\u001b[49m\u001b[38;5;241;43m4\u001b[39;49m\u001b[43m]\u001b[49m \u001b[38;5;241m=\u001b[39m \u001b[38;5;124m'\u001b[39m\u001b[38;5;124mb\u001b[39m\u001b[38;5;124m'\u001b[39m\n",
      "\u001b[1;31mTypeError\u001b[0m: 'str' object does not support item assignment"
     ]
    }
   ],
   "source": [
    "TEXT[4] = 'b'"
   ]
  },
  {
   "cell_type": "code",
   "execution_count": 36,
   "id": "c3b19461-0021-4c79-b0fe-871f68d9ddcf",
   "metadata": {},
   "outputs": [
    {
     "data": {
      "text/plain": [
       "24"
      ]
     },
     "execution_count": 36,
     "metadata": {},
     "output_type": "execute_result"
    }
   ],
   "source": [
    "len(TEXT)"
   ]
  },
  {
   "cell_type": "code",
   "execution_count": 37,
   "id": "202b7802-572c-46ac-b7bb-c3e3f3eb6e78",
   "metadata": {},
   "outputs": [],
   "source": [
    "#modification of string using replace function"
   ]
  },
  {
   "cell_type": "code",
   "execution_count": 38,
   "id": "af836567-7438-4f1a-8d68-c554f5618ed9",
   "metadata": {},
   "outputs": [
    {
     "data": {
      "text/plain": [
       "'Whatchu doin here, man !'"
      ]
     },
     "execution_count": 38,
     "metadata": {},
     "output_type": "execute_result"
    }
   ],
   "source": [
    "TEXT\n"
   ]
  },
  {
   "cell_type": "code",
   "execution_count": 43,
   "id": "c9e4d01a-1226-4a86-b029-a005379743a9",
   "metadata": {},
   "outputs": [
    {
     "data": {
      "text/plain": [
       "'Whatchu doin ere, man !'"
      ]
     },
     "execution_count": 43,
     "metadata": {},
     "output_type": "execute_result"
    }
   ],
   "source": [
    "TEXT.replace(\"here\",\"ere\")"
   ]
  },
  {
   "cell_type": "code",
   "execution_count": 45,
   "id": "add15747-e382-4025-9fcf-3331885bb56a",
   "metadata": {},
   "outputs": [
    {
     "data": {
      "text/plain": [
       "'What are you doin here, man !'"
      ]
     },
     "execution_count": 45,
     "metadata": {},
     "output_type": "execute_result"
    }
   ],
   "source": [
    "TEXT.replace('Whatchu','What are you')"
   ]
  },
  {
   "cell_type": "code",
   "execution_count": 46,
   "id": "8bb55726-f095-4f73-997e-b9527459b3cb",
   "metadata": {},
   "outputs": [],
   "source": [
    "CAPITAL = \"BURNING DOWN THE HOUSE\""
   ]
  },
  {
   "cell_type": "code",
   "execution_count": 47,
   "id": "f775c7a0-c61b-4109-9051-3a1e5b887166",
   "metadata": {},
   "outputs": [
    {
     "data": {
      "text/plain": [
       "'burning down the house'"
      ]
     },
     "execution_count": 47,
     "metadata": {},
     "output_type": "execute_result"
    }
   ],
   "source": [
    "CAPITAL.lower()"
   ]
  },
  {
   "cell_type": "code",
   "execution_count": 48,
   "id": "264f4444-9eb8-4bcc-a502-c88de9a68bf4",
   "metadata": {},
   "outputs": [
    {
     "data": {
      "text/plain": [
       "'BURNING DOWN THE HOUSE'"
      ]
     },
     "execution_count": 48,
     "metadata": {},
     "output_type": "execute_result"
    }
   ],
   "source": [
    "CAPITAL.upper()"
   ]
  },
  {
   "cell_type": "code",
   "execution_count": 49,
   "id": "566bb39d-9276-4f08-b893-6ffdb46e13f2",
   "metadata": {},
   "outputs": [
    {
     "data": {
      "text/plain": [
       "'Burning Down The House'"
      ]
     },
     "execution_count": 49,
     "metadata": {},
     "output_type": "execute_result"
    }
   ],
   "source": [
    "CAPITAL.title()"
   ]
  },
  {
   "cell_type": "code",
   "execution_count": 50,
   "id": "13588d05-b5cc-4574-87ba-3b2dcd4b5811",
   "metadata": {},
   "outputs": [
    {
     "data": {
      "text/plain": [
       "'burning down the house'"
      ]
     },
     "execution_count": 50,
     "metadata": {},
     "output_type": "execute_result"
    }
   ],
   "source": [
    "CAPITAL.swapcase()"
   ]
  },
  {
   "cell_type": "code",
   "execution_count": 51,
   "id": "ca2053eb-d9d3-49f5-863b-d7b46efdbe03",
   "metadata": {},
   "outputs": [
    {
     "data": {
      "text/plain": [
       "'Burning down the house'"
      ]
     },
     "execution_count": 51,
     "metadata": {},
     "output_type": "execute_result"
    }
   ],
   "source": [
    "CAPITAL.capitalize()"
   ]
  },
  {
   "cell_type": "code",
   "execution_count": 55,
   "id": "af90250b-6e91-4559-b1dc-adea43ac872f",
   "metadata": {},
   "outputs": [
    {
     "data": {
      "text/plain": [
       "True"
      ]
     },
     "execution_count": 55,
     "metadata": {},
     "output_type": "execute_result"
    }
   ],
   "source": [
    "#string searching\n",
    "CAPITAL = \"BURNING DOWN THE HOUSE\"\n",
    "'HOUSE' in CAPITAL"
   ]
  },
  {
   "cell_type": "code",
   "execution_count": 65,
   "id": "3d48fd49-ec82-460f-9258-0390f02a620f",
   "metadata": {},
   "outputs": [
    {
     "name": "stdout",
     "output_type": "stream",
     "text": [
      "valid email\n"
     ]
    }
   ],
   "source": [
    "email = 'maxp123@gmail.com'\n",
    "if (\"@gmail.com\" or \"@yahoo.co.in\" or \"@hotmail.com\") in email:\n",
    "    print(\"valid email\")\n",
    "else:\n",
    "    print(\"Invalid email\")"
   ]
  },
  {
   "cell_type": "code",
   "execution_count": 68,
   "id": "441657fc-d767-4192-ae17-4509a688ef4f",
   "metadata": {},
   "outputs": [],
   "source": [
    "#string comparison\n",
    "str1 = \"Hello\"\n",
    "str2 = \"ello\""
   ]
  },
  {
   "cell_type": "code",
   "execution_count": 69,
   "id": "084c6f2c-e1c7-43c6-8517-d4af0c111734",
   "metadata": {},
   "outputs": [
    {
     "data": {
      "text/plain": [
       "False"
      ]
     },
     "execution_count": 69,
     "metadata": {},
     "output_type": "execute_result"
    }
   ],
   "source": [
    "str1 == str2"
   ]
  },
  {
   "cell_type": "code",
   "execution_count": 70,
   "id": "a5c0b13c-296f-4cc5-917c-18f706e878a3",
   "metadata": {},
   "outputs": [
    {
     "name": "stdout",
     "output_type": "stream",
     "text": [
      "valid username :)\n"
     ]
    }
   ],
   "source": [
    "reg_username = ['max','maxp','MaxPayne']\n",
    "new_user = 'MaxPayne007'\n",
    "if new_user in reg_username:\n",
    "    print('already in use')\n",
    "else:\n",
    "    print('valid username :)')"
   ]
  },
  {
   "cell_type": "code",
   "execution_count": 71,
   "id": "3ed1c87a-af14-4ea2-af52-615451647921",
   "metadata": {},
   "outputs": [],
   "source": [
    "#string ordering"
   ]
  },
  {
   "cell_type": "code",
   "execution_count": 77,
   "id": "d29316e2-5923-4211-adf8-348aef472ede",
   "metadata": {},
   "outputs": [],
   "source": [
    "name = [ 'Art','Damien','Jason Voorhees','Jacob','Nate','Ezekiel','Francesca','Bateman','Cristie']"
   ]
  },
  {
   "cell_type": "code",
   "execution_count": 78,
   "id": "8e561a8e-1cb9-4dc5-a0c5-f17af0a05128",
   "metadata": {},
   "outputs": [
    {
     "data": {
      "text/plain": [
       "['Art',\n",
       " 'Bateman',\n",
       " 'Cristie',\n",
       " 'Damien',\n",
       " 'Ezekiel',\n",
       " 'Francesca',\n",
       " 'Jacob',\n",
       " 'Jason Voorhees',\n",
       " 'Nate']"
      ]
     },
     "execution_count": 78,
     "metadata": {},
     "output_type": "execute_result"
    }
   ],
   "source": [
    "sorted(name)"
   ]
  },
  {
   "cell_type": "code",
   "execution_count": 79,
   "id": "4001323a-9110-4afb-acec-4e9cc9bce2ae",
   "metadata": {},
   "outputs": [],
   "source": [
    "#common string op\n",
    "input_str = \"                Max Payne     \"\n"
   ]
  },
  {
   "cell_type": "code",
   "execution_count": 80,
   "id": "252b586c-f6a1-4fbf-82d2-4314c964c898",
   "metadata": {},
   "outputs": [
    {
     "data": {
      "text/plain": [
       "'Max Payne'"
      ]
     },
     "execution_count": 80,
     "metadata": {},
     "output_type": "execute_result"
    }
   ],
   "source": [
    "input_str.strip()"
   ]
  },
  {
   "cell_type": "code",
   "execution_count": 87,
   "id": "66b7b03a-0b88-486f-942b-e06c07823843",
   "metadata": {},
   "outputs": [],
   "source": [
    "#string splititng\n",
    "data = 'Art,Damien,Jason Voorhees,Jacob,Nate,Ezekiel,Francesca,Bateman,Cristie'"
   ]
  },
  {
   "cell_type": "code",
   "execution_count": 90,
   "id": "811237ea-172b-4dab-be09-0cc0fdd3c948",
   "metadata": {},
   "outputs": [],
   "source": [
    "char_info = data.split(',')"
   ]
  },
  {
   "cell_type": "code",
   "execution_count": 91,
   "id": "05d1cd4d-6b6b-44b5-a1aa-21690fcf0fe8",
   "metadata": {},
   "outputs": [
    {
     "data": {
      "text/plain": [
       "['Art',\n",
       " 'Damien',\n",
       " 'Jason Voorhees',\n",
       " 'Jacob',\n",
       " 'Nate',\n",
       " 'Ezekiel',\n",
       " 'Francesca',\n",
       " 'Bateman',\n",
       " 'Cristie']"
      ]
     },
     "execution_count": 91,
     "metadata": {},
     "output_type": "execute_result"
    }
   ],
   "source": [
    "char_info\n"
   ]
  },
  {
   "cell_type": "code",
   "execution_count": 92,
   "id": "ad9c7b4d-a8a6-439f-9b2d-62d9bd6a24ae",
   "metadata": {},
   "outputs": [],
   "source": [
    "Clown = char_info[0]"
   ]
  },
  {
   "cell_type": "code",
   "execution_count": 93,
   "id": "6f128a76-d889-4abe-ad3f-8b8a6140e254",
   "metadata": {},
   "outputs": [
    {
     "data": {
      "text/plain": [
       "'Art'"
      ]
     },
     "execution_count": 93,
     "metadata": {},
     "output_type": "execute_result"
    }
   ],
   "source": [
    "Clown"
   ]
  },
  {
   "cell_type": "code",
   "execution_count": 95,
   "id": "1fccf71e-055f-4b80-9504-4f7ee7bfeccc",
   "metadata": {},
   "outputs": [],
   "source": [
    "#Escape sequence >> special combination of char used within a string"
   ]
  },
  {
   "cell_type": "code",
   "execution_count": 97,
   "id": "a6aa6152-3d46-4756-99b1-34a73d0f689e",
   "metadata": {},
   "outputs": [],
   "source": [
    "# \\n -->newline char"
   ]
  },
  {
   "cell_type": "code",
   "execution_count": 101,
   "id": "f9315bd8-f2b0-4425-8125-f9bbbffaacd4",
   "metadata": {},
   "outputs": [],
   "source": [
    "# \\t -->tab\n",
    "table = \"Name\\tAge\\tGrade\\nRuth\\t19\\tA\\nJules\\t22\\tA+\""
   ]
  },
  {
   "cell_type": "code",
   "execution_count": 102,
   "id": "727565f8-9aef-4030-80cc-99394235d3c2",
   "metadata": {},
   "outputs": [
    {
     "name": "stdout",
     "output_type": "stream",
     "text": [
      "Name\tAge\tGrade\n",
      "Ruth\t19\tA\n",
      "Jules\t22\tA+\n"
     ]
    }
   ],
   "source": [
    "print(table)"
   ]
  },
  {
   "cell_type": "code",
   "execution_count": 103,
   "id": "8103223c-a609-4e10-a902-18837bbc8a93",
   "metadata": {},
   "outputs": [],
   "source": [
    "file_path = \"C\\\\Users\\\\Max\\\\Downloads\\\\JupyterLab.exe\""
   ]
  },
  {
   "cell_type": "code",
   "execution_count": 104,
   "id": "7ff7b7f3-2392-425b-913c-8abbe83d5208",
   "metadata": {},
   "outputs": [
    {
     "name": "stdout",
     "output_type": "stream",
     "text": [
      "C\\Users\\Max\\Downloads\\JupyterLab.exe\n"
     ]
    }
   ],
   "source": [
    "print(file_path)"
   ]
  },
  {
   "cell_type": "code",
   "execution_count": 105,
   "id": "cf09dba4-8ed1-4af2-a5ab-4812163e03f5",
   "metadata": {},
   "outputs": [],
   "source": [
    "# \\' single quote escape"
   ]
  },
  {
   "cell_type": "code",
   "execution_count": 107,
   "id": "e76e2fad-cd90-427b-a613-646664b217df",
   "metadata": {},
   "outputs": [],
   "source": [
    "str1 = 'I\\'m six-five'"
   ]
  },
  {
   "cell_type": "code",
   "execution_count": 108,
   "id": "04d385c0-1ffd-4763-897b-1f06b7070dc7",
   "metadata": {},
   "outputs": [
    {
     "data": {
      "text/plain": [
       "\"I'm six-five\""
      ]
     },
     "execution_count": 108,
     "metadata": {},
     "output_type": "execute_result"
    }
   ],
   "source": [
    "str1"
   ]
  },
  {
   "cell_type": "code",
   "execution_count": 112,
   "id": "aa95a637-b22f-4836-96df-41fb4af0e64b",
   "metadata": {},
   "outputs": [
    {
     "name": "stdout",
     "output_type": "stream",
     "text": [
      "them to Belize\n"
     ]
    }
   ],
   "source": [
    "#carriage return \\r >>moves the cursor to the beginning of line\n",
    "print(\"Send \\rthem to Belize\")"
   ]
  },
  {
   "cell_type": "code",
   "execution_count": 125,
   "id": "42a2050e-34aa-4d55-9a5d-cc45bcb79187",
   "metadata": {},
   "outputs": [
    {
     "name": "stdout",
     "output_type": "stream",
     "text": [
      "Hello Jules, how are you?\n"
     ]
    }
   ],
   "source": [
    "#string formatting>> creating string with placeholder for variables\n",
    "#f string\n",
    "name = 'Jules'\n",
    "greetings = f\"Hello {name}, how are you?\"\n",
    "print(greetings)"
   ]
  },
  {
   "cell_type": "code",
   "execution_count": 129,
   "id": "36319e22-924e-4d23-b0e5-6bcc4f874a73",
   "metadata": {},
   "outputs": [],
   "source": [
    "#another way of formatting\n",
    "name2 = \"Ruth Bennet\"\n",
    "greeting = \"Hello %s, wish you a wonderful day\"%name2"
   ]
  },
  {
   "cell_type": "code",
   "execution_count": 130,
   "id": "51a14725-924f-4369-a500-10c88adfcd7f",
   "metadata": {},
   "outputs": [
    {
     "name": "stdout",
     "output_type": "stream",
     "text": [
      "Hello Ruth Bennet, wish you a wonderful day\n"
     ]
    }
   ],
   "source": [
    "print(greeting)"
   ]
  },
  {
   "cell_type": "code",
   "execution_count": 131,
   "id": "ca0cca23-c087-4845-940a-43bae37951f9",
   "metadata": {},
   "outputs": [
    {
     "name": "stdout",
     "output_type": "stream",
     "text": [
      "Hello, Max Welcome to Jupyter Lab\n"
     ]
    }
   ],
   "source": [
    "# .format() \n",
    "template = \"Hello, {} Welcome to {}\"\n",
    "message = template.format(\"Max\",\"Jupyter Lab\")\n",
    "print(message)"
   ]
  },
  {
   "cell_type": "code",
   "execution_count": 133,
   "id": "18fd0f33-1a79-42a2-b123-4087b69dc057",
   "metadata": {},
   "outputs": [
    {
     "data": {
      "text/plain": [
       "True"
      ]
     },
     "execution_count": 133,
     "metadata": {},
     "output_type": "execute_result"
    }
   ],
   "source": [
    "string_00 = \"AWSSS\"\n",
    "string_00.startswith(\"A\")"
   ]
  },
  {
   "cell_type": "code",
   "execution_count": 134,
   "id": "70013bc2-9397-4a4a-838c-90a8cad04bc6",
   "metadata": {},
   "outputs": [
    {
     "data": {
      "text/plain": [
       "True"
      ]
     },
     "execution_count": 134,
     "metadata": {},
     "output_type": "execute_result"
    }
   ],
   "source": [
    "string_00.endswith('S')"
   ]
  },
  {
   "cell_type": "code",
   "execution_count": 135,
   "id": "ed676d5c-8ce2-464c-927f-9bd430591a1d",
   "metadata": {},
   "outputs": [
    {
     "data": {
      "text/plain": [
       "True"
      ]
     },
     "execution_count": 135,
     "metadata": {},
     "output_type": "execute_result"
    }
   ],
   "source": [
    "A_num = \"123abc\"\n",
    "A_num.isalnum()"
   ]
  },
  {
   "cell_type": "code",
   "execution_count": null,
   "id": "9eb712e3-36d2-4749-ab23-83c9f37d5590",
   "metadata": {},
   "outputs": [],
   "source": []
  }
 ],
 "metadata": {
  "kernelspec": {
   "display_name": "Python 3 (ipykernel)",
   "language": "python",
   "name": "python3"
  },
  "language_info": {
   "codemirror_mode": {
    "name": "ipython",
    "version": 3
   },
   "file_extension": ".py",
   "mimetype": "text/x-python",
   "name": "python",
   "nbconvert_exporter": "python",
   "pygments_lexer": "ipython3",
   "version": "3.12.4"
  }
 },
 "nbformat": 4,
 "nbformat_minor": 5
}
