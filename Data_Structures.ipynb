{
 "cells": [
  {
   "cell_type": "code",
   "execution_count": null,
   "id": "d206a524-6d9b-44f5-a40f-2d71c7a3d485",
   "metadata": {},
   "outputs": [],
   "source": [
    "# Data Structure:  way of organising anf storing data so that it can be acceses and manipulated"
   ]
  },
  {
   "cell_type": "code",
   "execution_count": 1,
   "id": "3a08e8d7-c723-4a72-93ed-9366d91f7680",
   "metadata": {},
   "outputs": [],
   "source": [
    "# data structures: string, list, set, tuples, dictionary, array"
   ]
  },
  {
   "cell_type": "code",
   "execution_count": 10,
   "id": "1beb7be6-cdb3-4748-b41e-56bf4ae4e29b",
   "metadata": {},
   "outputs": [],
   "source": [
    "num = [1,2,3,4,5]\n",
    "Big_list = [1,3,5,'bull','tomato']\n",
    "#list"
   ]
  },
  {
   "cell_type": "code",
   "execution_count": 11,
   "id": "617fee11-3396-4a29-8ac3-90fca428711e",
   "metadata": {},
   "outputs": [
    {
     "data": {
      "text/plain": [
       "list"
      ]
     },
     "execution_count": 11,
     "metadata": {},
     "output_type": "execute_result"
    }
   ],
   "source": [
    "type(num)\n"
   ]
  },
  {
   "cell_type": "code",
   "execution_count": 12,
   "id": "138b6915-8710-4f99-8e74-c2ed84a40766",
   "metadata": {},
   "outputs": [
    {
     "data": {
      "text/plain": [
       "1"
      ]
     },
     "execution_count": 12,
     "metadata": {},
     "output_type": "execute_result"
    }
   ],
   "source": [
    "num[0]"
   ]
  },
  {
   "cell_type": "code",
   "execution_count": 13,
   "id": "d6c8f048-3e93-461d-95c3-fbf0b8d20c1e",
   "metadata": {},
   "outputs": [
    {
     "data": {
      "text/plain": [
       "4"
      ]
     },
     "execution_count": 13,
     "metadata": {},
     "output_type": "execute_result"
    }
   ],
   "source": [
    "num[3]"
   ]
  },
  {
   "cell_type": "code",
   "execution_count": 14,
   "id": "7cd18dfc-1dc3-4fbc-a9ed-301370b642a2",
   "metadata": {},
   "outputs": [],
   "source": [
    "fruits = [ 'banana','apple' , 'guava'] \n",
    "#append() append object at the end.."
   ]
  },
  {
   "cell_type": "code",
   "execution_count": 15,
   "id": "819a0391-8f5e-4bba-94f6-3f74d35e6c9e",
   "metadata": {},
   "outputs": [
    {
     "data": {
      "text/plain": [
       "['banana', 'apple', 'guava', 'orange']"
      ]
     },
     "execution_count": 15,
     "metadata": {},
     "output_type": "execute_result"
    }
   ],
   "source": [
    "fruits.append('orange')\n",
    "fruits"
   ]
  },
  {
   "cell_type": "code",
   "execution_count": 16,
   "id": "5949e3a1-0252-4f90-b6f7-9b49d839ed4d",
   "metadata": {},
   "outputs": [
    {
     "data": {
      "text/plain": [
       "['apple', 'guava', 'orange']"
      ]
     },
     "execution_count": 16,
     "metadata": {},
     "output_type": "execute_result"
    }
   ],
   "source": [
    "fruits.remove('banana')\n",
    "fruits"
   ]
  },
  {
   "cell_type": "code",
   "execution_count": 17,
   "id": "43020f09-7568-436d-96c0-024d0512b42e",
   "metadata": {},
   "outputs": [],
   "source": [
    "Nested_list = [ [1,3,5] , ['a','b'] , [2,4,6] ]"
   ]
  },
  {
   "cell_type": "code",
   "execution_count": 18,
   "id": "c752eb70-517b-463e-a3f2-9bcba9638420",
   "metadata": {},
   "outputs": [
    {
     "data": {
      "text/plain": [
       "list"
      ]
     },
     "execution_count": 18,
     "metadata": {},
     "output_type": "execute_result"
    }
   ],
   "source": [
    "type(Nested_list)"
   ]
  },
  {
   "cell_type": "code",
   "execution_count": 20,
   "id": "3eebb2ea-896e-480a-93d3-cc42e719210b",
   "metadata": {},
   "outputs": [
    {
     "data": {
      "text/plain": [
       "3"
      ]
     },
     "execution_count": 20,
     "metadata": {},
     "output_type": "execute_result"
    }
   ],
   "source": [
    "Nested_list[0][1]\n"
   ]
  },
  {
   "cell_type": "code",
   "execution_count": 21,
   "id": "189a5e72-0579-4770-aaec-b657503710a8",
   "metadata": {},
   "outputs": [
    {
     "data": {
      "text/plain": [
       "'b'"
      ]
     },
     "execution_count": 21,
     "metadata": {},
     "output_type": "execute_result"
    }
   ],
   "source": [
    "Nested_list[1][1]"
   ]
  },
  {
   "cell_type": "code",
   "execution_count": 25,
   "id": "34c86b8a-2814-4938-9876-5db77d131a30",
   "metadata": {},
   "outputs": [],
   "source": [
    "#dictionary\n",
    "phonebook = {\"Ash\":98790 , 'Bateman':7666}"
   ]
  },
  {
   "cell_type": "code",
   "execution_count": 26,
   "id": "8a4f6660-c18a-44b2-9161-ccc6dee372d6",
   "metadata": {},
   "outputs": [
    {
     "data": {
      "text/plain": [
       "98790"
      ]
     },
     "execution_count": 26,
     "metadata": {},
     "output_type": "execute_result"
    }
   ],
   "source": [
    "phonebook['Ash']"
   ]
  },
  {
   "cell_type": "code",
   "execution_count": 29,
   "id": "8291a3c3-8418-4f80-811b-eb9d3b042c21",
   "metadata": {},
   "outputs": [],
   "source": [
    "phonebook['Ash'] = 'Mobile number hidden due to unknown reasons...'"
   ]
  },
  {
   "cell_type": "code",
   "execution_count": 30,
   "id": "2bc57ba7-dbae-4718-97e4-c8e33fc738ed",
   "metadata": {},
   "outputs": [
    {
     "data": {
      "text/plain": [
       "'Mobile number hidden due to unknown reasons...'"
      ]
     },
     "execution_count": 30,
     "metadata": {},
     "output_type": "execute_result"
    }
   ],
   "source": [
    "phonebook['Ash']"
   ]
  },
  {
   "cell_type": "code",
   "execution_count": 31,
   "id": "a1c7893b-1318-45e9-8eef-483d4083e475",
   "metadata": {},
   "outputs": [],
   "source": [
    "#tuple --> immutable"
   ]
  },
  {
   "cell_type": "code",
   "execution_count": 32,
   "id": "a3196011-6826-4b14-870f-1399641fe69d",
   "metadata": {},
   "outputs": [],
   "source": [
    "tuple = (1,2,4,'string')"
   ]
  },
  {
   "cell_type": "code",
   "execution_count": 33,
   "id": "cd72187c-6906-4b44-9321-46f9b2e09386",
   "metadata": {},
   "outputs": [
    {
     "data": {
      "text/plain": [
       "(1, 2, 4, 'string')"
      ]
     },
     "execution_count": 33,
     "metadata": {},
     "output_type": "execute_result"
    }
   ],
   "source": [
    "tuple\n"
   ]
  },
  {
   "cell_type": "code",
   "execution_count": 34,
   "id": "5eabe5d6-23b3-4839-b67e-246dabcd32b7",
   "metadata": {},
   "outputs": [
    {
     "ename": "TypeError",
     "evalue": "'tuple' object does not support item assignment",
     "output_type": "error",
     "traceback": [
      "\u001b[1;31m---------------------------------------------------------------------------\u001b[0m",
      "\u001b[1;31mTypeError\u001b[0m                                 Traceback (most recent call last)",
      "Cell \u001b[1;32mIn[34], line 1\u001b[0m\n\u001b[1;32m----> 1\u001b[0m \u001b[38;5;28;43mtuple\u001b[39;49m\u001b[43m[\u001b[49m\u001b[38;5;241;43m0\u001b[39;49m\u001b[43m]\u001b[49m \u001b[38;5;241m=\u001b[39m \u001b[38;5;241m2\u001b[39m\n",
      "\u001b[1;31mTypeError\u001b[0m: 'tuple' object does not support item assignment"
     ]
    }
   ],
   "source": [
    "tuple[0] = 2"
   ]
  },
  {
   "cell_type": "code",
   "execution_count": 36,
   "id": "0c8e4909-405c-44a1-b014-af4958b486f3",
   "metadata": {},
   "outputs": [],
   "source": [
    "#set --> different elements unordered"
   ]
  },
  {
   "cell_type": "code",
   "execution_count": 37,
   "id": "35777931-5023-44a4-aa87-9f1ddf1136d3",
   "metadata": {},
   "outputs": [],
   "source": [
    "set = {'stuff',1,3,54,69}"
   ]
  },
  {
   "cell_type": "code",
   "execution_count": 38,
   "id": "284697e9-82da-4a15-8ad4-4577c66abaf5",
   "metadata": {},
   "outputs": [],
   "source": [
    "set.add('more stuff')"
   ]
  },
  {
   "cell_type": "code",
   "execution_count": 39,
   "id": "d38379e8-bdd6-4ea8-a86d-e2c9fb47c786",
   "metadata": {},
   "outputs": [
    {
     "data": {
      "text/plain": [
       "{1, 3, 54, 69, 'more stuff', 'stuff'}"
      ]
     },
     "execution_count": 39,
     "metadata": {},
     "output_type": "execute_result"
    }
   ],
   "source": [
    "set\n"
   ]
  },
  {
   "cell_type": "code",
   "execution_count": 40,
   "id": "d9732f36-5d9a-4b5d-8768-8a917e9a97c8",
   "metadata": {},
   "outputs": [],
   "source": [
    "set.remove('stuff')"
   ]
  },
  {
   "cell_type": "code",
   "execution_count": 41,
   "id": "d3e428de-e434-4b95-a1a3-2eae2effb541",
   "metadata": {},
   "outputs": [
    {
     "data": {
      "text/plain": [
       "{1, 3, 54, 69, 'more stuff'}"
      ]
     },
     "execution_count": 41,
     "metadata": {},
     "output_type": "execute_result"
    }
   ],
   "source": [
    "set"
   ]
  },
  {
   "cell_type": "code",
   "execution_count": 43,
   "id": "8451774a-b39e-41ab-ad47-e3285618e54b",
   "metadata": {},
   "outputs": [],
   "source": [
    "from array import array   #stores homogenous data"
   ]
  },
  {
   "cell_type": "code",
   "execution_count": 44,
   "id": "d46022f3-fec6-428e-b8f0-990bde4d6d84",
   "metadata": {},
   "outputs": [
    {
     "data": {
      "text/plain": [
       "array('i', [1, 2, 3, 4])"
      ]
     },
     "execution_count": 44,
     "metadata": {},
     "output_type": "execute_result"
    }
   ],
   "source": [
    "array('i',[1,2,3,4])"
   ]
  },
  {
   "cell_type": "code",
   "execution_count": null,
   "id": "1dd6958d-3b0a-489d-9e22-03c274940dc7",
   "metadata": {},
   "outputs": [],
   "source": []
  }
 ],
 "metadata": {
  "kernelspec": {
   "display_name": "Python 3 (ipykernel)",
   "language": "python",
   "name": "python3"
  },
  "language_info": {
   "codemirror_mode": {
    "name": "ipython",
    "version": 3
   },
   "file_extension": ".py",
   "mimetype": "text/x-python",
   "name": "python",
   "nbconvert_exporter": "python",
   "pygments_lexer": "ipython3",
   "version": "3.12.4"
  }
 },
 "nbformat": 4,
 "nbformat_minor": 5
}
