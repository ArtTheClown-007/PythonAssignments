{
 "cells": [
  {
   "cell_type": "code",
   "execution_count": null,
   "id": "d206a524-6d9b-44f5-a40f-2d71c7a3d485",
   "metadata": {},
   "outputs": [],
   "source": [
    "# Data Structure:  way of organising anf storing data so that it can be acceses and manipulated"
   ]
  },
  {
   "cell_type": "code",
   "execution_count": 1,
   "id": "3a08e8d7-c723-4a72-93ed-9366d91f7680",
   "metadata": {},
   "outputs": [],
   "source": [
    "# data structures: string, list, set, tuples, dictionary, array"
   ]
  },
  {
   "cell_type": "code",
   "execution_count": 10,
   "id": "1beb7be6-cdb3-4748-b41e-56bf4ae4e29b",
   "metadata": {},
   "outputs": [],
   "source": [
    "num = [1,2,3,4,5]\n",
    "Big_list = [1,3,5,'bull','tomato']\n",
    "#list"
   ]
  },
  {
   "cell_type": "code",
   "execution_count": 11,
   "id": "617fee11-3396-4a29-8ac3-90fca428711e",
   "metadata": {},
   "outputs": [
    {
     "data": {
      "text/plain": [
       "list"
      ]
     },
     "execution_count": 11,
     "metadata": {},
     "output_type": "execute_result"
    }
   ],
   "source": [
    "type(num)\n"
   ]
  },
  {
   "cell_type": "code",
   "execution_count": 12,
   "id": "138b6915-8710-4f99-8e74-c2ed84a40766",
   "metadata": {},
   "outputs": [
    {
     "data": {
      "text/plain": [
       "1"
      ]
     },
     "execution_count": 12,
     "metadata": {},
     "output_type": "execute_result"
    }
   ],
   "source": [
    "num[0]"
   ]
  },
  {
   "cell_type": "code",
   "execution_count": 13,
   "id": "d6c8f048-3e93-461d-95c3-fbf0b8d20c1e",
   "metadata": {},
   "outputs": [
    {
     "data": {
      "text/plain": [
       "4"
      ]
     },
     "execution_count": 13,
     "metadata": {},
     "output_type": "execute_result"
    }
   ],
   "source": [
    "num[3]"
   ]
  },
  {
   "cell_type": "code",
   "execution_count": 14,
   "id": "7cd18dfc-1dc3-4fbc-a9ed-301370b642a2",
   "metadata": {},
   "outputs": [],
   "source": [
    "fruits = [ 'banana','apple' , 'guava'] \n",
    "#append() append object at the end.."
   ]
  },
  {
   "cell_type": "code",
   "execution_count": 15,
   "id": "819a0391-8f5e-4bba-94f6-3f74d35e6c9e",
   "metadata": {},
   "outputs": [
    {
     "data": {
      "text/plain": [
       "['banana', 'apple', 'guava', 'orange']"
      ]
     },
     "execution_count": 15,
     "metadata": {},
     "output_type": "execute_result"
    }
   ],
   "source": [
    "fruits.append('orange')\n",
    "fruits"
   ]
  },
  {
   "cell_type": "code",
   "execution_count": 16,
   "id": "5949e3a1-0252-4f90-b6f7-9b49d839ed4d",
   "metadata": {},
   "outputs": [
    {
     "data": {
      "text/plain": [
       "['apple', 'guava', 'orange']"
      ]
     },
     "execution_count": 16,
     "metadata": {},
     "output_type": "execute_result"
    }
   ],
   "source": [
    "fruits.remove('banana')\n",
    "fruits"
   ]
  },
  {
   "cell_type": "code",
   "execution_count": 17,
   "id": "43020f09-7568-436d-96c0-024d0512b42e",
   "metadata": {},
   "outputs": [],
   "source": [
    "Nested_list = [ [1,3,5] , ['a','b'] , [2,4,6] ]"
   ]
  },
  {
   "cell_type": "code",
   "execution_count": 18,
   "id": "c752eb70-517b-463e-a3f2-9bcba9638420",
   "metadata": {},
   "outputs": [
    {
     "data": {
      "text/plain": [
       "list"
      ]
     },
     "execution_count": 18,
     "metadata": {},
     "output_type": "execute_result"
    }
   ],
   "source": [
    "type(Nested_list)"
   ]
  },
  {
   "cell_type": "code",
   "execution_count": 20,
   "id": "3eebb2ea-896e-480a-93d3-cc42e719210b",
   "metadata": {},
   "outputs": [
    {
     "data": {
      "text/plain": [
       "3"
      ]
     },
     "execution_count": 20,
     "metadata": {},
     "output_type": "execute_result"
    }
   ],
   "source": [
    "Nested_list[0][1]\n"
   ]
  },
  {
   "cell_type": "code",
   "execution_count": 21,
   "id": "189a5e72-0579-4770-aaec-b657503710a8",
   "metadata": {},
   "outputs": [
    {
     "data": {
      "text/plain": [
       "'b'"
      ]
     },
     "execution_count": 21,
     "metadata": {},
     "output_type": "execute_result"
    }
   ],
   "source": [
    "Nested_list[1][1]"
   ]
  },
  {
   "cell_type": "code",
   "execution_count": null,
   "id": "34c86b8a-2814-4938-9876-5db77d131a30",
   "metadata": {},
   "outputs": [],
   "source": []
  }
 ],
 "metadata": {
  "kernelspec": {
   "display_name": "Python 3 (ipykernel)",
   "language": "python",
   "name": "python3"
  },
  "language_info": {
   "codemirror_mode": {
    "name": "ipython",
    "version": 3
   },
   "file_extension": ".py",
   "mimetype": "text/x-python",
   "name": "python",
   "nbconvert_exporter": "python",
   "pygments_lexer": "ipython3",
   "version": "3.12.4"
  }
 },
 "nbformat": 4,
 "nbformat_minor": 5
}
