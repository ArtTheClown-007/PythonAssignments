{
 "cells": [
  {
   "cell_type": "code",
   "execution_count": 17,
   "id": "2f421b7a-7a40-4fd0-8594-efd217d5a2d6",
   "metadata": {},
   "outputs": [],
   "source": [
    "data = \"\"\"What do you call a pony with a cough? A little horse.\n",
    "Why aren't koalas actual bears? They don't meet the koalafications.\n",
    "Why did the M&M go to school? Because he wanted to be a Smartie.\n",
    "Why do bees have sticky hair? Because they use honeycombs.\n",
    "What do you call a rooster staring at a piece of lettuce? A chicken sees a salad.\n",
    "Why couldn't the leopard play hide-and-seek? Because he was always spotted.\n",
    "What do you call a bear with no teeth? A gummy bear.\n",
    "Did you hear about the actor who fell through the floorboards? He was just going through a stage.\n",
    "How do you make a tissue dance? You put a little boogie in it.\n",
    "What do you call an apology written in dots and dashes? Re-Morse code.\n",
    "Why did the chicken cross the playground? To get to the other slide.\n",
    "Why did the teddy bear say no to dessert? Because she was stuffed.\n",
    "Why does Humpty Dumpty love autumn? Because Humpty Dumpty had a great fall.\n",
    "What did one traffic light say to the other? \"Stop looking at me, I'm changing.\"\n",
    "What do you call bears with no ears? B.\n",
    "Why do ducks have feathers on their tails? To cover their butt quacks.\n",
    "How do you count cows? With a cowculator.\n",
    "How do billboards talk? Sign language.\n",
    "What type of sandals do frogs wear? Open-toad.\n",
    "What's a snake's favorite subject in school? Hiss-tory.\n",
    "What's a foot long and slippery? A slipper.\n",
    "How did the baby tell his mom he had a wet diaper? He sent her a pee-mail.\n",
    "What goes up and down but doesn’t move? A staircase.\n",
    "Why are snails slow? Because they’re carrying a house on their back.\n",
    "What is sticky and brown? A stick.\n",
    "What is fast, loud and crunchy? A rocket chip.\n",
    "Where does Batman go to the bathroom? The batroom.\n",
    "How do poets say hello? \"Hey, haven’t we metaphor?\"\n",
    "Did you hear about the two people who stole a calendar? They each got six months.\n",
    "What did the pirate say when he turned 80? \"Aye matey.\"\n",
    "How do you keep a bagel from getting away? Put lox on it.\n",
    "What did the left eye say to the right eye? \"Between us, something smells.\"\n",
    "Why won't peanut butter tell you a secret? He's afraid you'll spread it.\n",
    "How do you throw a space party? You planet.\n",
    "Why did the math textbook visit the guidance counselor? It needed help figuring out its problems.\n",
    "Why did the gym close down? It just didn't work out.\n",
    "Why do birds fly south in the winter? It's faster than walking.\"\"\""
   ]
  },
  {
   "cell_type": "code",
   "execution_count": 20,
   "id": "95d4eb6a-9c4c-41ff-8490-f8bc9cfa1555",
   "metadata": {},
   "outputs": [
    {
     "name": "stdout",
     "output_type": "stream",
     "text": [
      "['What do you call a pony with a cough? A little horse.\\nWhy aren\\'t koalas actual bears? They don\\'t meet the koalafications.\\nWhy did the M&M go to school? Because he wanted to be a Smartie.\\nWhy do bees have sticky hair? Because they use honeycombs.\\nWhat do you call a rooster staring at a piece of lettuce? A chicken sees a salad.\\nWhy couldn\\'t the leopard play hide-and-seek? Because he was always spotted.\\nWhat do you call a bear with no teeth? A gummy bear.\\nDid you hear about the actor who fell through the floorboards? He was just going through a stage.\\nHow do you make a tissue dance? You put a little boogie in it.\\nWhat do you call an apology written in dots and dashes? Re-Morse code.\\nWhy did the chicken cross the playground? To get to the other slide.\\nWhy did the teddy bear say no to dessert? Because she was stuffed.\\nWhy does Humpty Dumpty love autumn? Because Humpty Dumpty had a great fall.\\nWhat did one traffic light say to the other? \"Stop looking at me', ' I\\'m changing.\"\\nWhat do you call bears with no ears? B.\\nWhy do ducks have feathers on their tails? To cover their butt quacks.\\nHow do you count cows? With a cowculator.\\nHow do billboards talk? Sign language.\\nWhat type of sandals do frogs wear? Open-toad.\\nWhat\\'s a snake\\'s favorite subject in school? Hiss-tory.\\nWhat\\'s a foot long and slippery? A slipper.\\nHow did the baby tell his mom he had a wet diaper? He sent her a pee-mail.\\nWhat goes up and down but doesn’t move? A staircase.\\nWhy are snails slow? Because they’re carrying a house on their back.\\nWhat is sticky and brown? A stick.\\nWhat is fast', ' loud and crunchy? A rocket chip.\\nWhere does Batman go to the bathroom? The batroom.\\nHow do poets say hello? \"Hey', ' haven’t we metaphor?\"\\nDid you hear about the two people who stole a calendar? They each got six months.\\nWhat did the pirate say when he turned 80? \"Aye matey.\"\\nHow do you keep a bagel from getting away? Put lox on it.\\nWhat did the left eye say to the right eye? \"Between us', ' something smells.\"\\nWhy won\\'t peanut butter tell you a secret? He\\'s afraid you\\'ll spread it.\\nHow do you throw a space party? You planet.\\nWhy did the math textbook visit the guidance counselor? It needed help figuring out its problems.\\nWhy did the gym close down? It just didn\\'t work out.\\nWhy do birds fly south in the winter? It\\'s faster than walking.']\n"
     ]
    }
   ],
   "source": [
    "print(data.split(\",\"))"
   ]
  },
  {
   "cell_type": "code",
   "execution_count": 21,
   "id": "015b4818-9b23-48bf-b8f6-461ff101b12c",
   "metadata": {},
   "outputs": [
    {
     "data": {
      "text/plain": [
       "'What do you call a pony with a cough? A little horse.\\nWhy aren\"t koalas actual bears? They don\"t meet the koalafications.\\nWhy did the M&M go to school? Because he wanted to be a Smartie.\\nWhy do bees have sticky hair? Because they use honeycombs.\\nWhat do you call a rooster staring at a piece of lettuce? A chicken sees a salad.\\nWhy couldn\"t the leopard play hide-and-seek? Because he was always spotted.\\nWhat do you call a bear with no teeth? A gummy bear.\\nDid you hear about the actor who fell through the floorboards? He was just going through a stage.\\nHow do you make a tissue dance? You put a little boogie in it.\\nWhat do you call an apology written in dots and dashes? Re-Morse code.\\nWhy did the chicken cross the playground? To get to the other slide.\\nWhy did the teddy bear say no to dessert? Because she was stuffed.\\nWhy does Humpty Dumpty love autumn? Because Humpty Dumpty had a great fall.\\nWhat did one traffic light say to the other? \"Stop looking at me, I\"m changing.\"\\nWhat do you call bears with no ears? B.\\nWhy do ducks have feathers on their tails? To cover their butt quacks.\\nHow do you count cows? With a cowculator.\\nHow do billboards talk? Sign language.\\nWhat type of sandals do frogs wear? Open-toad.\\nWhat\"s a snake\"s favorite subject in school? Hiss-tory.\\nWhat\"s a foot long and slippery? A slipper.\\nHow did the baby tell his mom he had a wet diaper? He sent her a pee-mail.\\nWhat goes up and down but doesn’t move? A staircase.\\nWhy are snails slow? Because they’re carrying a house on their back.\\nWhat is sticky and brown? A stick.\\nWhat is fast, loud and crunchy? A rocket chip.\\nWhere does Batman go to the bathroom? The batroom.\\nHow do poets say hello? \"Hey, haven’t we metaphor?\"\\nDid you hear about the two people who stole a calendar? They each got six months.\\nWhat did the pirate say when he turned 80? \"Aye matey.\"\\nHow do you keep a bagel from getting away? Put lox on it.\\nWhat did the left eye say to the right eye? \"Between us, something smells.\"\\nWhy won\"t peanut butter tell you a secret? He\"s afraid you\"ll spread it.\\nHow do you throw a space party? You planet.\\nWhy did the math textbook visit the guidance counselor? It needed help figuring out its problems.\\nWhy did the gym close down? It just didn\"t work out.\\nWhy do birds fly south in the winter? It\"s faster than walking.'"
      ]
     },
     "execution_count": 21,
     "metadata": {},
     "output_type": "execute_result"
    }
   ],
   "source": [
    "data.replace(\"'\",'\"')"
   ]
  },
  {
   "cell_type": "code",
   "execution_count": 23,
   "id": "8b14e419-864b-49f4-9883-bafe71048527",
   "metadata": {},
   "outputs": [],
   "source": [
    "import numpy as np"
   ]
  },
  {
   "cell_type": "code",
   "execution_count": 24,
   "id": "dc655350-7379-45f0-83f0-6a5e341b38f5",
   "metadata": {},
   "outputs": [
    {
     "data": {
      "text/plain": [
       "['What do you call a pony with a cough? A little horse.\\nWhy aren\\'t koalas actual bears? They don\\'t meet the koalafications.\\nWhy did the M&M go to school? Because he wanted to be a Smartie.\\nWhy do bees have sticky hair? Because they use honeycombs.\\nWhat do you call a rooster staring at a piece of lettuce? A chicken sees a salad.\\nWhy couldn\\'t the leopard play hide-and-seek? Because he was always spotted.\\nWhat do you call a bear with no teeth? A gummy bear.\\nDid you hear about the actor who fell through the floorboards? He was just going through a stage.\\nHow do you make a tissue dance? You put a little boogie in it.\\nWhat do you call an apology written in dots and dashes? Re-Morse code.\\nWhy did the chicken cross the playground? To get to the other slide.\\nWhy did the teddy bear say no to dessert? Because she was stuffed.\\nWhy does Humpty Dumpty love autumn? Because Humpty Dumpty had a great fall.\\nWhat did one traffic light say to the other? \"Stop looking at me',\n",
       " ' I\\'m changing.\"\\nWhat do you call bears with no ears? B.\\nWhy do ducks have feathers on their tails? To cover their butt quacks.\\nHow do you count cows? With a cowculator.\\nHow do billboards talk? Sign language.\\nWhat type of sandals do frogs wear? Open-toad.\\nWhat\\'s a snake\\'s favorite subject in school? Hiss-tory.\\nWhat\\'s a foot long and slippery? A slipper.\\nHow did the baby tell his mom he had a wet diaper? He sent her a pee-mail.\\nWhat goes up and down but doesn’t move? A staircase.\\nWhy are snails slow? Because they’re carrying a house on their back.\\nWhat is sticky and brown? A stick.\\nWhat is fast',\n",
       " ' loud and crunchy? A rocket chip.\\nWhere does Batman go to the bathroom? The batroom.\\nHow do poets say hello? \"Hey',\n",
       " ' haven’t we metaphor?\"\\nDid you hear about the two people who stole a calendar? They each got six months.\\nWhat did the pirate say when he turned 80? \"Aye matey.\"\\nHow do you keep a bagel from getting away? Put lox on it.\\nWhat did the left eye say to the right eye? \"Between us',\n",
       " ' something smells.\"\\nWhy won\\'t peanut butter tell you a secret? He\\'s afraid you\\'ll spread it.\\nHow do you throw a space party? You planet.\\nWhy did the math textbook visit the guidance counselor? It needed help figuring out its problems.\\nWhy did the gym close down? It just didn\\'t work out.\\nWhy do birds fly south in the winter? It\\'s faster than walking.']"
      ]
     },
     "execution_count": 24,
     "metadata": {},
     "output_type": "execute_result"
    }
   ],
   "source": [
    "data.split(',')"
   ]
  },
  {
   "cell_type": "code",
   "execution_count": 32,
   "id": "5aa50821-111f-4ed7-9816-e9464f9554a8",
   "metadata": {},
   "outputs": [
    {
     "data": {
      "text/plain": [
       "'What do you call a pony with a cough? A little horse.\"Why aren\\'t koalas actual bears? They don\\'t meet the koalafications.\"Why did the M&M go to school? Because he wanted to be a Smartie.\"Why do bees have sticky hair? Because they use honeycombs.\"What do you call a rooster staring at a piece of lettuce? A chicken sees a salad.\"Why couldn\\'t the leopard play hide-and-seek? Because he was always spotted.\"What do you call a bear with no teeth? A gummy bear.\"Did you hear about the actor who fell through the floorboards? He was just going through a stage.\"How do you make a tissue dance? You put a little boogie in it.\"What do you call an apology written in dots and dashes? Re-Morse code.\"Why did the chicken cross the playground? To get to the other slide.\"Why did the teddy bear say no to dessert? Because she was stuffed.\"Why does Humpty Dumpty love autumn? Because Humpty Dumpty had a great fall.\"What did one traffic light say to the other? \"Stop looking at me, I\\'m changing.\"\"What do you call bears with no ears? B.\"Why do ducks have feathers on their tails? To cover their butt quacks.\"How do you count cows? With a cowculator.\"How do billboards talk? Sign language.\"What type of sandals do frogs wear? Open-toad.\"What\\'s a snake\\'s favorite subject in school? Hiss-tory.\"What\\'s a foot long and slippery? A slipper.\"How did the baby tell his mom he had a wet diaper? He sent her a pee-mail.\"What goes up and down but doesn’t move? A staircase.\"Why are snails slow? Because they’re carrying a house on their back.\"What is sticky and brown? A stick.\"What is fast, loud and crunchy? A rocket chip.\"Where does Batman go to the bathroom? The batroom.\"How do poets say hello? \"Hey, haven’t we metaphor?\"\"Did you hear about the two people who stole a calendar? They each got six months.\"What did the pirate say when he turned 80? \"Aye matey.\"\"How do you keep a bagel from getting away? Put lox on it.\"What did the left eye say to the right eye? \"Between us, something smells.\"\"Why won\\'t peanut butter tell you a secret? He\\'s afraid you\\'ll spread it.\"How do you throw a space party? You planet.\"Why did the math textbook visit the guidance counselor? It needed help figuring out its problems.\"Why did the gym close down? It just didn\\'t work out.\"Why do birds fly south in the winter? It\\'s faster than walking.'"
      ]
     },
     "execution_count": 32,
     "metadata": {},
     "output_type": "execute_result"
    }
   ],
   "source": [
    "data.replace('\\n','\"')"
   ]
  },
  {
   "cell_type": "code",
   "execution_count": 31,
   "id": "5b62557a-1680-46e2-8ab6-6a60be437a83",
   "metadata": {},
   "outputs": [
    {
     "data": {
      "text/plain": [
       "'What do you call a pony with a cough? A little horse.\\nWhy aren\\'t koalas actual bears? They don\\'t meet the koalafications.\\nWhy did the M&M go to school? Because he wanted to be a Smartie.\\nWhy do bees have sticky hair? Because they use honeycombs.\\nWhat do you call a rooster staring at a piece of lettuce? A chicken sees a salad.\\nWhy couldn\\'t the leopard play hide-and-seek? Because he was always spotted.\\nWhat do you call a bear with no teeth? A gummy bear.\\nDid you hear about the actor who fell through the floorboards? He was just going through a stage.\\nHow do you make a tissue dance? You put a little boogie in it.\\nWhat do you call an apology written in dots and dashes? Re-Morse code.\\nWhy did the chicken cross the playground? To get to the other slide.\\nWhy did the teddy bear say no to dessert? Because she was stuffed.\\nWhy does Humpty Dumpty love autumn? Because Humpty Dumpty had a great fall.\\nWhat did one traffic light say to the other? \"Stop looking at me, I\\'m changing.\"\\nWhat do you call bears with no ears? B.\\nWhy do ducks have feathers on their tails? To cover their butt quacks.\\nHow do you count cows? With a cowculator.\\nHow do billboards talk? Sign language.\\nWhat type of sandals do frogs wear? Open-toad.\\nWhat\\'s a snake\\'s favorite subject in school? Hiss-tory.\\nWhat\\'s a foot long and slippery? A slipper.\\nHow did the baby tell his mom he had a wet diaper? He sent her a pee-mail.\\nWhat goes up and down but doesn’t move? A staircase.\\nWhy are snails slow? Because they’re carrying a house on their back.\\nWhat is sticky and brown? A stick.\\nWhat is fast, loud and crunchy? A rocket chip.\\nWhere does Batman go to the bathroom? The batroom.\\nHow do poets say hello? \"Hey, haven’t we metaphor?\"\\nDid you hear about the two people who stole a calendar? They each got six months.\\nWhat did the pirate say when he turned 80? \"Aye matey.\"\\nHow do you keep a bagel from getting away? Put lox on it.\\nWhat did the left eye say to the right eye? \"Between us, something smells.\"\\nWhy won\\'t peanut butter tell you a secret? He\\'s afraid you\\'ll spread it.\\nHow do you throw a space party? You planet.\\nWhy did the math textbook visit the guidance counselor? It needed help figuring out its problems.\\nWhy did the gym close down? It just didn\\'t work out.\\nWhy do birds fly south in the winter? It\\'s faster than walking.'"
      ]
     },
     "execution_count": 31,
     "metadata": {},
     "output_type": "execute_result"
    }
   ],
   "source": [
    "data.split("
   ]
  },
  {
   "cell_type": "code",
   "execution_count": null,
   "id": "f7050bb9-ce6b-4ebb-86fc-23ee25a005f6",
   "metadata": {},
   "outputs": [],
   "source": []
  }
 ],
 "metadata": {
  "kernelspec": {
   "display_name": "Python 3 (ipykernel)",
   "language": "python",
   "name": "python3"
  },
  "language_info": {
   "codemirror_mode": {
    "name": "ipython",
    "version": 3
   },
   "file_extension": ".py",
   "mimetype": "text/x-python",
   "name": "python",
   "nbconvert_exporter": "python",
   "pygments_lexer": "ipython3",
   "version": "3.12.4"
  }
 },
 "nbformat": 4,
 "nbformat_minor": 5
}
