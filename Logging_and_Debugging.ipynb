{
 "cells": [
  {
   "cell_type": "code",
   "execution_count": 11,
   "id": "abfc85c6-55dc-4e5c-97b9-a9746f0e56b3",
   "metadata": {},
   "outputs": [],
   "source": [
    "# debugging>> process of identifying and fixing bugs/issues \n",
    "# debugging involves breaking the code,\n",
    "# executing the code, \n",
    "# inspecting the variables using print statement"
   ]
  },
  {
   "cell_type": "code",
   "execution_count": 12,
   "id": "894111d1-73dd-471e-81b1-47f6f068ad46",
   "metadata": {},
   "outputs": [],
   "source": [
    "def divide(a,b):\n",
    "    print('s1')\n",
    "    print('s2')\n",
    "    print('s3')\n",
    "    return a/b"
   ]
  },
  {
   "cell_type": "code",
   "execution_count": 13,
   "id": "5237aeb0-ef25-4d7a-bb5d-ee0218d368fb",
   "metadata": {},
   "outputs": [
    {
     "name": "stdout",
     "output_type": "stream",
     "text": [
      "s1\n",
      "s2\n",
      "s3\n"
     ]
    },
    {
     "data": {
      "text/plain": [
       "5.0"
      ]
     },
     "execution_count": 13,
     "metadata": {},
     "output_type": "execute_result"
    }
   ],
   "source": [
    "divide(10,2)"
   ]
  },
  {
   "cell_type": "code",
   "execution_count": 14,
   "id": "83b0a3f0-2d51-4a82-a11e-b2de8b26a3b2",
   "metadata": {},
   "outputs": [
    {
     "ename": "ZeroDivisionError",
     "evalue": "division by zero",
     "output_type": "error",
     "traceback": [
      "\u001b[1;31m---------------------------------------------------------------------------\u001b[0m",
      "\u001b[1;31mZeroDivisionError\u001b[0m                         Traceback (most recent call last)",
      "Cell \u001b[1;32mIn[14], line 1\u001b[0m\n\u001b[1;32m----> 1\u001b[0m divide(\u001b[38;5;241;43m10\u001b[39;49m\u001b[38;5;241;43m/\u001b[39;49m\u001b[38;5;241;43m0\u001b[39;49m)\n",
      "\u001b[1;31mZeroDivisionError\u001b[0m: division by zero"
     ]
    }
   ],
   "source": [
    "divide(10/0)"
   ]
  },
  {
   "cell_type": "code",
   "execution_count": 15,
   "id": "e56f6984-59c3-4148-a44c-fccc4eb75659",
   "metadata": {},
   "outputs": [
    {
     "name": "stdout",
     "output_type": "stream",
     "text": [
      "s1\n",
      "s2\n",
      "s3\n",
      "s1\n",
      "s2\n",
      "s3\n",
      "s1\n",
      "s2\n",
      "s3\n",
      "s1\n",
      "s2\n",
      "s3\n",
      "s1\n",
      "s2\n",
      "s3\n",
      "s1\n",
      "s2\n",
      "s3\n",
      "s1\n",
      "s2\n",
      "s3\n",
      "s1\n",
      "s2\n",
      "s3\n",
      "s1\n",
      "s2\n",
      "s3\n",
      "s1\n",
      "s2\n",
      "s3\n"
     ]
    },
    {
     "ename": "ZeroDivisionError",
     "evalue": "division by zero",
     "output_type": "error",
     "traceback": [
      "\u001b[1;31m---------------------------------------------------------------------------\u001b[0m",
      "\u001b[1;31mZeroDivisionError\u001b[0m                         Traceback (most recent call last)",
      "Cell \u001b[1;32mIn[15], line 2\u001b[0m\n\u001b[0;32m      1\u001b[0m \u001b[38;5;28;01mfor\u001b[39;00m i \u001b[38;5;129;01min\u001b[39;00m \u001b[38;5;28mrange\u001b[39m(\u001b[38;5;241m-\u001b[39m\u001b[38;5;241m10\u001b[39m,\u001b[38;5;241m10\u001b[39m):\n\u001b[1;32m----> 2\u001b[0m     \u001b[43mdivide\u001b[49m\u001b[43m(\u001b[49m\u001b[43mi\u001b[49m\u001b[43m,\u001b[49m\u001b[43mi\u001b[49m\u001b[38;5;241;43m+\u001b[39;49m\u001b[38;5;241;43m1\u001b[39;49m\u001b[43m)\u001b[49m\n\u001b[0;32m      3\u001b[0m \u001b[38;5;66;03m# Here divide function hass been called many times hence we can't know which\u001b[39;00m\n\u001b[0;32m      4\u001b[0m \u001b[38;5;66;03m# specific iteration caused the error\u001b[39;00m\n\u001b[0;32m      5\u001b[0m \u001b[38;5;66;03m# we have to debug the code\u001b[39;00m\n",
      "Cell \u001b[1;32mIn[12], line 5\u001b[0m, in \u001b[0;36mdivide\u001b[1;34m(a, b)\u001b[0m\n\u001b[0;32m      3\u001b[0m \u001b[38;5;28mprint\u001b[39m(\u001b[38;5;124m'\u001b[39m\u001b[38;5;124ms2\u001b[39m\u001b[38;5;124m'\u001b[39m)\n\u001b[0;32m      4\u001b[0m \u001b[38;5;28mprint\u001b[39m(\u001b[38;5;124m'\u001b[39m\u001b[38;5;124ms3\u001b[39m\u001b[38;5;124m'\u001b[39m)\n\u001b[1;32m----> 5\u001b[0m \u001b[38;5;28;01mreturn\u001b[39;00m \u001b[43ma\u001b[49m\u001b[38;5;241;43m/\u001b[39;49m\u001b[43mb\u001b[49m\n",
      "\u001b[1;31mZeroDivisionError\u001b[0m: division by zero"
     ]
    }
   ],
   "source": [
    "for i in range(-10,10):\n",
    "    divide(i,i+1)\n",
    "# Here divide function hass been called many times hence we can't know which\n",
    "# specific iteration caused the error\n",
    "# we have to debug the code"
   ]
  },
  {
   "cell_type": "code",
   "execution_count": 19,
   "id": "822a9df0-e28f-43e7-bf07-ce9c87a199a8",
   "metadata": {},
   "outputs": [
    {
     "name": "stdout",
     "output_type": "stream",
     "text": [
      "-10 -9\n",
      "-9 -8\n",
      "-8 -7\n",
      "-7 -6\n",
      "-6 -5\n",
      "-5 -4\n",
      "-4 -3\n",
      "-3 -2\n",
      "-2 -1\n",
      "-1 0\n"
     ]
    },
    {
     "ename": "ZeroDivisionError",
     "evalue": "division by zero",
     "output_type": "error",
     "traceback": [
      "\u001b[1;31m---------------------------------------------------------------------------\u001b[0m",
      "\u001b[1;31mZeroDivisionError\u001b[0m                         Traceback (most recent call last)",
      "Cell \u001b[1;32mIn[19], line 7\u001b[0m\n\u001b[0;32m      5\u001b[0m \u001b[38;5;28;01mfor\u001b[39;00m i \u001b[38;5;129;01min\u001b[39;00m \u001b[38;5;28mrange\u001b[39m(\u001b[38;5;241m-\u001b[39m\u001b[38;5;241m10\u001b[39m,\u001b[38;5;241m10\u001b[39m):\n\u001b[0;32m      6\u001b[0m     \u001b[38;5;28mprint\u001b[39m(i,i\u001b[38;5;241m+\u001b[39m\u001b[38;5;241m1\u001b[39m) \u001b[38;5;66;03m# We understand that the -1/0 causes the ZeroDivisionError\u001b[39;00m\n\u001b[1;32m----> 7\u001b[0m     \u001b[43mdivide\u001b[49m\u001b[43m(\u001b[49m\u001b[43mi\u001b[49m\u001b[43m,\u001b[49m\u001b[43mi\u001b[49m\u001b[38;5;241;43m+\u001b[39;49m\u001b[38;5;241;43m1\u001b[39;49m\u001b[43m)\u001b[49m\n",
      "Cell \u001b[1;32mIn[19], line 2\u001b[0m, in \u001b[0;36mdivide\u001b[1;34m(a, b)\u001b[0m\n\u001b[0;32m      1\u001b[0m \u001b[38;5;28;01mdef\u001b[39;00m \u001b[38;5;21mdivide\u001b[39m(a,b):\n\u001b[1;32m----> 2\u001b[0m     \u001b[38;5;28;01mreturn\u001b[39;00m \u001b[43ma\u001b[49m\u001b[38;5;241;43m/\u001b[39;49m\u001b[43mb\u001b[49m\n",
      "\u001b[1;31mZeroDivisionError\u001b[0m: division by zero"
     ]
    }
   ],
   "source": [
    "\n",
    "def divide(a,b):\n",
    "    return a/b\n",
    "\n",
    "\n",
    "for i in range(-10,10):\n",
    "    print(i,i+1) # We understand that the -1/0 causes the ZeroDivisionError\n",
    "    divide(i,i+1)"
   ]
  },
  {
   "cell_type": "code",
   "execution_count": 20,
   "id": "74d7c89c-f67b-47db-98a0-a21826bc0a24",
   "metadata": {},
   "outputs": [],
   "source": [
    "# From print statement you understand that when b is 0, it throws an error"
   ]
  },
  {
   "cell_type": "code",
   "execution_count": 24,
   "id": "94e84e85-e669-4bff-82ad-0021dffb0b8d",
   "metadata": {},
   "outputs": [
    {
     "name": "stdout",
     "output_type": "stream",
     "text": [
      "-10 -9\n",
      "-9 -8\n",
      "-8 -7\n",
      "-7 -6\n",
      "-6 -5\n",
      "-5 -4\n",
      "-4 -3\n",
      "-3 -2\n",
      "-2 -1\n",
      "-1 0\n",
      "ZeroDivisionError\n",
      "0 1\n",
      "1 2\n",
      "2 3\n",
      "3 4\n",
      "4 5\n",
      "5 6\n",
      "6 7\n",
      "7 8\n",
      "8 9\n",
      "9 10\n"
     ]
    }
   ],
   "source": [
    "\n",
    "def divide(a,b):\n",
    "    print(a,b)\n",
    "    # breaking the code in terms of execution\n",
    "    if b==0:\n",
    "        print('ZeroDivisionError')\n",
    "        return 'ZeroDivisionError' # return statement exits that iteration\n",
    "    return a/b\n",
    "\n",
    "\n",
    "for i in range(-10,10):\n",
    "    # print(i,i+1) # We understand that the -1/0 causes the ZeroDivisionError\n",
    "    divide(i,i+1)"
   ]
  },
  {
   "cell_type": "code",
   "execution_count": 28,
   "id": "e98ba801-69e2-4669-b155-ce44e8bffa36",
   "metadata": {},
   "outputs": [],
   "source": [
    "# print statement is not a pythonic way of debugging\n",
    "# print statement is good for simple scripts but not for not complex\n",
    "# in console/terminal all the print statements would be lost\n",
    "# We use logging instead of print statement"
   ]
  },
  {
   "cell_type": "code",
   "execution_count": 33,
   "id": "af134345-c6f9-4060-a46d-d6076fdee639",
   "metadata": {},
   "outputs": [],
   "source": [
    "# Logging>> it records the state and flow of your program/code/software\n",
    "# useful for understanding , monitoring, an debugging of your code\n",
    "# shows how program behaves over time\n",
    "\n",
    "\n",
    "\n",
    "# Analogy >> diary entry since childhood to now >> you will understand how you evolved\n",
    "# Similarly you'll learn how your code is changing over time"
   ]
  },
  {
   "cell_type": "code",
   "execution_count": 34,
   "id": "1c47f1ff-7112-4181-bfa3-7c6805decec5",
   "metadata": {},
   "outputs": [],
   "source": [
    "# Theoretical use case explanation\n",
    "# see the different steps of coding below\n",
    "# step1>> remove some element of list\n",
    "# step2>> capitalize >> upper case\n",
    "# step3 >> remove metropolitan city\n",
    "# step 4 >> lower case\n",
    "# if after step 3 the list becomes empty , step 4 can throw error, so you can log the\n",
    "# result of step 3 to debug"
   ]
  },
  {
   "cell_type": "code",
   "execution_count": 36,
   "id": "7f937931-a179-4753-96c3-c707766bceb4",
   "metadata": {},
   "outputs": [],
   "source": [
    "# loggign supports different levels of logging which helps to categorize messages based on their\n",
    "# severity\n",
    "\n",
    "# ANALOGY >> different levels of severity of terror attack "
   ]
  },
  {
   "cell_type": "code",
   "execution_count": 40,
   "id": "93590788-a42c-4ac5-923f-4a8cca9cb8bf",
   "metadata": {},
   "outputs": [],
   "source": [
    "import logging"
   ]
  },
  {
   "cell_type": "code",
   "execution_count": 41,
   "id": "1cd7e266-affb-41c0-baf1-6bab0dd01c23",
   "metadata": {},
   "outputs": [],
   "source": [
    "logging.basicConfig(filename = 'TEST.log',level = logging.INFO)"
   ]
  },
  {
   "cell_type": "code",
   "execution_count": 42,
   "id": "c2b1ff99-70cb-4a68-afe6-7e3f3060c574",
   "metadata": {},
   "outputs": [],
   "source": [
    "logging.info('Normal info about the software')"
   ]
  },
  {
   "cell_type": "code",
   "execution_count": 43,
   "id": "6aa9065c-2d6f-4e28-8475-4d0776400dd0",
   "metadata": {},
   "outputs": [],
   "source": [
    "logging.warning('There can be an empty list here')"
   ]
  },
  {
   "cell_type": "code",
   "execution_count": 44,
   "id": "10a5431f-189d-4570-b1af-07bb476e4be7",
   "metadata": {},
   "outputs": [],
   "source": [
    "logging.debug('The length of list is')"
   ]
  },
  {
   "cell_type": "code",
   "execution_count": 46,
   "id": "380cfa81-b910-46b1-8972-cb30679d4aa6",
   "metadata": {},
   "outputs": [],
   "source": [
    "logging.error('Some error has occured')"
   ]
  },
  {
   "cell_type": "code",
   "execution_count": 47,
   "id": "be4abd46-a3e5-4e1e-82e2-d35e7fa02169",
   "metadata": {},
   "outputs": [],
   "source": [
    "logging.critical('The sofware has stopped running')"
   ]
  },
  {
   "cell_type": "code",
   "execution_count": 48,
   "id": "39b2d9e7-0b52-4d1f-a28f-ed57794a3dee",
   "metadata": {},
   "outputs": [],
   "source": [
    "logging.shutdown()"
   ]
  },
  {
   "cell_type": "raw",
   "id": "b615a07a-297c-48e2-a470-81b1617f2b64",
   "metadata": {},
   "source": [
    "1. DEBUG >> Lowest level of logging. To give detailed information of any variable, msg\n",
    "while doing debugging\n",
    "2. INFO >> This is used to convey that the code is running as expected.\n",
    "example: 'Data Analysis is completed'\n",
    "3. WARNING >> Used to indicate that something unexpected happened or potential issue\n",
    "in this code\n",
    "4. ERROR >> Serious problem with some function\n",
    "5. CRITICAL >> termina+tion of program/code/software"
   ]
  },
  {
   "cell_type": "code",
   "execution_count": 51,
   "id": "430bdb30-e0e5-4551-b476-5d4af4420f9c",
   "metadata": {},
   "outputs": [],
   "source": [
    "# The above level of logging is executed in the sam eorder >> debug being lowest priority \n",
    "# and critcal BEING huighest priority \n",
    "# while defining level in logging.basicConfig, from that level the logs will be logged\n",
    "# or in other words the log level priority will start from the level whihch is used to initialise the \n",
    "# logging \n",
    "# example>> if you initialise with warning , error, critical msgs will be logged, while \n",
    "# info will not be logged."
   ]
  },
  {
   "cell_type": "code",
   "execution_count": 52,
   "id": "68138373-c765-457f-81e3-a02181794f8e",
   "metadata": {},
   "outputs": [],
   "source": [
    "logging.basicConfig(filename = 'test_new.log',level = logging.DEBUG)"
   ]
  },
  {
   "cell_type": "code",
   "execution_count": null,
   "id": "a0f79b6f-a251-4c4b-aa8c-9a5796268e3a",
   "metadata": {},
   "outputs": [],
   "source": []
  }
 ],
 "metadata": {
  "kernelspec": {
   "display_name": "Python 3 (ipykernel)",
   "language": "python",
   "name": "python3"
  },
  "language_info": {
   "codemirror_mode": {
    "name": "ipython",
    "version": 3
   },
   "file_extension": ".py",
   "mimetype": "text/x-python",
   "name": "python",
   "nbconvert_exporter": "python",
   "pygments_lexer": "ipython3",
   "version": "3.12.4"
  }
 },
 "nbformat": 4,
 "nbformat_minor": 5
}
