{
 "cells": [
  {
   "cell_type": "code",
   "execution_count": 1,
   "id": "8e19c387-59cd-46fc-9bd3-87ed4adcbee8",
   "metadata": {},
   "outputs": [],
   "source": [
    "# Q1. Discuss string slicing and provide examples."
   ]
  },
  {
   "cell_type": "raw",
   "id": "55d97f9c-e76d-4828-b41f-cd6e08c808e3",
   "metadata": {},
   "source": [
    "String slicing means obtaining a substring from a given string by selecting\n",
    "specific portions."
   ]
  },
  {
   "cell_type": "code",
   "execution_count": 19,
   "id": "c633b26a-1b63-42a5-8289-3629f97818f1",
   "metadata": {},
   "outputs": [
    {
     "name": "stdout",
     "output_type": "stream",
     "text": [
      "anonymous23\n"
     ]
    }
   ],
   "source": [
    "# For example, \n",
    "# 1. specific part of a string:\n",
    "\n",
    "string1 = \"anonymous23@gmail.com\"\n",
    "user = string1[0:11:1]\n",
    "print(user)"
   ]
  },
  {
   "cell_type": "code",
   "execution_count": 30,
   "id": "b86c3e31-5cb1-4531-bc0e-cc1da391d391",
   "metadata": {},
   "outputs": [
    {
     "name": "stdout",
     "output_type": "stream",
     "text": [
      "ACEGJLNPRTVXZ\n"
     ]
    }
   ],
   "source": [
    "# 2. Different letters:\n",
    "string2 = \"ABCDEFGIJKLMNOPQRSTUVWXYZ\"\n",
    "Alt_Alpha = string2[0:27:2]\n",
    "print(Alt_Alpha)"
   ]
  },
  {
   "cell_type": "code",
   "execution_count": 44,
   "id": "afdc3e50-77f1-45f2-8cb7-e10aff974cae",
   "metadata": {},
   "outputs": [
    {
     "name": "stdout",
     "output_type": "stream",
     "text": [
      "died instantly.\n"
     ]
    }
   ],
   "source": [
    "# 3. Negative indexing:\n",
    "string3 = \"The dog got hit by a car and died instantly.\"\n",
    "ending_part_of_string = string3[-15:]\n",
    "print(ending_part_of_string)\n"
   ]
  },
  {
   "cell_type": "code",
   "execution_count": 59,
   "id": "7e504b0b-2a1d-4eb4-b30b-ee606fe5736b",
   "metadata": {},
   "outputs": [
    {
     "name": "stdout",
     "output_type": "stream",
     "text": [
      "Mr.Owl ate my metal worm.\n"
     ]
    }
   ],
   "source": [
    "#4. Reverse string:\n",
    "string4 = \".mrow latem ym eta lwO.rM\"\n",
    "reverse_str = string4[::-1]\n",
    "print(reverse_str)"
   ]
  },
  {
   "cell_type": "code",
   "execution_count": 60,
   "id": "f8405584-efe0-4ec8-a409-1271572e2c53",
   "metadata": {},
   "outputs": [],
   "source": [
    "# Q2.  Explain the key features of lists in Python."
   ]
  },
  {
   "cell_type": "raw",
   "id": "c9ef4455-a928-411a-a5d4-ca3debf59476",
   "metadata": {},
   "source": [
    "Lists in python can store different data types. They are mutable and associated with a variety of functions which help to manipulate them."
   ]
  },
  {
   "cell_type": "code",
   "execution_count": 83,
   "id": "fbb0f571-0cc7-4975-ae4b-69677177fc69",
   "metadata": {},
   "outputs": [],
   "source": [
    "# 1. List creation using [] square brackets:\n",
    "\n",
    "my_list = [ 'M',')' ,'R', 'D', 3 , 'R', 1, \"p\", 'd!']"
   ]
  },
  {
   "cell_type": "code",
   "execution_count": 84,
   "id": "372076c3-dfa9-499b-9a6e-0dbcf3c0d84e",
   "metadata": {},
   "outputs": [
    {
     "name": "stdout",
     "output_type": "stream",
     "text": [
      "R\n",
      "1\n",
      "p\n"
     ]
    }
   ],
   "source": [
    "# 2. We can access list elements by indexing:\n",
    "print(my_list[2])\n",
    "print(my_list[-3])\n",
    "print(my_list[-2])"
   ]
  },
  {
   "cell_type": "code",
   "execution_count": 85,
   "id": "af5c1193-1828-44ff-a0e0-923711d9f69d",
   "metadata": {},
   "outputs": [
    {
     "name": "stdout",
     "output_type": "stream",
     "text": [
      "['M', ')', 'R', 'D', 3, 'R']\n"
     ]
    }
   ],
   "source": [
    "# 3. We can extract sublists using start and end indices:\n",
    "print(my_list[0:6])"
   ]
  },
  {
   "cell_type": "code",
   "execution_count": 87,
   "id": "719c71e5-e907-40b1-997c-ed38d297908c",
   "metadata": {},
   "outputs": [],
   "source": [
    "# 4. Appending and Extending :\n",
    "# Appending:\n",
    "my_list.append('e')"
   ]
  },
  {
   "cell_type": "code",
   "execution_count": 88,
   "id": "4f1a3e13-245c-4b20-8343-b5c6399c583b",
   "metadata": {},
   "outputs": [],
   "source": [
    "# Extending:\n",
    "list_2 = [1,4,5,6]\n",
    "my_list.extend(list_2)"
   ]
  },
  {
   "cell_type": "code",
   "execution_count": 89,
   "id": "fe83b6e1-4e6c-4847-9a8c-1aa14c562b21",
   "metadata": {},
   "outputs": [
    {
     "data": {
      "text/plain": [
       "['M', ')', 'R', 'D', 3, 'R', 1, 'p', 'd!', 'e', 'e', 1, 4, 5, 6]"
      ]
     },
     "execution_count": 89,
     "metadata": {},
     "output_type": "execute_result"
    }
   ],
   "source": [
    "my_list"
   ]
  },
  {
   "cell_type": "code",
   "execution_count": null,
   "id": "ab5d2233-e7ac-481a-852e-6104a7c90ff0",
   "metadata": {},
   "outputs": [],
   "source": []
  }
 ],
 "metadata": {
  "kernelspec": {
   "display_name": "Python 3 (ipykernel)",
   "language": "python",
   "name": "python3"
  },
  "language_info": {
   "codemirror_mode": {
    "name": "ipython",
    "version": 3
   },
   "file_extension": ".py",
   "mimetype": "text/x-python",
   "name": "python",
   "nbconvert_exporter": "python",
   "pygments_lexer": "ipython3",
   "version": "3.12.4"
  }
 },
 "nbformat": 4,
 "nbformat_minor": 5
}
