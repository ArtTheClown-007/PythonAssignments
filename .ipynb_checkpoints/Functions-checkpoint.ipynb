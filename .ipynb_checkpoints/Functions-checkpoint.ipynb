{
 "cells": [
  {
   "cell_type": "code",
   "execution_count": 20,
   "id": "4bfd7c70-4ce7-4cbb-bb9c-ce46ee4d9602",
   "metadata": {},
   "outputs": [],
   "source": [
    "import math as mth"
   ]
  },
  {
   "cell_type": "code",
   "execution_count": 21,
   "id": "2ed00b2a-6e45-409e-bc28-0de08ade5ab1",
   "metadata": {},
   "outputs": [
    {
     "data": {
      "text/plain": [
       "7"
      ]
     },
     "execution_count": 21,
     "metadata": {},
     "output_type": "execute_result"
    }
   ],
   "source": [
    "mth.ceil(6.5)"
   ]
  },
  {
   "cell_type": "code",
   "execution_count": 22,
   "id": "c860f1eb-ab18-4d8c-bf41-f17842b31f40",
   "metadata": {},
   "outputs": [
    {
     "data": {
      "text/plain": [
       "8"
      ]
     },
     "execution_count": 22,
     "metadata": {},
     "output_type": "execute_result"
    }
   ],
   "source": [
    "mth.floor(8.9)"
   ]
  },
  {
   "cell_type": "code",
   "execution_count": 23,
   "id": "ab03ac1e-ac1f-409d-b417-0fe4529448bb",
   "metadata": {},
   "outputs": [],
   "source": [
    "# user defined function\n",
    "# def func():\n",
    "      #do something >> body of function"
   ]
  },
  {
   "cell_type": "code",
   "execution_count": 24,
   "id": "9b77da8b-fa9e-47a9-9697-ef9e60ee3f78",
   "metadata": {},
   "outputs": [],
   "source": [
    "# function is a block of code which performs some task\n",
    "# functions are reusable, organized , saves time"
   ]
  },
  {
   "cell_type": "code",
   "execution_count": 25,
   "id": "cc0e1848-13bf-43e9-b54b-6250dff53341",
   "metadata": {},
   "outputs": [],
   "source": [
    "def greet(name): # name is func argument\n",
    "    print(\"Hello \" + name + \", hope you're doin well.\")"
   ]
  },
  {
   "cell_type": "code",
   "execution_count": 26,
   "id": "38df2108-80e7-4148-9e23-d605847ad188",
   "metadata": {},
   "outputs": [
    {
     "name": "stdout",
     "output_type": "stream",
     "text": [
      "Hello Max, hope you're doin well.\n"
     ]
    }
   ],
   "source": [
    "greet(\"Max\")"
   ]
  },
  {
   "cell_type": "code",
   "execution_count": 42,
   "id": "55c1ef16-03a6-4ea6-b655-f7732aa867e2",
   "metadata": {},
   "outputs": [],
   "source": [
    "def Dob(date,month,year):\n",
    "    print(\"Your D.O.B. is \" + str(date) + '/' + str(month) + '/' + str(year))\n",
    "    print( \"You're \" + str((2024 - year)) + \" years old.\")"
   ]
  },
  {
   "cell_type": "code",
   "execution_count": 43,
   "id": "47899fda-4212-4462-8937-9d45e10e0b44",
   "metadata": {},
   "outputs": [
    {
     "name": "stdout",
     "output_type": "stream",
     "text": [
      "Your D.O.B. is 4/8/2005\n",
      "You're 19 years old.\n"
     ]
    }
   ],
   "source": [
    "Dob(4,8,2005)"
   ]
  },
  {
   "cell_type": "code",
   "execution_count": 2,
   "id": "5fbcee79-a803-48f9-b2be-5a2b556eb294",
   "metadata": {},
   "outputs": [
    {
     "name": "stdout",
     "output_type": "stream",
     "text": [
      "Text\n"
     ]
    }
   ],
   "source": [
    "def func():\n",
    "    print(\"Text\")\n",
    "func()"
   ]
  },
  {
   "cell_type": "code",
   "execution_count": 4,
   "id": "50a2612f-916c-4234-b60e-bb9c3c29bd0a",
   "metadata": {},
   "outputs": [
    {
     "name": "stdout",
     "output_type": "stream",
     "text": [
      "Text\n"
     ]
    },
    {
     "ename": "TypeError",
     "evalue": "unsupported operand type(s) for +: 'NoneType' and 'str'",
     "output_type": "error",
     "traceback": [
      "\u001b[1;31m---------------------------------------------------------------------------\u001b[0m",
      "\u001b[1;31mTypeError\u001b[0m                                 Traceback (most recent call last)",
      "Cell \u001b[1;32mIn[4], line 1\u001b[0m\n\u001b[1;32m----> 1\u001b[0m \u001b[43mfunc\u001b[49m\u001b[43m(\u001b[49m\u001b[43m)\u001b[49m\u001b[43m \u001b[49m\u001b[38;5;241;43m+\u001b[39;49m\u001b[43m \u001b[49m\u001b[38;5;124;43m\"\u001b[39;49m\u001b[38;5;124;43m goes here\u001b[39;49m\u001b[38;5;124;43m\"\u001b[39;49m\n",
      "\u001b[1;31mTypeError\u001b[0m: unsupported operand type(s) for +: 'NoneType' and 'str'"
     ]
    }
   ],
   "source": [
    "func() + \" goes here\""
   ]
  },
  {
   "cell_type": "code",
   "execution_count": 8,
   "id": "0ca033f8-3d13-4194-9ce0-738a91c1833c",
   "metadata": {},
   "outputs": [
    {
     "data": {
      "text/plain": [
       "'Text goes here'"
      ]
     },
     "execution_count": 8,
     "metadata": {},
     "output_type": "execute_result"
    }
   ],
   "source": [
    "def print_Text(): # returns output\n",
    "    return(\"Text\")\n",
    "\n",
    "print_Text() + \" goes here\""
   ]
  },
  {
   "cell_type": "code",
   "execution_count": 11,
   "id": "88a0e23a-4faa-49d8-b0ac-e92e68f2cf98",
   "metadata": {},
   "outputs": [],
   "source": [
    "def nullf():\n",
    "    return 0"
   ]
  },
  {
   "cell_type": "code",
   "execution_count": 14,
   "id": "0ebc1782-016a-4c3f-b867-0df8a1135341",
   "metadata": {},
   "outputs": [
    {
     "data": {
      "text/plain": [
       "0"
      ]
     },
     "execution_count": 14,
     "metadata": {},
     "output_type": "execute_result"
    }
   ],
   "source": [
    "1 * nullf()"
   ]
  },
  {
   "cell_type": "code",
   "execution_count": 15,
   "id": "02f20b3f-4880-4aeb-96d6-441eb7c4a625",
   "metadata": {},
   "outputs": [],
   "source": [
    "def tup():\n",
    "    return \"Text\",1,3,6,True,3+7j"
   ]
  },
  {
   "cell_type": "code",
   "execution_count": 19,
   "id": "2044a537-49d2-40e5-9cd6-e2574ed68100",
   "metadata": {},
   "outputs": [
    {
     "data": {
      "text/plain": [
       "tuple"
      ]
     },
     "execution_count": 19,
     "metadata": {},
     "output_type": "execute_result"
    }
   ],
   "source": [
    "t = tup()\n",
    "type(t)"
   ]
  },
  {
   "cell_type": "code",
   "execution_count": 24,
   "id": "44ec95e1-f8d1-45cb-a261-dad79304e4e7",
   "metadata": {},
   "outputs": [],
   "source": [
    "x,y,z,u,v,w = tup()"
   ]
  },
  {
   "cell_type": "code",
   "execution_count": 30,
   "id": "47e79812-f397-419e-8a34-4c0eb403acc0",
   "metadata": {},
   "outputs": [
    {
     "name": "stdout",
     "output_type": "stream",
     "text": [
      "Text\n",
      "1\n",
      "3\n"
     ]
    }
   ],
   "source": [
    "print(x)\n",
    "print(y)\n",
    "print(z)"
   ]
  },
  {
   "cell_type": "code",
   "execution_count": 34,
   "id": "5848805f-e4b4-4a43-86b6-634fde4adb11",
   "metadata": {},
   "outputs": [],
   "source": [
    "x,b,c,g = func() "
   ]
  },
  {
   "cell_type": "code",
   "execution_count": 35,
   "id": "83e46c26-e566-4cda-8517-fb9ee7bd05e1",
   "metadata": {},
   "outputs": [
    {
     "name": "stdout",
     "output_type": "stream",
     "text": [
      "T\n",
      "e\n",
      "x\n",
      "t\n"
     ]
    }
   ],
   "source": [
    "print(x)\n",
    "print(b)\n",
    "print(c)\n",
    "print(g)"
   ]
  },
  {
   "cell_type": "code",
   "execution_count": 38,
   "id": "6fcd762a-ca22-414a-85eb-757d39c59b38",
   "metadata": {},
   "outputs": [],
   "source": [
    "def func():\n",
    "    calc = 2+3+6*5\n",
    "    return calc"
   ]
  },
  {
   "cell_type": "code",
   "execution_count": 42,
   "id": "ba4762ba-41b5-4e28-82cc-43057c19d454",
   "metadata": {},
   "outputs": [
    {
     "name": "stdout",
     "output_type": "stream",
     "text": [
      "35\n"
     ]
    }
   ],
   "source": [
    "type(func())\n",
    "print(func())"
   ]
  },
  {
   "cell_type": "code",
   "execution_count": 43,
   "id": "7dbd9a47-6fc7-4342-8bd3-a662b9f737e3",
   "metadata": {},
   "outputs": [],
   "source": [
    "def square_my_num(num):\n",
    "    return num*num"
   ]
  },
  {
   "cell_type": "code",
   "execution_count": 48,
   "id": "71eb1724-c06d-48fb-af0b-8b6ef6fa8f49",
   "metadata": {},
   "outputs": [
    {
     "data": {
      "text/plain": [
       "441"
      ]
     },
     "execution_count": 48,
     "metadata": {},
     "output_type": "execute_result"
    }
   ],
   "source": [
    "square_my_num(21)"
   ]
  },
  {
   "cell_type": "code",
   "execution_count": 49,
   "id": "ad62f42c-eaa9-4035-ad7a-2491922b7837",
   "metadata": {},
   "outputs": [],
   "source": [
    "def sum(a,b):\n",
    "    return a + b"
   ]
  },
  {
   "cell_type": "code",
   "execution_count": 50,
   "id": "e8739a54-22c6-4189-8566-17f983930eb8",
   "metadata": {},
   "outputs": [
    {
     "data": {
      "text/plain": [
       "447"
      ]
     },
     "execution_count": 50,
     "metadata": {},
     "output_type": "execute_result"
    }
   ],
   "source": [
    "sum(2,445)"
   ]
  },
  {
   "cell_type": "code",
   "execution_count": 51,
   "id": "e056b6b0-a970-4dfe-bb5c-564596cef37f",
   "metadata": {},
   "outputs": [
    {
     "data": {
      "text/plain": [
       "'String'"
      ]
     },
     "execution_count": 51,
     "metadata": {},
     "output_type": "execute_result"
    }
   ],
   "source": [
    "sum(\"Str\",\"ing\")"
   ]
  },
  {
   "cell_type": "code",
   "execution_count": 52,
   "id": "25bab14a-5efc-4ded-ba06-ad41218d93df",
   "metadata": {},
   "outputs": [
    {
     "data": {
      "text/plain": [
       "[1, 2, 3, 4, 5, 6]"
      ]
     },
     "execution_count": 52,
     "metadata": {},
     "output_type": "execute_result"
    }
   ],
   "source": [
    "sum([1,2,3],[4,5,6])"
   ]
  },
  {
   "cell_type": "code",
   "execution_count": 53,
   "id": "0660bf98-605c-4d5d-95df-e5093da2de80",
   "metadata": {},
   "outputs": [
    {
     "data": {
      "text/plain": [
       "'string'"
      ]
     },
     "execution_count": 53,
     "metadata": {},
     "output_type": "execute_result"
    }
   ],
   "source": [
    "sum( b = 'ing',a = 'str')"
   ]
  },
  {
   "cell_type": "code",
   "execution_count": 58,
   "id": "b6ab9f63-fc29-41dc-9d66-249ebfe64481",
   "metadata": {},
   "outputs": [],
   "source": [
    "# Default argument must be the trailing argument.\n",
    "def sum1(a , b , c = 0):\n",
    "    return a + b + c\n"
   ]
  },
  {
   "cell_type": "code",
   "execution_count": 59,
   "id": "99b91f79-2dad-45b4-953e-154b85e76401",
   "metadata": {},
   "outputs": [
    {
     "data": {
      "text/plain": [
       "5"
      ]
     },
     "execution_count": 59,
     "metadata": {},
     "output_type": "execute_result"
    }
   ],
   "source": [
    "sum1(2,3)"
   ]
  },
  {
   "cell_type": "code",
   "execution_count": 61,
   "id": "02479466-ce5a-4d7a-8e70-77a4a9e81dba",
   "metadata": {},
   "outputs": [],
   "source": [
    "def sum2(a = 0 , b= 0, c = 0):\n",
    "    return a + b + c"
   ]
  },
  {
   "cell_type": "code",
   "execution_count": 62,
   "id": "1bc03af8-fe48-4f7e-ad8b-baa85b7a5d52",
   "metadata": {},
   "outputs": [
    {
     "data": {
      "text/plain": [
       "0"
      ]
     },
     "execution_count": 62,
     "metadata": {},
     "output_type": "execute_result"
    }
   ],
   "source": [
    "sum2()"
   ]
  },
  {
   "cell_type": "code",
   "execution_count": 63,
   "id": "8feab4a5-cda1-42e6-b06a-47df069cc0fe",
   "metadata": {},
   "outputs": [],
   "source": [
    "def add_two_num():\n",
    "    a = int(input(\"Enter first no: \")) \n",
    "    b = int(input(\"Enter second no: \")) \n",
    "    return a + b"
   ]
  },
  {
   "cell_type": "code",
   "execution_count": 64,
   "id": "e5c522c4-5188-4f17-8421-232c49f8499f",
   "metadata": {},
   "outputs": [
    {
     "name": "stdin",
     "output_type": "stream",
     "text": [
      "Enter first no:  2\n",
      "Enter second no:  21\n"
     ]
    },
    {
     "data": {
      "text/plain": [
       "23"
      ]
     },
     "execution_count": 64,
     "metadata": {},
     "output_type": "execute_result"
    }
   ],
   "source": [
    "add_two_num()"
   ]
  },
  {
   "cell_type": "code",
   "execution_count": null,
   "id": "6860829d-3f4c-4abe-9c60-0ac28bfa8870",
   "metadata": {},
   "outputs": [],
   "source": []
  }
 ],
 "metadata": {
  "kernelspec": {
   "display_name": "Python 3 (ipykernel)",
   "language": "python",
   "name": "python3"
  },
  "language_info": {
   "codemirror_mode": {
    "name": "ipython",
    "version": 3
   },
   "file_extension": ".py",
   "mimetype": "text/x-python",
   "name": "python",
   "nbconvert_exporter": "python",
   "pygments_lexer": "ipython3",
   "version": "3.12.4"
  }
 },
 "nbformat": 4,
 "nbformat_minor": 5
}
