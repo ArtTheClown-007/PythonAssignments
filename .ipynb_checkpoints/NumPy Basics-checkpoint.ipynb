{
 "cells": [
  {
   "cell_type": "raw",
   "id": "af42f0eb-45ae-488c-bc23-6868aec615dc",
   "metadata": {},
   "source": [
    "# Numerical Python -> developed in 2005 by Travis Oliphant\n",
    "# Tora and Linga before 2005"
   ]
  },
  {
   "cell_type": "code",
   "execution_count": 2,
   "id": "39138049-e3ec-4918-9f57-07b42076273f",
   "metadata": {},
   "outputs": [],
   "source": [
    "import numpy as np # np is an alias"
   ]
  },
  {
   "cell_type": "code",
   "execution_count": 3,
   "id": "572ff239-5e69-4959-ad62-13de7d48586d",
   "metadata": {},
   "outputs": [
    {
     "data": {
      "text/plain": [
       "'2.0.1'"
      ]
     },
     "execution_count": 3,
     "metadata": {},
     "output_type": "execute_result"
    }
   ],
   "source": [
    "np.__version__"
   ]
  },
  {
   "cell_type": "code",
   "execution_count": 4,
   "id": "b6c6d606-769b-42ab-ae40-991d636d6b89",
   "metadata": {},
   "outputs": [
    {
     "name": "stdout",
     "output_type": "stream",
     "text": [
      "\n",
      "NumPy\n",
      "=====\n",
      "\n",
      "Provides\n",
      "  1. An array object of arbitrary homogeneous items\n",
      "  2. Fast mathematical operations over arrays\n",
      "  3. Linear Algebra, Fourier Transforms, Random Number Generation\n",
      "\n",
      "How to use the documentation\n",
      "----------------------------\n",
      "Documentation is available in two forms: docstrings provided\n",
      "with the code, and a loose standing reference guide, available from\n",
      "`the NumPy homepage <https://numpy.org>`_.\n",
      "\n",
      "We recommend exploring the docstrings using\n",
      "`IPython <https://ipython.org>`_, an advanced Python shell with\n",
      "TAB-completion and introspection capabilities.  See below for further\n",
      "instructions.\n",
      "\n",
      "The docstring examples assume that `numpy` has been imported as ``np``::\n",
      "\n",
      "  >>> import numpy as np\n",
      "\n",
      "Code snippets are indicated by three greater-than signs::\n",
      "\n",
      "  >>> x = 42\n",
      "  >>> x = x + 1\n",
      "\n",
      "Use the built-in ``help`` function to view a function's docstring::\n",
      "\n",
      "  >>> help(np.sort)\n",
      "  ... # doctest: +SKIP\n",
      "\n",
      "For some objects, ``np.info(obj)`` may provide additional help.  This is\n",
      "particularly true if you see the line \"Help on ufunc object:\" at the top\n",
      "of the help() page.  Ufuncs are implemented in C, not Python, for speed.\n",
      "The native Python help() does not know how to view their help, but our\n",
      "np.info() function does.\n",
      "\n",
      "Available subpackages\n",
      "---------------------\n",
      "lib\n",
      "    Basic functions used by several sub-packages.\n",
      "random\n",
      "    Core Random Tools\n",
      "linalg\n",
      "    Core Linear Algebra Tools\n",
      "fft\n",
      "    Core FFT routines\n",
      "polynomial\n",
      "    Polynomial tools\n",
      "testing\n",
      "    NumPy testing tools\n",
      "distutils\n",
      "    Enhancements to distutils with support for\n",
      "    Fortran compilers support and more (for Python <= 3.11)\n",
      "\n",
      "Utilities\n",
      "---------\n",
      "test\n",
      "    Run numpy unittests\n",
      "show_config\n",
      "    Show numpy build configuration\n",
      "__version__\n",
      "    NumPy version string\n",
      "\n",
      "Viewing documentation using IPython\n",
      "-----------------------------------\n",
      "\n",
      "Start IPython and import `numpy` usually under the alias ``np``: `import\n",
      "numpy as np`.  Then, directly past or use the ``%cpaste`` magic to paste\n",
      "examples into the shell.  To see which functions are available in `numpy`,\n",
      "type ``np.<TAB>`` (where ``<TAB>`` refers to the TAB key), or use\n",
      "``np.*cos*?<ENTER>`` (where ``<ENTER>`` refers to the ENTER key) to narrow\n",
      "down the list.  To view the docstring for a function, use\n",
      "``np.cos?<ENTER>`` (to view the docstring) and ``np.cos??<ENTER>`` (to view\n",
      "the source code).\n",
      "\n",
      "Copies vs. in-place operation\n",
      "-----------------------------\n",
      "Most of the functions in `numpy` return a copy of the array argument\n",
      "(e.g., `np.sort`).  In-place versions of these functions are often\n",
      "available as array methods, i.e. ``x = np.array([1,2,3]); x.sort()``.\n",
      "Exceptions to this rule are documented.\n",
      "\n",
      "\n"
     ]
    }
   ],
   "source": [
    "print(np.__doc__)"
   ]
  },
  {
   "cell_type": "code",
   "execution_count": 5,
   "id": "1bde91ab-9be8-4e16-a30e-5a2507f695a0",
   "metadata": {},
   "outputs": [],
   "source": [
    "lis = [1,2,\"bla\",'B',True]"
   ]
  },
  {
   "cell_type": "code",
   "execution_count": 7,
   "id": "ff53dd97-4a38-4c6e-8d4f-589d6703f057",
   "metadata": {},
   "outputs": [],
   "source": [
    "# Numpy stores the data in a numpy array\n",
    "# An array is a container used to store data of same data type"
   ]
  },
  {
   "cell_type": "code",
   "execution_count": 10,
   "id": "455094c0-036e-485a-ad8f-dfd846abbb91",
   "metadata": {},
   "outputs": [],
   "source": [
    "# Numpy is built using C >>  Hence numpy computation is fast\n",
    "# due to array >> homogeneous data is stored >> numpy array is faster\n",
    "# homogeneous data >> continuos memory location"
   ]
  },
  {
   "cell_type": "code",
   "execution_count": 12,
   "id": "06963a04-5082-42f4-be08-e6ba0043cae5",
   "metadata": {},
   "outputs": [],
   "source": [
    "MyArray = [1,2,3,4,5]"
   ]
  },
  {
   "cell_type": "code",
   "execution_count": 14,
   "id": "79dccf09-0640-453c-8bff-5ddd34cdb20c",
   "metadata": {},
   "outputs": [],
   "source": [
    "arr = np.array(MyArray)"
   ]
  },
  {
   "cell_type": "code",
   "execution_count": 17,
   "id": "ff85ec0d-506f-4c7e-9858-fee77befdcbf",
   "metadata": {},
   "outputs": [
    {
     "data": {
      "text/plain": [
       "numpy.ndarray"
      ]
     },
     "execution_count": 17,
     "metadata": {},
     "output_type": "execute_result"
    }
   ],
   "source": [
    "type(arr)  # numpy.ndarray >> n dimensional array"
   ]
  },
  {
   "cell_type": "code",
   "execution_count": 25,
   "id": "0cf143f7-a9a6-4373-991c-15b011080188",
   "metadata": {},
   "outputs": [
    {
     "name": "stdout",
     "output_type": "stream",
     "text": [
      "['1' '2' '3' '4' '5' 'Max']\n"
     ]
    }
   ],
   "source": [
    "l = [1,2,3,4,5,\"Max\"]\n",
    "print(np.array(l)) # int data was promoted to string"
   ]
  },
  {
   "cell_type": "code",
   "execution_count": 26,
   "id": "bed302f4-5ac6-42b9-b94c-baab8a026d82",
   "metadata": {},
   "outputs": [
    {
     "data": {
      "text/plain": [
       "1"
      ]
     },
     "execution_count": 26,
     "metadata": {},
     "output_type": "execute_result"
    }
   ],
   "source": [
    "arr.ndim"
   ]
  },
  {
   "cell_type": "code",
   "execution_count": 41,
   "id": "fd42286e-a36a-43ed-b21f-11bb279aaf22",
   "metadata": {},
   "outputs": [],
   "source": [
    "l2 = [ [1,3,4,5,6],\n",
    "       [2,3,3,4,5],\n",
    "       [1,0,1,0,1] ]\n",
    "arr2 = np.array(l2)"
   ]
  },
  {
   "cell_type": "code",
   "execution_count": 42,
   "id": "02a74da9-4c38-4e04-8a4d-fcec471f0dbd",
   "metadata": {},
   "outputs": [
    {
     "data": {
      "text/plain": [
       "2"
      ]
     },
     "execution_count": 42,
     "metadata": {},
     "output_type": "execute_result"
    }
   ],
   "source": [
    "arr2.ndim"
   ]
  },
  {
   "cell_type": "code",
   "execution_count": 43,
   "id": "de00dfa5-057b-46de-a68a-44916b9dd9f9",
   "metadata": {},
   "outputs": [
    {
     "data": {
      "text/plain": [
       "array([[1, 3, 4, 5, 6],\n",
       "       [2, 3, 3, 4, 5],\n",
       "       [1, 0, 1, 0, 1]])"
      ]
     },
     "execution_count": 43,
     "metadata": {},
     "output_type": "execute_result"
    }
   ],
   "source": [
    "arr2"
   ]
  },
  {
   "cell_type": "code",
   "execution_count": 48,
   "id": "5391944e-037a-471e-9b1e-d03948b15dad",
   "metadata": {},
   "outputs": [
    {
     "name": "stdout",
     "output_type": "stream",
     "text": [
      "1 3 4 5 6 \n",
      "2 3 3 4 5 \n",
      "1 0 1 0 1 \n"
     ]
    }
   ],
   "source": [
    "for i in range(3):\n",
    "    for j in range(5):\n",
    "        print(arr2[i][j],end = \" \")\n",
    "    print()\n",
    "    "
   ]
  },
  {
   "cell_type": "code",
   "execution_count": 56,
   "id": "a72540b2-c93a-4ee0-8e98-a76f475a73f2",
   "metadata": {},
   "outputs": [],
   "source": [
    "\n",
    "Matrix_3x3 = np.matrix( [[1,2,3],\n",
    "                         [2,1,3],\n",
    "                         [3,2,1]] )"
   ]
  },
  {
   "cell_type": "code",
   "execution_count": 57,
   "id": "582b9e10-8b8f-44d9-909b-fef07cfd157d",
   "metadata": {},
   "outputs": [
    {
     "data": {
      "text/plain": [
       "2"
      ]
     },
     "execution_count": 57,
     "metadata": {},
     "output_type": "execute_result"
    }
   ],
   "source": [
    "Matrix_3x3.ndim"
   ]
  },
  {
   "cell_type": "code",
   "execution_count": 58,
   "id": "a38c9870-727e-496c-ad20-bbdd36c2bece",
   "metadata": {},
   "outputs": [
    {
     "data": {
      "text/plain": [
       "matrix([[1, 2, 3],\n",
       "        [2, 1, 3],\n",
       "        [3, 2, 1]])"
      ]
     },
     "execution_count": 58,
     "metadata": {},
     "output_type": "execute_result"
    }
   ],
   "source": [
    "Matrix_3x3"
   ]
  },
  {
   "cell_type": "code",
   "execution_count": 60,
   "id": "394d7ad8-3c53-4268-9041-f698148e242d",
   "metadata": {},
   "outputs": [],
   "source": [
    "# 3 Dimensional Matrix does not exist\n",
    "# It must be 2 dimensional"
   ]
  },
  {
   "cell_type": "code",
   "execution_count": 66,
   "id": "8da813e7-af29-4778-a607-4f78007bbcbe",
   "metadata": {},
   "outputs": [],
   "source": [
    "ThreeD_arr = np.array(( [[[1,2,3],\n",
    "                          [2,1,3],\n",
    "                          [3,2,1]]]))"
   ]
  },
  {
   "cell_type": "code",
   "execution_count": 67,
   "id": "7ce9175b-3564-482b-8b9c-90a28d0020ba",
   "metadata": {},
   "outputs": [
    {
     "data": {
      "text/plain": [
       "3"
      ]
     },
     "execution_count": 67,
     "metadata": {},
     "output_type": "execute_result"
    }
   ],
   "source": [
    "ThreeD_arr.ndim"
   ]
  },
  {
   "cell_type": "code",
   "execution_count": 68,
   "id": "fb87e1dd-498f-4fbe-bd8b-04711eb0797d",
   "metadata": {},
   "outputs": [],
   "source": [
    "# Three Dim--> [[[ ]]]\n",
    "# Two dim --> [[ ]]\n",
    "# One dim --> [ ]"
   ]
  },
  {
   "cell_type": "code",
   "execution_count": 74,
   "id": "330abaea-9cd5-454c-b676-5426c6fe9aad",
   "metadata": {},
   "outputs": [],
   "source": [
    "lisst = [[1,2,3],\n",
    "            [2,1,3],\n",
    "                [3,2,1]]"
   ]
  },
  {
   "cell_type": "code",
   "execution_count": 75,
   "id": "2e668a01-0176-4791-b062-8718797c568a",
   "metadata": {},
   "outputs": [],
   "source": [
    "my_arr = np.asarray(lisst)"
   ]
  },
  {
   "cell_type": "code",
   "execution_count": 76,
   "id": "f6038728-5f85-427f-8d69-b9e894453f43",
   "metadata": {},
   "outputs": [
    {
     "data": {
      "text/plain": [
       "array([[1, 2, 3],\n",
       "       [2, 1, 3],\n",
       "       [3, 2, 1]])"
      ]
     },
     "execution_count": 76,
     "metadata": {},
     "output_type": "execute_result"
    }
   ],
   "source": [
    "np.asanyarray(lisst)"
   ]
  },
  {
   "cell_type": "code",
   "execution_count": 77,
   "id": "9ed8e145-4e34-4178-b6b3-8635fae26d21",
   "metadata": {},
   "outputs": [
    {
     "data": {
      "text/plain": [
       "array([[1, 2, 3],\n",
       "       [2, 1, 3],\n",
       "       [3, 2, 1]])"
      ]
     },
     "execution_count": 77,
     "metadata": {},
     "output_type": "execute_result"
    }
   ],
   "source": [
    "np.asanyarray(my_arr)"
   ]
  },
  {
   "cell_type": "code",
   "execution_count": 79,
   "id": "2659acd6-ea38-44b6-8e1d-3fbf524eeb31",
   "metadata": {},
   "outputs": [],
   "source": [
    "# asanyarray will convert the input to an ndarray, but pass ndarray subclass \n",
    "# if something is already an array or its subclass like matrux then it just \n",
    "# lets it pass through"
   ]
  },
  {
   "cell_type": "code",
   "execution_count": 82,
   "id": "ca2386a2-2b1c-4263-a6c8-7428d3e9d40d",
   "metadata": {},
   "outputs": [],
   "source": [
    "t = ([1,2,3],\n",
    "     [4,5,6])"
   ]
  },
  {
   "cell_type": "code",
   "execution_count": 85,
   "id": "f6f1806f-9370-4e2d-9320-7513d970b35a",
   "metadata": {},
   "outputs": [],
   "source": [
    "arr = np.array(t)"
   ]
  },
  {
   "cell_type": "code",
   "execution_count": 89,
   "id": "5e081263-f862-42d6-baa3-60f3499e9827",
   "metadata": {},
   "outputs": [],
   "source": [
    "arr[0][1] = 0\n",
    "arr[0][0] = 0"
   ]
  },
  {
   "cell_type": "code",
   "execution_count": 91,
   "id": "21113514-3a3b-431a-8cf2-dc388e52aa6f",
   "metadata": {},
   "outputs": [
    {
     "name": "stdout",
     "output_type": "stream",
     "text": [
      "0 0 3 \n",
      "4 5 6 \n"
     ]
    }
   ],
   "source": [
    "for i in range(2):\n",
    "    for j in range(3):\n",
    "        print(arr[i][j], end = \" \")\n",
    "    print()"
   ]
  },
  {
   "cell_type": "code",
   "execution_count": 92,
   "id": "02844007-1f66-46b5-8672-2ddeb25b2d5b",
   "metadata": {},
   "outputs": [],
   "source": [
    "# shallow copy >> change in one array will lead to change in another"
   ]
  },
  {
   "cell_type": "code",
   "execution_count": 93,
   "id": "7ac9d50b-85ac-4aa3-8e1a-3ff0c4d91491",
   "metadata": {},
   "outputs": [],
   "source": [
    "b = arr.copy()"
   ]
  },
  {
   "cell_type": "code",
   "execution_count": 96,
   "id": "8b4a3095-282f-4972-8979-d59514b4523f",
   "metadata": {},
   "outputs": [],
   "source": [
    "b[0][0] = 100\n",
    "b[0][1] = 100"
   ]
  },
  {
   "cell_type": "code",
   "execution_count": 97,
   "id": "764abca8-403c-4658-98bb-cc9bbce8e9a5",
   "metadata": {},
   "outputs": [
    {
     "name": "stdout",
     "output_type": "stream",
     "text": [
      "100 100 3 \n",
      "4 5 6 \n"
     ]
    }
   ],
   "source": [
    "for i in range(2):\n",
    "    for j in range(3):\n",
    "        print(b[i][j], end = \" \")\n",
    "    print()"
   ]
  },
  {
   "cell_type": "code",
   "execution_count": 98,
   "id": "3581ff05-d9ca-446f-9f45-4f2f77db9383",
   "metadata": {},
   "outputs": [],
   "source": [
    "# To create an array >> np.array, np.asarray, np.asanyarray"
   ]
  },
  {
   "cell_type": "code",
   "execution_count": null,
   "id": "caf95f3f-ad34-41aa-8205-a7f5aa92b17c",
   "metadata": {},
   "outputs": [],
   "source": []
  }
 ],
 "metadata": {
  "kernelspec": {
   "display_name": "Python 3 (ipykernel)",
   "language": "python",
   "name": "python3"
  },
  "language_info": {
   "codemirror_mode": {
    "name": "ipython",
    "version": 3
   },
   "file_extension": ".py",
   "mimetype": "text/x-python",
   "name": "python",
   "nbconvert_exporter": "python",
   "pygments_lexer": "ipython3",
   "version": "3.12.4"
  }
 },
 "nbformat": 4,
 "nbformat_minor": 5
}
