{
 "cells": [
  {
   "cell_type": "code",
   "execution_count": 43,
   "id": "20eeffc6-4f25-40af-9813-a34455a37861",
   "metadata": {},
   "outputs": [],
   "source": [
    "import numpy as np"
   ]
  },
  {
   "cell_type": "code",
   "execution_count": 44,
   "id": "a553c5ac-7239-411c-8b7a-1317fb05f6b1",
   "metadata": {},
   "outputs": [],
   "source": [
    "# Q1. 1. Create a 3x3 NumPy array with random integers between 1 and 100. Then, interchange its rows and columns."
   ]
  },
  {
   "cell_type": "code",
   "execution_count": 45,
   "id": "237d837c-4221-421a-a2a8-f7df65de9630",
   "metadata": {},
   "outputs": [
    {
     "data": {
      "text/plain": [
       "array([[ 11,  31,  30],\n",
       "       [ 24,  85,  11],\n",
       "       [100,  41,   9]], dtype=int32)"
      ]
     },
     "execution_count": 45,
     "metadata": {},
     "output_type": "execute_result"
    }
   ],
   "source": [
    "Array_3x3 = np.random.randint(1,101,size =(3,3))\n",
    "Array_3x3"
   ]
  },
  {
   "cell_type": "code",
   "execution_count": 46,
   "id": "40eed1d2-4aab-4cf0-813f-2b4c5d141d88",
   "metadata": {},
   "outputs": [
    {
     "data": {
      "text/plain": [
       "array([[ 11,  24, 100],\n",
       "       [ 31,  85,  41],\n",
       "       [ 30,  11,   9]], dtype=int32)"
      ]
     },
     "execution_count": 46,
     "metadata": {},
     "output_type": "execute_result"
    }
   ],
   "source": [
    "Array_3x3.T  # Transposing to interchange rows and columns"
   ]
  },
  {
   "cell_type": "code",
   "execution_count": 47,
   "id": "0ebd295a-e827-4dbe-857b-bc66c9819ad1",
   "metadata": {},
   "outputs": [],
   "source": [
    "# Q2. Generate a 1D NumPy array with 10 elements. Reshape it into a 2x5 array, then into a 5x2 array."
   ]
  },
  {
   "cell_type": "code",
   "execution_count": 48,
   "id": "d905d062-cb1b-4643-aaa1-e5c19087c45d",
   "metadata": {},
   "outputs": [
    {
     "data": {
      "text/plain": [
       "array([[ 2,  4,  8,  1,  3,  1, 10,  4,  3,  6]], dtype=int32)"
      ]
     },
     "execution_count": 48,
     "metadata": {},
     "output_type": "execute_result"
    }
   ],
   "source": [
    "Array_of_ten = np.random.randint(1,11, size = (1,10))\n",
    "Array_of_ten"
   ]
  },
  {
   "cell_type": "code",
   "execution_count": 49,
   "id": "e8ccbf06-c98b-46b1-a301-766d8000bcf7",
   "metadata": {},
   "outputs": [
    {
     "data": {
      "text/plain": [
       "array([[ 2,  4,  8,  1,  3],\n",
       "       [ 1, 10,  4,  3,  6]], dtype=int32)"
      ]
     },
     "execution_count": 49,
     "metadata": {},
     "output_type": "execute_result"
    }
   ],
   "source": [
    "Array_of_ten.reshape(2,5)"
   ]
  },
  {
   "cell_type": "code",
   "execution_count": 50,
   "id": "503f6dbc-60be-4da3-b323-ef74910168f5",
   "metadata": {},
   "outputs": [
    {
     "data": {
      "text/plain": [
       "array([[ 2,  4],\n",
       "       [ 8,  1],\n",
       "       [ 3,  1],\n",
       "       [10,  4],\n",
       "       [ 3,  6]], dtype=int32)"
      ]
     },
     "execution_count": 50,
     "metadata": {},
     "output_type": "execute_result"
    }
   ],
   "source": [
    "Array_of_ten.reshape(5,2)"
   ]
  },
  {
   "cell_type": "code",
   "execution_count": 51,
   "id": "84f88778-82e6-438c-9c93-9ca04a3ddd78",
   "metadata": {},
   "outputs": [],
   "source": [
    "# Q3. Create a 4x4 NumPy array with random float values. Add a border of zeros around it, resulting in a 6x6 array."
   ]
  },
  {
   "cell_type": "code",
   "execution_count": 52,
   "id": "e9e0483c-09cb-4ed2-820c-aa4a7d0c454a",
   "metadata": {},
   "outputs": [
    {
     "data": {
      "text/plain": [
       "array([[0.62506855, 0.11989201, 0.69697393, 0.97244997],\n",
       "       [0.83373929, 0.04367657, 0.34421703, 0.37095015],\n",
       "       [0.79914345, 0.93814374, 0.68958832, 0.695045  ],\n",
       "       [0.09211869, 0.32784729, 0.87553422, 0.56625348]])"
      ]
     },
     "execution_count": 52,
     "metadata": {},
     "output_type": "execute_result"
    }
   ],
   "source": [
    "Array_4x4 = np.random.rand(4,4)\n",
    "Array_4x4"
   ]
  },
  {
   "cell_type": "code",
   "execution_count": 53,
   "id": "5b60250f-86cf-46ee-91cb-75168cbe286b",
   "metadata": {},
   "outputs": [
    {
     "name": "stdout",
     "output_type": "stream",
     "text": [
      "[[0.         0.         0.         0.         0.         0.        ]\n",
      " [0.         0.62506855 0.11989201 0.69697393 0.97244997 0.        ]\n",
      " [0.         0.83373929 0.04367657 0.34421703 0.37095015 0.        ]\n",
      " [0.         0.79914345 0.93814374 0.68958832 0.695045   0.        ]\n",
      " [0.         0.09211869 0.32784729 0.87553422 0.56625348 0.        ]\n",
      " [0.         0.         0.         0.         0.         0.        ]]\n"
     ]
    }
   ],
   "source": [
    "Array_6x6 = np.zeros((6,6))\n",
    "Array_6x6[1:5,1:5] = Array_4x4 # Assigning those random values to the core\n",
    "print(Array_6x6)"
   ]
  },
  {
   "cell_type": "code",
   "execution_count": 54,
   "id": "21f45dff-aed3-4774-9120-ae1204169a13",
   "metadata": {},
   "outputs": [],
   "source": [
    "# Q4.Using NumPy, create an array of integers from 10 to 60 with a step of 5."
   ]
  },
  {
   "cell_type": "code",
   "execution_count": 61,
   "id": "3b2f1962-5043-48f3-b1c2-bc377b717e56",
   "metadata": {},
   "outputs": [
    {
     "data": {
      "text/plain": [
       "array([10, 15, 20, 25, 30, 35, 40, 45, 50, 55, 60])"
      ]
     },
     "execution_count": 61,
     "metadata": {},
     "output_type": "execute_result"
    }
   ],
   "source": [
    "numpy_arr = np.arange(10,61,5)\n",
    "numpy_arr"
   ]
  },
  {
   "cell_type": "code",
   "execution_count": 62,
   "id": "b5c4f522-1ccd-4264-a2b3-0357141fe0cb",
   "metadata": {},
   "outputs": [],
   "source": [
    "# Q5. Create a NumPy array of strings ['python', 'numpy', 'pandas']. Apply different case transformations\n",
    "# (uppercase, lowercase, title case, etc.) to each element."
   ]
  },
  {
   "cell_type": "code",
   "execution_count": 85,
   "id": "8564ae2d-cbf1-42e5-a90b-1fcef9521f37",
   "metadata": {},
   "outputs": [],
   "source": [
    "string_arr = np.array(['python', 'numpy', 'pandas'])"
   ]
  },
  {
   "cell_type": "code",
   "execution_count": 88,
   "id": "141b45e3-35c3-477d-8f02-abe87a67f70c",
   "metadata": {},
   "outputs": [
    {
     "data": {
      "text/plain": [
       "array(['PYTHON', 'NUMPY', 'PANDAS'], dtype='<U6')"
      ]
     },
     "execution_count": 88,
     "metadata": {},
     "output_type": "execute_result"
    }
   ],
   "source": [
    "upper_string = np.char.upper(string_arr)\n",
    "upper_string"
   ]
  },
  {
   "cell_type": "code",
   "execution_count": 89,
   "id": "503ced82-d97d-48ec-a15d-d69e9241537a",
   "metadata": {},
   "outputs": [
    {
     "data": {
      "text/plain": [
       "array(['python', 'numpy', 'pandas'], dtype='<U6')"
      ]
     },
     "execution_count": 89,
     "metadata": {},
     "output_type": "execute_result"
    }
   ],
   "source": [
    "lower_string = np.char.lower(string_arr)\n",
    "lower_string"
   ]
  },
  {
   "cell_type": "code",
   "execution_count": 91,
   "id": "b2429b11-41f8-46e0-bf13-eff71750ce7c",
   "metadata": {},
   "outputs": [
    {
     "data": {
      "text/plain": [
       "array(['Python', 'Numpy', 'Pandas'], dtype='<U6')"
      ]
     },
     "execution_count": 91,
     "metadata": {},
     "output_type": "execute_result"
    }
   ],
   "source": [
    "title_string = np.char.title(string_arr)\n",
    "title_string"
   ]
  },
  {
   "cell_type": "code",
   "execution_count": 92,
   "id": "a7e57bf8-90a1-487f-af79-e5e47ef631c6",
   "metadata": {},
   "outputs": [
    {
     "data": {
      "text/plain": [
       "array(['PYTHON', 'NUMPY', 'PANDAS'], dtype='<U6')"
      ]
     },
     "execution_count": 92,
     "metadata": {},
     "output_type": "execute_result"
    }
   ],
   "source": [
    "swapcase_string = np.char.swapcase(string_arr)\n",
    "swapcase_string"
   ]
  },
  {
   "cell_type": "code",
   "execution_count": null,
   "id": "fd52ede9-827b-475e-942c-3347bc757d5a",
   "metadata": {},
   "outputs": [],
   "source": []
  }
 ],
 "metadata": {
  "kernelspec": {
   "display_name": "Python 3 (ipykernel)",
   "language": "python",
   "name": "python3"
  },
  "language_info": {
   "codemirror_mode": {
    "name": "ipython",
    "version": 3
   },
   "file_extension": ".py",
   "mimetype": "text/x-python",
   "name": "python",
   "nbconvert_exporter": "python",
   "pygments_lexer": "ipython3",
   "version": "3.12.4"
  }
 },
 "nbformat": 4,
 "nbformat_minor": 5
}
