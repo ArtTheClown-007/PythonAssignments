{
 "cells": [
  {
   "cell_type": "code",
   "execution_count": 4,
   "id": "20eeffc6-4f25-40af-9813-a34455a37861",
   "metadata": {},
   "outputs": [],
   "source": [
    "import numpy as np"
   ]
  },
  {
   "cell_type": "code",
   "execution_count": 5,
   "id": "a553c5ac-7239-411c-8b7a-1317fb05f6b1",
   "metadata": {},
   "outputs": [],
   "source": [
    "# Q1. 1. Create a 3x3 NumPy array with random integers between 1 and 100. Then, interchange its rows and columns."
   ]
  },
  {
   "cell_type": "code",
   "execution_count": 6,
   "id": "237d837c-4221-421a-a2a8-f7df65de9630",
   "metadata": {},
   "outputs": [
    {
     "data": {
      "text/plain": [
       "array([[70, 24, 92],\n",
       "       [10, 88, 62],\n",
       "       [17, 65, 47]], dtype=int32)"
      ]
     },
     "execution_count": 6,
     "metadata": {},
     "output_type": "execute_result"
    }
   ],
   "source": [
    "Array_3x3 = np.random.randint(1,101,size =(3,3))\n",
    "Array_3x3"
   ]
  },
  {
   "cell_type": "code",
   "execution_count": 7,
   "id": "40eed1d2-4aab-4cf0-813f-2b4c5d141d88",
   "metadata": {},
   "outputs": [
    {
     "data": {
      "text/plain": [
       "array([[70, 10, 17],\n",
       "       [24, 88, 65],\n",
       "       [92, 62, 47]], dtype=int32)"
      ]
     },
     "execution_count": 7,
     "metadata": {},
     "output_type": "execute_result"
    }
   ],
   "source": [
    "Array_3x3.T  # Transposing to interchange rows and columns"
   ]
  },
  {
   "cell_type": "code",
   "execution_count": 8,
   "id": "0ebd295a-e827-4dbe-857b-bc66c9819ad1",
   "metadata": {},
   "outputs": [],
   "source": [
    "# Q2. Generate a 1D NumPy array with 10 elements. Reshape it into a 2x5 array, then into a 5x2 array."
   ]
  },
  {
   "cell_type": "code",
   "execution_count": 9,
   "id": "d905d062-cb1b-4643-aaa1-e5c19087c45d",
   "metadata": {},
   "outputs": [
    {
     "data": {
      "text/plain": [
       "array([[ 7,  3, 10, 10, 10,  3,  9,  5,  3,  7]], dtype=int32)"
      ]
     },
     "execution_count": 9,
     "metadata": {},
     "output_type": "execute_result"
    }
   ],
   "source": [
    "Array_of_ten = np.random.randint(1,11, size = (1,10))\n",
    "Array_of_ten"
   ]
  },
  {
   "cell_type": "code",
   "execution_count": 10,
   "id": "e8ccbf06-c98b-46b1-a301-766d8000bcf7",
   "metadata": {},
   "outputs": [
    {
     "data": {
      "text/plain": [
       "array([[ 7,  3, 10, 10, 10],\n",
       "       [ 3,  9,  5,  3,  7]], dtype=int32)"
      ]
     },
     "execution_count": 10,
     "metadata": {},
     "output_type": "execute_result"
    }
   ],
   "source": [
    "Array_of_ten.reshape(2,5)"
   ]
  },
  {
   "cell_type": "code",
   "execution_count": 11,
   "id": "503f6dbc-60be-4da3-b323-ef74910168f5",
   "metadata": {},
   "outputs": [
    {
     "data": {
      "text/plain": [
       "array([[ 7,  3],\n",
       "       [10, 10],\n",
       "       [10,  3],\n",
       "       [ 9,  5],\n",
       "       [ 3,  7]], dtype=int32)"
      ]
     },
     "execution_count": 11,
     "metadata": {},
     "output_type": "execute_result"
    }
   ],
   "source": [
    "Array_of_ten.reshape(5,2)"
   ]
  },
  {
   "cell_type": "code",
   "execution_count": 12,
   "id": "84f88778-82e6-438c-9c93-9ca04a3ddd78",
   "metadata": {},
   "outputs": [],
   "source": [
    "# Q3. Create a 4x4 NumPy array with random float values. Add a border of zeros around it, resulting in a 6x6 array."
   ]
  },
  {
   "cell_type": "code",
   "execution_count": 13,
   "id": "e9e0483c-09cb-4ed2-820c-aa4a7d0c454a",
   "metadata": {},
   "outputs": [
    {
     "data": {
      "text/plain": [
       "array([[0.45345993, 0.97402679, 0.20047662, 0.29912414],\n",
       "       [0.85078411, 0.20354955, 0.76682907, 0.25848838],\n",
       "       [0.17796468, 0.54068521, 0.26055305, 0.51988176],\n",
       "       [0.4239058 , 0.59302672, 0.10476009, 0.38986441]])"
      ]
     },
     "execution_count": 13,
     "metadata": {},
     "output_type": "execute_result"
    }
   ],
   "source": [
    "Array_4x4 = np.random.rand(4,4)\n",
    "Array_4x4"
   ]
  },
  {
   "cell_type": "code",
   "execution_count": 14,
   "id": "5b60250f-86cf-46ee-91cb-75168cbe286b",
   "metadata": {},
   "outputs": [
    {
     "name": "stdout",
     "output_type": "stream",
     "text": [
      "[[0.         0.         0.         0.         0.         0.        ]\n",
      " [0.         0.45345993 0.97402679 0.20047662 0.29912414 0.        ]\n",
      " [0.         0.85078411 0.20354955 0.76682907 0.25848838 0.        ]\n",
      " [0.         0.17796468 0.54068521 0.26055305 0.51988176 0.        ]\n",
      " [0.         0.4239058  0.59302672 0.10476009 0.38986441 0.        ]\n",
      " [0.         0.         0.         0.         0.         0.        ]]\n"
     ]
    }
   ],
   "source": [
    "Array_6x6 = np.zeros((6,6))\n",
    "Array_6x6[1:5,1:5] = Array_4x4 # Assigning those random values to the core\n",
    "print(Array_6x6)"
   ]
  },
  {
   "cell_type": "code",
   "execution_count": 15,
   "id": "21f45dff-aed3-4774-9120-ae1204169a13",
   "metadata": {},
   "outputs": [],
   "source": [
    "# Q4.Using NumPy, create an array of integers from 10 to 60 with a step of 5."
   ]
  },
  {
   "cell_type": "code",
   "execution_count": 16,
   "id": "3b2f1962-5043-48f3-b1c2-bc377b717e56",
   "metadata": {},
   "outputs": [
    {
     "data": {
      "text/plain": [
       "array([10, 15, 20, 25, 30, 35, 40, 45, 50, 55, 60])"
      ]
     },
     "execution_count": 16,
     "metadata": {},
     "output_type": "execute_result"
    }
   ],
   "source": [
    "numpy_arr = np.arange(10,61,5)\n",
    "numpy_arr"
   ]
  },
  {
   "cell_type": "code",
   "execution_count": 17,
   "id": "b5c4f522-1ccd-4264-a2b3-0357141fe0cb",
   "metadata": {},
   "outputs": [],
   "source": [
    "# Q5. Create a NumPy array of strings ['python', 'numpy', 'pandas']. Apply different case transformations\n",
    "# (uppercase, lowercase, title case, etc.) to each element."
   ]
  },
  {
   "cell_type": "code",
   "execution_count": 18,
   "id": "8564ae2d-cbf1-42e5-a90b-1fcef9521f37",
   "metadata": {},
   "outputs": [],
   "source": [
    "string_arr = np.array(['python', 'numpy', 'pandas'])"
   ]
  },
  {
   "cell_type": "code",
   "execution_count": 19,
   "id": "141b45e3-35c3-477d-8f02-abe87a67f70c",
   "metadata": {},
   "outputs": [
    {
     "data": {
      "text/plain": [
       "array(['PYTHON', 'NUMPY', 'PANDAS'], dtype='<U6')"
      ]
     },
     "execution_count": 19,
     "metadata": {},
     "output_type": "execute_result"
    }
   ],
   "source": [
    "upper_string = np.char.upper(string_arr)\n",
    "upper_string"
   ]
  },
  {
   "cell_type": "code",
   "execution_count": 20,
   "id": "503ced82-d97d-48ec-a15d-d69e9241537a",
   "metadata": {},
   "outputs": [
    {
     "data": {
      "text/plain": [
       "array(['python', 'numpy', 'pandas'], dtype='<U6')"
      ]
     },
     "execution_count": 20,
     "metadata": {},
     "output_type": "execute_result"
    }
   ],
   "source": [
    "lower_string = np.char.lower(string_arr)\n",
    "lower_string"
   ]
  },
  {
   "cell_type": "code",
   "execution_count": 21,
   "id": "b2429b11-41f8-46e0-bf13-eff71750ce7c",
   "metadata": {},
   "outputs": [
    {
     "data": {
      "text/plain": [
       "array(['Python', 'Numpy', 'Pandas'], dtype='<U6')"
      ]
     },
     "execution_count": 21,
     "metadata": {},
     "output_type": "execute_result"
    }
   ],
   "source": [
    "title_string = np.char.title(string_arr)\n",
    "title_string"
   ]
  },
  {
   "cell_type": "code",
   "execution_count": 22,
   "id": "a7e57bf8-90a1-487f-af79-e5e47ef631c6",
   "metadata": {},
   "outputs": [
    {
     "data": {
      "text/plain": [
       "array(['PYTHON', 'NUMPY', 'PANDAS'], dtype='<U6')"
      ]
     },
     "execution_count": 22,
     "metadata": {},
     "output_type": "execute_result"
    }
   ],
   "source": [
    "swapcase_string = np.char.swapcase(string_arr)\n",
    "swapcase_string"
   ]
  },
  {
   "cell_type": "code",
   "execution_count": 23,
   "id": "fd52ede9-827b-475e-942c-3347bc757d5a",
   "metadata": {},
   "outputs": [],
   "source": [
    "# Q6. Generate a NumPy array of words. Insert a space between each character of every word in the array."
   ]
  },
  {
   "cell_type": "code",
   "execution_count": 24,
   "id": "02222376-cfdd-4db3-87b6-d0b34fb2fd23",
   "metadata": {},
   "outputs": [
    {
     "data": {
      "text/plain": [
       "array(['M a x i n e M i n x', 'D e b o r a h M o r g a n',\n",
       "       'L u c a s H o o d'], dtype='<U25')"
      ]
     },
     "execution_count": 24,
     "metadata": {},
     "output_type": "execute_result"
    }
   ],
   "source": [
    "arr_of_wrds = np.array(['MaxineMinx', 'DeborahMorgan', 'LucasHood'])\n",
    "spaced_wrds = np.array([' '.join(list(wrd)) for wrd in arr_of_wrds])\n",
    "spaced_wrds"
   ]
  },
  {
   "cell_type": "code",
   "execution_count": 25,
   "id": "11c13225-670a-4684-86cc-24d237ca0eb3",
   "metadata": {},
   "outputs": [],
   "source": [
    "# Q7. Create two 2D NumPy arrays and perform element-wise addition, subtraction, multiplication, and division."
   ]
  },
  {
   "cell_type": "code",
   "execution_count": 26,
   "id": "65f77a76-a92b-4f4e-bbb2-7f32b7c597b7",
   "metadata": {},
   "outputs": [
    {
     "data": {
      "text/plain": [
       "array([[1, 3, 2],\n",
       "       [8, 1, 6],\n",
       "       [5, 3, 7]], dtype=int32)"
      ]
     },
     "execution_count": 26,
     "metadata": {},
     "output_type": "execute_result"
    }
   ],
   "source": [
    "arr1 = np.random.randint(1,10,(3,3))\n",
    "arr1"
   ]
  },
  {
   "cell_type": "code",
   "execution_count": 27,
   "id": "8d16ef0b-4409-43bb-a3d4-464a0a90aa11",
   "metadata": {},
   "outputs": [
    {
     "data": {
      "text/plain": [
       "array([[10, 18, 18],\n",
       "       [16, 13, 11],\n",
       "       [18, 12, 13]], dtype=int32)"
      ]
     },
     "execution_count": 27,
     "metadata": {},
     "output_type": "execute_result"
    }
   ],
   "source": [
    "arr2 = np.random.randint(10,20,(3,3))\n",
    "arr2"
   ]
  },
  {
   "cell_type": "code",
   "execution_count": 28,
   "id": "53544004-43f9-4bff-a30a-707d54d14039",
   "metadata": {},
   "outputs": [
    {
     "data": {
      "text/plain": [
       "array([[11, 21, 20],\n",
       "       [24, 14, 17],\n",
       "       [23, 15, 20]], dtype=int32)"
      ]
     },
     "execution_count": 28,
     "metadata": {},
     "output_type": "execute_result"
    }
   ],
   "source": [
    "arr1 + arr2"
   ]
  },
  {
   "cell_type": "code",
   "execution_count": 29,
   "id": "a2805727-0e88-4e7a-be24-5f8bfe39b4e5",
   "metadata": {},
   "outputs": [
    {
     "data": {
      "text/plain": [
       "array([[ 9, 15, 16],\n",
       "       [ 8, 12,  5],\n",
       "       [13,  9,  6]], dtype=int32)"
      ]
     },
     "execution_count": 29,
     "metadata": {},
     "output_type": "execute_result"
    }
   ],
   "source": [
    "arr2 - arr1"
   ]
  },
  {
   "cell_type": "code",
   "execution_count": 30,
   "id": "100321c1-a240-40c3-a172-6fe6f525f371",
   "metadata": {},
   "outputs": [
    {
     "data": {
      "text/plain": [
       "array([[ 10,  54,  36],\n",
       "       [128,  13,  66],\n",
       "       [ 90,  36,  91]], dtype=int32)"
      ]
     },
     "execution_count": 30,
     "metadata": {},
     "output_type": "execute_result"
    }
   ],
   "source": [
    "arr1 * arr2"
   ]
  },
  {
   "cell_type": "code",
   "execution_count": 31,
   "id": "d17d3428-69d6-45f8-b83b-2fedb4b7586a",
   "metadata": {},
   "outputs": [
    {
     "data": {
      "text/plain": [
       "array([[10.        ,  6.        ,  9.        ],\n",
       "       [ 2.        , 13.        ,  1.83333333],\n",
       "       [ 3.6       ,  4.        ,  1.85714286]])"
      ]
     },
     "execution_count": 31,
     "metadata": {},
     "output_type": "execute_result"
    }
   ],
   "source": [
    "arr2 / arr1"
   ]
  },
  {
   "cell_type": "code",
   "execution_count": 32,
   "id": "c23e0555-be21-4b01-af75-6d76df248f7a",
   "metadata": {},
   "outputs": [],
   "source": [
    "# Q8. Use NumPy to create a 5x5 identity matrix, then extract its diagonal elements."
   ]
  },
  {
   "cell_type": "code",
   "execution_count": 33,
   "id": "0e976f10-a067-4551-be9e-33381e5ff7cb",
   "metadata": {},
   "outputs": [],
   "source": [
    "matrix_5x5 = np.eye(5,5, dtype = int)"
   ]
  },
  {
   "cell_type": "code",
   "execution_count": 34,
   "id": "598b51f9-a882-41d8-8cce-dd4152c5cb85",
   "metadata": {},
   "outputs": [
    {
     "data": {
      "text/plain": [
       "array([1, 1, 1, 1, 1])"
      ]
     },
     "execution_count": 34,
     "metadata": {},
     "output_type": "execute_result"
    }
   ],
   "source": [
    "diagonal_elements = np.diag(matrix_5x5)\n",
    "diagonal_elements"
   ]
  },
  {
   "cell_type": "code",
   "execution_count": 35,
   "id": "a041589f-4778-4091-9eee-c6d943169608",
   "metadata": {},
   "outputs": [],
   "source": [
    "# Q9. Generate a NumPy array of 100 random integers between 0 and 1000. Find and display all prime numbers in\n",
    "# this array."
   ]
  },
  {
   "cell_type": "code",
   "execution_count": 81,
   "id": "87133479-ab73-4c61-aa9e-970aa3b601dc",
   "metadata": {},
   "outputs": [
    {
     "name": "stdout",
     "output_type": "stream",
     "text": [
      "[np.int32(677), np.int32(193), np.int32(463), np.int32(101), np.int32(283), np.int32(547), np.int32(733), np.int32(457), np.int32(479), np.int32(563), np.int32(349), np.int32(733), np.int32(457)]\n"
     ]
    }
   ],
   "source": [
    "random_integers = np.random.randint(0, 1001, size=100)\n",
    "\n",
    "\n",
    "def is_prime(num):\n",
    "    if num <= 1:\n",
    "        return False\n",
    "    for i in range(2, int(num**0.5) + 1):\n",
    "        if num % i == 0:\n",
    "            return False\n",
    "    return True\n",
    "\n",
    "\n",
    "prime_numbers = [num for num in random_integers if is_prime(num)]\n",
    "\n",
    "print(prime_numbers)\n"
   ]
  },
  {
   "cell_type": "code",
   "execution_count": 41,
   "id": "2f9fd706-22b6-4129-9c39-f0e692c0d54d",
   "metadata": {},
   "outputs": [],
   "source": [
    "# Q 10. Create a NumPy array representing daily temperatures for a month. Calculate and display the weekly\n",
    "# averages."
   ]
  },
  {
   "cell_type": "code",
   "execution_count": 78,
   "id": "82f1e2bf-fc3f-466c-a6b2-b669f0069852",
   "metadata": {},
   "outputs": [
    {
     "data": {
      "text/plain": [
       "array([20, 24, 23, 21, 24, 23, 20, 22, 23, 20, 21, 25, 21, 24, 21, 24, 24,\n",
       "       21, 21, 24, 20, 21, 23, 23, 21, 25, 21, 22], dtype=int32)"
      ]
     },
     "execution_count": 78,
     "metadata": {},
     "output_type": "execute_result"
    }
   ],
   "source": [
    "Temps_for_Feb = np.random.randint(20,26,size = 28)\n",
    "Temps_for_Feb"
   ]
  },
  {
   "cell_type": "code",
   "execution_count": 79,
   "id": "36b31b1e-5892-45a6-be50-234bb3b3dd67",
   "metadata": {},
   "outputs": [
    {
     "data": {
      "text/plain": [
       "array([[20, 24, 23, 21, 24, 23, 20],\n",
       "       [22, 23, 20, 21, 25, 21, 24],\n",
       "       [21, 24, 24, 21, 21, 24, 20],\n",
       "       [21, 23, 23, 21, 25, 21, 22]], dtype=int32)"
      ]
     },
     "execution_count": 79,
     "metadata": {},
     "output_type": "execute_result"
    }
   ],
   "source": [
    "weeks = Temps_for_Feb.reshape(4,7)\n",
    "weeks"
   ]
  },
  {
   "cell_type": "code",
   "execution_count": 80,
   "id": "5303e7ac-ce4b-4491-b291-fdd00b4bc40f",
   "metadata": {},
   "outputs": [
    {
     "name": "stdout",
     "output_type": "stream",
     "text": [
      "Weekly Temperatures: \n",
      "22.142857142857142\n",
      "22.285714285714285\n",
      "22.142857142857142\n",
      "22.285714285714285\n"
     ]
    }
   ],
   "source": [
    "weekly_averages = np.mean(weeks, axis=1)\n",
    "print('Weekly Temperatures: ')\n",
    "for temp in weekly_averages:\n",
    "    print(temp)"
   ]
  },
  {
   "cell_type": "code",
   "execution_count": null,
   "id": "9043dea2-b511-42a6-91d0-5a7230d55aba",
   "metadata": {},
   "outputs": [],
   "source": []
  }
 ],
 "metadata": {
  "kernelspec": {
   "display_name": "Python 3 (ipykernel)",
   "language": "python",
   "name": "python3"
  },
  "language_info": {
   "codemirror_mode": {
    "name": "ipython",
    "version": 3
   },
   "file_extension": ".py",
   "mimetype": "text/x-python",
   "name": "python",
   "nbconvert_exporter": "python",
   "pygments_lexer": "ipython3",
   "version": "3.12.4"
  }
 },
 "nbformat": 4,
 "nbformat_minor": 5
}
