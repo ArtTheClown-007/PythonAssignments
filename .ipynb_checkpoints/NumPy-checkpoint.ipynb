{
 "cells": [
  {
   "cell_type": "raw",
   "id": "af42f0eb-45ae-488c-bc23-6868aec615dc",
   "metadata": {},
   "source": [
    "# Numerical Python -> developed in 2005 by Travis Oliphant\n",
    "# Tora and Linga before 2005"
   ]
  },
  {
   "cell_type": "code",
   "execution_count": 3,
   "id": "39138049-e3ec-4918-9f57-07b42076273f",
   "metadata": {},
   "outputs": [],
   "source": [
    "import numpy as np # np is an alias"
   ]
  },
  {
   "cell_type": "code",
   "execution_count": 4,
   "id": "572ff239-5e69-4959-ad62-13de7d48586d",
   "metadata": {},
   "outputs": [
    {
     "data": {
      "text/plain": [
       "'2.0.1'"
      ]
     },
     "execution_count": 4,
     "metadata": {},
     "output_type": "execute_result"
    }
   ],
   "source": [
    "np.__version__"
   ]
  },
  {
   "cell_type": "code",
   "execution_count": 5,
   "id": "b6c6d606-769b-42ab-ae40-991d636d6b89",
   "metadata": {},
   "outputs": [
    {
     "name": "stdout",
     "output_type": "stream",
     "text": [
      "\n",
      "NumPy\n",
      "=====\n",
      "\n",
      "Provides\n",
      "  1. An array object of arbitrary homogeneous items\n",
      "  2. Fast mathematical operations over arrays\n",
      "  3. Linear Algebra, Fourier Transforms, Random Number Generation\n",
      "\n",
      "How to use the documentation\n",
      "----------------------------\n",
      "Documentation is available in two forms: docstrings provided\n",
      "with the code, and a loose standing reference guide, available from\n",
      "`the NumPy homepage <https://numpy.org>`_.\n",
      "\n",
      "We recommend exploring the docstrings using\n",
      "`IPython <https://ipython.org>`_, an advanced Python shell with\n",
      "TAB-completion and introspection capabilities.  See below for further\n",
      "instructions.\n",
      "\n",
      "The docstring examples assume that `numpy` has been imported as ``np``::\n",
      "\n",
      "  >>> import numpy as np\n",
      "\n",
      "Code snippets are indicated by three greater-than signs::\n",
      "\n",
      "  >>> x = 42\n",
      "  >>> x = x + 1\n",
      "\n",
      "Use the built-in ``help`` function to view a function's docstring::\n",
      "\n",
      "  >>> help(np.sort)\n",
      "  ... # doctest: +SKIP\n",
      "\n",
      "For some objects, ``np.info(obj)`` may provide additional help.  This is\n",
      "particularly true if you see the line \"Help on ufunc object:\" at the top\n",
      "of the help() page.  Ufuncs are implemented in C, not Python, for speed.\n",
      "The native Python help() does not know how to view their help, but our\n",
      "np.info() function does.\n",
      "\n",
      "Available subpackages\n",
      "---------------------\n",
      "lib\n",
      "    Basic functions used by several sub-packages.\n",
      "random\n",
      "    Core Random Tools\n",
      "linalg\n",
      "    Core Linear Algebra Tools\n",
      "fft\n",
      "    Core FFT routines\n",
      "polynomial\n",
      "    Polynomial tools\n",
      "testing\n",
      "    NumPy testing tools\n",
      "distutils\n",
      "    Enhancements to distutils with support for\n",
      "    Fortran compilers support and more (for Python <= 3.11)\n",
      "\n",
      "Utilities\n",
      "---------\n",
      "test\n",
      "    Run numpy unittests\n",
      "show_config\n",
      "    Show numpy build configuration\n",
      "__version__\n",
      "    NumPy version string\n",
      "\n",
      "Viewing documentation using IPython\n",
      "-----------------------------------\n",
      "\n",
      "Start IPython and import `numpy` usually under the alias ``np``: `import\n",
      "numpy as np`.  Then, directly past or use the ``%cpaste`` magic to paste\n",
      "examples into the shell.  To see which functions are available in `numpy`,\n",
      "type ``np.<TAB>`` (where ``<TAB>`` refers to the TAB key), or use\n",
      "``np.*cos*?<ENTER>`` (where ``<ENTER>`` refers to the ENTER key) to narrow\n",
      "down the list.  To view the docstring for a function, use\n",
      "``np.cos?<ENTER>`` (to view the docstring) and ``np.cos??<ENTER>`` (to view\n",
      "the source code).\n",
      "\n",
      "Copies vs. in-place operation\n",
      "-----------------------------\n",
      "Most of the functions in `numpy` return a copy of the array argument\n",
      "(e.g., `np.sort`).  In-place versions of these functions are often\n",
      "available as array methods, i.e. ``x = np.array([1,2,3]); x.sort()``.\n",
      "Exceptions to this rule are documented.\n",
      "\n",
      "\n"
     ]
    }
   ],
   "source": [
    "print(np.__doc__)"
   ]
  },
  {
   "cell_type": "code",
   "execution_count": 6,
   "id": "1bde91ab-9be8-4e16-a30e-5a2507f695a0",
   "metadata": {},
   "outputs": [],
   "source": [
    "lis = [1,2,\"bla\",'B',True]"
   ]
  },
  {
   "cell_type": "code",
   "execution_count": 7,
   "id": "ff53dd97-4a38-4c6e-8d4f-589d6703f057",
   "metadata": {},
   "outputs": [],
   "source": [
    "# Numpy stores the data in a numpy array\n",
    "# An array is a container used to store data of same data type"
   ]
  },
  {
   "cell_type": "code",
   "execution_count": 8,
   "id": "455094c0-036e-485a-ad8f-dfd846abbb91",
   "metadata": {},
   "outputs": [],
   "source": [
    "# Numpy is built using C >>  Hence numpy computation is fast\n",
    "# due to array >> homogeneous data is stored >> numpy array is faster\n",
    "# homogeneous data >> continuos memory location"
   ]
  },
  {
   "cell_type": "code",
   "execution_count": 9,
   "id": "06963a04-5082-42f4-be08-e6ba0043cae5",
   "metadata": {},
   "outputs": [],
   "source": [
    "MyArray = [1,2,3,4,5]"
   ]
  },
  {
   "cell_type": "code",
   "execution_count": 10,
   "id": "79dccf09-0640-453c-8bff-5ddd34cdb20c",
   "metadata": {},
   "outputs": [],
   "source": [
    "arr = np.array(MyArray)"
   ]
  },
  {
   "cell_type": "code",
   "execution_count": 11,
   "id": "ff85ec0d-506f-4c7e-9858-fee77befdcbf",
   "metadata": {},
   "outputs": [
    {
     "data": {
      "text/plain": [
       "numpy.ndarray"
      ]
     },
     "execution_count": 11,
     "metadata": {},
     "output_type": "execute_result"
    }
   ],
   "source": [
    "type(arr)  # numpy.ndarray >> n dimensional array"
   ]
  },
  {
   "cell_type": "code",
   "execution_count": 12,
   "id": "0cf143f7-a9a6-4373-991c-15b011080188",
   "metadata": {},
   "outputs": [
    {
     "name": "stdout",
     "output_type": "stream",
     "text": [
      "['1' '2' '3' '4' '5' 'Max']\n"
     ]
    }
   ],
   "source": [
    "l = [1,2,3,4,5,\"Max\"]\n",
    "print(np.array(l)) # int data was promoted to string"
   ]
  },
  {
   "cell_type": "code",
   "execution_count": 13,
   "id": "bed302f4-5ac6-42b9-b94c-baab8a026d82",
   "metadata": {},
   "outputs": [
    {
     "data": {
      "text/plain": [
       "1"
      ]
     },
     "execution_count": 13,
     "metadata": {},
     "output_type": "execute_result"
    }
   ],
   "source": [
    "arr.ndim"
   ]
  },
  {
   "cell_type": "code",
   "execution_count": 14,
   "id": "fd42286e-a36a-43ed-b21f-11bb279aaf22",
   "metadata": {},
   "outputs": [],
   "source": [
    "l2 = [ [1,3,4,5,6],\n",
    "       [2,3,3,4,5],\n",
    "       [1,0,1,0,1] ]\n",
    "arr2 = np.array(l2)"
   ]
  },
  {
   "cell_type": "code",
   "execution_count": 15,
   "id": "02a74da9-4c38-4e04-8a4d-fcec471f0dbd",
   "metadata": {},
   "outputs": [
    {
     "data": {
      "text/plain": [
       "2"
      ]
     },
     "execution_count": 15,
     "metadata": {},
     "output_type": "execute_result"
    }
   ],
   "source": [
    "arr2.ndim"
   ]
  },
  {
   "cell_type": "code",
   "execution_count": 16,
   "id": "de00dfa5-057b-46de-a68a-44916b9dd9f9",
   "metadata": {},
   "outputs": [
    {
     "data": {
      "text/plain": [
       "array([[1, 3, 4, 5, 6],\n",
       "       [2, 3, 3, 4, 5],\n",
       "       [1, 0, 1, 0, 1]])"
      ]
     },
     "execution_count": 16,
     "metadata": {},
     "output_type": "execute_result"
    }
   ],
   "source": [
    "arr2"
   ]
  },
  {
   "cell_type": "code",
   "execution_count": 17,
   "id": "5391944e-037a-471e-9b1e-d03948b15dad",
   "metadata": {},
   "outputs": [
    {
     "name": "stdout",
     "output_type": "stream",
     "text": [
      "1 3 4 5 6 \n",
      "2 3 3 4 5 \n",
      "1 0 1 0 1 \n"
     ]
    }
   ],
   "source": [
    "for i in range(3):\n",
    "    for j in range(5):\n",
    "        print(arr2[i][j],end = \" \")\n",
    "    print()\n",
    "    "
   ]
  },
  {
   "cell_type": "code",
   "execution_count": 18,
   "id": "a72540b2-c93a-4ee0-8e98-a76f475a73f2",
   "metadata": {},
   "outputs": [],
   "source": [
    "\n",
    "Matrix_3x3 = np.matrix( [[1,2,3],\n",
    "                         [2,1,3],\n",
    "                         [3,2,1]] )"
   ]
  },
  {
   "cell_type": "code",
   "execution_count": 19,
   "id": "582b9e10-8b8f-44d9-909b-fef07cfd157d",
   "metadata": {},
   "outputs": [
    {
     "data": {
      "text/plain": [
       "2"
      ]
     },
     "execution_count": 19,
     "metadata": {},
     "output_type": "execute_result"
    }
   ],
   "source": [
    "Matrix_3x3.ndim"
   ]
  },
  {
   "cell_type": "code",
   "execution_count": 20,
   "id": "a38c9870-727e-496c-ad20-bbdd36c2bece",
   "metadata": {},
   "outputs": [
    {
     "data": {
      "text/plain": [
       "matrix([[1, 2, 3],\n",
       "        [2, 1, 3],\n",
       "        [3, 2, 1]])"
      ]
     },
     "execution_count": 20,
     "metadata": {},
     "output_type": "execute_result"
    }
   ],
   "source": [
    "Matrix_3x3"
   ]
  },
  {
   "cell_type": "code",
   "execution_count": 21,
   "id": "394d7ad8-3c53-4268-9041-f698148e242d",
   "metadata": {},
   "outputs": [],
   "source": [
    "# 3 Dimensional Matrix does not exist\n",
    "# It must be 2 dimensional"
   ]
  },
  {
   "cell_type": "code",
   "execution_count": 22,
   "id": "8da813e7-af29-4778-a607-4f78007bbcbe",
   "metadata": {},
   "outputs": [],
   "source": [
    "ThreeD_arr = np.array(( [[[1,2,3],\n",
    "                          [2,1,3],\n",
    "                          [3,2,1]]]))"
   ]
  },
  {
   "cell_type": "code",
   "execution_count": 23,
   "id": "7ce9175b-3564-482b-8b9c-90a28d0020ba",
   "metadata": {},
   "outputs": [
    {
     "data": {
      "text/plain": [
       "3"
      ]
     },
     "execution_count": 23,
     "metadata": {},
     "output_type": "execute_result"
    }
   ],
   "source": [
    "ThreeD_arr.ndim"
   ]
  },
  {
   "cell_type": "code",
   "execution_count": 24,
   "id": "fb87e1dd-498f-4fbe-bd8b-04711eb0797d",
   "metadata": {},
   "outputs": [],
   "source": [
    "# Three Dim--> [[[ ]]]\n",
    "# Two dim --> [[ ]]\n",
    "# One dim --> [ ]"
   ]
  },
  {
   "cell_type": "code",
   "execution_count": 25,
   "id": "330abaea-9cd5-454c-b676-5426c6fe9aad",
   "metadata": {},
   "outputs": [],
   "source": [
    "lisst = [[1,2,3],\n",
    "            [2,1,3],\n",
    "                [3,2,1]]"
   ]
  },
  {
   "cell_type": "code",
   "execution_count": 26,
   "id": "2e668a01-0176-4791-b062-8718797c568a",
   "metadata": {},
   "outputs": [],
   "source": [
    "my_arr = np.asarray(lisst)"
   ]
  },
  {
   "cell_type": "code",
   "execution_count": 27,
   "id": "f6038728-5f85-427f-8d69-b9e894453f43",
   "metadata": {},
   "outputs": [
    {
     "data": {
      "text/plain": [
       "array([[1, 2, 3],\n",
       "       [2, 1, 3],\n",
       "       [3, 2, 1]])"
      ]
     },
     "execution_count": 27,
     "metadata": {},
     "output_type": "execute_result"
    }
   ],
   "source": [
    "np.asanyarray(lisst)"
   ]
  },
  {
   "cell_type": "code",
   "execution_count": 28,
   "id": "9ed8e145-4e34-4178-b6b3-8635fae26d21",
   "metadata": {},
   "outputs": [
    {
     "data": {
      "text/plain": [
       "array([[1, 2, 3],\n",
       "       [2, 1, 3],\n",
       "       [3, 2, 1]])"
      ]
     },
     "execution_count": 28,
     "metadata": {},
     "output_type": "execute_result"
    }
   ],
   "source": [
    "np.asanyarray(my_arr)"
   ]
  },
  {
   "cell_type": "code",
   "execution_count": 29,
   "id": "2659acd6-ea38-44b6-8e1d-3fbf524eeb31",
   "metadata": {},
   "outputs": [],
   "source": [
    "# asanyarray will convert the input to an ndarray, but pass ndarray subclass \n",
    "# if something is already an array or its subclass like matrux then it just \n",
    "# lets it pass through"
   ]
  },
  {
   "cell_type": "code",
   "execution_count": 30,
   "id": "ca2386a2-2b1c-4263-a6c8-7428d3e9d40d",
   "metadata": {},
   "outputs": [],
   "source": [
    "t = ([1,2,3],\n",
    "     [4,5,6])"
   ]
  },
  {
   "cell_type": "code",
   "execution_count": 31,
   "id": "f6f1806f-9370-4e2d-9320-7513d970b35a",
   "metadata": {},
   "outputs": [],
   "source": [
    "arr = np.array(t)"
   ]
  },
  {
   "cell_type": "code",
   "execution_count": 32,
   "id": "5e081263-f862-42d6-baa3-60f3499e9827",
   "metadata": {},
   "outputs": [],
   "source": [
    "arr[0][1] = 0\n",
    "arr[0][0] = 0"
   ]
  },
  {
   "cell_type": "code",
   "execution_count": 33,
   "id": "21113514-3a3b-431a-8cf2-dc388e52aa6f",
   "metadata": {},
   "outputs": [
    {
     "name": "stdout",
     "output_type": "stream",
     "text": [
      "0 0 3 \n",
      "4 5 6 \n"
     ]
    }
   ],
   "source": [
    "for i in range(2):\n",
    "    for j in range(3):\n",
    "        print(arr[i][j], end = \" \")\n",
    "    print()"
   ]
  },
  {
   "cell_type": "code",
   "execution_count": 34,
   "id": "02844007-1f66-46b5-8672-2ddeb25b2d5b",
   "metadata": {},
   "outputs": [],
   "source": [
    "# shallow copy >> change in one array will lead to change in another"
   ]
  },
  {
   "cell_type": "code",
   "execution_count": 35,
   "id": "7ac9d50b-85ac-4aa3-8e1a-3ff0c4d91491",
   "metadata": {},
   "outputs": [],
   "source": [
    "b = arr.copy() # Deep copy"
   ]
  },
  {
   "cell_type": "code",
   "execution_count": 36,
   "id": "8b4a3095-282f-4972-8979-d59514b4523f",
   "metadata": {},
   "outputs": [],
   "source": [
    "b[0][0] = 100\n",
    "b[0][1] = 100"
   ]
  },
  {
   "cell_type": "code",
   "execution_count": 97,
   "id": "764abca8-403c-4658-98bb-cc9bbce8e9a5",
   "metadata": {},
   "outputs": [
    {
     "name": "stdout",
     "output_type": "stream",
     "text": [
      "100 100 3 \n",
      "4 5 6 \n"
     ]
    }
   ],
   "source": [
    "for i in range(2):\n",
    "    for j in range(3):\n",
    "        print(b[i][j], end = \" \")\n",
    "    print()"
   ]
  },
  {
   "cell_type": "code",
   "execution_count": 98,
   "id": "3581ff05-d9ca-446f-9f45-4f2f77db9383",
   "metadata": {},
   "outputs": [],
   "source": [
    "# To create an array >> np.array, np.asarray, np.asanyarray"
   ]
  },
  {
   "cell_type": "code",
   "execution_count": 101,
   "id": "caf95f3f-ad34-41aa-8205-a7f5aa92b17c",
   "metadata": {},
   "outputs": [],
   "source": [
    "arr1 = np.fromfunction(lambda i,j: i == j, (3,3))"
   ]
  },
  {
   "cell_type": "code",
   "execution_count": 102,
   "id": "59baf805-c429-4371-9c9c-aa6f6f12611e",
   "metadata": {},
   "outputs": [
    {
     "data": {
      "text/plain": [
       "2"
      ]
     },
     "execution_count": 102,
     "metadata": {},
     "output_type": "execute_result"
    }
   ],
   "source": [
    "arr1.ndim"
   ]
  },
  {
   "cell_type": "code",
   "execution_count": 104,
   "id": "e87fa660-8b42-4594-9a2c-46dfdfe1a600",
   "metadata": {},
   "outputs": [
    {
     "data": {
      "text/plain": [
       "(3, 3)"
      ]
     },
     "execution_count": 104,
     "metadata": {},
     "output_type": "execute_result"
    }
   ],
   "source": [
    "arr1.shape # shape of array"
   ]
  },
  {
   "cell_type": "code",
   "execution_count": 105,
   "id": "eb36abed-51f0-40b4-9774-8c4bd2fdea4c",
   "metadata": {},
   "outputs": [
    {
     "data": {
      "text/plain": [
       "9"
      ]
     },
     "execution_count": 105,
     "metadata": {},
     "output_type": "execute_result"
    }
   ],
   "source": [
    "arr1.size # No of elements"
   ]
  },
  {
   "cell_type": "code",
   "execution_count": 106,
   "id": "e5f04fa3-d06b-497d-a405-4f72eda071fb",
   "metadata": {},
   "outputs": [
    {
     "data": {
      "text/plain": [
       "array([[ True, False, False],\n",
       "       [False,  True, False],\n",
       "       [False, False,  True]])"
      ]
     },
     "execution_count": 106,
     "metadata": {},
     "output_type": "execute_result"
    }
   ],
   "source": [
    "arr1"
   ]
  },
  {
   "cell_type": "code",
   "execution_count": 111,
   "id": "b1899d8c-51c5-43c2-9a6d-cf29022a9d1d",
   "metadata": {},
   "outputs": [],
   "source": [
    "arr2 = np.fromfunction(lambda i,j : i - j, (3,3))"
   ]
  },
  {
   "cell_type": "code",
   "execution_count": 112,
   "id": "025e1ba2-2337-4b06-9401-73d01a9bb201",
   "metadata": {},
   "outputs": [
    {
     "data": {
      "text/plain": [
       "array([[ 0., -1., -2.],\n",
       "       [ 1.,  0., -1.],\n",
       "       [ 2.,  1.,  0.]])"
      ]
     },
     "execution_count": 112,
     "metadata": {},
     "output_type": "execute_result"
    }
   ],
   "source": [
    "arr2"
   ]
  },
  {
   "cell_type": "code",
   "execution_count": 113,
   "id": "6e6e66f4-96fc-4f95-b500-32b619ac4c30",
   "metadata": {},
   "outputs": [
    {
     "data": {
      "text/plain": [
       "array([[0., 1., 2.],\n",
       "       [1., 2., 3.],\n",
       "       [2., 3., 4.]])"
      ]
     },
     "execution_count": 113,
     "metadata": {},
     "output_type": "execute_result"
    }
   ],
   "source": [
    "arr3 = np.fromfunction(lambda i,j : i + j, (3,3))\n",
    "arr3"
   ]
  },
  {
   "cell_type": "code",
   "execution_count": 114,
   "id": "86c16fa5-59d6-4405-9a1e-92bab9148fac",
   "metadata": {},
   "outputs": [
    {
     "data": {
      "text/plain": [
       "array([[0., 0., 0.],\n",
       "       [0., 1., 2.],\n",
       "       [0., 2., 4.]])"
      ]
     },
     "execution_count": 114,
     "metadata": {},
     "output_type": "execute_result"
    }
   ],
   "source": [
    "arr3 = np.fromfunction(lambda i,j : i * j, (3,3))\n",
    "arr3"
   ]
  },
  {
   "cell_type": "code",
   "execution_count": 122,
   "id": "8161ca18-4c85-4e57-aad6-20e7eddce377",
   "metadata": {},
   "outputs": [
    {
     "data": {
      "text/plain": [
       "array([ 1,  2,  3,  4,  5,  6,  7,  8,  9, 10, 11, 12, 13, 14, 15, 16, 17,\n",
       "       18, 19, 20, 21, 22, 23, 24, 25, 26, 27, 28, 29, 30, 31, 32, 33, 34,\n",
       "       35, 36, 37, 38, 39, 40, 41, 42, 43, 44, 45, 46, 47, 48, 49, 50, 51,\n",
       "       52, 53, 54, 55, 56, 57, 58, 59, 60, 61, 62, 63, 64, 65, 66, 67, 68,\n",
       "       69, 70, 71, 72, 73, 74, 75, 76, 77, 78, 79, 80, 81, 82, 83, 84, 85,\n",
       "       86, 87, 88, 89, 90, 91, 92, 93, 94, 95, 96, 97, 98, 99])"
      ]
     },
     "execution_count": 122,
     "metadata": {},
     "output_type": "execute_result"
    }
   ],
   "source": [
    "np.arange(1,100,1) # Similar to range function"
   ]
  },
  {
   "cell_type": "code",
   "execution_count": 150,
   "id": "a3de518d-59ad-4a69-843c-ba0c28b7717b",
   "metadata": {},
   "outputs": [
    {
     "data": {
      "text/plain": [
       "array([1.        , 1.44444444, 1.88888889, 2.33333333, 2.77777778,\n",
       "       3.22222222, 3.66666667, 4.11111111, 4.55555556, 5.        ])"
      ]
     },
     "execution_count": 150,
     "metadata": {},
     "output_type": "execute_result"
    }
   ],
   "source": [
    "np.linspace(1,5,10) # line space \n",
    "# give me 10 numbers between 1 and 5"
   ]
  },
  {
   "cell_type": "code",
   "execution_count": 140,
   "id": "16017093-0aed-4f02-a45c-f61748190ffd",
   "metadata": {},
   "outputs": [],
   "source": [
    "iterator = (i for i in range(5))"
   ]
  },
  {
   "cell_type": "code",
   "execution_count": 141,
   "id": "1573279a-ddd9-475e-98bb-15be8ff024d6",
   "metadata": {},
   "outputs": [
    {
     "data": {
      "text/plain": [
       "<generator object <genexpr> at 0x0000028B87184D00>"
      ]
     },
     "execution_count": 141,
     "metadata": {},
     "output_type": "execute_result"
    }
   ],
   "source": [
    "iterator"
   ]
  },
  {
   "cell_type": "code",
   "execution_count": 142,
   "id": "48266ce3-b6d4-475f-bdb0-1c4f5cdacf9b",
   "metadata": {},
   "outputs": [
    {
     "data": {
      "text/plain": [
       "array([0, 1, 2, 3, 4])"
      ]
     },
     "execution_count": 142,
     "metadata": {},
     "output_type": "execute_result"
    }
   ],
   "source": [
    "np.fromiter(iterator,int) # Create a new 1-D array from an interable object"
   ]
  },
  {
   "cell_type": "code",
   "execution_count": 143,
   "id": "d6686ded-e8d1-4674-8d79-8de4418674a9",
   "metadata": {},
   "outputs": [
    {
     "data": {
      "text/plain": [
       "array([], dtype=float64)"
      ]
     },
     "execution_count": 143,
     "metadata": {},
     "output_type": "execute_result"
    }
   ],
   "source": [
    "np.fromiter(iterator,float)"
   ]
  },
  {
   "cell_type": "code",
   "execution_count": 147,
   "id": "fa5796ff-7c31-467e-b8bd-a64f5c2692aa",
   "metadata": {},
   "outputs": [
    {
     "data": {
      "text/plain": [
       "array([22, 23, 24])"
      ]
     },
     "execution_count": 147,
     "metadata": {},
     "output_type": "execute_result"
    }
   ],
   "source": [
    "np.fromstring('22 23 24',sep = \" \",dtype = int) # By default dtype is float\n",
    "# Values inside string should be numerical"
   ]
  },
  {
   "cell_type": "code",
   "execution_count": 148,
   "id": "0aaf2eba-e508-46ed-9e56-118009e60200",
   "metadata": {},
   "outputs": [
    {
     "data": {
      "text/plain": [
       "['Max', ' Maxine', ' Rad']"
      ]
     },
     "execution_count": 148,
     "metadata": {},
     "output_type": "execute_result"
    }
   ],
   "source": [
    "# For string character you have to use split\n",
    "string = \"Max, Maxine, Rad\"\n",
    "string.split(',')"
   ]
  },
  {
   "cell_type": "code",
   "execution_count": 149,
   "id": "a9242c09-06f3-4866-b5ec-6bb9b46db04d",
   "metadata": {},
   "outputs": [
    {
     "data": {
      "text/plain": [
       "array(['Max', ' Maxine', ' Rad'], dtype='<U7')"
      ]
     },
     "execution_count": 149,
     "metadata": {},
     "output_type": "execute_result"
    }
   ],
   "source": [
    "np.array(string.split(','))"
   ]
  },
  {
   "cell_type": "code",
   "execution_count": 152,
   "id": "21d08bcf-7456-416d-a25f-f8a92e848543",
   "metadata": {},
   "outputs": [
    {
     "data": {
      "text/plain": [
       "array([0., 0., 0., 0., 0.])"
      ]
     },
     "execution_count": 152,
     "metadata": {},
     "output_type": "execute_result"
    }
   ],
   "source": [
    "np.zeros(5) # returns array of  given shape and type, filled with zeros"
   ]
  },
  {
   "cell_type": "code",
   "execution_count": 163,
   "id": "585c494f-32ed-4153-8b5b-73ef39a07a6f",
   "metadata": {},
   "outputs": [],
   "source": [
    "Zero_Arr = np.zeros((3,3),dtype = int) # Zero 3 x 3 Array"
   ]
  },
  {
   "cell_type": "code",
   "execution_count": 164,
   "id": "45c803dc-0296-491b-92ba-c4d4b58173a2",
   "metadata": {},
   "outputs": [
    {
     "data": {
      "text/plain": [
       "array([[0, 0, 0],\n",
       "       [0, 0, 0],\n",
       "       [0, 0, 0]])"
      ]
     },
     "execution_count": 164,
     "metadata": {},
     "output_type": "execute_result"
    }
   ],
   "source": [
    "Zero_Arr"
   ]
  },
  {
   "cell_type": "code",
   "execution_count": 165,
   "id": "5de522e4-3e87-44e2-88e6-4273e9f72e0c",
   "metadata": {},
   "outputs": [
    {
     "data": {
      "text/plain": [
       "2"
      ]
     },
     "execution_count": 165,
     "metadata": {},
     "output_type": "execute_result"
    }
   ],
   "source": [
    "Zero_Arr.ndim"
   ]
  },
  {
   "cell_type": "code",
   "execution_count": 170,
   "id": "bb1e683e-c5ee-43b8-b744-ff7f7a3d5730",
   "metadata": {},
   "outputs": [],
   "source": [
    "One_Arr = np.ones((3,3),dtype = int)"
   ]
  },
  {
   "cell_type": "code",
   "execution_count": 171,
   "id": "993376a0-d27f-4d38-8fe1-d15dbe55ec5b",
   "metadata": {},
   "outputs": [
    {
     "data": {
      "text/plain": [
       "2"
      ]
     },
     "execution_count": 171,
     "metadata": {},
     "output_type": "execute_result"
    }
   ],
   "source": [
    "One_Arr.ndim"
   ]
  },
  {
   "cell_type": "code",
   "execution_count": 172,
   "id": "afd6fb34-8734-41fe-910d-53c05eb0615e",
   "metadata": {},
   "outputs": [
    {
     "data": {
      "text/plain": [
       "array([[1, 1, 1],\n",
       "       [1, 1, 1],\n",
       "       [1, 1, 1]])"
      ]
     },
     "execution_count": 172,
     "metadata": {},
     "output_type": "execute_result"
    }
   ],
   "source": [
    "One_Arr"
   ]
  },
  {
   "cell_type": "code",
   "execution_count": 185,
   "id": "260d438e-21cc-4196-8269-0a2a87c636a0",
   "metadata": {},
   "outputs": [],
   "source": [
    "# 3D Array \n",
    "ThreeD_array = np.zeros((1,3,3),int)"
   ]
  },
  {
   "cell_type": "code",
   "execution_count": 186,
   "id": "3491ae93-1c1c-4be2-878b-2978602c73d8",
   "metadata": {},
   "outputs": [
    {
     "data": {
      "text/plain": [
       "array([[[0, 0, 0],\n",
       "        [0, 0, 0],\n",
       "        [0, 0, 0]]])"
      ]
     },
     "execution_count": 186,
     "metadata": {},
     "output_type": "execute_result"
    }
   ],
   "source": [
    "ThreeD_array"
   ]
  },
  {
   "cell_type": "code",
   "execution_count": 187,
   "id": "9a708835-6e5d-41f6-ad99-1675f481e213",
   "metadata": {},
   "outputs": [
    {
     "data": {
      "text/plain": [
       "array([[[0, 0, 0],\n",
       "        [0, 0, 0],\n",
       "        [0, 0, 0]],\n",
       "\n",
       "       [[0, 0, 0],\n",
       "        [0, 0, 0],\n",
       "        [0, 0, 0]]])"
      ]
     },
     "execution_count": 187,
     "metadata": {},
     "output_type": "execute_result"
    }
   ],
   "source": [
    " np.zeros((2,3,3),int)"
   ]
  },
  {
   "cell_type": "code",
   "execution_count": 190,
   "id": "5567585f-7eb9-4e9d-b721-702e22c5a062",
   "metadata": {},
   "outputs": [
    {
     "data": {
      "text/plain": [
       "array([[[0, 0, 0],\n",
       "        [0, 0, 0],\n",
       "        [0, 0, 0]],\n",
       "\n",
       "       [[0, 0, 0],\n",
       "        [0, 0, 0],\n",
       "        [0, 0, 0]],\n",
       "\n",
       "       [[0, 0, 0],\n",
       "        [0, 0, 0],\n",
       "        [0, 0, 0]],\n",
       "\n",
       "       [[0, 0, 0],\n",
       "        [0, 0, 0],\n",
       "        [0, 0, 0]]])"
      ]
     },
     "execution_count": 190,
     "metadata": {},
     "output_type": "execute_result"
    }
   ],
   "source": [
    " np.zeros((4,3,3),int)   # ((z,x,y),dtype) --> z- direction --> (x,y) arrays are\n",
    "                         # repeated"
   ]
  },
  {
   "cell_type": "code",
   "execution_count": 194,
   "id": "b1b71b7d-075f-445e-9e32-96bb88837c40",
   "metadata": {},
   "outputs": [
    {
     "data": {
      "text/plain": [
       "array([[[[0, 0, 0],\n",
       "         [0, 0, 0],\n",
       "         [0, 0, 0]],\n",
       "\n",
       "        [[0, 0, 0],\n",
       "         [0, 0, 0],\n",
       "         [0, 0, 0]],\n",
       "\n",
       "        [[0, 0, 0],\n",
       "         [0, 0, 0],\n",
       "         [0, 0, 0]]],\n",
       "\n",
       "\n",
       "       [[[0, 0, 0],\n",
       "         [0, 0, 0],\n",
       "         [0, 0, 0]],\n",
       "\n",
       "        [[0, 0, 0],\n",
       "         [0, 0, 0],\n",
       "         [0, 0, 0]],\n",
       "\n",
       "        [[0, 0, 0],\n",
       "         [0, 0, 0],\n",
       "         [0, 0, 0]]]])"
      ]
     },
     "execution_count": 194,
     "metadata": {},
     "output_type": "execute_result"
    }
   ],
   "source": [
    " np.zeros((2,3,3,3),int)   # 4D array"
   ]
  },
  {
   "cell_type": "code",
   "execution_count": 195,
   "id": "6466018a-c0d8-4d67-b72d-edcf161210c3",
   "metadata": {},
   "outputs": [
    {
     "data": {
      "text/plain": [
       "array([[[[0, 0, 0],\n",
       "         [0, 0, 0],\n",
       "         [0, 0, 0]],\n",
       "\n",
       "        [[0, 0, 0],\n",
       "         [0, 0, 0],\n",
       "         [0, 0, 0]],\n",
       "\n",
       "        [[0, 0, 0],\n",
       "         [0, 0, 0],\n",
       "         [0, 0, 0]]],\n",
       "\n",
       "\n",
       "       [[[0, 0, 0],\n",
       "         [0, 0, 0],\n",
       "         [0, 0, 0]],\n",
       "\n",
       "        [[0, 0, 0],\n",
       "         [0, 0, 0],\n",
       "         [0, 0, 0]],\n",
       "\n",
       "        [[0, 0, 0],\n",
       "         [0, 0, 0],\n",
       "         [0, 0, 0]]],\n",
       "\n",
       "\n",
       "       [[[0, 0, 0],\n",
       "         [0, 0, 0],\n",
       "         [0, 0, 0]],\n",
       "\n",
       "        [[0, 0, 0],\n",
       "         [0, 0, 0],\n",
       "         [0, 0, 0]],\n",
       "\n",
       "        [[0, 0, 0],\n",
       "         [0, 0, 0],\n",
       "         [0, 0, 0]]]])"
      ]
     },
     "execution_count": 195,
     "metadata": {},
     "output_type": "execute_result"
    }
   ],
   "source": [
    " np.zeros((3,3,3,3),int)   # 4D array"
   ]
  },
  {
   "cell_type": "code",
   "execution_count": 197,
   "id": "8835c128-48aa-41e7-88d6-bbf0c20abf17",
   "metadata": {},
   "outputs": [
    {
     "data": {
      "text/plain": [
       "array([[[[[0, 0, 0],\n",
       "          [0, 0, 0],\n",
       "          [0, 0, 0]]]]])"
      ]
     },
     "execution_count": 197,
     "metadata": {},
     "output_type": "execute_result"
    }
   ],
   "source": [
    " np.zeros((1,1,1,3,3),int)   # 5D array"
   ]
  },
  {
   "cell_type": "code",
   "execution_count": 200,
   "id": "fd9c9ad7-fc3a-476f-9f26-44ec226b5dee",
   "metadata": {},
   "outputs": [
    {
     "data": {
      "text/plain": [
       "array([[[[[0, 0, 0],\n",
       "          [0, 0, 0],\n",
       "          [0, 0, 0]]]],\n",
       "\n",
       "\n",
       "\n",
       "       [[[[0, 0, 0],\n",
       "          [0, 0, 0],\n",
       "          [0, 0, 0]]]]])"
      ]
     },
     "execution_count": 200,
     "metadata": {},
     "output_type": "execute_result"
    }
   ],
   "source": [
    " np.zeros((2,1,1,3,3),int)   # 5D array"
   ]
  },
  {
   "cell_type": "code",
   "execution_count": 203,
   "id": "88d10c71-4fab-4bf2-8251-0afd8ef29b31",
   "metadata": {},
   "outputs": [
    {
     "data": {
      "text/plain": [
       "array([[0, 0, 0],\n",
       "       [0, 0, 0],\n",
       "       [0, 0, 0]])"
      ]
     },
     "execution_count": 203,
     "metadata": {},
     "output_type": "execute_result"
    }
   ],
   "source": [
    "arr =  np.zeros((3,3),int)\n",
    "arr"
   ]
  },
  {
   "cell_type": "code",
   "execution_count": 202,
   "id": "ce7049c3-923e-447e-9fa4-29e29736149c",
   "metadata": {},
   "outputs": [
    {
     "data": {
      "text/plain": [
       "array([[5, 5, 5],\n",
       "       [5, 5, 5],\n",
       "       [5, 5, 5]])"
      ]
     },
     "execution_count": 202,
     "metadata": {},
     "output_type": "execute_result"
    }
   ],
   "source": [
    "arr + 5"
   ]
  },
  {
   "cell_type": "code",
   "execution_count": 204,
   "id": "5352405e-2695-44bb-b699-332011e2cd37",
   "metadata": {},
   "outputs": [
    {
     "data": {
      "text/plain": [
       "array([[10, 10, 10],\n",
       "       [10, 10, 10],\n",
       "       [10, 10, 10]])"
      ]
     },
     "execution_count": 204,
     "metadata": {},
     "output_type": "execute_result"
    }
   ],
   "source": [
    "(arr + 5) * 2 "
   ]
  },
  {
   "cell_type": "code",
   "execution_count": 205,
   "id": "6c7897fc-deaf-4f93-8a08-1be6fd8f4e56",
   "metadata": {},
   "outputs": [
    {
     "data": {
      "text/plain": [
       "array([[-1, -1, -1],\n",
       "       [-1, -1, -1],\n",
       "       [-1, -1, -1]])"
      ]
     },
     "execution_count": 205,
     "metadata": {},
     "output_type": "execute_result"
    }
   ],
   "source": [
    "arr - 1"
   ]
  },
  {
   "cell_type": "code",
   "execution_count": 211,
   "id": "ee3c7e27-3f99-49b9-a8c1-1db57b255319",
   "metadata": {},
   "outputs": [
    {
     "data": {
      "text/plain": [
       "array([[1., 0., 0.],\n",
       "       [0., 1., 0.],\n",
       "       [0., 0., 1.]])"
      ]
     },
     "execution_count": 211,
     "metadata": {},
     "output_type": "execute_result"
    }
   ],
   "source": [
    "np.eye(3,3) # Generates identity matrix-esque array"
   ]
  },
  {
   "cell_type": "code",
   "execution_count": 215,
   "id": "4e3cbdf5-5f9d-4657-a1cf-3a84f4f268c2",
   "metadata": {},
   "outputs": [
    {
     "data": {
      "text/plain": [
       "array([[1, 0, 0],\n",
       "       [0, 1, 0],\n",
       "       [0, 0, 1]])"
      ]
     },
     "execution_count": 215,
     "metadata": {},
     "output_type": "execute_result"
    }
   ],
   "source": [
    "np.eye(3, dtype = int)"
   ]
  },
  {
   "cell_type": "code",
   "execution_count": 49,
   "id": "bf812e00-dacb-453f-ac35-a2dc01cd101c",
   "metadata": {},
   "outputs": [
    {
     "data": {
      "text/plain": [
       "array([[25895968444448860, 23925768161198147],\n",
       "       [32370111954616435, 30681223439843420]])"
      ]
     },
     "execution_count": 49,
     "metadata": {},
     "output_type": "execute_result"
    }
   ],
   "source": [
    "np.empty((2,2),int)  #Returns a new array of given shape and type,\n",
    "# without initializing entries.\n",
    "# gives random entries"
   ]
  },
  {
   "cell_type": "code",
   "execution_count": 52,
   "id": "fe3277bf-b7ee-4227-90aa-d48915d4e6fc",
   "metadata": {},
   "outputs": [
    {
     "data": {
      "text/plain": [
       "4"
      ]
     },
     "execution_count": 52,
     "metadata": {},
     "output_type": "execute_result"
    }
   ],
   "source": [
    "import random\n",
    "random.choice((1,2,3,4,5))"
   ]
  },
  {
   "cell_type": "code",
   "execution_count": 56,
   "id": "22be08f7-8171-4864-a978-ce66d47ec181",
   "metadata": {},
   "outputs": [
    {
     "data": {
      "text/plain": [
       "'e'"
      ]
     },
     "execution_count": 56,
     "metadata": {},
     "output_type": "execute_result"
    }
   ],
   "source": [
    "random.choice(\"abcdefgh\")    # Choose a random element from a non-empty sequence"
   ]
  },
  {
   "cell_type": "code",
   "execution_count": 69,
   "id": "36ba6d6b-639f-41f1-94e5-14190ba9f6b3",
   "metadata": {},
   "outputs": [
    {
     "data": {
      "text/plain": [
       "3"
      ]
     },
     "execution_count": 69,
     "metadata": {},
     "output_type": "execute_result"
    }
   ],
   "source": [
    "random.randrange(1,6)"
   ]
  },
  {
   "cell_type": "code",
   "execution_count": 70,
   "id": "f78184b7-6bb6-4fb0-87c8-3baa107947a4",
   "metadata": {},
   "outputs": [
    {
     "data": {
      "text/plain": [
       "0.71335644637656"
      ]
     },
     "execution_count": 70,
     "metadata": {},
     "output_type": "execute_result"
    }
   ],
   "source": [
    "random.random() # random no between 0 and 1"
   ]
  },
  {
   "cell_type": "code",
   "execution_count": 72,
   "id": "76a2f6f4-2568-4330-b5d3-c91bb142e965",
   "metadata": {},
   "outputs": [
    {
     "data": {
      "text/plain": [
       "[5, 2, 1, 3, 4]"
      ]
     },
     "execution_count": 72,
     "metadata": {},
     "output_type": "execute_result"
    }
   ],
   "source": [
    "l1 = [1,2,3,4,5]\n",
    "random.shuffle(l1)\n",
    "l1"
   ]
  },
  {
   "cell_type": "code",
   "execution_count": 77,
   "id": "be34cc8e-6504-41b6-819f-24da21ba9b0e",
   "metadata": {},
   "outputs": [
    {
     "data": {
      "text/plain": [
       "8.377107687895519"
      ]
     },
     "execution_count": 77,
     "metadata": {},
     "output_type": "execute_result"
    }
   ],
   "source": [
    "random.uniform(7,14)\n",
    "# Get a random number in the range [a, b) or [a, b] depending on rounding."
   ]
  },
  {
   "cell_type": "code",
   "execution_count": 80,
   "id": "698e0d33-f7b8-4d04-8f17-32f765f91665",
   "metadata": {},
   "outputs": [
    {
     "data": {
      "text/plain": [
       "array([[0.00735725, 0.21319444, 0.82435914],\n",
       "       [0.2250809 , 0.37642881, 0.93698278],\n",
       "       [0.3006248 , 0.834165  , 0.3011612 ]])"
      ]
     },
     "execution_count": 80,
     "metadata": {},
     "output_type": "execute_result"
    }
   ],
   "source": [
    "# random numbers related concept in numpy\n",
    "np.random.random_sample((3,3))"
   ]
  },
  {
   "cell_type": "code",
   "execution_count": 84,
   "id": "12ac1813-ed80-4b4f-9a48-edd5a3e9703a",
   "metadata": {},
   "outputs": [
    {
     "data": {
      "text/plain": [
       "array([[0.36335673, 0.62354615, 0.51368543],\n",
       "       [0.39772239, 0.30148833, 0.6805604 ],\n",
       "       [0.83899412, 0.36375262, 0.54694656]])"
      ]
     },
     "execution_count": 84,
     "metadata": {},
     "output_type": "execute_result"
    }
   ],
   "source": [
    "np.random.rand(3,3)"
   ]
  },
  {
   "cell_type": "code",
   "execution_count": 89,
   "id": "e5b842c4-f958-43d6-884f-38adc1c1489b",
   "metadata": {},
   "outputs": [
    {
     "data": {
      "text/plain": [
       "1.3263545258221534"
      ]
     },
     "execution_count": 89,
     "metadata": {},
     "output_type": "execute_result"
    }
   ],
   "source": [
    "np.random.randn()\n",
    "#Return a sample (or samples) from the \"standard normal\" distribution"
   ]
  },
  {
   "cell_type": "code",
   "execution_count": 95,
   "id": "6ad5d222-a378-48f0-85fc-604beb8e2e06",
   "metadata": {},
   "outputs": [
    {
     "data": {
      "text/plain": [
       "array([[8, 5, 7],\n",
       "       [8, 2, 1],\n",
       "       [8, 3, 9]], dtype=int32)"
      ]
     },
     "execution_count": 95,
     "metadata": {},
     "output_type": "execute_result"
    }
   ],
   "source": [
    "arr = np.random.randint(1,10,size = (3,3))\n",
    "arr"
   ]
  },
  {
   "cell_type": "code",
   "execution_count": 96,
   "id": "e1fa2137-2cd7-495e-9b87-c37ebf1c56da",
   "metadata": {},
   "outputs": [
    {
     "data": {
      "text/plain": [
       "array([[8, 5, 7, 8, 2, 1, 8, 3, 9]], dtype=int32)"
      ]
     },
     "execution_count": 96,
     "metadata": {},
     "output_type": "execute_result"
    }
   ],
   "source": [
    "arr.reshape(1,9)"
   ]
  },
  {
   "cell_type": "code",
   "execution_count": 98,
   "id": "97a56790-6020-4122-8f9f-7b9912bdcc22",
   "metadata": {},
   "outputs": [
    {
     "data": {
      "text/plain": [
       "array([[8],\n",
       "       [5],\n",
       "       [7],\n",
       "       [8],\n",
       "       [2],\n",
       "       [1],\n",
       "       [8],\n",
       "       [3],\n",
       "       [9]], dtype=int32)"
      ]
     },
     "execution_count": 98,
     "metadata": {},
     "output_type": "execute_result"
    }
   ],
   "source": [
    "arr.reshape(9,1)\n",
    "# Returns an array containing the same data with a new shape."
   ]
  },
  {
   "cell_type": "code",
   "execution_count": 101,
   "id": "acf94065-132c-414f-aed6-6f9fbcb31f1b",
   "metadata": {},
   "outputs": [
    {
     "data": {
      "text/plain": [
       "array([[8, 5, 7],\n",
       "       [8, 2, 1],\n",
       "       [8, 3, 9]], dtype=int32)"
      ]
     },
     "execution_count": 101,
     "metadata": {},
     "output_type": "execute_result"
    }
   ],
   "source": [
    "arr.reshape(3,-100)\n",
    "# In case you don't know the no of columns it should have,\n",
    "# pass any -ve integer for col"
   ]
  },
  {
   "cell_type": "code",
   "execution_count": 103,
   "id": "57b717a0-3a6b-48bc-be68-f1b95a62461f",
   "metadata": {},
   "outputs": [
    {
     "data": {
      "text/plain": [
       "array([[8, 5, 7],\n",
       "       [8, 2, 1],\n",
       "       [8, 3, 9]], dtype=int32)"
      ]
     },
     "execution_count": 103,
     "metadata": {},
     "output_type": "execute_result"
    }
   ],
   "source": [
    "arr.reshape(9,1).base # to see the original array"
   ]
  },
  {
   "cell_type": "code",
   "execution_count": 104,
   "id": "9cd4c8e9-102b-4649-abe0-5fbc160df213",
   "metadata": {},
   "outputs": [
    {
     "data": {
      "text/plain": [
       "array([[[8, 5, 7]],\n",
       "\n",
       "       [[8, 2, 1]],\n",
       "\n",
       "       [[8, 3, 9]]], dtype=int32)"
      ]
     },
     "execution_count": 104,
     "metadata": {},
     "output_type": "execute_result"
    }
   ],
   "source": [
    "arr.reshape(3,1,3)"
   ]
  },
  {
   "cell_type": "code",
   "execution_count": 105,
   "id": "43645777-ec31-4121-b5e5-180cb6a3a35d",
   "metadata": {},
   "outputs": [
    {
     "data": {
      "text/plain": [
       "3"
      ]
     },
     "execution_count": 105,
     "metadata": {},
     "output_type": "execute_result"
    }
   ],
   "source": [
    "arr.reshape(3,1,3).ndim"
   ]
  },
  {
   "cell_type": "code",
   "execution_count": 109,
   "id": "9c3f720b-a7fe-4227-aeda-aeaf2ff34696",
   "metadata": {},
   "outputs": [
    {
     "data": {
      "text/plain": [
       "array([[7, 1, 4, 3, 4, 4],\n",
       "       [2, 7, 5, 4, 8, 4],\n",
       "       [8, 4, 5, 8, 8, 7],\n",
       "       [5, 9, 4, 2, 6, 9],\n",
       "       [5, 9, 6, 8, 8, 3]], dtype=int32)"
      ]
     },
     "execution_count": 109,
     "metadata": {},
     "output_type": "execute_result"
    }
   ],
   "source": [
    "arr1 = np.random.randint(1,10,(5,6))\n",
    "arr1"
   ]
  },
  {
   "cell_type": "code",
   "execution_count": 110,
   "id": "4cb87d60-4dba-45cd-9614-b4f10a3f642d",
   "metadata": {},
   "outputs": [
    {
     "data": {
      "text/plain": [
       "array([[ True, False,  True, False,  True,  True],\n",
       "       [False,  True,  True,  True,  True,  True],\n",
       "       [ True,  True,  True,  True,  True,  True],\n",
       "       [ True,  True,  True, False,  True,  True],\n",
       "       [ True,  True,  True,  True,  True, False]])"
      ]
     },
     "execution_count": 110,
     "metadata": {},
     "output_type": "execute_result"
    }
   ],
   "source": [
    "arr1 > 3"
   ]
  },
  {
   "cell_type": "code",
   "execution_count": 112,
   "id": "e43edaa3-80b0-44a5-9e23-19b1c4a5965c",
   "metadata": {},
   "outputs": [
    {
     "data": {
      "text/plain": [
       "array([7, 4, 4, 4, 7, 5, 4, 8, 4, 8, 4, 5, 8, 8, 7, 5, 9, 4, 6, 9, 5, 9,\n",
       "       6, 8, 8], dtype=int32)"
      ]
     },
     "execution_count": 112,
     "metadata": {},
     "output_type": "execute_result"
    }
   ],
   "source": [
    "arr1[arr1 > 3]"
   ]
  },
  {
   "cell_type": "code",
   "execution_count": 115,
   "id": "dc46e638-06af-4fa7-8e8b-0d0820ac67fc",
   "metadata": {},
   "outputs": [
    {
     "name": "stdout",
     "output_type": "stream",
     "text": [
      "4\n"
     ]
    }
   ],
   "source": [
    "print(arr1[0][5])"
   ]
  },
  {
   "cell_type": "code",
   "execution_count": 116,
   "id": "fa3456b7-cd9f-4423-875c-7ba119a02819",
   "metadata": {},
   "outputs": [
    {
     "data": {
      "text/plain": [
       "array([[7, 1, 4, 3, 4, 4],\n",
       "       [2, 7, 5, 4, 8, 4],\n",
       "       [8, 4, 5, 8, 8, 7]], dtype=int32)"
      ]
     },
     "execution_count": 116,
     "metadata": {},
     "output_type": "execute_result"
    }
   ],
   "source": [
    "# from 0th row to 2nd row\n",
    "arr1[0:3]"
   ]
  },
  {
   "cell_type": "code",
   "execution_count": 118,
   "id": "339a718e-92c6-472c-a7a3-6989195eb1d1",
   "metadata": {},
   "outputs": [
    {
     "data": {
      "text/plain": [
       "array([[7, 1],\n",
       "       [2, 7],\n",
       "       [8, 4]], dtype=int32)"
      ]
     },
     "execution_count": 118,
     "metadata": {},
     "output_type": "execute_result"
    }
   ],
   "source": [
    "# 0th to 2nd row and 0th and 1st column\n",
    "arr1[0:3,[0,1]]"
   ]
  },
  {
   "cell_type": "code",
   "execution_count": 119,
   "id": "c25eb1ac-4c40-40e5-a2f9-f52272f7d2f0",
   "metadata": {},
   "outputs": [
    {
     "data": {
      "text/plain": [
       "array([[7, 1, 4, 3, 4, 4],\n",
       "       [2, 7, 5, 4, 8, 4],\n",
       "       [8, 4, 5, 8, 8, 7],\n",
       "       [5, 9, 4, 2, 6, 9],\n",
       "       [5, 9, 6, 8, 8, 3]], dtype=int32)"
      ]
     },
     "execution_count": 119,
     "metadata": {},
     "output_type": "execute_result"
    }
   ],
   "source": [
    "#slicing on both rows and columns \n",
    "arr1"
   ]
  },
  {
   "cell_type": "code",
   "execution_count": 121,
   "id": "a605de72-321f-4b1c-bc75-f8c4ce1e2533",
   "metadata": {},
   "outputs": [
    {
     "data": {
      "text/plain": [
       "array([[7, 1, 4],\n",
       "       [2, 7, 5],\n",
       "       [8, 4, 5]], dtype=int32)"
      ]
     },
     "execution_count": 121,
     "metadata": {},
     "output_type": "execute_result"
    }
   ],
   "source": [
    "arr1[0:3,0:3]"
   ]
  },
  {
   "cell_type": "code",
   "execution_count": 122,
   "id": "8ea60d42-cb3c-4714-ba0a-6686eba8ca66",
   "metadata": {},
   "outputs": [
    {
     "data": {
      "text/plain": [
       "array([7, 1], dtype=int32)"
      ]
     },
     "execution_count": 122,
     "metadata": {},
     "output_type": "execute_result"
    }
   ],
   "source": [
    "arr1[0,[0,1]]"
   ]
  },
  {
   "cell_type": "code",
   "execution_count": 124,
   "id": "c3cedc9d-2413-44df-975a-52f86150f2a3",
   "metadata": {},
   "outputs": [],
   "source": [
    "#math operations on two arrays\n",
    "arr1 = np.random.randint(1,3,(3,3))\n",
    "arr2 = np.random.randint(1,3,(3,3))"
   ]
  },
  {
   "cell_type": "code",
   "execution_count": 125,
   "id": "b5c436c2-b14c-4800-a8bb-0fc541d95014",
   "metadata": {},
   "outputs": [
    {
     "data": {
      "text/plain": [
       "array([[1, 1, 1],\n",
       "       [1, 1, 2],\n",
       "       [1, 2, 2]], dtype=int32)"
      ]
     },
     "execution_count": 125,
     "metadata": {},
     "output_type": "execute_result"
    }
   ],
   "source": [
    "arr1 "
   ]
  },
  {
   "cell_type": "code",
   "execution_count": 126,
   "id": "614a8cd2-8901-43ef-90a7-4b01bf8d4adc",
   "metadata": {},
   "outputs": [
    {
     "data": {
      "text/plain": [
       "array([[1, 2, 1],\n",
       "       [2, 1, 1],\n",
       "       [1, 2, 1]], dtype=int32)"
      ]
     },
     "execution_count": 126,
     "metadata": {},
     "output_type": "execute_result"
    }
   ],
   "source": [
    "arr2"
   ]
  },
  {
   "cell_type": "code",
   "execution_count": 127,
   "id": "a3a47231-19fa-4f77-86bf-ec398b835d7f",
   "metadata": {},
   "outputs": [
    {
     "data": {
      "text/plain": [
       "array([[2, 3, 2],\n",
       "       [3, 2, 3],\n",
       "       [2, 4, 3]], dtype=int32)"
      ]
     },
     "execution_count": 127,
     "metadata": {},
     "output_type": "execute_result"
    }
   ],
   "source": [
    "arr1 + arr2"
   ]
  },
  {
   "cell_type": "code",
   "execution_count": 128,
   "id": "d33397d2-b1f8-41b8-8278-2b9ec54be968",
   "metadata": {},
   "outputs": [
    {
     "data": {
      "text/plain": [
       "array([[ 0, -1,  0],\n",
       "       [-1,  0,  1],\n",
       "       [ 0,  0,  1]], dtype=int32)"
      ]
     },
     "execution_count": 128,
     "metadata": {},
     "output_type": "execute_result"
    }
   ],
   "source": [
    "arr1 - arr2"
   ]
  },
  {
   "cell_type": "code",
   "execution_count": 129,
   "id": "d66bb1f7-87dc-4b73-9525-e8287f57998d",
   "metadata": {},
   "outputs": [
    {
     "data": {
      "text/plain": [
       "array([[1, 2, 1],\n",
       "       [2, 1, 2],\n",
       "       [1, 4, 2]], dtype=int32)"
      ]
     },
     "execution_count": 129,
     "metadata": {},
     "output_type": "execute_result"
    }
   ],
   "source": [
    "arr1 * arr2 # Index wise multiplication not matrix multiplication"
   ]
  },
  {
   "cell_type": "code",
   "execution_count": 130,
   "id": "e3730b31-d957-48fe-913a-c1d74314b047",
   "metadata": {},
   "outputs": [
    {
     "data": {
      "text/plain": [
       "(array([[1, 1, 1],\n",
       "        [1, 1, 2],\n",
       "        [1, 2, 2]], dtype=int32),\n",
       " array([[1, 2, 1],\n",
       "        [2, 1, 1],\n",
       "        [1, 2, 1]], dtype=int32))"
      ]
     },
     "execution_count": 130,
     "metadata": {},
     "output_type": "execute_result"
    }
   ],
   "source": [
    "arr1,arr2"
   ]
  },
  {
   "cell_type": "code",
   "execution_count": 131,
   "id": "05295f4c-a97f-46ee-8d7a-e6d9f5c96e33",
   "metadata": {},
   "outputs": [
    {
     "data": {
      "text/plain": [
       "array([[1. , 0.5, 1. ],\n",
       "       [0.5, 1. , 2. ],\n",
       "       [1. , 1. , 2. ]])"
      ]
     },
     "execution_count": 131,
     "metadata": {},
     "output_type": "execute_result"
    }
   ],
   "source": [
    "arr1/arr2 # index wise division"
   ]
  },
  {
   "cell_type": "code",
   "execution_count": 133,
   "id": "2ccb6c05-651b-41b6-8530-5ef675c5991e",
   "metadata": {},
   "outputs": [
    {
     "name": "stderr",
     "output_type": "stream",
     "text": [
      "C:\\Users\\himen\\AppData\\Local\\Temp\\ipykernel_5224\\3594880460.py:1: RuntimeWarning: divide by zero encountered in divide\n",
      "  arr1/0  #inf --> infinity\n"
     ]
    },
    {
     "data": {
      "text/plain": [
       "array([[inf, inf, inf],\n",
       "       [inf, inf, inf],\n",
       "       [inf, inf, inf]])"
      ]
     },
     "execution_count": 133,
     "metadata": {},
     "output_type": "execute_result"
    }
   ],
   "source": [
    "arr1/0  #inf --> infinity"
   ]
  },
  {
   "cell_type": "code",
   "execution_count": 134,
   "id": "083712d5-d84a-417f-8837-90ca784a7b1c",
   "metadata": {},
   "outputs": [],
   "source": [
    " # Matrix is a specialised 2D array \n",
    "# Matrix multiplication is diff from index multiplication"
   ]
  },
  {
   "cell_type": "code",
   "execution_count": 136,
   "id": "b8565f94-619e-455a-b2c2-bfdf8a706426",
   "metadata": {},
   "outputs": [
    {
     "data": {
      "text/plain": [
       "array([[4, 5, 3],\n",
       "       [5, 7, 4],\n",
       "       [7, 8, 5]], dtype=int32)"
      ]
     },
     "execution_count": 136,
     "metadata": {},
     "output_type": "execute_result"
    }
   ],
   "source": [
    "arr1 @ arr2 # @ for matrix multiplication"
   ]
  },
  {
   "cell_type": "code",
   "execution_count": 138,
   "id": "127e8cf4-8d6d-471f-be5e-cb7ecee5194d",
   "metadata": {},
   "outputs": [
    {
     "data": {
      "text/plain": [
       "array([[4, 5, 3],\n",
       "       [5, 7, 4],\n",
       "       [7, 8, 5]], dtype=int32)"
      ]
     },
     "execution_count": 138,
     "metadata": {},
     "output_type": "execute_result"
    }
   ],
   "source": [
    "np.dot(arr1,arr2) # for matrix multiplication"
   ]
  },
  {
   "cell_type": "code",
   "execution_count": 139,
   "id": "4c4fbbdd-82a0-4c44-9e54-0f4a602e25af",
   "metadata": {},
   "outputs": [],
   "source": [
    "#broadcasting"
   ]
  },
  {
   "cell_type": "code",
   "execution_count": 142,
   "id": "8ca3de61-a6fa-4fb0-873d-69aef7d808b6",
   "metadata": {},
   "outputs": [],
   "source": [
    "arr = np.zeros((3,3),int)"
   ]
  },
  {
   "cell_type": "code",
   "execution_count": 141,
   "id": "90ba2b4f-4f4a-4ae1-9d77-c46c032a5d72",
   "metadata": {},
   "outputs": [
    {
     "data": {
      "text/plain": [
       "array([[5., 5., 5.],\n",
       "       [5., 5., 5.],\n",
       "       [5., 5., 5.]])"
      ]
     },
     "execution_count": 141,
     "metadata": {},
     "output_type": "execute_result"
    }
   ],
   "source": [
    "arr + 5"
   ]
  },
  {
   "cell_type": "code",
   "execution_count": 143,
   "id": "808b6b9f-d3d5-4c55-b311-6f029f7fb397",
   "metadata": {},
   "outputs": [
    {
     "data": {
      "text/plain": [
       "array([[-5, -5, -5],\n",
       "       [-5, -5, -5],\n",
       "       [-5, -5, -5]])"
      ]
     },
     "execution_count": 143,
     "metadata": {},
     "output_type": "execute_result"
    }
   ],
   "source": [
    "arr - 5"
   ]
  },
  {
   "cell_type": "code",
   "execution_count": 144,
   "id": "95730450-e25c-470f-afb9-40d37328e36d",
   "metadata": {},
   "outputs": [],
   "source": [
    "arr2 = np.array([1,2,3])"
   ]
  },
  {
   "cell_type": "code",
   "execution_count": 145,
   "id": "5ed65dd3-418c-4b6e-8bc2-535b8c7bcf30",
   "metadata": {},
   "outputs": [
    {
     "data": {
      "text/plain": [
       "array([[1, 2, 3],\n",
       "       [1, 2, 3],\n",
       "       [1, 2, 3]])"
      ]
     },
     "execution_count": 145,
     "metadata": {},
     "output_type": "execute_result"
    }
   ],
   "source": [
    "arr + arr2"
   ]
  },
  {
   "cell_type": "code",
   "execution_count": 147,
   "id": "bd8fa331-643c-484a-85e9-2b9768d91a0a",
   "metadata": {},
   "outputs": [
    {
     "data": {
      "text/plain": [
       "'\\nThe term broadcasting refers to the ability of NumPy to treat arrays with \\ndifferent dimensions during arithmetic operations. \\nThis process involves certain rules that allow the smaller array to be \\n‘broadcast’ across the larger one, \\nensuring that they have compatible shapes for these operations.\\n\\n'"
      ]
     },
     "execution_count": 147,
     "metadata": {},
     "output_type": "execute_result"
    }
   ],
   "source": [
    "\"\"\"\n",
    "The term broadcasting refers to the ability of NumPy to treat arrays with \n",
    "different dimensions during arithmetic operations. \n",
    "This process involves certain rules that allow the smaller array to be \n",
    "‘broadcast’ across the larger one, \n",
    "ensuring that they have compatible shapes for these operations.\n",
    "\n",
    "\"\"\""
   ]
  },
  {
   "cell_type": "code",
   "execution_count": 148,
   "id": "5e35874d-a830-42ce-80f0-13332a0fa6e2",
   "metadata": {},
   "outputs": [],
   "source": [
    "# Matrix Transpose"
   ]
  },
  {
   "cell_type": "code",
   "execution_count": 153,
   "id": "5e514471-face-406a-9e50-911612abf4a4",
   "metadata": {},
   "outputs": [],
   "source": [
    "arr3 = np.array([[1,2,3]])"
   ]
  },
  {
   "cell_type": "code",
   "execution_count": 156,
   "id": "cb646bbf-8ee0-4e58-8a46-d93c8d478c25",
   "metadata": {},
   "outputs": [
    {
     "data": {
      "text/plain": [
       "array([[1],\n",
       "       [2],\n",
       "       [3]])"
      ]
     },
     "execution_count": 156,
     "metadata": {},
     "output_type": "execute_result"
    }
   ],
   "source": [
    "arr3.T"
   ]
  },
  {
   "cell_type": "code",
   "execution_count": 157,
   "id": "c89afbfe-68f1-469f-9abf-9d71d9dc70e2",
   "metadata": {},
   "outputs": [
    {
     "data": {
      "text/plain": [
       "array([[1],\n",
       "       [2],\n",
       "       [3]])"
      ]
     },
     "execution_count": 157,
     "metadata": {},
     "output_type": "execute_result"
    }
   ],
   "source": [
    "np.transpose(arr3)"
   ]
  },
  {
   "cell_type": "code",
   "execution_count": 159,
   "id": "bbace9b1-787b-40e9-9a7f-21b855facb64",
   "metadata": {},
   "outputs": [],
   "source": [
    "arr4 = np.random.randint(1,7,(3,3))"
   ]
  },
  {
   "cell_type": "code",
   "execution_count": 160,
   "id": "e362b765-b625-47f8-8829-e1c0997d7db5",
   "metadata": {},
   "outputs": [
    {
     "data": {
      "text/plain": [
       "array([[2, 3, 2],\n",
       "       [2, 3, 4],\n",
       "       [2, 2, 3]], dtype=int32)"
      ]
     },
     "execution_count": 160,
     "metadata": {},
     "output_type": "execute_result"
    }
   ],
   "source": [
    "arr4"
   ]
  },
  {
   "cell_type": "code",
   "execution_count": 165,
   "id": "7e3cb8be-5e07-4b4e-96ee-50907d0df118",
   "metadata": {},
   "outputs": [
    {
     "data": {
      "text/plain": [
       "array([2, 3, 2, 2, 3, 4, 2, 2, 3], dtype=int32)"
      ]
     },
     "execution_count": 165,
     "metadata": {},
     "output_type": "execute_result"
    }
   ],
   "source": [
    "arr4.flatten() # return a copy of array collapsed into one dimension"
   ]
  },
  {
   "cell_type": "code",
   "execution_count": 166,
   "id": "b3de2c80-2d15-496c-8a99-223ba9c2d1f8",
   "metadata": {},
   "outputs": [
    {
     "data": {
      "text/plain": [
       "2"
      ]
     },
     "execution_count": 166,
     "metadata": {},
     "output_type": "execute_result"
    }
   ],
   "source": [
    "arr4.ndim"
   ]
  },
  {
   "cell_type": "code",
   "execution_count": 169,
   "id": "f5b4b433-49d4-408c-ba80-55b5016b2059",
   "metadata": {},
   "outputs": [
    {
     "data": {
      "text/plain": [
       "array([[[2, 3, 2],\n",
       "        [2, 3, 4],\n",
       "        [2, 2, 3]]], dtype=int32)"
      ]
     },
     "execution_count": 169,
     "metadata": {},
     "output_type": "execute_result"
    }
   ],
   "source": [
    "np.expand_dims(arr4,0)\n",
    "# increase the dimension by 1 in the provided axis, 0 means row , 1 means column"
   ]
  },
  {
   "cell_type": "code",
   "execution_count": 170,
   "id": "79c272cc-0270-4c9e-acd4-f6ef729eac7a",
   "metadata": {},
   "outputs": [
    {
     "data": {
      "text/plain": [
       "array([[[2, 3, 2]],\n",
       "\n",
       "       [[2, 3, 4]],\n",
       "\n",
       "       [[2, 2, 3]]], dtype=int32)"
      ]
     },
     "execution_count": 170,
     "metadata": {},
     "output_type": "execute_result"
    }
   ],
   "source": [
    "np.expand_dims(arr4,1)"
   ]
  },
  {
   "cell_type": "code",
   "execution_count": 171,
   "id": "6b4256e2-3fd8-40a9-88a1-3deb9e9157e7",
   "metadata": {},
   "outputs": [
    {
     "data": {
      "text/plain": [
       "3"
      ]
     },
     "execution_count": 171,
     "metadata": {},
     "output_type": "execute_result"
    }
   ],
   "source": [
    "np.expand_dims(arr4,1).ndim"
   ]
  },
  {
   "cell_type": "code",
   "execution_count": 191,
   "id": "aa0d5d1c-5d94-4588-a708-7240429dbdb3",
   "metadata": {},
   "outputs": [
    {
     "data": {
      "text/plain": [
       "array([[1],\n",
       "       [2],\n",
       "       [3]])"
      ]
     },
     "execution_count": 191,
     "metadata": {},
     "output_type": "execute_result"
    }
   ],
   "source": [
    "arr5 = np.array([[1],[2],[3]])\n",
    "arr5"
   ]
  },
  {
   "cell_type": "code",
   "execution_count": 192,
   "id": "5a21bfc1-b1e2-423c-8d93-24e44b9e5d69",
   "metadata": {},
   "outputs": [
    {
     "data": {
      "text/plain": [
       "2"
      ]
     },
     "execution_count": 192,
     "metadata": {},
     "output_type": "execute_result"
    }
   ],
   "source": [
    "arr5.ndim"
   ]
  },
  {
   "cell_type": "code",
   "execution_count": 197,
   "id": "ecca2b32-23cf-436e-9d28-15a3476fce81",
   "metadata": {},
   "outputs": [
    {
     "data": {
      "text/plain": [
       "array([1, 2, 3])"
      ]
     },
     "execution_count": 197,
     "metadata": {},
     "output_type": "execute_result"
    }
   ],
   "source": [
    "# squeezing the dimension\n",
    "np.squeeze(arr5) # Remove axes of length one from 'a'"
   ]
  },
  {
   "cell_type": "code",
   "execution_count": 198,
   "id": "b187d2ee-4882-4336-adb6-c3d6c58379db",
   "metadata": {},
   "outputs": [
    {
     "data": {
      "text/plain": [
       "array([[1],\n",
       "       [2],\n",
       "       [3]])"
      ]
     },
     "execution_count": 198,
     "metadata": {},
     "output_type": "execute_result"
    }
   ],
   "source": [
    "arr5"
   ]
  },
  {
   "cell_type": "code",
   "execution_count": 199,
   "id": "e929ca74-f153-4738-af9c-fca1f8f99261",
   "metadata": {},
   "outputs": [
    {
     "data": {
      "text/plain": [
       "array([1, 1, 1, 2, 2, 2, 3, 3, 3])"
      ]
     },
     "execution_count": 199,
     "metadata": {},
     "output_type": "execute_result"
    }
   ],
   "source": [
    "np.repeat(arr5,3)"
   ]
  },
  {
   "cell_type": "code",
   "execution_count": 200,
   "id": "ff75963c-2261-43d1-a33a-f260b1748ef5",
   "metadata": {},
   "outputs": [
    {
     "data": {
      "text/plain": [
       "array([[2, 3, 2],\n",
       "       [2, 3, 4],\n",
       "       [2, 2, 3]], dtype=int32)"
      ]
     },
     "execution_count": 200,
     "metadata": {},
     "output_type": "execute_result"
    }
   ],
   "source": [
    "arr4"
   ]
  },
  {
   "cell_type": "code",
   "execution_count": 202,
   "id": "6bf3dc50-1a97-402b-96f0-95a8b9747fd0",
   "metadata": {},
   "outputs": [
    {
     "data": {
      "text/plain": [
       "array([[2, 3, 2],\n",
       "       [2, 3, 2],\n",
       "       [2, 3, 4],\n",
       "       [2, 3, 4],\n",
       "       [2, 2, 3],\n",
       "       [2, 2, 3]], dtype=int32)"
      ]
     },
     "execution_count": 202,
     "metadata": {},
     "output_type": "execute_result"
    }
   ],
   "source": [
    "np.repeat(arr4,2,axis = 0)"
   ]
  },
  {
   "cell_type": "code",
   "execution_count": 205,
   "id": "59ec5b48-13dd-4cdf-9cfa-4cb4708226a8",
   "metadata": {},
   "outputs": [
    {
     "data": {
      "text/plain": [
       "array([[2, 2, 3, 3, 2, 2],\n",
       "       [2, 2, 3, 3, 4, 4],\n",
       "       [2, 2, 2, 2, 3, 3]], dtype=int32)"
      ]
     },
     "execution_count": 205,
     "metadata": {},
     "output_type": "execute_result"
    }
   ],
   "source": [
    "np.repeat(arr4,2,axis = 1)\n",
    "# 0 for row \n",
    "# 1 for column"
   ]
  },
  {
   "cell_type": "code",
   "execution_count": 210,
   "id": "979ad067-78e9-48c4-934f-40a2af6be9f4",
   "metadata": {},
   "outputs": [
    {
     "data": {
      "text/plain": [
       "array([[1],\n",
       "       [2],\n",
       "       [3]])"
      ]
     },
     "execution_count": 210,
     "metadata": {},
     "output_type": "execute_result"
    }
   ],
   "source": [
    "arr5"
   ]
  },
  {
   "cell_type": "code",
   "execution_count": 213,
   "id": "d602d60b-926a-4627-ba10-0b17b859bb66",
   "metadata": {},
   "outputs": [
    {
     "data": {
      "text/plain": [
       "array([[2],\n",
       "       [3],\n",
       "       [1]])"
      ]
     },
     "execution_count": 213,
     "metadata": {},
     "output_type": "execute_result"
    }
   ],
   "source": [
    "np.roll(arr5,-1) # shift place"
   ]
  },
  {
   "cell_type": "code",
   "execution_count": 214,
   "id": "0034d9b3-0777-4ca9-82e7-7635fb89e626",
   "metadata": {},
   "outputs": [
    {
     "data": {
      "text/plain": [
       "array([[3],\n",
       "       [1],\n",
       "       [2]])"
      ]
     },
     "execution_count": 214,
     "metadata": {},
     "output_type": "execute_result"
    }
   ],
   "source": [
    "np.roll(arr5,1)"
   ]
  },
  {
   "cell_type": "code",
   "execution_count": 217,
   "id": "03226e72-2011-47b5-a68c-61155c67c880",
   "metadata": {},
   "outputs": [
    {
     "data": {
      "text/plain": [
       "array([[1, 2],\n",
       "       [3, 4],\n",
       "       [5, 6],\n",
       "       [7, 8]])"
      ]
     },
     "execution_count": 217,
     "metadata": {},
     "output_type": "execute_result"
    }
   ],
   "source": [
    "c = np.array([[1,2],[3,4],[5,6],[7,8]])\n",
    "c"
   ]
  },
  {
   "cell_type": "code",
   "execution_count": 216,
   "id": "45be6816-a500-42db-a24b-a7e441b51b07",
   "metadata": {},
   "outputs": [
    {
     "data": {
      "text/plain": [
       "array([[2, 3],\n",
       "       [4, 5],\n",
       "       [6, 7],\n",
       "       [8, 1]])"
      ]
     },
     "execution_count": 216,
     "metadata": {},
     "output_type": "execute_result"
    }
   ],
   "source": [
    "np.roll(c,-1)"
   ]
  },
  {
   "cell_type": "code",
   "execution_count": 219,
   "id": "26e89c8c-1f80-435d-ae54-c473719d8468",
   "metadata": {},
   "outputs": [
    {
     "data": {
      "text/plain": [
       "array([[1, 2],\n",
       "       [3, 4],\n",
       "       [5, 6],\n",
       "       [7, 8]])"
      ]
     },
     "execution_count": 219,
     "metadata": {},
     "output_type": "execute_result"
    }
   ],
   "source": [
    "c"
   ]
  },
  {
   "cell_type": "code",
   "execution_count": 218,
   "id": "4a8d05e1-89d3-4b8e-8b43-39285d31589c",
   "metadata": {},
   "outputs": [
    {
     "data": {
      "text/plain": [
       "array([[7, 8],\n",
       "       [1, 2],\n",
       "       [3, 4],\n",
       "       [5, 6]])"
      ]
     },
     "execution_count": 218,
     "metadata": {},
     "output_type": "execute_result"
    }
   ],
   "source": [
    "np.roll(c,2)"
   ]
  },
  {
   "cell_type": "code",
   "execution_count": 220,
   "id": "83cc59bd-967e-47e6-8ca5-c8879ecc6f27",
   "metadata": {},
   "outputs": [
    {
     "data": {
      "text/plain": [
       "array([[5, 6],\n",
       "       [7, 8],\n",
       "       [1, 2],\n",
       "       [3, 4]])"
      ]
     },
     "execution_count": 220,
     "metadata": {},
     "output_type": "execute_result"
    }
   ],
   "source": [
    "np.roll(c,2,axis = 0)"
   ]
  },
  {
   "cell_type": "code",
   "execution_count": 221,
   "id": "dcd668cb-3dee-4d20-98bc-85ea49fa6d12",
   "metadata": {},
   "outputs": [
    {
     "data": {
      "text/plain": [
       "array([[1, 2],\n",
       "       [3, 4],\n",
       "       [5, 6],\n",
       "       [7, 8]])"
      ]
     },
     "execution_count": 221,
     "metadata": {},
     "output_type": "execute_result"
    }
   ],
   "source": [
    "np.roll(c,2,axis = 1)"
   ]
  },
  {
   "cell_type": "code",
   "execution_count": 225,
   "id": "82170328-8891-433c-bf66-1f817f402d01",
   "metadata": {},
   "outputs": [],
   "source": [
    "arr1 = np.array([[1,2,3]])\n",
    "arr2 = np.array([[3,0,3]])"
   ]
  },
  {
   "cell_type": "code",
   "execution_count": 226,
   "id": "b3f188a3-299c-49a7-9e88-3408cbc39848",
   "metadata": {},
   "outputs": [
    {
     "data": {
      "text/plain": [
       "array([[False,  True, False]])"
      ]
     },
     "execution_count": 226,
     "metadata": {},
     "output_type": "execute_result"
    }
   ],
   "source": [
    "arr1 > arr2"
   ]
  },
  {
   "cell_type": "code",
   "execution_count": 227,
   "id": "62095621-a423-49ee-8c24-ccb9536bcf2d",
   "metadata": {},
   "outputs": [
    {
     "data": {
      "text/plain": [
       "array([[1, 2, 3]])"
      ]
     },
     "execution_count": 227,
     "metadata": {},
     "output_type": "execute_result"
    }
   ],
   "source": [
    "arr1"
   ]
  },
  {
   "cell_type": "code",
   "execution_count": 228,
   "id": "eb709948-d2be-49f4-85cb-eaf98d4c6e8c",
   "metadata": {},
   "outputs": [
    {
     "data": {
      "text/plain": [
       "array([[-2, -3, -4]])"
      ]
     },
     "execution_count": 228,
     "metadata": {},
     "output_type": "execute_result"
    }
   ],
   "source": [
    "~arr1"
   ]
  },
  {
   "cell_type": "code",
   "execution_count": 229,
   "id": "d6113859-eaf4-4c17-a5f6-c70e4667bc21",
   "metadata": {},
   "outputs": [],
   "source": [
    "# operations on numpy string array\n",
    "d = np.array([\"Max\",\"Maxine\"])"
   ]
  },
  {
   "cell_type": "code",
   "execution_count": 230,
   "id": "f1710ca7-2550-40b5-83a9-12a42f39c256",
   "metadata": {},
   "outputs": [
    {
     "data": {
      "text/plain": [
       "array(['MAX', 'MAXINE'], dtype='<U6')"
      ]
     },
     "execution_count": 230,
     "metadata": {},
     "output_type": "execute_result"
    }
   ],
   "source": [
    "np.char.upper(d)"
   ]
  },
  {
   "cell_type": "code",
   "execution_count": 231,
   "id": "2bc2f3fc-a582-47c8-9222-0d47a29cc2f2",
   "metadata": {},
   "outputs": [],
   "source": [
    "# mathematica function"
   ]
  },
  {
   "cell_type": "code",
   "execution_count": 235,
   "id": "9322f382-87eb-42c7-9e78-1d081c04100b",
   "metadata": {},
   "outputs": [
    {
     "data": {
      "text/plain": [
       "array([[0.84147098, 0.90929743, 0.14112001]])"
      ]
     },
     "execution_count": 235,
     "metadata": {},
     "output_type": "execute_result"
    }
   ],
   "source": [
    "np.sin(arr1)"
   ]
  },
  {
   "cell_type": "code",
   "execution_count": 236,
   "id": "3a6ca89a-81d4-4858-a6cb-73281a5cfe6a",
   "metadata": {},
   "outputs": [
    {
     "data": {
      "text/plain": [
       "array([[ 0.54030231, -0.41614684, -0.9899925 ]])"
      ]
     },
     "execution_count": 236,
     "metadata": {},
     "output_type": "execute_result"
    }
   ],
   "source": [
    "np.cos(arr1)"
   ]
  },
  {
   "cell_type": "code",
   "execution_count": 237,
   "id": "c5ca8294-9969-494c-b961-74952731804b",
   "metadata": {},
   "outputs": [
    {
     "data": {
      "text/plain": [
       "array([[ 1.55740772, -2.18503986, -0.14254654]])"
      ]
     },
     "execution_count": 237,
     "metadata": {},
     "output_type": "execute_result"
    }
   ],
   "source": [
    "np.tan(arr1)"
   ]
  },
  {
   "cell_type": "code",
   "execution_count": 238,
   "id": "fb5850eb-96ae-4718-86a0-3542ba3595de",
   "metadata": {},
   "outputs": [
    {
     "data": {
      "text/plain": [
       "array([[0.        , 0.30103   , 0.47712125]])"
      ]
     },
     "execution_count": 238,
     "metadata": {},
     "output_type": "execute_result"
    }
   ],
   "source": [
    "np.log10(arr1)"
   ]
  },
  {
   "cell_type": "code",
   "execution_count": 239,
   "id": "39e82e54-4f11-4e20-b201-74425f6692dc",
   "metadata": {},
   "outputs": [
    {
     "data": {
      "text/plain": [
       "array([[ 2.71828183,  7.3890561 , 20.08553692]])"
      ]
     },
     "execution_count": 239,
     "metadata": {},
     "output_type": "execute_result"
    }
   ],
   "source": [
    "np.exp(arr1)"
   ]
  },
  {
   "cell_type": "code",
   "execution_count": 240,
   "id": "b4f64411-5ff0-4760-a873-fabfddcb414f",
   "metadata": {},
   "outputs": [
    {
     "data": {
      "text/plain": [
       "array([[1, 4, 9]])"
      ]
     },
     "execution_count": 240,
     "metadata": {},
     "output_type": "execute_result"
    }
   ],
   "source": [
    "np.power(arr1,2)"
   ]
  },
  {
   "cell_type": "code",
   "execution_count": 241,
   "id": "dc084bcb-1127-485b-bf95-3b19b1f0a00a",
   "metadata": {},
   "outputs": [
    {
     "data": {
      "text/plain": [
       "np.int64(3)"
      ]
     },
     "execution_count": 241,
     "metadata": {},
     "output_type": "execute_result"
    }
   ],
   "source": [
    "np.max(arr1)"
   ]
  },
  {
   "cell_type": "code",
   "execution_count": 242,
   "id": "eb97dc55-b8e8-432b-b160-b75e555e0418",
   "metadata": {},
   "outputs": [
    {
     "data": {
      "text/plain": [
       "np.float64(2.0)"
      ]
     },
     "execution_count": 242,
     "metadata": {},
     "output_type": "execute_result"
    }
   ],
   "source": [
    "np.mean(arr1)"
   ]
  },
  {
   "cell_type": "code",
   "execution_count": 243,
   "id": "0531bc9d-f2b8-4879-a610-241904fbf846",
   "metadata": {},
   "outputs": [
    {
     "data": {
      "text/plain": [
       "np.int64(1)"
      ]
     },
     "execution_count": 243,
     "metadata": {},
     "output_type": "execute_result"
    }
   ],
   "source": [
    "np.min(arr1)"
   ]
  },
  {
   "cell_type": "code",
   "execution_count": 244,
   "id": "af33ccd2-cb63-4361-8e50-9660f987f05a",
   "metadata": {},
   "outputs": [
    {
     "data": {
      "text/plain": [
       "np.float64(0.816496580927726)"
      ]
     },
     "execution_count": 244,
     "metadata": {},
     "output_type": "execute_result"
    }
   ],
   "source": [
    "np.std(arr1)"
   ]
  },
  {
   "cell_type": "code",
   "execution_count": 245,
   "id": "d2aaa0ee-aa38-411e-88c8-23bf62c99e54",
   "metadata": {},
   "outputs": [
    {
     "data": {
      "text/plain": [
       "np.float64(0.6666666666666666)"
      ]
     },
     "execution_count": 245,
     "metadata": {},
     "output_type": "execute_result"
    }
   ],
   "source": [
    "np.var(arr1)"
   ]
  },
  {
   "cell_type": "code",
   "execution_count": 246,
   "id": "996a8d33-9704-4e34-9d6e-384b031d6089",
   "metadata": {},
   "outputs": [
    {
     "data": {
      "text/plain": [
       "array([[-2,  2,  0]])"
      ]
     },
     "execution_count": 246,
     "metadata": {},
     "output_type": "execute_result"
    }
   ],
   "source": [
    "np.subtract(arr1,arr2)"
   ]
  },
  {
   "cell_type": "code",
   "execution_count": 250,
   "id": "7ec0394c-ca73-4bc9-8935-41b51c2f454a",
   "metadata": {},
   "outputs": [
    {
     "data": {
      "text/plain": [
       "array([[3, 0, 9]])"
      ]
     },
     "execution_count": 250,
     "metadata": {},
     "output_type": "execute_result"
    }
   ],
   "source": [
    "np.multiply(arr1,arr2)"
   ]
  },
  {
   "cell_type": "code",
   "execution_count": 252,
   "id": "9ba93039-d6f9-442e-898f-fda965a374f5",
   "metadata": {},
   "outputs": [
    {
     "name": "stderr",
     "output_type": "stream",
     "text": [
      "C:\\Users\\himen\\AppData\\Local\\Temp\\ipykernel_5224\\3654345641.py:1: RuntimeWarning: divide by zero encountered in remainder\n",
      "  np.mod(arr1,arr2) #modulo\n"
     ]
    },
    {
     "data": {
      "text/plain": [
       "array([[1, 0, 0]])"
      ]
     },
     "execution_count": 252,
     "metadata": {},
     "output_type": "execute_result"
    }
   ],
   "source": [
    "np.mod(arr1,arr2) #modulo"
   ]
  },
  {
   "cell_type": "code",
   "execution_count": 255,
   "id": "e7b4dafa-9709-459a-b574-99c00158ed3f",
   "metadata": {},
   "outputs": [
    {
     "data": {
      "text/plain": [
       "array([[1.        , 1.41421356, 1.73205081]])"
      ]
     },
     "execution_count": 255,
     "metadata": {},
     "output_type": "execute_result"
    }
   ],
   "source": [
    "np.sqrt(arr1)"
   ]
  },
  {
   "cell_type": "code",
   "execution_count": 256,
   "id": "9d05dd28-2aa5-4a07-b4dd-71660f0ea9bc",
   "metadata": {},
   "outputs": [],
   "source": [
    "# sorting and searching in numpy"
   ]
  },
  {
   "cell_type": "code",
   "execution_count": 260,
   "id": "249c6913-04d1-4795-bbce-656fcde827de",
   "metadata": {},
   "outputs": [],
   "source": [
    "e = np.array([44,22,55,67])"
   ]
  },
  {
   "cell_type": "code",
   "execution_count": 261,
   "id": "ba3a81de-79c8-4563-aac3-2f36ab9468a6",
   "metadata": {},
   "outputs": [
    {
     "data": {
      "text/plain": [
       "array([44, 22, 55, 67])"
      ]
     },
     "execution_count": 261,
     "metadata": {},
     "output_type": "execute_result"
    }
   ],
   "source": [
    "e"
   ]
  },
  {
   "cell_type": "code",
   "execution_count": 262,
   "id": "57aac775-b955-4d39-aaa1-904d35552f23",
   "metadata": {},
   "outputs": [
    {
     "data": {
      "text/plain": [
       "array([22, 44, 55, 67])"
      ]
     },
     "execution_count": 262,
     "metadata": {},
     "output_type": "execute_result"
    }
   ],
   "source": [
    "np.sort(e)"
   ]
  },
  {
   "cell_type": "code",
   "execution_count": 270,
   "id": "b3091058-1688-40de-b5d3-cb6ac9682473",
   "metadata": {},
   "outputs": [],
   "source": [
    "f = np.array([1,2,6,8,100,0,0,0,150,800])"
   ]
  },
  {
   "cell_type": "code",
   "execution_count": 271,
   "id": "68ef1f79-6fbe-49c9-8b7e-6ecc74389d2d",
   "metadata": {},
   "outputs": [
    {
     "data": {
      "text/plain": [
       "np.int64(9)"
      ]
     },
     "execution_count": 271,
     "metadata": {},
     "output_type": "execute_result"
    }
   ],
   "source": [
    "np.searchsorted(f,170) #find index where element should be put to maintain order"
   ]
  },
  {
   "cell_type": "code",
   "execution_count": 272,
   "id": "33e73457-279f-4df7-b36e-321fd671170e",
   "metadata": {},
   "outputs": [
    {
     "data": {
      "text/plain": [
       "7"
      ]
     },
     "execution_count": 272,
     "metadata": {},
     "output_type": "execute_result"
    }
   ],
   "source": [
    "np.count_nonzero(f)"
   ]
  },
  {
   "cell_type": "code",
   "execution_count": 273,
   "id": "7796d55c-7c6f-45fe-a2cd-0cd02c85a9c8",
   "metadata": {},
   "outputs": [
    {
     "data": {
      "text/plain": [
       "array([  1,   2,   6,   8, 100, 150, 800])"
      ]
     },
     "execution_count": 273,
     "metadata": {},
     "output_type": "execute_result"
    }
   ],
   "source": [
    "f[f>0]"
   ]
  },
  {
   "cell_type": "code",
   "execution_count": 275,
   "id": "16487656-9fa6-498a-8c25-b71dcc25a30d",
   "metadata": {},
   "outputs": [
    {
     "data": {
      "text/plain": [
       "(array([0, 1, 2, 3, 4, 8, 9]),)"
      ]
     },
     "execution_count": 275,
     "metadata": {},
     "output_type": "execute_result"
    }
   ],
   "source": [
    "np.where(f>0) # same as above"
   ]
  },
  {
   "cell_type": "code",
   "execution_count": 277,
   "id": "548086d3-407f-4569-8538-d9b2c00e5bfd",
   "metadata": {},
   "outputs": [
    {
     "data": {
      "text/plain": [
       "array([  1,   2,   6,   8, 100, 150, 800])"
      ]
     },
     "execution_count": 277,
     "metadata": {},
     "output_type": "execute_result"
    }
   ],
   "source": [
    "np.extract(f>0,f) # same as above"
   ]
  },
  {
   "cell_type": "code",
   "execution_count": 278,
   "id": "76ab8d36-7323-467d-9183-9bc62e528456",
   "metadata": {},
   "outputs": [
    {
     "data": {
      "text/plain": [
       "array([  1,   2,   6,   8, 100,   0,   0,   0, 150, 800])"
      ]
     },
     "execution_count": 278,
     "metadata": {},
     "output_type": "execute_result"
    }
   ],
   "source": [
    "f"
   ]
  },
  {
   "cell_type": "code",
   "execution_count": 280,
   "id": "45c0b56a-8353-4e6a-8f6e-784d8827c1bb",
   "metadata": {},
   "outputs": [
    {
     "data": {
      "text/plain": [
       "array([   72057594037927936,   144115188075855872,   432345564227567616,\n",
       "         576460752303423488,  7205759403792793600,                    0,\n",
       "                          0,                    0, -7638104968020361216,\n",
       "        2306687434143825920])"
      ]
     },
     "execution_count": 280,
     "metadata": {},
     "output_type": "execute_result"
    }
   ],
   "source": [
    "f.byteswap() # swap the bytes of the array elements"
   ]
  },
  {
   "cell_type": "code",
   "execution_count": 281,
   "id": "debee8e2-f505-4ae3-9152-b06765e6b94b",
   "metadata": {},
   "outputs": [],
   "source": [
    "import numpy.matlib as nm"
   ]
  },
  {
   "cell_type": "code",
   "execution_count": 283,
   "id": "0c000732-b012-4de4-a4e2-deb2aaee5abf",
   "metadata": {},
   "outputs": [
    {
     "data": {
      "text/plain": [
       "matrix([[0, 0, 0, 0, 0]])"
      ]
     },
     "execution_count": 283,
     "metadata": {},
     "output_type": "execute_result"
    }
   ],
   "source": [
    "nm.zeros(5,int)"
   ]
  },
  {
   "cell_type": "code",
   "execution_count": 284,
   "id": "dcc42195-cb99-4a1a-b2cb-51c46bb8d806",
   "metadata": {},
   "outputs": [
    {
     "data": {
      "text/plain": [
       "matrix([[1, 1, 1, 1, 1]])"
      ]
     },
     "execution_count": 284,
     "metadata": {},
     "output_type": "execute_result"
    }
   ],
   "source": [
    "nm.ones(5,int)"
   ]
  },
  {
   "cell_type": "code",
   "execution_count": 285,
   "id": "4ff439d0-13b8-48e8-8f6f-cea921340d3d",
   "metadata": {},
   "outputs": [],
   "source": [
    "# numpy linear algebra"
   ]
  },
  {
   "cell_type": "code",
   "execution_count": 289,
   "id": "7045ded1-41d6-417f-9222-93f5d92b1b45",
   "metadata": {},
   "outputs": [
    {
     "data": {
      "text/plain": [
       "array([[2, 3, 2],\n",
       "       [2, 3, 4],\n",
       "       [2, 2, 3]], dtype=int32)"
      ]
     },
     "execution_count": 289,
     "metadata": {},
     "output_type": "execute_result"
    }
   ],
   "source": [
    "arr4"
   ]
  },
  {
   "cell_type": "code",
   "execution_count": 290,
   "id": "9c678503-5ad0-412d-9c00-90030c03982c",
   "metadata": {},
   "outputs": [],
   "source": [
    "arr7 = np.random.randint(1,3,(3,3))"
   ]
  },
  {
   "cell_type": "code",
   "execution_count": 292,
   "id": "f344800b-4112-4c45-ba08-376f58e1dd66",
   "metadata": {},
   "outputs": [
    {
     "data": {
      "text/plain": [
       "array([[10, 14, 15],\n",
       "       [ 8, 11, 13],\n",
       "       [10, 13, 16]], dtype=int32)"
      ]
     },
     "execution_count": 292,
     "metadata": {},
     "output_type": "execute_result"
    }
   ],
   "source": [
    "arr7 @ arr4 # Matrix multiplication"
   ]
  },
  {
   "cell_type": "code",
   "execution_count": 296,
   "id": "8d5da7a6-350e-49dc-b9ca-d0fa37412455",
   "metadata": {},
   "outputs": [
    {
     "data": {
      "text/plain": [
       "array([[2, 2, 1],\n",
       "       [1, 2, 1],\n",
       "       [1, 2, 2]], dtype=int32)"
      ]
     },
     "execution_count": 296,
     "metadata": {},
     "output_type": "execute_result"
    }
   ],
   "source": [
    "arr7"
   ]
  },
  {
   "cell_type": "code",
   "execution_count": 297,
   "id": "04238e56-b261-4efa-844b-db6c9c2f9608",
   "metadata": {},
   "outputs": [
    {
     "name": "stdout",
     "output_type": "stream",
     "text": [
      "2.0\n"
     ]
    }
   ],
   "source": [
    "print(np.linalg.det(arr7)) #Determinant of arr7"
   ]
  },
  {
   "cell_type": "code",
   "execution_count": 302,
   "id": "ba977695-6a28-411a-b145-1734c97461e0",
   "metadata": {},
   "outputs": [
    {
     "data": {
      "text/plain": [
       "array([[1, 1, 1],\n",
       "       [1, 1, 1],\n",
       "       [1, 2, 2]], dtype=int32)"
      ]
     },
     "execution_count": 302,
     "metadata": {},
     "output_type": "execute_result"
    }
   ],
   "source": [
    "arr7[0][0] = 1\n",
    "arr7[0][1] = 1\n",
    "arr7[0][2] = 1\n",
    "arr7[1][0] = 1\n",
    "arr7[1][1] = 1\n",
    "arr7[1][2] = 1\n",
    "arr7"
   ]
  },
  {
   "cell_type": "code",
   "execution_count": 303,
   "id": "384ff46d-7d5f-467b-9233-17068da9b7c7",
   "metadata": {},
   "outputs": [
    {
     "name": "stdout",
     "output_type": "stream",
     "text": [
      "0.0\n"
     ]
    }
   ],
   "source": [
    "print(np.linalg.det(arr7)) #Determinant of a modified arr7"
   ]
  },
  {
   "cell_type": "code",
   "execution_count": 306,
   "id": "953cf152-bb47-48b6-b756-c99d76c652e7",
   "metadata": {},
   "outputs": [],
   "source": [
    "# Inverse of a matrix"
   ]
  },
  {
   "cell_type": "code",
   "execution_count": 307,
   "id": "bb49c2a5-5cd6-4a13-b7a9-7f5893e1086c",
   "metadata": {},
   "outputs": [
    {
     "data": {
      "text/plain": [
       "array([[2, 1, 3],\n",
       "       [1, 6, 9],\n",
       "       [1, 2, 2]], dtype=int32)"
      ]
     },
     "execution_count": 307,
     "metadata": {},
     "output_type": "execute_result"
    }
   ],
   "source": [
    "arr7[0][0] = 2\n",
    "arr7[0][1] = 1\n",
    "arr7[0][2] = 3\n",
    "arr7[1][0] = 1\n",
    "arr7[1][1] = 6\n",
    "arr7[1][2] = 9\n",
    "arr7"
   ]
  },
  {
   "cell_type": "code",
   "execution_count": 308,
   "id": "5822a8ec-3ca8-4f3d-8c37-d93759077c03",
   "metadata": {},
   "outputs": [
    {
     "data": {
      "text/plain": [
       "array([[ 0.35294118, -0.23529412,  0.52941176],\n",
       "       [-0.41176471, -0.05882353,  0.88235294],\n",
       "       [ 0.23529412,  0.17647059, -0.64705882]])"
      ]
     },
     "execution_count": 308,
     "metadata": {},
     "output_type": "execute_result"
    }
   ],
   "source": [
    "np.linalg.inv(arr7)"
   ]
  },
  {
   "cell_type": "code",
   "execution_count": null,
   "id": "8036e9fd-4a04-40ee-bec2-2b519aae1daf",
   "metadata": {},
   "outputs": [],
   "source": []
  }
 ],
 "metadata": {
  "kernelspec": {
   "display_name": "Python 3 (ipykernel)",
   "language": "python",
   "name": "python3"
  },
  "language_info": {
   "codemirror_mode": {
    "name": "ipython",
    "version": 3
   },
   "file_extension": ".py",
   "mimetype": "text/x-python",
   "name": "python",
   "nbconvert_exporter": "python",
   "pygments_lexer": "ipython3",
   "version": "3.12.4"
  }
 },
 "nbformat": 4,
 "nbformat_minor": 5
}
