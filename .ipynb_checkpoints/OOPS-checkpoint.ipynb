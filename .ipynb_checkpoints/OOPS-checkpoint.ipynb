{
 "cells": [
  {
   "cell_type": "code",
   "execution_count": 1,
   "id": "c65857da-780f-48a0-9cb8-a84da389865b",
   "metadata": {},
   "outputs": [],
   "source": [
    "# Object Oriented Programming Systems\n"
   ]
  },
  {
   "cell_type": "code",
   "execution_count": 6,
   "id": "c013dda2-08df-4b52-9163-144d454da1c1",
   "metadata": {},
   "outputs": [],
   "source": [
    "a = 5\n",
    "b = \"yo yo\""
   ]
  },
  {
   "cell_type": "code",
   "execution_count": 7,
   "id": "ca71a53f-e7a2-43e7-a12c-3674d8a91892",
   "metadata": {},
   "outputs": [
    {
     "name": "stdout",
     "output_type": "stream",
     "text": [
      "<class 'int'>\n",
      "<class 'str'>\n"
     ]
    }
   ],
   "source": [
    "print(type(a))\n",
    "print(type(b))"
   ]
  },
  {
   "cell_type": "code",
   "execution_count": 8,
   "id": "afc5f7c2-e9e4-438a-84a9-869468ee1d15",
   "metadata": {},
   "outputs": [],
   "source": [
    "# classes are blueprints/templates for creating an object \n",
    "# Note: Objects are basically variables made from the class."
   ]
  },
  {
   "cell_type": "code",
   "execution_count": 9,
   "id": "19cf523a-6a16-45b6-8a91-9d4f0bbe0224",
   "metadata": {},
   "outputs": [],
   "source": [
    "class Laptop:  # UpperCamelCase\n",
    "    pass"
   ]
  },
  {
   "cell_type": "code",
   "execution_count": 14,
   "id": "a6213153-7134-4c62-8074-8fb4a8c79c1f",
   "metadata": {},
   "outputs": [
    {
     "name": "stdout",
     "output_type": "stream",
     "text": [
      "<class '__main__.Laptop'>\n"
     ]
    }
   ],
   "source": [
    "print(type(Acer_Aspire_7))"
   ]
  },
  {
   "cell_type": "code",
   "execution_count": 16,
   "id": "42a81be6-9976-43dc-811c-99ba60c058b8",
   "metadata": {},
   "outputs": [],
   "source": [
    "# A project can have many components , say backend(f1,f2), frontend(f3,f4), data pipeline(f5,f6)\n"
   ]
  },
  {
   "cell_type": "code",
   "execution_count": 17,
   "id": "1d1b1149-54fb-4ad0-805d-5c4d8c3d9073",
   "metadata": {},
   "outputs": [],
   "source": [
    "def f1():\n",
    "    pass\n",
    "\n",
    "def f2():\n",
    "    pass\n",
    "# ........till f6()\n",
    "\n",
    "# All the functions are in one place, unarranged\n",
    "# OOPS helps us arrange the reuired functions in respective classes"
   ]
  },
  {
   "cell_type": "code",
   "execution_count": 83,
   "id": "a9a29bda-f8a3-4a04-b337-0639204158ea",
   "metadata": {},
   "outputs": [],
   "source": [
    "class Laptop:\n",
    "   \n",
    "    def Power_ON(self):\n",
    "        print(\"Laptop is powering on.\")\n",
    "\n",
    "    def Power_OFF(self):\n",
    "        print(\"Laptop is shutting down.\")\n",
    "\n",
    "    # self >>  a variable that represents instance of the class using which you \n",
    "    # can access method\n",
    "    # or function of class, also attribute/property\n",
    "    # in other words the method is refrenced to that particular object\n",
    "    # self is not a keyword and you can write anything in place of it\n",
    "    # best practice is to pass 'self'"
   ]
  },
  {
   "cell_type": "code",
   "execution_count": 84,
   "id": "b30c3848-a5d2-48bd-af8b-6e53e55fa463",
   "metadata": {},
   "outputs": [
    {
     "name": "stdout",
     "output_type": "stream",
     "text": [
      "Laptop is powering on.\n",
      "Laptop is shutting down.\n"
     ]
    }
   ],
   "source": [
    "Acer_Aspire_7 = Laptop()\n",
    "Acer_Aspire_7.Power_ON()\n",
    "Acer_Aspire_7.Power_OFF()"
   ]
  },
  {
   "cell_type": "code",
   "execution_count": 44,
   "id": "e4151ff9-e9d0-48ec-a60c-74abb6316389",
   "metadata": {},
   "outputs": [],
   "source": [
    "class Laptop:\n",
    "    def __init__(self,Name,CPU,GPU,RAM):\n",
    "       self.Name = Name\n",
    "       self.CPU = CPU\n",
    "       self.GPU = GPU\n",
    "       self.RAM = RAM\n",
    "    \n",
    "    def Power_ON(self):\n",
    "        print(\"Laptop is powering ON.\")\n",
    "\n",
    "    def Display_Sys_Config(self):\n",
    "        print(\"Device name : \" + self.Name)\n",
    "        print(\"CPU : \" + self.CPU)\n",
    "        print(\"Graphics : \" + self.GPU)\n",
    "        print(\"Total RAM : \" + str(self.RAM) + \" GB\")\n",
    "    \n",
    "    "
   ]
  },
  {
   "cell_type": "code",
   "execution_count": 45,
   "id": "952ff2d2-9162-4461-b558-62a72c42f378",
   "metadata": {},
   "outputs": [
    {
     "name": "stdout",
     "output_type": "stream",
     "text": [
      "Device name : Acer Aspire 7\n",
      "CPU : Ryzen 5 5500U\n",
      "Graphics : GTX 1650\n",
      "Total RAM : 16 GB\n"
     ]
    }
   ],
   "source": [
    "MyLaptop = Laptop(\"Acer Aspire 7\",\"Ryzen 5 5500U\",\"GTX 1650\",16)\n",
    "MyLaptop.Display_Sys_Config()"
   ]
  },
  {
   "cell_type": "code",
   "execution_count": 108,
   "id": "13b414b7-97a1-457c-905e-a1e3c31f1411",
   "metadata": {},
   "outputs": [],
   "source": [
    "class Bank:\n",
    "    Net_Balance = 100000\n",
    "    \n",
    "    def deposit(self,amount):\n",
    "        self.Net_Balance += amount\n",
    "        print(\"Deposited \" + str(amount))\n",
    "\n",
    "    def balance(self):\n",
    "        print(\"Balance : \" + str(self.Net_Balance))\n",
    "        \n",
    "    def withdraw(self,amount_withdraw):\n",
    "        self.Net_Balance -= amount_withdraw\n",
    "        print(\"Withdrew \" + str(amount_withdraw))"
   ]
  },
  {
   "cell_type": "code",
   "execution_count": 109,
   "id": "52089517-017e-483e-bf31-42c087038549",
   "metadata": {},
   "outputs": [
    {
     "name": "stdout",
     "output_type": "stream",
     "text": [
      "Balance : 100000\n",
      "Withdrew 10000\n",
      "Balance : 90000\n",
      "Deposited 10000000\n",
      "Balance : 10090000\n"
     ]
    }
   ],
   "source": [
    "User1 = Bank()\n",
    "User1.balance()\n",
    "User1.withdraw(10000)\n",
    "User1.balance()\n",
    "User1.deposit(10000000)\n",
    "User1.balance()"
   ]
  },
  {
   "cell_type": "code",
   "execution_count": 130,
   "id": "b571c982-c520-404d-be46-1ffea1b1bdbb",
   "metadata": {},
   "outputs": [],
   "source": [
    "class ListOps:\n",
    "    l = [1,2,3,4,5,6]\n",
    "    def extract_even(self,l):\n",
    "        l1  = []\n",
    "        for i in l:\n",
    "            if i%2 == 0 :\n",
    "                l1.append(i)\n",
    "        return l1\n",
    "    def extract_odd(self,l):\n",
    "        l2  = []\n",
    "        for i in l:\n",
    "            if i%2 != 0 :\n",
    "                l2.append(i)\n",
    "        return l2\n",
    "    \n",
    "            "
   ]
  },
  {
   "cell_type": "code",
   "execution_count": 131,
   "id": "45e7b81e-f580-41c1-b5f7-f0b4cea00e38",
   "metadata": {},
   "outputs": [
    {
     "name": "stdout",
     "output_type": "stream",
     "text": [
      "[2, 4, 6]\n",
      "[1, 3, 5]\n"
     ]
    }
   ],
   "source": [
    "My_list_ob = ListOps()\n",
    "print(My_list_ob.extract_even(My_list_ob.l))\n",
    "print(My_list_ob.extract_odd(My_list_ob.l))"
   ]
  },
  {
   "cell_type": "code",
   "execution_count": 24,
   "id": "e9f411e5-707a-4be0-95d0-8a917715b7ee",
   "metadata": {},
   "outputs": [],
   "source": [
    "class ListOps:\n",
    "    \n",
    "    def __init__(self,l):  # dunder method --- Double underscores\n",
    "        self.l = l # accesible everywhere using self\n",
    "        \n",
    "    def extract_even(self): # be careful as init has been used only pass self in the method\n",
    "        l = self.l\n",
    "        l1  = []\n",
    "        for i in l:\n",
    "            if i%2 == 0 :\n",
    "                l1.append(i)\n",
    "        return l1\n",
    "    def extract_odd(self):\n",
    "        l = self.l\n",
    "        l2  = []\n",
    "        for i in l:\n",
    "            if i%2 != 0 :\n",
    "                l2.append(i)\n",
    "        return l2\n",
    "    "
   ]
  },
  {
   "cell_type": "code",
   "execution_count": 25,
   "id": "cc896c51-5230-4e1b-b70f-2837d9c9ee90",
   "metadata": {},
   "outputs": [],
   "source": [
    "list9 = ListOps([1,3,4,5,6,77,88,432,222,45,5,67,44])"
   ]
  },
  {
   "cell_type": "code",
   "execution_count": 26,
   "id": "fa667106-1fb0-4d3f-9742-7fd8f4ac3748",
   "metadata": {},
   "outputs": [
    {
     "data": {
      "text/plain": [
       "[4, 6, 88, 432, 222, 44]"
      ]
     },
     "execution_count": 26,
     "metadata": {},
     "output_type": "execute_result"
    }
   ],
   "source": [
    "list9.extract_even()"
   ]
  },
  {
   "cell_type": "code",
   "execution_count": 27,
   "id": "26f83958-00c5-42e3-9d09-d7fcf7d57838",
   "metadata": {},
   "outputs": [
    {
     "data": {
      "text/plain": [
       "[1, 3, 5, 77, 45, 5, 67]"
      ]
     },
     "execution_count": 27,
     "metadata": {},
     "output_type": "execute_result"
    }
   ],
   "source": [
    "list9.extract_odd()"
   ]
  },
  {
   "cell_type": "code",
   "execution_count": 47,
   "id": "2932a4c4-858d-4d8a-b989-8e6665657442",
   "metadata": {},
   "outputs": [],
   "source": [
    "# Inheritance ----> refers to process of child receiving the properties of parent class"
   ]
  },
  {
   "cell_type": "code",
   "execution_count": 48,
   "id": "ea6a163a-8763-4e7e-ad0d-24d4b1c264fa",
   "metadata": {},
   "outputs": [],
   "source": [
    "# class BaseClass:\n",
    "#     #body of BaseClass\n",
    "# class DerivedClass(BaseClass):\n",
    "#     #body of DerivedClass"
   ]
  },
  {
   "cell_type": "code",
   "execution_count": 49,
   "id": "38c85df1-8889-4f58-8e69-550320aa2a3d",
   "metadata": {},
   "outputs": [],
   "source": [
    "# single inheritance >> when a derived class has only one parent class"
   ]
  },
  {
   "cell_type": "code",
   "execution_count": 54,
   "id": "cc7ab92d-058d-4d67-b256-016a605f654c",
   "metadata": {},
   "outputs": [],
   "source": [
    "# example: - \n",
    "class Father:\n",
    "    def father_prop(self):\n",
    "        print(\"A $250000 House\")\n",
    "\n",
    "class Son(Father):\n",
    "    def work(self):\n",
    "        print(\"I go to college.\")"
   ]
  },
  {
   "cell_type": "code",
   "execution_count": 57,
   "id": "b7fff108-db78-4561-9ecd-db0da231b964",
   "metadata": {},
   "outputs": [
    {
     "name": "stdout",
     "output_type": "stream",
     "text": [
      "I go to college.\n",
      "A $250000 House\n"
     ]
    }
   ],
   "source": [
    "Cal = Father()\n",
    "Nate = Son()\n",
    "Nate.work()\n",
    "Nate.father_prop()"
   ]
  },
  {
   "cell_type": "code",
   "execution_count": 59,
   "id": "7d6fa273-9c9d-4d82-aaa6-4fb6a9463930",
   "metadata": {},
   "outputs": [],
   "source": [
    "# Parent object cannot acces the properties of child class\n",
    "# But child object can access both"
   ]
  },
  {
   "cell_type": "code",
   "execution_count": 70,
   "id": "6bd41182-2d3b-488f-9733-199cd3e84fab",
   "metadata": {},
   "outputs": [],
   "source": [
    "# method overriding>> re-writing / redefining methods of parent class\n",
    "class Fruit:\n",
    "    def fruit_info(self):\n",
    "        print(\"Inside Parent class\")\n",
    "\n",
    "class Apple(Fruit):\n",
    "    def fruit_info(self):\n",
    "        print(\"HA HA HA I RULE\")\n",
    "    def apple_info(self):\n",
    "        print(\"Inside the child class\")"
   ]
  },
  {
   "cell_type": "code",
   "execution_count": 71,
   "id": "309a718b-9268-49ce-80f2-e5ef39dab6be",
   "metadata": {},
   "outputs": [
    {
     "name": "stdout",
     "output_type": "stream",
     "text": [
      "HA HA HA I RULE\n",
      "Inside Parent class\n"
     ]
    }
   ],
   "source": [
    "AppleObj = Apple()\n",
    "AppleObj.fruit_info()\n",
    "FruitObj = Fruit()\n",
    "FruitObj.fruit_info()"
   ]
  },
  {
   "cell_type": "code",
   "execution_count": 72,
   "id": "475271a6-5142-43b6-b7ff-d05b8560950e",
   "metadata": {},
   "outputs": [],
   "source": [
    "# multi-level inheritance\n",
    "# Parent Class -> Child Class 1 -> Child Class 2\n",
    "\n",
    "class Grandfather:\n",
    "    def prop_grandfather(self):\n",
    "        print(\"I am your grandfather, this is my property\")\n",
    "\n",
    "class Father(Grandfather):\n",
    "    def prop_father(self):\n",
    "        print(\"I am your father. I have my grandfather's property and mine.\")\n",
    "\n",
    "class Son(Father):\n",
    "    def prop_son(self):\n",
    "        print(\"I am the one...don't need a gun to get respect up on the street\")\n",
    "    "
   ]
  },
  {
   "cell_type": "code",
   "execution_count": 76,
   "id": "8561fd24-c9bd-4b45-bc8d-ae65d13aa948",
   "metadata": {},
   "outputs": [
    {
     "name": "stdout",
     "output_type": "stream",
     "text": [
      "I am your father. I have my grandfather's property and mine.\n",
      "I am your grandfather, this is my property\n",
      "I am the one...don't need a gun to get respect up on the street\n"
     ]
    }
   ],
   "source": [
    "son = Son()\n",
    "son.prop_father()\n",
    "son.prop_grandfather()\n",
    "son.prop_son()"
   ]
  },
  {
   "cell_type": "code",
   "execution_count": 79,
   "id": "f7a1aa3b-06d0-4e5c-b2a1-ab59f5eaa1d6",
   "metadata": {},
   "outputs": [
    {
     "name": "stdout",
     "output_type": "stream",
     "text": [
      "I am your father. I have my grandfather's property and mine.\n",
      "I am your grandfather, this is my property\n"
     ]
    }
   ],
   "source": [
    "father = Father()\n",
    "father.prop_father()\n",
    "father.prop_grandfather()"
   ]
  },
  {
   "cell_type": "code",
   "execution_count": 80,
   "id": "db5bbbc9-92e9-47e7-89c9-60f2f6d2ef08",
   "metadata": {},
   "outputs": [
    {
     "name": "stdout",
     "output_type": "stream",
     "text": [
      "I am your grandfather, this is my property\n"
     ]
    }
   ],
   "source": [
    "grandpop = Grandfather()\n",
    "grandpop.prop_grandfather()"
   ]
  },
  {
   "cell_type": "code",
   "execution_count": 81,
   "id": "337769aa-097d-4651-971c-5b46b2bed32f",
   "metadata": {},
   "outputs": [],
   "source": [
    "# multiple inheritance"
   ]
  },
  {
   "cell_type": "code",
   "execution_count": 94,
   "id": "9eeed65c-7a27-40a8-92f2-338b093a17f6",
   "metadata": {},
   "outputs": [],
   "source": [
    "class Mom:\n",
    "    def method_M(self):\n",
    "        print(\"Mom\")\n",
    "\n",
    "class Dad:\n",
    "    def method_D(self):\n",
    "        print(\"Dad\")\n",
    "\n",
    "class Child(Mom,Dad):   # Multiple Inheritance\n",
    "    def method(self):\n",
    "        print(\"guuguugagga\")"
   ]
  },
  {
   "cell_type": "code",
   "execution_count": 95,
   "id": "1d3622d0-0edc-47f6-8050-f949a9c96e3d",
   "metadata": {},
   "outputs": [
    {
     "name": "stdout",
     "output_type": "stream",
     "text": [
      "Dad\n",
      "Mom\n",
      "guuguugagga\n"
     ]
    }
   ],
   "source": [
    "c1 = Child()\n",
    "c1.method_D()\n",
    "c1.method_M()\n",
    "c1.method()"
   ]
  },
  {
   "cell_type": "code",
   "execution_count": 100,
   "id": "abd7f6e2-138c-4a87-94a7-98ba45a0f930",
   "metadata": {},
   "outputs": [],
   "source": [
    "# Diamond Problem ->> When a class inherits from 2 or more classes\n",
    "# will lead to ambiguity as to which method will be executed\n",
    "# To fix this: Python uses method resolution order (MRO) algorithm called c3\n",
    "# linearization.\n",
    "# The class that is inherited first will be the one who's method is executed.\n",
    "class Mom:\n",
    "    def method_p(self):\n",
    "        print(\"Mom\")\n",
    "\n",
    "class Dad:\n",
    "    def method_p(self):\n",
    "        print(\"Dad\")\n",
    "\n",
    "class Child(Mom,Dad):   # Multiple Inheritance\n",
    "    def method(self):\n",
    "        print(\"guuguugagga\")"
   ]
  },
  {
   "cell_type": "code",
   "execution_count": 101,
   "id": "fa723534-e056-44ca-9eb9-353214d3f71b",
   "metadata": {},
   "outputs": [
    {
     "name": "stdout",
     "output_type": "stream",
     "text": [
      "Mom\n",
      "guuguugagga\n"
     ]
    }
   ],
   "source": [
    "c2 = Child()\n",
    "c2.method_p()\n",
    "c2.method()"
   ]
  },
  {
   "cell_type": "code",
   "execution_count": 102,
   "id": "0512f5bc-c55b-4acf-9603-234b6ce68f2e",
   "metadata": {},
   "outputs": [],
   "source": [
    "# hierarchical inheritance -> one parent class , many child classes derived from it"
   ]
  },
  {
   "cell_type": "code",
   "execution_count": 103,
   "id": "d9f5813a-5bf3-410d-82ae-c023728e8fe7",
   "metadata": {},
   "outputs": [],
   "source": [
    "class Vehicle:\n",
    "    def can_drive(self):\n",
    "        print(\"I drive\")\n",
    "\n",
    "class Car(Vehicle):\n",
    "    pass\n",
    "\n",
    "class Truck(Vehicle):\n",
    "    pass"
   ]
  },
  {
   "cell_type": "code",
   "execution_count": 105,
   "id": "99581ba7-3788-4656-bbde-b93e9f01c615",
   "metadata": {},
   "outputs": [
    {
     "name": "stdout",
     "output_type": "stream",
     "text": [
      "I drive\n",
      "I drive\n"
     ]
    }
   ],
   "source": [
    "car = Car()\n",
    "truck = Truck()\n",
    "car.can_drive()\n",
    "truck.can_drive()"
   ]
  },
  {
   "cell_type": "code",
   "execution_count": 106,
   "id": "17395857-3433-4e8d-9490-0f7c304938dc",
   "metadata": {},
   "outputs": [],
   "source": [
    "# Hybrid Inheritance --> multiple types or combination of different inheritance"
   ]
  },
  {
   "cell_type": "code",
   "execution_count": 113,
   "id": "32614a63-e706-44a2-b424-184ac3632f7c",
   "metadata": {},
   "outputs": [],
   "source": [
    "class Vehicle:\n",
    "    def vehicle_info(self):\n",
    "        print(\"Inside Vehicle\")\n",
    "\n",
    "class Car(Vehicle):\n",
    "    def car_info(self):\n",
    "        print(\"Inside Car\")\n",
    "\n",
    "class Bike(Vehicle):\n",
    "    def bike_info(self,name):\n",
    "        print(\"Riding a \", name)\n",
    "\n",
    "class SportsCar(Car,Vehicle):\n",
    "    def sportsCar_inf(self):\n",
    "        print(\"Inside a sports car\")\n",
    "\n",
    "class Batman_Car(Car,Vehicle):\n",
    "    def BatVehicle(self):\n",
    "        print(\"I am BATMAN!\")\n",
    "    \n"
   ]
  },
  {
   "cell_type": "code",
   "execution_count": 114,
   "id": "d4b5317f-5306-419f-95ec-f3dced3afc35",
   "metadata": {},
   "outputs": [
    {
     "name": "stdout",
     "output_type": "stream",
     "text": [
      "I am BATMAN!\n",
      "Inside Vehicle\n",
      "Inside Car\n"
     ]
    }
   ],
   "source": [
    "batv = Batman_Car()\n",
    "batv.BatVehicle()\n",
    "batv.vehicle_info()\n",
    "batv.car_info()"
   ]
  },
  {
   "cell_type": "code",
   "execution_count": 116,
   "id": "335eeef4-82f1-4bb1-897b-6ec3d8513107",
   "metadata": {},
   "outputs": [],
   "source": [
    "# Abstraction >> concept of hiding complex implemenation\n",
    "# hiding unneeded details and exposing the required\n",
    "# abstract class can not be instantiated\n",
    "# abstract class should always be subclasses\n",
    "# abstract class may contain methods that are just declared and not implemented\n",
    "# in abstract class itself, subclasses are responsible for implememting these\n",
    "# abstract methods.."
   ]
  },
  {
   "cell_type": "code",
   "execution_count": 117,
   "id": "2e32eb08-3612-4917-8726-a7c1d833733b",
   "metadata": {},
   "outputs": [],
   "source": [
    "# Abstraction can be achieved using abstract class >> import abc"
   ]
  },
  {
   "cell_type": "code",
   "execution_count": 130,
   "id": "0b0b8ae9-c7ee-4aae-b5d3-11db1599bc79",
   "metadata": {},
   "outputs": [],
   "source": [
    "import abc\n",
    "# parent class is usually abstract so that the child classes can define their own\n",
    "#methods\n",
    "# if in inherited class a method is not present from abstract class it will not \n",
    "# throw an error"
   ]
  },
  {
   "cell_type": "code",
   "execution_count": 131,
   "id": "a1d9c927-6576-453e-81ae-70cb4a2495f1",
   "metadata": {},
   "outputs": [],
   "source": [
    "class School:\n",
    "\n",
    "    @abc.abstractmethod  # abstract method\n",
    "    def student_details(self):\n",
    "        pass\n",
    "    @abc.abstractmethod\n",
    "    def student_assignment(self):\n",
    "        pass\n",
    "    @abc.abstractmethod\n",
    "    def student_marks(self):\n",
    "        pass"
   ]
  },
  {
   "cell_type": "code",
   "execution_count": 132,
   "id": "884c0c67-c1b5-44db-b5d4-65013b40b9ef",
   "metadata": {},
   "outputs": [],
   "source": [
    "class ClassXII(School):\n",
    "    def student_details(self):\n",
    "        return \"Class XII student details\"\n",
    "    def student_marks(self):\n",
    "        return \"Student Marks\""
   ]
  },
  {
   "cell_type": "code",
   "execution_count": 133,
   "id": "051613b5-facc-47d3-afd8-810bdaaaca86",
   "metadata": {},
   "outputs": [],
   "source": [
    "class ClassX(School):\n",
    "    def student_details(self):\n",
    "        return \"Class X student details\"\n",
    "    def student_marks(self):\n",
    "        return \"Student Marks\""
   ]
  },
  {
   "cell_type": "code",
   "execution_count": 134,
   "id": "1e19fa4f-a2fd-4b57-aa2e-bbe4383e9df7",
   "metadata": {},
   "outputs": [],
   "source": [
    "class12 = ClassXII()"
   ]
  },
  {
   "cell_type": "code",
   "execution_count": 135,
   "id": "b74cb280-be7e-4dfe-9bf1-6aa346a2fc8b",
   "metadata": {},
   "outputs": [],
   "source": [
    "class12.student_assignment()"
   ]
  },
  {
   "cell_type": "code",
   "execution_count": 136,
   "id": "e627dc82-806a-48d2-be37-9582cf65d138",
   "metadata": {},
   "outputs": [
    {
     "data": {
      "text/plain": [
       "'Class XII student details'"
      ]
     },
     "execution_count": 136,
     "metadata": {},
     "output_type": "execute_result"
    }
   ],
   "source": [
    "class12.student_details()"
   ]
  },
  {
   "cell_type": "code",
   "execution_count": 137,
   "id": "804e1fe1-695a-4e35-9bd7-7072f5817a87",
   "metadata": {},
   "outputs": [],
   "source": [
    "classX = ClassX()\n",
    "classX.student_assignment()"
   ]
  },
  {
   "cell_type": "code",
   "execution_count": 138,
   "id": "ee3f0236-7571-4cfa-af2e-5893a01e6100",
   "metadata": {},
   "outputs": [],
   "source": [
    "# Polymorphism --> poly means many and morphism means forms/states\n",
    "# refers to an object taking several forms depending on the methods/data"
   ]
  },
  {
   "cell_type": "code",
   "execution_count": 139,
   "id": "3e61ba15-92a1-4a67-be76-088cd443aaed",
   "metadata": {},
   "outputs": [
    {
     "data": {
      "text/plain": [
       "3"
      ]
     },
     "execution_count": 139,
     "metadata": {},
     "output_type": "execute_result"
    }
   ],
   "source": [
    "len(\"Max\")"
   ]
  },
  {
   "cell_type": "code",
   "execution_count": 140,
   "id": "6c8f5cae-dccc-4007-8878-a1cc089e6452",
   "metadata": {},
   "outputs": [
    {
     "data": {
      "text/plain": [
       "3"
      ]
     },
     "execution_count": 140,
     "metadata": {},
     "output_type": "execute_result"
    }
   ],
   "source": [
    "len([2,3,4])"
   ]
  },
  {
   "cell_type": "code",
   "execution_count": 141,
   "id": "0e7f1fe4-3427-4b7e-a234-abc24943cfd8",
   "metadata": {},
   "outputs": [
    {
     "data": {
      "text/plain": [
       "6"
      ]
     },
     "execution_count": 141,
     "metadata": {},
     "output_type": "execute_result"
    }
   ],
   "source": [
    "len((1,3,4,5,5,6))"
   ]
  },
  {
   "cell_type": "code",
   "execution_count": 143,
   "id": "b4904203-39b9-4bd0-83ae-de59f243e7dc",
   "metadata": {},
   "outputs": [],
   "source": [
    "def add(a,b):\n",
    "    return a + b"
   ]
  },
  {
   "cell_type": "code",
   "execution_count": 146,
   "id": "e9f3d078-c124-4b98-9399-6422c81cdbbe",
   "metadata": {},
   "outputs": [
    {
     "data": {
      "text/plain": [
       "'Max Payne'"
      ]
     },
     "execution_count": 146,
     "metadata": {},
     "output_type": "execute_result"
    }
   ],
   "source": [
    "add(\"Max\",\" Payne\") # same function can concatenate strings and also add numbers"
   ]
  },
  {
   "cell_type": "code",
   "execution_count": 147,
   "id": "591cd0cc-bb25-40ce-9b1d-193d111f0f03",
   "metadata": {},
   "outputs": [
    {
     "data": {
      "text/plain": [
       "5"
      ]
     },
     "execution_count": 147,
     "metadata": {},
     "output_type": "execute_result"
    }
   ],
   "source": [
    "add(2,3)"
   ]
  },
  {
   "cell_type": "code",
   "execution_count": 148,
   "id": "82d9fd80-4205-4b59-afd3-9501499ce167",
   "metadata": {},
   "outputs": [
    {
     "data": {
      "text/plain": [
       "[1, 2, 1, 2, 4, 5, 5]"
      ]
     },
     "execution_count": 148,
     "metadata": {},
     "output_type": "execute_result"
    }
   ],
   "source": [
    "add([1,2],[1,2,4,5,5])"
   ]
  },
  {
   "cell_type": "code",
   "execution_count": 149,
   "id": "bd3141b8-0b94-49fb-89f1-c2b06c6d912a",
   "metadata": {},
   "outputs": [],
   "source": [
    "# add takes different forms with respect to data passed"
   ]
  },
  {
   "cell_type": "code",
   "execution_count": 150,
   "id": "6dae0a0d-1ffd-41b0-9129-ad67ff737b2c",
   "metadata": {},
   "outputs": [],
   "source": [
    "class teacher_lec:\n",
    "    def lec_info(self):\n",
    "        print(\"This is lec info with teacher perspective\")\n",
    "\n",
    "class student_lec:\n",
    "    def lec_info(self):\n",
    "        print(\"This is lec info with student perspective\")"
   ]
  },
  {
   "cell_type": "code",
   "execution_count": 152,
   "id": "26caf0cd-8e57-47e6-9fb4-54a4a172fc46",
   "metadata": {},
   "outputs": [],
   "source": [
    "obj1 = teacher_lec()\n",
    "obj2 = student_lec()\n",
    "class_obj = [obj1,obj2]"
   ]
  },
  {
   "cell_type": "code",
   "execution_count": 153,
   "id": "5f627a7c-1ae5-478e-889b-8d4180003a5b",
   "metadata": {},
   "outputs": [],
   "source": [
    "def passer(class_obj):\n",
    "    for i in class_obj:\n",
    "        i.lec_info()   # lec_info is taking two forms >> bimorphic behaviour"
   ]
  },
  {
   "cell_type": "code",
   "execution_count": 154,
   "id": "ddad115f-7804-4331-a969-8b2b16b2495e",
   "metadata": {},
   "outputs": [
    {
     "name": "stdout",
     "output_type": "stream",
     "text": [
      "This is lec info with teacher perspective\n",
      "This is lec info with student perspective\n"
     ]
    }
   ],
   "source": [
    "passer(class_obj)"
   ]
  },
  {
   "cell_type": "code",
   "execution_count": 155,
   "id": "1f6a39b0-f24d-4da7-a408-d7659c4b4207",
   "metadata": {},
   "outputs": [],
   "source": [
    "# Method Overloading >> python doesnt support true method overloading"
   ]
  },
  {
   "cell_type": "code",
   "execution_count": 201,
   "id": "eb108682-cf6d-4b05-aab9-5cfec052aac9",
   "metadata": {},
   "outputs": [],
   "source": [
    "class Student:\n",
    "    def student(self):\n",
    "        print(\"I am a student.\")\n",
    "    def student(self,name = \" \"):\n",
    "        print(\" I am \" ,name)\n",
    "    def student(self, name = \" \", course = \" \"):\n",
    "        print(\" I am \",name,course)\n",
    "# Most recent method will be executed..."
   ]
  },
  {
   "cell_type": "code",
   "execution_count": 202,
   "id": "c7f98d64-e401-4a20-ac34-ec94a0a24412",
   "metadata": {},
   "outputs": [],
   "source": [
    "stud = Student()"
   ]
  },
  {
   "cell_type": "code",
   "execution_count": 205,
   "id": "81ff0dd5-9323-445e-b386-39e9cb9908de",
   "metadata": {},
   "outputs": [
    {
     "name": "stdout",
     "output_type": "stream",
     "text": [
      " I am  13  \n"
     ]
    }
   ],
   "source": [
    "stud.student(13)"
   ]
  },
  {
   "cell_type": "code",
   "execution_count": 206,
   "id": "4e50b923-b4d7-49d3-92be-d441cbd0e462",
   "metadata": {},
   "outputs": [
    {
     "name": "stdout",
     "output_type": "stream",
     "text": [
      " I am  Max 13\n"
     ]
    }
   ],
   "source": [
    "stud.student(\"Max\",13)"
   ]
  },
  {
   "cell_type": "code",
   "execution_count": 207,
   "id": "e955dd57-30ce-4338-b7ba-c3a89dd856b6",
   "metadata": {},
   "outputs": [],
   "source": [
    "# Method overloading >> student method is taking different forms , the last \n",
    "# method overloads the previous ones\n",
    "#Method overloading happens in the same class"
   ]
  },
  {
   "cell_type": "code",
   "execution_count": 209,
   "id": "56a8dbe4-ad45-48b9-8fff-d77ba0089e21",
   "metadata": {},
   "outputs": [],
   "source": [
    "#Method overriding >> method in parent class is implememnted in child class"
   ]
  },
  {
   "cell_type": "code",
   "execution_count": 210,
   "id": "5b71a05c-67ed-4d7e-9279-c541ae73936c",
   "metadata": {},
   "outputs": [],
   "source": [
    "# Encapsulation: means hiding something\n",
    "# bundling of data and methods of a class\n",
    "# access modifiers(public,protected,private)"
   ]
  },
  {
   "cell_type": "code",
   "execution_count": 211,
   "id": "5789b686-59ea-4557-9101-7be074c78f14",
   "metadata": {},
   "outputs": [],
   "source": [
    "class Student:\n",
    "    def __init__(self,name,degree):\n",
    "        self.name = name\n",
    "        self.degree = degree"
   ]
  },
  {
   "cell_type": "code",
   "execution_count": 215,
   "id": "a1f9071a-6a1f-47da-a2d9-7bc7c51bbebb",
   "metadata": {},
   "outputs": [
    {
     "name": "stdout",
     "output_type": "stream",
     "text": [
      "Max\n",
      "Bachelor in CSE\n"
     ]
    }
   ],
   "source": [
    "S1 = Student(\"Max\",\"Bachelor in CSE\")\n",
    "print(S1.name)\n",
    "print(S1.degree)"
   ]
  },
  {
   "cell_type": "code",
   "execution_count": 217,
   "id": "a1beb883-57d9-4d5c-afcf-eb338b33c51f",
   "metadata": {},
   "outputs": [
    {
     "name": "stdout",
     "output_type": "stream",
     "text": [
      "Maxine\n"
     ]
    }
   ],
   "source": [
    "S1.name = \"Maxine\"\n",
    "print(S1.name)"
   ]
  },
  {
   "cell_type": "code",
   "execution_count": 222,
   "id": "81601f99-cf08-4f72-a50f-8c3b73c9e442",
   "metadata": {},
   "outputs": [],
   "source": [
    "class Student:\n",
    "    def __init__(self,name,degree):\n",
    "        self.name = name\n",
    "        self.degree = degree\n",
    "    def show(self):\n",
    "        #accessing private anf public data member\n",
    "        print(\"Name: \",self.name)\n",
    "        print(\"Degree: \",self.degree)\n",
    "\n",
    "Max = Student(\"Max\",\"BTech in CSE\")"
   ]
  },
  {
   "cell_type": "code",
   "execution_count": 224,
   "id": "d90c0a1d-fb4b-47fc-b3bf-6da4810b8b0f",
   "metadata": {},
   "outputs": [
    {
     "name": "stdout",
     "output_type": "stream",
     "text": [
      "Name:  Max\n",
      "Degree:  BTech in CSE\n",
      "BTech in CSE\n",
      "Max\n"
     ]
    }
   ],
   "source": [
    "Max.show()\n",
    "print(Max.degree)\n",
    "print(Max.name)"
   ]
  },
  {
   "cell_type": "code",
   "execution_count": 229,
   "id": "505b864f-29b1-43d7-863a-83353779dcb7",
   "metadata": {},
   "outputs": [],
   "source": [
    "# private: data and methos is only accessible within class\n",
    "# add two underscores before variable name to hide it (like degree in the class\n",
    "# below)"
   ]
  },
  {
   "cell_type": "code",
   "execution_count": 233,
   "id": "e1189b96-1146-45fb-a97c-55a6fd6ed5e4",
   "metadata": {},
   "outputs": [],
   "source": [
    "class Student:\n",
    "    def __init__(self,name,degree):\n",
    "        self.name = name\n",
    "        self.__degree = degree # __ is added tpo make it private\n",
    "    def show(self):\n",
    "        #accessing private anf public data member\n",
    "        print(\"Name: \",self.name)\n",
    "        print(\"Degree: \",self.__degree)\n",
    "\n",
    "Max = Student(\"Max\",\"BTech in CSE\")"
   ]
  },
  {
   "cell_type": "code",
   "execution_count": 234,
   "id": "a0c0245b-dd8d-4c8a-8d0c-187c6f358490",
   "metadata": {},
   "outputs": [
    {
     "name": "stdout",
     "output_type": "stream",
     "text": [
      "Name:  Max\n",
      "Degree:  BTech in CSE\n"
     ]
    }
   ],
   "source": [
    "Max.show()"
   ]
  },
  {
   "cell_type": "code",
   "execution_count": 235,
   "id": "384d299f-ece4-4103-b22a-ef26e7cd4d5b",
   "metadata": {},
   "outputs": [
    {
     "ename": "AttributeError",
     "evalue": "'Student' object has no attribute 'degree'",
     "output_type": "error",
     "traceback": [
      "\u001b[1;31m---------------------------------------------------------------------------\u001b[0m",
      "\u001b[1;31mAttributeError\u001b[0m                            Traceback (most recent call last)",
      "Cell \u001b[1;32mIn[235], line 1\u001b[0m\n\u001b[1;32m----> 1\u001b[0m \u001b[43mMax\u001b[49m\u001b[38;5;241;43m.\u001b[39;49m\u001b[43mdegree\u001b[49m\n",
      "\u001b[1;31mAttributeError\u001b[0m: 'Student' object has no attribute 'degree'"
     ]
    }
   ],
   "source": [
    "Max.degree"
   ]
  },
  {
   "cell_type": "code",
   "execution_count": 236,
   "id": "0bb3ca68-0e58-4fa7-b887-a4630d0e5969",
   "metadata": {},
   "outputs": [
    {
     "data": {
      "text/plain": [
       "'Max'"
      ]
     },
     "execution_count": 236,
     "metadata": {},
     "output_type": "execute_result"
    }
   ],
   "source": [
    "Max.name"
   ]
  },
  {
   "cell_type": "code",
   "execution_count": 240,
   "id": "86119dbd-d78f-41d0-966b-0c20714b9a50",
   "metadata": {},
   "outputs": [
    {
     "data": {
      "text/plain": [
       "'BTech in CSE'"
      ]
     },
     "execution_count": 240,
     "metadata": {},
     "output_type": "execute_result"
    }
   ],
   "source": [
    "Max._Student__degree # To access degree if you really , really want to\n",
    "# Syntax to access private memebers:\n",
    "# ObjectName._(one underscore)ClassName__(Two-underscores)PvtVariableName"
   ]
  },
  {
   "cell_type": "code",
   "execution_count": null,
   "id": "2487b1a0-7b97-4cc1-b381-8c53318bcd8a",
   "metadata": {},
   "outputs": [],
   "source": [
    "# TO MAKE A METHOD PRIVATE"
   ]
  },
  {
   "cell_type": "code",
   "execution_count": 249,
   "id": "a2281ac5-f711-40e0-9703-022ac5fae6c2",
   "metadata": {},
   "outputs": [],
   "source": [
    "class Student:\n",
    "    def __init__(self,name,degree):\n",
    "        self.name = name\n",
    "        self.__degree = degree # __ is added tpo make it private\n",
    "    def __private_access_only(self):  # made it pvt with __ two underscores\n",
    "        #accessing private anf public data member\n",
    "        print(\"Name: \",self.name)\n",
    "        print(\"Degree: \",self.__degree)\n",
    "\n",
    "S1 = Student(\"Max\",\"BTech in CSE\")"
   ]
  },
  {
   "cell_type": "code",
   "execution_count": 250,
   "id": "e5d6eb69-cb84-47e4-9ff4-ed5b26eb3c44",
   "metadata": {},
   "outputs": [
    {
     "name": "stdout",
     "output_type": "stream",
     "text": [
      "Name:  Max\n",
      "Degree:  BTech in CSE\n"
     ]
    }
   ],
   "source": [
    "S1._Student__private_access_only()  # Accessing private methods"
   ]
  },
  {
   "cell_type": "code",
   "execution_count": null,
   "id": "dc424d43-ff08-40d3-9491-14f8922a0026",
   "metadata": {},
   "outputs": [],
   "source": []
  }
 ],
 "metadata": {
  "kernelspec": {
   "display_name": "Python 3 (ipykernel)",
   "language": "python",
   "name": "python3"
  },
  "language_info": {
   "codemirror_mode": {
    "name": "ipython",
    "version": 3
   },
   "file_extension": ".py",
   "mimetype": "text/x-python",
   "name": "python",
   "nbconvert_exporter": "python",
   "pygments_lexer": "ipython3",
   "version": "3.12.4"
  }
 },
 "nbformat": 4,
 "nbformat_minor": 5
}
