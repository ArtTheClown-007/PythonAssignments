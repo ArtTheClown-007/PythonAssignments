{
  "nbformat": 4,
  "nbformat_minor": 0,
  "metadata": {
    "colab": {
      "provenance": [],
      "authorship_tag": "ABX9TyOxkx2c3o3TyJ7hui4MMgfw",
      "include_colab_link": true
    },
    "kernelspec": {
      "name": "python3",
      "display_name": "Python 3"
    },
    "language_info": {
      "name": "python"
    }
  },
  "cells": [
    {
      "cell_type": "markdown",
      "metadata": {
        "id": "view-in-github",
        "colab_type": "text"
      },
      "source": [
        "<a href=\"https://colab.research.google.com/github/ArtTheClown-007/PythonAssignments/blob/main/Functions_Assignment.ipynb\" target=\"_parent\"><img src=\"https://colab.research.google.com/assets/colab-badge.svg\" alt=\"Open In Colab\"/></a>"
      ]
    },
    {
      "cell_type": "code",
      "execution_count": 2,
      "metadata": {
        "id": "FnPVO2zStPLT"
      },
      "outputs": [],
      "source": [
        "# 1. Write a Python function that takes a list of numbers as input and returns the sum of all even numbers in\n",
        "# the list."
      ]
    },
    {
      "cell_type": "code",
      "source": [
        "def sum_even_num(numbers):\n",
        "    result = 0\n",
        "    for no in numbers:\n",
        "        if no % 2 == 0 :\n",
        "            result += no\n",
        "    return result\n",
        "\n",
        "print(sum_even_num([1,2,3,4,5,6])) # 2 + 4 + 6 = 12"
      ],
      "metadata": {
        "colab": {
          "base_uri": "https://localhost:8080/"
        },
        "id": "mWkRFjUUuzfk",
        "outputId": "eda73440-42b4-4fb5-d1d0-1aa6efc85017"
      },
      "execution_count": 6,
      "outputs": [
        {
          "output_type": "stream",
          "name": "stdout",
          "text": [
            "12\n"
          ]
        }
      ]
    },
    {
      "cell_type": "code",
      "source": [
        "# 2. Create a Python function that accepts a string and returns the reverse of that string."
      ],
      "metadata": {
        "id": "cJT9ww2evVXL"
      },
      "execution_count": 7,
      "outputs": []
    },
    {
      "cell_type": "code",
      "source": [
        "def reverse_my_string(strg):\n",
        "    resulting_strg = strg[::-1]\n",
        "    return resulting_strg\n",
        "\n",
        "print(reverse_my_string(\"Hello World\"))"
      ],
      "metadata": {
        "colab": {
          "base_uri": "https://localhost:8080/"
        },
        "id": "4tV5SKvivoNE",
        "outputId": "586307bf-a86f-4478-b970-e00451ccac10"
      },
      "execution_count": 8,
      "outputs": [
        {
          "output_type": "stream",
          "name": "stdout",
          "text": [
            "dlroW olleH\n"
          ]
        }
      ]
    },
    {
      "cell_type": "code",
      "source": [
        "# 3. Implement a Python function that takes a list of integers and returns a new list containing the squares of\n",
        "# each number."
      ],
      "metadata": {
        "id": "HobXi3mHwBDl"
      },
      "execution_count": 9,
      "outputs": []
    },
    {
      "cell_type": "code",
      "source": [
        "def square_list(list_of_int):\n",
        "  squared_list = []\n",
        "  for integer in list_of_int:\n",
        "    integer**= 2\n",
        "    squared_list.append(integer)\n",
        "  return squared_list\n",
        "\n",
        "square_list([1,2,3,4,5,6])"
      ],
      "metadata": {
        "colab": {
          "base_uri": "https://localhost:8080/"
        },
        "id": "KIDfiZoxwJ0M",
        "outputId": "cda1659b-4368-43ea-a5af-9b7793707efe"
      },
      "execution_count": 10,
      "outputs": [
        {
          "output_type": "execute_result",
          "data": {
            "text/plain": [
              "[1, 4, 9, 16, 25, 36]"
            ]
          },
          "metadata": {},
          "execution_count": 10
        }
      ]
    },
    {
      "cell_type": "code",
      "source": [
        "#4. Write a Python function that checks if a given number is prime or not from 1 to 200."
      ],
      "metadata": {
        "id": "eyM6cZgrxHzp"
      },
      "execution_count": 11,
      "outputs": []
    },
    {
      "cell_type": "code",
      "source": [
        "prime_num_list = []\n",
        "\n",
        "for i in range(1,201):\n",
        "  if (i % 2 and i % 3 and i % 5 and i % 7 and i % 10) != 0:\n",
        "    prime_num_list.append(i)\n",
        "\n",
        "\n",
        "\n",
        "def check_prime(number):\n",
        "  if number in range(1,201):\n",
        "    if number in prime_num_list:\n",
        "      print(\"Hooray, its a prime number!\")\n",
        "    else:\n",
        "      print(\"not a prime number\")\n",
        "\n",
        "\n",
        "\n",
        "Userinput = int(input(\"Enter a number: \"))\n",
        "check_prime(Userinput)\n",
        "\n",
        "\n"
      ],
      "metadata": {
        "colab": {
          "base_uri": "https://localhost:8080/"
        },
        "id": "bN-sywWAxPDU",
        "outputId": "d28be77d-d518-41f9-ec0f-82a591469568"
      },
      "execution_count": 42,
      "outputs": [
        {
          "output_type": "stream",
          "name": "stdout",
          "text": [
            "Enter a number: 11\n",
            "Hooray, its a prime number!\n"
          ]
        }
      ]
    },
    {
      "cell_type": "code",
      "source": [
        "# 5.  Create an iterator class in Python that generates the Fibonacci sequence up to a specified number of terms."
      ],
      "metadata": {
        "id": "e-MjcPwqy4rf"
      },
      "execution_count": 43,
      "outputs": []
    },
    {
      "cell_type": "code",
      "source": [
        "def fibnac_series(n):\n",
        "    a = 0\n",
        "    b = 1\n",
        "    for i in range(n): # if n = 5 , 0 , 1, 2, 3, 4\n",
        "        yield a\n",
        "        a , b = b , a + b\n",
        "\n",
        "num = int((input(\"Enter number: \")))\n",
        "fs = fibnac_series(num)\n",
        "\n",
        "for i in range(num):\n",
        "  print(next(fs))\n",
        "  i += 1\n"
      ],
      "metadata": {
        "id": "R5NiN3Ic4Oq6",
        "outputId": "40418742-edb1-4594-ae12-9b86a350cd5c",
        "colab": {
          "base_uri": "https://localhost:8080/"
        }
      },
      "execution_count": 69,
      "outputs": [
        {
          "output_type": "stream",
          "name": "stdout",
          "text": [
            "Enter number: 10\n",
            "0\n",
            "1\n",
            "1\n",
            "2\n",
            "3\n",
            "5\n",
            "8\n",
            "13\n",
            "21\n",
            "34\n"
          ]
        }
      ]
    },
    {
      "cell_type": "code",
      "source": [],
      "metadata": {
        "id": "dV_1cVPn6Tpi"
      },
      "execution_count": null,
      "outputs": []
    }
  ]
}