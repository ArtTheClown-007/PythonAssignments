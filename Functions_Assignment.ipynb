{
  "nbformat": 4,
  "nbformat_minor": 0,
  "metadata": {
    "colab": {
      "provenance": [],
      "authorship_tag": "ABX9TyO5tEhkvNt0OLSD4F1E59gV",
      "include_colab_link": true
    },
    "kernelspec": {
      "name": "python3",
      "display_name": "Python 3"
    },
    "language_info": {
      "name": "python"
    }
  },
  "cells": [
    {
      "cell_type": "markdown",
      "metadata": {
        "id": "view-in-github",
        "colab_type": "text"
      },
      "source": [
        "<a href=\"https://colab.research.google.com/github/ArtTheClown-007/PythonAssignments/blob/main/Functions_Assignment.ipynb\" target=\"_parent\"><img src=\"https://colab.research.google.com/assets/colab-badge.svg\" alt=\"Open In Colab\"/></a>"
      ]
    },
    {
      "cell_type": "code",
      "execution_count": 2,
      "metadata": {
        "id": "FnPVO2zStPLT"
      },
      "outputs": [],
      "source": [
        "# 1. Write a Python function that takes a list of numbers as input and returns the sum of all even numbers in\n",
        "# the list."
      ]
    },
    {
      "cell_type": "code",
      "source": [
        "def sum_even_num(numbers):\n",
        "    result = 0\n",
        "    for no in numbers:\n",
        "        if no % 2 == 0 :\n",
        "            result += no\n",
        "    return result\n",
        "\n",
        "print(sum_even_num([1,2,3,4,5,6])) # 2 + 4 + 6 = 12"
      ],
      "metadata": {
        "colab": {
          "base_uri": "https://localhost:8080/"
        },
        "id": "mWkRFjUUuzfk",
        "outputId": "eda73440-42b4-4fb5-d1d0-1aa6efc85017"
      },
      "execution_count": 6,
      "outputs": [
        {
          "output_type": "stream",
          "name": "stdout",
          "text": [
            "12\n"
          ]
        }
      ]
    },
    {
      "cell_type": "code",
      "source": [
        "# 2. Create a Python function that accepts a string and returns the reverse of that string."
      ],
      "metadata": {
        "id": "cJT9ww2evVXL"
      },
      "execution_count": 7,
      "outputs": []
    },
    {
      "cell_type": "code",
      "source": [
        "def reverse_my_string(strg):\n",
        "    resulting_strg = strg[::-1]\n",
        "    return resulting_strg\n",
        "\n",
        "print(reverse_my_string(\"Hello World\"))"
      ],
      "metadata": {
        "colab": {
          "base_uri": "https://localhost:8080/"
        },
        "id": "4tV5SKvivoNE",
        "outputId": "586307bf-a86f-4478-b970-e00451ccac10"
      },
      "execution_count": 8,
      "outputs": [
        {
          "output_type": "stream",
          "name": "stdout",
          "text": [
            "dlroW olleH\n"
          ]
        }
      ]
    },
    {
      "cell_type": "code",
      "source": [
        "# 3. Implement a Python function that takes a list of integers and returns a new list containing the squares of\n",
        "# each number."
      ],
      "metadata": {
        "id": "HobXi3mHwBDl"
      },
      "execution_count": 9,
      "outputs": []
    },
    {
      "cell_type": "code",
      "source": [
        "def square_list(list_of_int):\n",
        "  squared_list = []\n",
        "  for integer in list_of_int:\n",
        "    integer**= 2\n",
        "    squared_list.append(integer)\n",
        "  return squared_list\n",
        "\n",
        "square_list([1,2,3,4,5,6])"
      ],
      "metadata": {
        "colab": {
          "base_uri": "https://localhost:8080/"
        },
        "id": "KIDfiZoxwJ0M",
        "outputId": "cda1659b-4368-43ea-a5af-9b7793707efe"
      },
      "execution_count": 10,
      "outputs": [
        {
          "output_type": "execute_result",
          "data": {
            "text/plain": [
              "[1, 4, 9, 16, 25, 36]"
            ]
          },
          "metadata": {},
          "execution_count": 10
        }
      ]
    },
    {
      "cell_type": "code",
      "source": [
        "#4. Write a Python function that checks if a given number is prime or not from 1 to 200."
      ],
      "metadata": {
        "id": "eyM6cZgrxHzp"
      },
      "execution_count": 11,
      "outputs": []
    },
    {
      "cell_type": "code",
      "source": [
        "prime_num_list = []\n",
        "\n",
        "for i in range(1,201):\n",
        "  if (i % 2 and i % 3 and i % 5 and i % 7 and i % 10) != 0:\n",
        "    prime_num_list.append(i)\n",
        "\n",
        "\n",
        "\n",
        "def check_prime(number):\n",
        "  if number in range(1,201):\n",
        "    if number in prime_num_list:\n",
        "      print(\"Hooray, its a prime number!\")\n",
        "    else:\n",
        "      print(\"not a prime number\")\n",
        "\n",
        "\n",
        "\n",
        "Userinput = int(input(\"Enter a number: \"))\n",
        "check_prime(Userinput)\n",
        "\n",
        "\n"
      ],
      "metadata": {
        "colab": {
          "base_uri": "https://localhost:8080/"
        },
        "id": "bN-sywWAxPDU",
        "outputId": "d28be77d-d518-41f9-ec0f-82a591469568"
      },
      "execution_count": 42,
      "outputs": [
        {
          "output_type": "stream",
          "name": "stdout",
          "text": [
            "Enter a number: 11\n",
            "Hooray, its a prime number!\n"
          ]
        }
      ]
    },
    {
      "cell_type": "code",
      "source": [
        "# 5.  Create an iterator class in Python that generates the Fibonacci sequence up to a specified number of terms."
      ],
      "metadata": {
        "id": "e-MjcPwqy4rf"
      },
      "execution_count": 43,
      "outputs": []
    },
    {
      "cell_type": "code",
      "source": [
        "def fibnac_series(n):\n",
        "    a = 0\n",
        "    b = 1\n",
        "    for i in range(n): # if n = 5 , 0 , 1, 2, 3, 4\n",
        "        yield a\n",
        "        a , b = b , a + b\n",
        "\n",
        "num = int((input(\"Enter number: \")))\n",
        "fs = fibnac_series(num)\n",
        "\n",
        "for i in range(num):\n",
        "  print(next(fs))\n",
        "  i += 1\n"
      ],
      "metadata": {
        "colab": {
          "base_uri": "https://localhost:8080/"
        },
        "id": "R5NiN3Ic4Oq6",
        "outputId": "40418742-edb1-4594-ae12-9b86a350cd5c"
      },
      "execution_count": 69,
      "outputs": [
        {
          "output_type": "stream",
          "name": "stdout",
          "text": [
            "Enter number: 10\n",
            "0\n",
            "1\n",
            "1\n",
            "2\n",
            "3\n",
            "5\n",
            "8\n",
            "13\n",
            "21\n",
            "34\n"
          ]
        }
      ]
    },
    {
      "cell_type": "code",
      "source": [
        "# 6. Write a generator function in Python that yields the powers of 2 up to a given exponent."
      ],
      "metadata": {
        "id": "dV_1cVPn6Tpi"
      },
      "execution_count": 70,
      "outputs": []
    },
    {
      "cell_type": "code",
      "source": [
        "def powers_of_2(expon):\n",
        "    for i in range(expon + 1):\n",
        "        yield 2 ** i\n",
        "\n",
        "num = int(input(\"Enter number: \"))\n",
        "print(list(powers_of_2(num)))\n"
      ],
      "metadata": {
        "colab": {
          "base_uri": "https://localhost:8080/"
        },
        "id": "O6iAO6ks8rLT",
        "outputId": "3f76816a-8296-4abb-fc82-5e6a11a6a8b2"
      },
      "execution_count": 76,
      "outputs": [
        {
          "output_type": "stream",
          "name": "stdout",
          "text": [
            "Enter number: 10\n",
            "[1, 2, 4, 8, 16, 32, 64, 128, 256, 512, 1024]\n"
          ]
        }
      ]
    },
    {
      "cell_type": "code",
      "source": [
        "# 7. Implement a generator function that reads a file line by line and yields each line as a string."
      ],
      "metadata": {
        "id": "pKkrLYyc9UU7"
      },
      "execution_count": 98,
      "outputs": []
    },
    {
      "cell_type": "code",
      "source": [
        "def read_file_line_by_line(filename):\n",
        "  with open(filename, 'r') as f:\n",
        "    for line in f:\n",
        "      yield line.strip()\n",
        "\n",
        "read_file_line_by_line(\"test.txt\")\n",
        "\n",
        "for line in read_file_line_by_line(\"test.txt\"):\n",
        "  print(line)"
      ],
      "metadata": {
        "id": "B-U-d142Fjzq"
      },
      "execution_count": null,
      "outputs": []
    },
    {
      "cell_type": "code",
      "source": [
        "#8. Use a lambda function in Python to sort a list of tuples based on the second element of each tuple."
      ],
      "metadata": {
        "id": "OPtyO7o--GOm"
      },
      "execution_count": 78,
      "outputs": []
    },
    {
      "cell_type": "code",
      "source": [
        "\n",
        "list_of_tupl = [(1, 5), (3, 2), (2, 8), (4, 1)]\n",
        "list_of_tupl.sort(key=lambda x: x[1])\n",
        "print(list_of_tupl)\n"
      ],
      "metadata": {
        "colab": {
          "base_uri": "https://localhost:8080/"
        },
        "id": "qZOZs9gE-Hx6",
        "outputId": "48b340cc-da03-4daa-a73a-d3d675c9d8ca"
      },
      "execution_count": 79,
      "outputs": [
        {
          "output_type": "stream",
          "name": "stdout",
          "text": [
            "[(4, 1), (3, 2), (1, 5), (2, 8)]\n"
          ]
        }
      ]
    },
    {
      "cell_type": "code",
      "source": [
        "# 9. Write a Python program that uses `map()` to convert a list of temperatures from Celsius to Fahrenheit."
      ],
      "metadata": {
        "id": "mv4qWHbI-rKg"
      },
      "execution_count": 80,
      "outputs": []
    },
    {
      "cell_type": "code",
      "source": [
        "Celsius_list = [100,30,35,60,70,25,22,18]\n",
        "list(map(lambda x: (x * (9/5)) + 32,Celsius_list))"
      ],
      "metadata": {
        "colab": {
          "base_uri": "https://localhost:8080/"
        },
        "id": "waE1HAOE-5nI",
        "outputId": "d9937867-48c9-4e1c-d52f-1e3b595bfe55"
      },
      "execution_count": 83,
      "outputs": [
        {
          "output_type": "execute_result",
          "data": {
            "text/plain": [
              "[212.0, 86.0, 95.0, 140.0, 158.0, 77.0, 71.6, 64.4]"
            ]
          },
          "metadata": {},
          "execution_count": 83
        }
      ]
    },
    {
      "cell_type": "code",
      "source": [
        "# 10. Create a Python program that uses `filter()` to remove all the vowels from a given string."
      ],
      "metadata": {
        "id": "J-MSMj8v_bnA"
      },
      "execution_count": 93,
      "outputs": []
    },
    {
      "cell_type": "code",
      "source": [
        "def remove_vowels(string):\n",
        "  vowels = ['a','e','i','o','u','A','E','I','O','U']\n",
        "  result = ''.join(filter(lambda char: char not in vowels, string))\n",
        "  return result\n",
        "\n",
        "my_string = \"It was perfect, PERFECT! Everything, down to the last minute detail!\"\n",
        "no_vowels_string = remove_vowels(my_string)\n",
        "print(no_vowels_string)"
      ],
      "metadata": {
        "colab": {
          "base_uri": "https://localhost:8080/"
        },
        "id": "TxXfzr4pCvpl",
        "outputId": "a26d2868-05a3-4b79-da43-52826c3b3ccb"
      },
      "execution_count": 95,
      "outputs": [
        {
          "output_type": "stream",
          "name": "stdout",
          "text": [
            "t ws prfct, PRFCT! vrythng, dwn t th lst mnt dtl!\n"
          ]
        }
      ]
    },
    {
      "cell_type": "code",
      "source": [
        "# 11. Write a Python program, which returns a list with 2-tuples. Each tuple consists of the order number and the\n",
        "# product of the price per item and the quantity. The product should be increased by 10,- € if the value of the\n",
        "# order is smaller than 100,00 €."
      ],
      "metadata": {
        "id": "FKVYUbhaE9HN"
      },
      "execution_count": 99,
      "outputs": []
    },
    {
      "cell_type": "code",
      "source": [
        "def calculate_order_values(orders):\n",
        "\n",
        "    result = []\n",
        "    for order in orders:\n",
        "        order_number, book_title, quantity, price_per_item = order\n",
        "        total_value = quantity * price_per_item\n",
        "        if total_value < 100.00:\n",
        "            total_value += 10.00\n",
        "        result.append((order_number, total_value))\n",
        "    return result\n",
        "\n",
        "\n",
        "bookshop_orders = [\n",
        "    [34245, \"Learning Python, Mark Lutz\", 2, 40.95],\n",
        "    [98762, \"Programming Python, Mark Lutz\", 4, 56.80],\n",
        "    [77226, \"Head First Python, Paul Barry\", 3, 32.95],\n",
        "    [88112, \"Einführung in Python3, Bernd Klein\", 3, 24.99]\n",
        "]\n",
        "\n",
        "order_values = calculate_order_values(bookshop_orders)\n",
        "for order_number, total_value in order_values:\n",
        "    print(f\"Order {order_number}: Total value = {total_value:.2f} €\")\n"
      ],
      "metadata": {
        "id": "ugQfL3KnMgp8",
        "outputId": "ae0001f2-af60-4d8f-876e-038311787f64",
        "colab": {
          "base_uri": "https://localhost:8080/"
        }
      },
      "execution_count": 101,
      "outputs": [
        {
          "output_type": "stream",
          "name": "stdout",
          "text": [
            "Order 34245: Total value = 91.90 €\n",
            "Order 98762: Total value = 227.20 €\n",
            "Order 77226: Total value = 108.85 €\n",
            "Order 88112: Total value = 84.97 €\n"
          ]
        }
      ]
    },
    {
      "cell_type": "code",
      "source": [],
      "metadata": {
        "id": "xG4Ru1SBMkac"
      },
      "execution_count": null,
      "outputs": []
    }
  ]
}