{
 "cells": [
  {
   "cell_type": "code",
   "execution_count": 79,
   "id": "4bfd7c70-4ce7-4cbb-bb9c-ce46ee4d9602",
   "metadata": {},
   "outputs": [],
   "source": [
    "import math as mth\n"
   ]
  },
  {
   "cell_type": "code",
   "execution_count": 21,
   "id": "2ed00b2a-6e45-409e-bc28-0de08ade5ab1",
   "metadata": {},
   "outputs": [
    {
     "data": {
      "text/plain": [
       "7"
      ]
     },
     "execution_count": 21,
     "metadata": {},
     "output_type": "execute_result"
    }
   ],
   "source": [
    "mth.ceil(6.5)"
   ]
  },
  {
   "cell_type": "code",
   "execution_count": 22,
   "id": "c860f1eb-ab18-4d8c-bf41-f17842b31f40",
   "metadata": {},
   "outputs": [
    {
     "data": {
      "text/plain": [
       "8"
      ]
     },
     "execution_count": 22,
     "metadata": {},
     "output_type": "execute_result"
    }
   ],
   "source": [
    "mth.floor(8.9)"
   ]
  },
  {
   "cell_type": "code",
   "execution_count": 23,
   "id": "ab03ac1e-ac1f-409d-b417-0fe4529448bb",
   "metadata": {},
   "outputs": [],
   "source": [
    "# user defined function\n",
    "# def func():\n",
    "      #do something >> body of function"
   ]
  },
  {
   "cell_type": "code",
   "execution_count": 24,
   "id": "9b77da8b-fa9e-47a9-9697-ef9e60ee3f78",
   "metadata": {},
   "outputs": [],
   "source": [
    "# function is a block of code which performs some task\n",
    "# functions are reusable, organized , saves time"
   ]
  },
  {
   "cell_type": "code",
   "execution_count": 25,
   "id": "cc0e1848-13bf-43e9-b54b-6250dff53341",
   "metadata": {},
   "outputs": [],
   "source": [
    "def greet(name): # name is func argument\n",
    "    print(\"Hello \" + name + \", hope you're doin well.\")"
   ]
  },
  {
   "cell_type": "code",
   "execution_count": 26,
   "id": "38df2108-80e7-4148-9e23-d605847ad188",
   "metadata": {},
   "outputs": [
    {
     "name": "stdout",
     "output_type": "stream",
     "text": [
      "Hello Max, hope you're doin well.\n"
     ]
    }
   ],
   "source": [
    "greet(\"Max\")"
   ]
  },
  {
   "cell_type": "code",
   "execution_count": 42,
   "id": "55c1ef16-03a6-4ea6-b655-f7732aa867e2",
   "metadata": {},
   "outputs": [],
   "source": [
    "def Dob(date,month,year):\n",
    "    print(\"Your D.O.B. is \" + str(date) + '/' + str(month) + '/' + str(year))\n",
    "    print( \"You're \" + str((2024 - year)) + \" years old.\")"
   ]
  },
  {
   "cell_type": "code",
   "execution_count": 43,
   "id": "47899fda-4212-4462-8937-9d45e10e0b44",
   "metadata": {},
   "outputs": [
    {
     "name": "stdout",
     "output_type": "stream",
     "text": [
      "Your D.O.B. is 4/8/2005\n",
      "You're 19 years old.\n"
     ]
    }
   ],
   "source": [
    "Dob(4,8,2005)"
   ]
  },
  {
   "cell_type": "code",
   "execution_count": 2,
   "id": "5fbcee79-a803-48f9-b2be-5a2b556eb294",
   "metadata": {},
   "outputs": [
    {
     "name": "stdout",
     "output_type": "stream",
     "text": [
      "Text\n"
     ]
    }
   ],
   "source": [
    "def func():\n",
    "    print(\"Text\")\n",
    "func()"
   ]
  },
  {
   "cell_type": "code",
   "execution_count": 4,
   "id": "50a2612f-916c-4234-b60e-bb9c3c29bd0a",
   "metadata": {},
   "outputs": [
    {
     "name": "stdout",
     "output_type": "stream",
     "text": [
      "Text\n"
     ]
    },
    {
     "ename": "TypeError",
     "evalue": "unsupported operand type(s) for +: 'NoneType' and 'str'",
     "output_type": "error",
     "traceback": [
      "\u001b[1;31m---------------------------------------------------------------------------\u001b[0m",
      "\u001b[1;31mTypeError\u001b[0m                                 Traceback (most recent call last)",
      "Cell \u001b[1;32mIn[4], line 1\u001b[0m\n\u001b[1;32m----> 1\u001b[0m \u001b[43mfunc\u001b[49m\u001b[43m(\u001b[49m\u001b[43m)\u001b[49m\u001b[43m \u001b[49m\u001b[38;5;241;43m+\u001b[39;49m\u001b[43m \u001b[49m\u001b[38;5;124;43m\"\u001b[39;49m\u001b[38;5;124;43m goes here\u001b[39;49m\u001b[38;5;124;43m\"\u001b[39;49m\n",
      "\u001b[1;31mTypeError\u001b[0m: unsupported operand type(s) for +: 'NoneType' and 'str'"
     ]
    }
   ],
   "source": [
    "func() + \" goes here\""
   ]
  },
  {
   "cell_type": "code",
   "execution_count": 8,
   "id": "0ca033f8-3d13-4194-9ce0-738a91c1833c",
   "metadata": {},
   "outputs": [
    {
     "data": {
      "text/plain": [
       "'Text goes here'"
      ]
     },
     "execution_count": 8,
     "metadata": {},
     "output_type": "execute_result"
    }
   ],
   "source": [
    "def print_Text(): # returns output\n",
    "    return(\"Text\")\n",
    "\n",
    "print_Text() + \" goes here\""
   ]
  },
  {
   "cell_type": "code",
   "execution_count": 11,
   "id": "88a0e23a-4faa-49d8-b0ac-e92e68f2cf98",
   "metadata": {},
   "outputs": [],
   "source": [
    "def nullf():\n",
    "    return 0"
   ]
  },
  {
   "cell_type": "code",
   "execution_count": 14,
   "id": "0ebc1782-016a-4c3f-b867-0df8a1135341",
   "metadata": {},
   "outputs": [
    {
     "data": {
      "text/plain": [
       "0"
      ]
     },
     "execution_count": 14,
     "metadata": {},
     "output_type": "execute_result"
    }
   ],
   "source": [
    "1 * nullf()"
   ]
  },
  {
   "cell_type": "code",
   "execution_count": 15,
   "id": "02f20b3f-4880-4aeb-96d6-441eb7c4a625",
   "metadata": {},
   "outputs": [],
   "source": [
    "def tup():\n",
    "    return \"Text\",1,3,6,True,3+7j"
   ]
  },
  {
   "cell_type": "code",
   "execution_count": 19,
   "id": "2044a537-49d2-40e5-9cd6-e2574ed68100",
   "metadata": {},
   "outputs": [
    {
     "data": {
      "text/plain": [
       "tuple"
      ]
     },
     "execution_count": 19,
     "metadata": {},
     "output_type": "execute_result"
    }
   ],
   "source": [
    "t = tup()\n",
    "type(t)"
   ]
  },
  {
   "cell_type": "code",
   "execution_count": 24,
   "id": "44ec95e1-f8d1-45cb-a261-dad79304e4e7",
   "metadata": {},
   "outputs": [],
   "source": [
    "x,y,z,u,v,w = tup()"
   ]
  },
  {
   "cell_type": "code",
   "execution_count": 30,
   "id": "47e79812-f397-419e-8a34-4c0eb403acc0",
   "metadata": {},
   "outputs": [
    {
     "name": "stdout",
     "output_type": "stream",
     "text": [
      "Text\n",
      "1\n",
      "3\n"
     ]
    }
   ],
   "source": [
    "print(x)\n",
    "print(y)\n",
    "print(z)"
   ]
  },
  {
   "cell_type": "code",
   "execution_count": 34,
   "id": "5848805f-e4b4-4a43-86b6-634fde4adb11",
   "metadata": {},
   "outputs": [],
   "source": [
    "x,b,c,g = func() "
   ]
  },
  {
   "cell_type": "code",
   "execution_count": 35,
   "id": "83e46c26-e566-4cda-8517-fb9ee7bd05e1",
   "metadata": {},
   "outputs": [
    {
     "name": "stdout",
     "output_type": "stream",
     "text": [
      "T\n",
      "e\n",
      "x\n",
      "t\n"
     ]
    }
   ],
   "source": [
    "print(x)\n",
    "print(b)\n",
    "print(c)\n",
    "print(g)"
   ]
  },
  {
   "cell_type": "code",
   "execution_count": 38,
   "id": "6fcd762a-ca22-414a-85eb-757d39c59b38",
   "metadata": {},
   "outputs": [],
   "source": [
    "def func():\n",
    "    calc = 2+3+6*5\n",
    "    return calc"
   ]
  },
  {
   "cell_type": "code",
   "execution_count": 42,
   "id": "ba4762ba-41b5-4e28-82cc-43057c19d454",
   "metadata": {},
   "outputs": [
    {
     "name": "stdout",
     "output_type": "stream",
     "text": [
      "35\n"
     ]
    }
   ],
   "source": [
    "type(func())\n",
    "print(func())"
   ]
  },
  {
   "cell_type": "code",
   "execution_count": 43,
   "id": "7dbd9a47-6fc7-4342-8bd3-a662b9f737e3",
   "metadata": {},
   "outputs": [],
   "source": [
    "def square_my_num(num):\n",
    "    return num*num"
   ]
  },
  {
   "cell_type": "code",
   "execution_count": 48,
   "id": "71eb1724-c06d-48fb-af0b-8b6ef6fa8f49",
   "metadata": {},
   "outputs": [
    {
     "data": {
      "text/plain": [
       "441"
      ]
     },
     "execution_count": 48,
     "metadata": {},
     "output_type": "execute_result"
    }
   ],
   "source": [
    "square_my_num(21)"
   ]
  },
  {
   "cell_type": "code",
   "execution_count": 49,
   "id": "ad62f42c-eaa9-4035-ad7a-2491922b7837",
   "metadata": {},
   "outputs": [],
   "source": [
    "def sum(a,b):\n",
    "    return a + b"
   ]
  },
  {
   "cell_type": "code",
   "execution_count": 50,
   "id": "e8739a54-22c6-4189-8566-17f983930eb8",
   "metadata": {},
   "outputs": [
    {
     "data": {
      "text/plain": [
       "447"
      ]
     },
     "execution_count": 50,
     "metadata": {},
     "output_type": "execute_result"
    }
   ],
   "source": [
    "sum(2,445)"
   ]
  },
  {
   "cell_type": "code",
   "execution_count": 51,
   "id": "e056b6b0-a970-4dfe-bb5c-564596cef37f",
   "metadata": {},
   "outputs": [
    {
     "data": {
      "text/plain": [
       "'String'"
      ]
     },
     "execution_count": 51,
     "metadata": {},
     "output_type": "execute_result"
    }
   ],
   "source": [
    "sum(\"Str\",\"ing\")"
   ]
  },
  {
   "cell_type": "code",
   "execution_count": 52,
   "id": "25bab14a-5efc-4ded-ba06-ad41218d93df",
   "metadata": {},
   "outputs": [
    {
     "data": {
      "text/plain": [
       "[1, 2, 3, 4, 5, 6]"
      ]
     },
     "execution_count": 52,
     "metadata": {},
     "output_type": "execute_result"
    }
   ],
   "source": [
    "sum([1,2,3],[4,5,6])"
   ]
  },
  {
   "cell_type": "code",
   "execution_count": 53,
   "id": "0660bf98-605c-4d5d-95df-e5093da2de80",
   "metadata": {},
   "outputs": [
    {
     "data": {
      "text/plain": [
       "'string'"
      ]
     },
     "execution_count": 53,
     "metadata": {},
     "output_type": "execute_result"
    }
   ],
   "source": [
    "sum( b = 'ing',a = 'str')"
   ]
  },
  {
   "cell_type": "code",
   "execution_count": 58,
   "id": "b6ab9f63-fc29-41dc-9d66-249ebfe64481",
   "metadata": {},
   "outputs": [],
   "source": [
    "# Default argument must be the trailing argument.\n",
    "def sum1(a , b , c = 0):\n",
    "    return a + b + c\n"
   ]
  },
  {
   "cell_type": "code",
   "execution_count": 59,
   "id": "99b91f79-2dad-45b4-953e-154b85e76401",
   "metadata": {},
   "outputs": [
    {
     "data": {
      "text/plain": [
       "5"
      ]
     },
     "execution_count": 59,
     "metadata": {},
     "output_type": "execute_result"
    }
   ],
   "source": [
    "sum1(2,3)"
   ]
  },
  {
   "cell_type": "code",
   "execution_count": 61,
   "id": "02479466-ce5a-4d7a-8e70-77a4a9e81dba",
   "metadata": {},
   "outputs": [],
   "source": [
    "def sum2(a = 0 , b= 0, c = 0):\n",
    "    return a + b + c"
   ]
  },
  {
   "cell_type": "code",
   "execution_count": 62,
   "id": "1bc03af8-fe48-4f7e-ad8b-baa85b7a5d52",
   "metadata": {},
   "outputs": [
    {
     "data": {
      "text/plain": [
       "0"
      ]
     },
     "execution_count": 62,
     "metadata": {},
     "output_type": "execute_result"
    }
   ],
   "source": [
    "sum2()"
   ]
  },
  {
   "cell_type": "code",
   "execution_count": 63,
   "id": "8feab4a5-cda1-42e6-b06a-47df069cc0fe",
   "metadata": {},
   "outputs": [],
   "source": [
    "def add_two_num():\n",
    "    a = int(input(\"Enter first no: \")) \n",
    "    b = int(input(\"Enter second no: \")) \n",
    "    return a + b"
   ]
  },
  {
   "cell_type": "code",
   "execution_count": 64,
   "id": "e5c522c4-5188-4f17-8421-232c49f8499f",
   "metadata": {},
   "outputs": [
    {
     "name": "stdin",
     "output_type": "stream",
     "text": [
      "Enter first no:  2\n",
      "Enter second no:  21\n"
     ]
    },
    {
     "data": {
      "text/plain": [
       "23"
      ]
     },
     "execution_count": 64,
     "metadata": {},
     "output_type": "execute_result"
    }
   ],
   "source": [
    "add_two_num()"
   ]
  },
  {
   "cell_type": "code",
   "execution_count": 1,
   "id": "6860829d-3f4c-4abe-9c60-0ac28bfa8870",
   "metadata": {},
   "outputs": [],
   "source": [
    "def only_numeric(a):\n",
    "    n = []\n",
    "    for i in a:\n",
    "        if type(i) == int or type(i) == float:\n",
    "            n.append(i)\n",
    "    return n"
   ]
  },
  {
   "cell_type": "code",
   "execution_count": 3,
   "id": "d4b0de0b-f361-476d-9c8f-d76480f199e2",
   "metadata": {},
   "outputs": [
    {
     "data": {
      "text/plain": [
       "[1, 2, 5, 3.4]"
      ]
     },
     "execution_count": 3,
     "metadata": {},
     "output_type": "execute_result"
    }
   ],
   "source": [
    "only_numeric([1,2,5,3.4,\"Book\",2+3j])"
   ]
  },
  {
   "cell_type": "code",
   "execution_count": 17,
   "id": "8ca584b4-5cc7-4000-ac69-8a1e5e8c59f9",
   "metadata": {},
   "outputs": [],
   "source": [
    "def only_numeric(a):\n",
    "    n = []\n",
    "    for i in a:\n",
    "        if type(i) == list:\n",
    "            for j in i:\n",
    "                if type(j) == int or type(j) == float: \n",
    "                 n.append(j)\n",
    "        else:\n",
    "            if type(i) == int or type(i) == float:\n",
    "             n.append(i)\n",
    "    return n"
   ]
  },
  {
   "cell_type": "code",
   "execution_count": 19,
   "id": "2cd7728c-df8d-4b78-88dc-a4f328f30207",
   "metadata": {},
   "outputs": [
    {
     "data": {
      "text/plain": [
       "[1, 2, 5, 3.4, 2, 5, 4.69]"
      ]
     },
     "execution_count": 19,
     "metadata": {},
     "output_type": "execute_result"
    }
   ],
   "source": [
    "only_numeric([1,2,5,3.4,\"Book\",2+3j,[2,5,4.69,'fudge']])"
   ]
  },
  {
   "cell_type": "code",
   "execution_count": 20,
   "id": "cdf7b9b4-faf8-40f3-9f27-84b4304c26b5",
   "metadata": {},
   "outputs": [],
   "source": [
    "# variable length arguement>> when no of args is unknown\n",
    "# prefix a * with the function arg"
   ]
  },
  {
   "cell_type": "code",
   "execution_count": 27,
   "id": "a85ac512-6dc4-4d77-bb6c-dad1699897ba",
   "metadata": {},
   "outputs": [],
   "source": [
    "def sum1(*args,a = 1):\n",
    "    s = 0\n",
    "    for i in args:\n",
    "        s += i\n",
    "    return s,a\n",
    "    "
   ]
  },
  {
   "cell_type": "code",
   "execution_count": 28,
   "id": "fcc4a1b3-e321-4d7d-815c-c6d42e13c548",
   "metadata": {},
   "outputs": [
    {
     "data": {
      "text/plain": [
       "(51, 1)"
      ]
     },
     "execution_count": 28,
     "metadata": {},
     "output_type": "execute_result"
    }
   ],
   "source": [
    "sum1(11,2,3,4,5,6,6,7,7)"
   ]
  },
  {
   "cell_type": "code",
   "execution_count": 29,
   "id": "e0921f5a-8fd6-49fa-b3a3-4c7208c29d07",
   "metadata": {},
   "outputs": [],
   "source": [
    "# variable argument >> takes any no of argument\n",
    "# positional argument >> fixed argument"
   ]
  },
  {
   "cell_type": "code",
   "execution_count": 33,
   "id": "4070f655-59cd-4b51-a06b-da47bd7c075d",
   "metadata": {},
   "outputs": [],
   "source": [
    "def get_list(*args):\n",
    "    return list(args)"
   ]
  },
  {
   "cell_type": "code",
   "execution_count": 34,
   "id": "ebb38cab-e4a4-4cd4-bdec-857abb42e14b",
   "metadata": {},
   "outputs": [
    {
     "data": {
      "text/plain": [
       "[1, 34, 4, 56, 7, 'Hello', True]"
      ]
     },
     "execution_count": 34,
     "metadata": {},
     "output_type": "execute_result"
    }
   ],
   "source": [
    "get_list(1,34,4,56,7,'Hello',True)"
   ]
  },
  {
   "cell_type": "code",
   "execution_count": 37,
   "id": "baf991c1-4a18-454f-9b08-4331625ef792",
   "metadata": {},
   "outputs": [],
   "source": [
    "def return_list_only(*args):\n",
    "    l = []\n",
    "    for i in args:\n",
    "        if type(i) == list:\n",
    "            l.append(i)\n",
    "    return l"
   ]
  },
  {
   "cell_type": "code",
   "execution_count": 38,
   "id": "5070be03-c047-47d2-9fda-a1402ae04eae",
   "metadata": {},
   "outputs": [
    {
     "data": {
      "text/plain": [
       "[['bread', 'butter']]"
      ]
     },
     "execution_count": 38,
     "metadata": {},
     "output_type": "execute_result"
    }
   ],
   "source": [
    "return_list_only(1,2,4,['bread','butter'],'buck')"
   ]
  },
  {
   "cell_type": "code",
   "execution_count": 39,
   "id": "f0afe4e4-1d60-438d-a0d1-38a571f6d14e",
   "metadata": {},
   "outputs": [],
   "source": [
    "def team(name,project):\n",
    "    return f\"{name} is working on {project}.\""
   ]
  },
  {
   "cell_type": "code",
   "execution_count": 42,
   "id": "77d8a536-ed97-4a4d-b9fa-b1e4980cc5fc",
   "metadata": {},
   "outputs": [
    {
     "data": {
      "text/plain": [
       "'Max is working on Project Zero'"
      ]
     },
     "execution_count": 42,
     "metadata": {},
     "output_type": "execute_result"
    }
   ],
   "source": [
    "team('Max','Project Zero')"
   ]
  },
  {
   "cell_type": "code",
   "execution_count": 44,
   "id": "3e321f65-7ce3-4424-ba97-24e6c75b536f",
   "metadata": {},
   "outputs": [
    {
     "data": {
      "text/plain": [
       "((1, 2, 3, 4), {'a': 100, 'b': 50})"
      ]
     },
     "execution_count": 44,
     "metadata": {},
     "output_type": "execute_result"
    }
   ],
   "source": [
    "def test(*args,**args1):\n",
    "    return args,args1\n",
    "\n",
    "test(1,2,3,4,a=100,b=50)"
   ]
  },
  {
   "cell_type": "code",
   "execution_count": 45,
   "id": "4a354940-5b88-4d11-8813-4b72e35c6207",
   "metadata": {},
   "outputs": [],
   "source": [
    "# Python namespace"
   ]
  },
  {
   "cell_type": "code",
   "execution_count": 49,
   "id": "98600fb9-7ef5-4cc3-bf94-4d99e6b8758b",
   "metadata": {},
   "outputs": [],
   "source": [
    "def greet():\n",
    "    message = \"Hello, welcome!\"  # local variable \n",
    "    print(message)"
   ]
  },
  {
   "cell_type": "code",
   "execution_count": 50,
   "id": "6b50dfbb-0e01-45bc-89a1-ec17ce9e4e94",
   "metadata": {},
   "outputs": [
    {
     "name": "stdout",
     "output_type": "stream",
     "text": [
      "Hello, welcome!\n"
     ]
    }
   ],
   "source": [
    "greet()"
   ]
  },
  {
   "cell_type": "code",
   "execution_count": 51,
   "id": "cded1611-4d62-4fe1-b608-7b1a7deca462",
   "metadata": {},
   "outputs": [
    {
     "ename": "NameError",
     "evalue": "name 'message' is not defined",
     "output_type": "error",
     "traceback": [
      "\u001b[1;31m---------------------------------------------------------------------------\u001b[0m",
      "\u001b[1;31mNameError\u001b[0m                                 Traceback (most recent call last)",
      "Cell \u001b[1;32mIn[51], line 1\u001b[0m\n\u001b[1;32m----> 1\u001b[0m \u001b[38;5;28mprint\u001b[39m(\u001b[43mmessage\u001b[49m)\n",
      "\u001b[1;31mNameError\u001b[0m: name 'message' is not defined"
     ]
    }
   ],
   "source": [
    "print(message)"
   ]
  },
  {
   "cell_type": "code",
   "execution_count": 59,
   "id": "eca71dad-e0ba-46aa-9511-99b06bf84359",
   "metadata": {},
   "outputs": [],
   "source": [
    "part = \" to the course!\"    # Global variable\n",
    "def greet1():\n",
    "    message = \"Hello, welcome\" + part # local variable \n",
    "    print(message)"
   ]
  },
  {
   "cell_type": "code",
   "execution_count": 60,
   "id": "b4632f1e-8303-4618-8ded-3a4e05177efb",
   "metadata": {},
   "outputs": [
    {
     "name": "stdout",
     "output_type": "stream",
     "text": [
      "Hello, welcome to the course!\n"
     ]
    }
   ],
   "source": [
    "greet1()"
   ]
  },
  {
   "cell_type": "code",
   "execution_count": 67,
   "id": "182562e6-5891-4f8f-a8e0-d32eb81babf3",
   "metadata": {},
   "outputs": [],
   "source": [
    "# function inside function\n",
    "# Think of **kwargs as a way to pass values to a function by giving them names.\n",
    "# Inside the function, kwargs is like a dictionary containing all the named values \n",
    "# you passed, and you can use it to access those values.\n",
    "\n",
    "def marks_in_subject(**kwargs):\n",
    "    def total_marks(marks_list):\n",
    "        return sum(marks_list)\n",
    "    marks_list = []\n",
    "    for sub,marks in kwargs.items():\n",
    "        marks_list.append(marks)\n",
    "\n",
    "    return total_marks(marks_list)\n",
    "    "
   ]
  },
  {
   "cell_type": "code",
   "execution_count": 68,
   "id": "38e17655-05ea-497c-af21-5eb3db558f62",
   "metadata": {},
   "outputs": [
    {
     "data": {
      "text/plain": [
       "110"
      ]
     },
     "execution_count": 68,
     "metadata": {},
     "output_type": "execute_result"
    }
   ],
   "source": [
    "marks_in_subject(a = 90, b = 20)"
   ]
  },
  {
   "cell_type": "code",
   "execution_count": 81,
   "id": "664c1472-a49f-4f9e-834c-5dadd3784103",
   "metadata": {},
   "outputs": [],
   "source": [
    "def find_power(num,power):\n",
    "    \"\"\"  # Doc string\n",
    "    This function returns the power of no \n",
    "    Args:\n",
    "    num(int): provide int as input\n",
    "    power(int):provide power as input \n",
    "    Returns:\n",
    "    integer: power of no\n",
    "    \"\"\"\n",
    "    return num**power"
   ]
  },
  {
   "cell_type": "code",
   "execution_count": 82,
   "id": "1e86e681-24e2-4d4d-9899-ea52f9fe5649",
   "metadata": {},
   "outputs": [
    {
     "data": {
      "text/plain": [
       "8"
      ]
     },
     "execution_count": 82,
     "metadata": {},
     "output_type": "execute_result"
    }
   ],
   "source": [
    "find_power(2,3)"
   ]
  },
  {
   "cell_type": "code",
   "execution_count": 83,
   "id": "c8a8802e-103f-4392-b122-198f846e7b1c",
   "metadata": {},
   "outputs": [
    {
     "name": "stdout",
     "output_type": "stream",
     "text": [
      "Help on function find_power in module __main__:\n",
      "\n",
      "find_power(num, power)\n",
      "    # Doc string\n",
      "    This function returns the power of no\n",
      "    Args:\n",
      "    num(int): provide int as input\n",
      "    power(int):provide power as input\n",
      "    Returns:\n",
      "    integer: power of no\n",
      "\n"
     ]
    }
   ],
   "source": [
    "help(find_power)"
   ]
  },
  {
   "cell_type": "code",
   "execution_count": 84,
   "id": "0e94c107-3007-40e3-923a-daa5d1118ca9",
   "metadata": {},
   "outputs": [
    {
     "name": "stdout",
     "output_type": "stream",
     "text": [
      "  # Doc string\n",
      "    This function returns the power of no \n",
      "    Args:\n",
      "    num(int): provide int as input\n",
      "    power(int):provide power as input \n",
      "    Returns:\n",
      "    integer: power of no\n",
      "    \n"
     ]
    }
   ],
   "source": [
    "print(find_power.__doc__)"
   ]
  },
  {
   "cell_type": "code",
   "execution_count": null,
   "id": "bd1bef74-6bb5-4bfc-b630-a54114fbd731",
   "metadata": {},
   "outputs": [],
   "source": []
  }
 ],
 "metadata": {
  "kernelspec": {
   "display_name": "Python 3 (ipykernel)",
   "language": "python",
   "name": "python3"
  },
  "language_info": {
   "codemirror_mode": {
    "name": "ipython",
    "version": 3
   },
   "file_extension": ".py",
   "mimetype": "text/x-python",
   "name": "python",
   "nbconvert_exporter": "python",
   "pygments_lexer": "ipython3",
   "version": "3.12.4"
  }
 },
 "nbformat": 4,
 "nbformat_minor": 5
}
