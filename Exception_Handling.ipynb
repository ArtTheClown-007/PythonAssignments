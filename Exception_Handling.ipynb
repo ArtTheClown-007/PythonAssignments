{
 "cells": [
  {
   "cell_type": "code",
   "execution_count": 1,
   "id": "0a65ae38-5e12-4d58-ae48-374afb16c2d5",
   "metadata": {},
   "outputs": [],
   "source": [
    "# generally something that disrupts the normal event is exception\n",
    "# In pyrhon, an exception is an event that occurs during programme execution \n",
    "# that disrupts the regular flow of code"
   ]
  },
  {
   "cell_type": "code",
   "execution_count": 2,
   "id": "51638e20-333f-4dcb-97c7-4d3932a24658",
   "metadata": {},
   "outputs": [
    {
     "data": {
      "text/plain": [
       "0.5555555555555556"
      ]
     },
     "execution_count": 2,
     "metadata": {},
     "output_type": "execute_result"
    }
   ],
   "source": [
    "5/9"
   ]
  },
  {
   "cell_type": "code",
   "execution_count": 3,
   "id": "4cce820f-5db8-4cd7-bbf8-4b34bc9330ab",
   "metadata": {},
   "outputs": [
    {
     "data": {
      "text/plain": [
       "5.0"
      ]
     },
     "execution_count": 3,
     "metadata": {},
     "output_type": "execute_result"
    }
   ],
   "source": [
    "10/2"
   ]
  },
  {
   "cell_type": "code",
   "execution_count": 6,
   "id": "50d81110-6004-4f97-a190-e3cf1f250366",
   "metadata": {},
   "outputs": [
    {
     "name": "stdout",
     "output_type": "stream",
     "text": [
      "2.0\n",
      "0.6\n",
      "running fine\n"
     ]
    },
    {
     "ename": "ZeroDivisionError",
     "evalue": "division by zero",
     "output_type": "error",
     "traceback": [
      "\u001b[1;31m---------------------------------------------------------------------------\u001b[0m",
      "\u001b[1;31mZeroDivisionError\u001b[0m                         Traceback (most recent call last)",
      "Cell \u001b[1;32mIn[6], line 4\u001b[0m\n\u001b[0;32m      2\u001b[0m \u001b[38;5;28mprint\u001b[39m(\u001b[38;5;241m3\u001b[39m\u001b[38;5;241m/\u001b[39m\u001b[38;5;241m5\u001b[39m)\n\u001b[0;32m      3\u001b[0m \u001b[38;5;28mprint\u001b[39m(\u001b[38;5;124m\"\u001b[39m\u001b[38;5;124mrunning fine\u001b[39m\u001b[38;5;124m\"\u001b[39m)\n\u001b[1;32m----> 4\u001b[0m \u001b[38;5;28mprint\u001b[39m(\u001b[38;5;241;43m8\u001b[39;49m\u001b[38;5;241;43m/\u001b[39;49m\u001b[38;5;241;43m0\u001b[39;49m) \u001b[38;5;66;03m# suspicious code\u001b[39;00m\n\u001b[0;32m      5\u001b[0m \u001b[38;5;28mprint\u001b[39m(\u001b[38;5;124m\"\u001b[39m\u001b[38;5;124mstuff\u001b[39m\u001b[38;5;124m\"\u001b[39m)\n\u001b[0;32m      6\u001b[0m \u001b[38;5;28mprint\u001b[39m(\u001b[38;5;124m\"\u001b[39m\u001b[38;5;124mstuff2\u001b[39m\u001b[38;5;124m\"\u001b[39m)\n",
      "\u001b[1;31mZeroDivisionError\u001b[0m: division by zero"
     ]
    }
   ],
   "source": [
    "print(4/2)\n",
    "print(3/5)\n",
    "print(\"running fine\")\n",
    "print(8/0) # suspicious code\n",
    "print(\"stuff\")\n",
    "print(\"stuff2\")\n",
    "print(\"stuff3\")"
   ]
  },
  {
   "cell_type": "code",
   "execution_count": 9,
   "id": "2edfa575-5e05-4791-a239-16852004f94a",
   "metadata": {},
   "outputs": [
    {
     "name": "stdout",
     "output_type": "stream",
     "text": [
      "line1\n",
      "90\n"
     ]
    },
    {
     "ename": "KeyError",
     "evalue": "'age'",
     "output_type": "error",
     "traceback": [
      "\u001b[1;31m---------------------------------------------------------------------------\u001b[0m",
      "\u001b[1;31mKeyError\u001b[0m                                  Traceback (most recent call last)",
      "Cell \u001b[1;32mIn[9], line 4\u001b[0m\n\u001b[0;32m      2\u001b[0m \u001b[38;5;28mprint\u001b[39m(\u001b[38;5;241m3\u001b[39m\u001b[38;5;241m*\u001b[39m\u001b[38;5;241m5\u001b[39m\u001b[38;5;241m*\u001b[39m\u001b[38;5;241m6\u001b[39m)\n\u001b[0;32m      3\u001b[0m d \u001b[38;5;241m=\u001b[39m {\u001b[38;5;124m'\u001b[39m\u001b[38;5;124mname\u001b[39m\u001b[38;5;124m'\u001b[39m:\u001b[38;5;124m'\u001b[39m\u001b[38;5;124mMax\u001b[39m\u001b[38;5;124m'\u001b[39m}\n\u001b[1;32m----> 4\u001b[0m \u001b[38;5;28mprint\u001b[39m(\u001b[43md\u001b[49m\u001b[43m[\u001b[49m\u001b[38;5;124;43m'\u001b[39;49m\u001b[38;5;124;43mage\u001b[39;49m\u001b[38;5;124;43m'\u001b[39;49m\u001b[43m]\u001b[49m) \u001b[38;5;66;03m# it threw an error and so it didn't get executed\u001b[39;00m\n\u001b[0;32m      5\u001b[0m \u001b[38;5;28mprint\u001b[39m(\u001b[38;5;124m'\u001b[39m\u001b[38;5;124mlast line\u001b[39m\u001b[38;5;124m'\u001b[39m)\n",
      "\u001b[1;31mKeyError\u001b[0m: 'age'"
     ]
    }
   ],
   "source": [
    "print(\"line1\")\n",
    "print(3*5*6)\n",
    "d = {'name':'Max'}\n",
    "print(d['age']) # it threw an error and so it didn't get executed\n",
    "print('last line')"
   ]
  },
  {
   "cell_type": "code",
   "execution_count": 11,
   "id": "6e0d9ee3-1e20-4063-97a6-89855cbca345",
   "metadata": {},
   "outputs": [
    {
     "ename": "FileNotFoundError",
     "evalue": "[Errno 2] No such file or directory: 'example3.txt'",
     "output_type": "error",
     "traceback": [
      "\u001b[1;31m---------------------------------------------------------------------------\u001b[0m",
      "\u001b[1;31mFileNotFoundError\u001b[0m                         Traceback (most recent call last)",
      "Cell \u001b[1;32mIn[11], line 1\u001b[0m\n\u001b[1;32m----> 1\u001b[0m f \u001b[38;5;241m=\u001b[39m \u001b[38;5;28;43mopen\u001b[39;49m\u001b[43m(\u001b[49m\u001b[38;5;124;43m\"\u001b[39;49m\u001b[38;5;124;43mexample3.txt\u001b[39;49m\u001b[38;5;124;43m\"\u001b[39;49m\u001b[43m,\u001b[49m\u001b[38;5;124;43m'\u001b[39;49m\u001b[38;5;124;43mr\u001b[39;49m\u001b[38;5;124;43m'\u001b[39;49m\u001b[43m)\u001b[49m\n\u001b[0;32m      2\u001b[0m \u001b[38;5;28mprint\u001b[39m(\u001b[38;5;241m6\u001b[39m\u001b[38;5;241m*\u001b[39m\u001b[38;5;241m3\u001b[39m)\n\u001b[0;32m      3\u001b[0m \u001b[38;5;28mprint\u001b[39m(\u001b[38;5;124m\"\u001b[39m\u001b[38;5;124mthis file is opened\u001b[39m\u001b[38;5;124m\"\u001b[39m)\n",
      "File \u001b[1;32mD:\\PythonAssignments\\Python_Basics\\PythonAssignment\\.venv\\Lib\\site-packages\\IPython\\core\\interactiveshell.py:324\u001b[0m, in \u001b[0;36m_modified_open\u001b[1;34m(file, *args, **kwargs)\u001b[0m\n\u001b[0;32m    317\u001b[0m \u001b[38;5;28;01mif\u001b[39;00m file \u001b[38;5;129;01min\u001b[39;00m {\u001b[38;5;241m0\u001b[39m, \u001b[38;5;241m1\u001b[39m, \u001b[38;5;241m2\u001b[39m}:\n\u001b[0;32m    318\u001b[0m     \u001b[38;5;28;01mraise\u001b[39;00m \u001b[38;5;167;01mValueError\u001b[39;00m(\n\u001b[0;32m    319\u001b[0m         \u001b[38;5;124mf\u001b[39m\u001b[38;5;124m\"\u001b[39m\u001b[38;5;124mIPython won\u001b[39m\u001b[38;5;124m'\u001b[39m\u001b[38;5;124mt let you open fd=\u001b[39m\u001b[38;5;132;01m{\u001b[39;00mfile\u001b[38;5;132;01m}\u001b[39;00m\u001b[38;5;124m by default \u001b[39m\u001b[38;5;124m\"\u001b[39m\n\u001b[0;32m    320\u001b[0m         \u001b[38;5;124m\"\u001b[39m\u001b[38;5;124mas it is likely to crash IPython. If you know what you are doing, \u001b[39m\u001b[38;5;124m\"\u001b[39m\n\u001b[0;32m    321\u001b[0m         \u001b[38;5;124m\"\u001b[39m\u001b[38;5;124myou can use builtins\u001b[39m\u001b[38;5;124m'\u001b[39m\u001b[38;5;124m open.\u001b[39m\u001b[38;5;124m\"\u001b[39m\n\u001b[0;32m    322\u001b[0m     )\n\u001b[1;32m--> 324\u001b[0m \u001b[38;5;28;01mreturn\u001b[39;00m \u001b[43mio_open\u001b[49m\u001b[43m(\u001b[49m\u001b[43mfile\u001b[49m\u001b[43m,\u001b[49m\u001b[43m \u001b[49m\u001b[38;5;241;43m*\u001b[39;49m\u001b[43margs\u001b[49m\u001b[43m,\u001b[49m\u001b[43m \u001b[49m\u001b[38;5;241;43m*\u001b[39;49m\u001b[38;5;241;43m*\u001b[39;49m\u001b[43mkwargs\u001b[49m\u001b[43m)\u001b[49m\n",
      "\u001b[1;31mFileNotFoundError\u001b[0m: [Errno 2] No such file or directory: 'example3.txt'"
     ]
    }
   ],
   "source": [
    "f = open(\"example3.txt\",'r')\n",
    "print(6*3)\n",
    "print(\"this file is opened\")"
   ]
  },
  {
   "cell_type": "code",
   "execution_count": 12,
   "id": "f6d02f4f-75a0-46e4-b384-a2d4ecab6e48",
   "metadata": {},
   "outputs": [],
   "source": [
    "# you were expection something but it didnt happen , due to which the suspicious line\n",
    "# threw an error and the next lines didnt get executed"
   ]
  },
  {
   "cell_type": "code",
   "execution_count": 14,
   "id": "ed2c2d44-5d55-462f-a6cf-7ee71e398503",
   "metadata": {},
   "outputs": [],
   "source": [
    "# zerodivision error, type error, filenotfounderror,runtime error....and many more"
   ]
  },
  {
   "cell_type": "code",
   "execution_count": 18,
   "id": "c50164b7-1d24-486f-a63a-324027bbc956",
   "metadata": {},
   "outputs": [],
   "source": [
    "# Why do we need to handle suspicious code/exceptions?\n",
    "# -> Robust Application\n",
    "# -> Code cleaner >> fellow dev can understand corner cases\n",
    "\n",
    "\n",
    "# How to handle exceptions?\n",
    "# By using try catch block\n",
    "# handling this exception is advised\n",
    "# Every code that is risky or suspicious it should be exception handled"
   ]
  },
  {
   "cell_type": "code",
   "execution_count": 20,
   "id": "e40fddc5-2318-4226-9c38-d56823bfe7a4",
   "metadata": {},
   "outputs": [],
   "source": [
    "# syntax of try except\n",
    "\n",
    "#try:\n",
    "    #suspicious code\n",
    "#except:\n",
    "    # executed when exception occurs in try block"
   ]
  },
  {
   "cell_type": "code",
   "execution_count": 23,
   "id": "a299fc96-3051-4eee-a5c6-e0b499a7e5aa",
   "metadata": {},
   "outputs": [
    {
     "name": "stdout",
     "output_type": "stream",
     "text": [
      "Looks like the file is missing.... [Errno 2] No such file or directory: 'example4.txt'\n",
      "some more stuff\n"
     ]
    }
   ],
   "source": [
    "try:\n",
    "    f = open(\"example4.txt\",'r')\n",
    "\n",
    "except Exception as e:\n",
    "    print('Looks like the file is missing....',e)\n",
    "\n",
    "print('some more stuff')"
   ]
  },
  {
   "cell_type": "code",
   "execution_count": 26,
   "id": "18f77c7e-7757-4aea-8e5b-62c97a15b0fc",
   "metadata": {},
   "outputs": [
    {
     "name": "stdout",
     "output_type": "stream",
     "text": [
      "We messed up...Error: division by zero\n"
     ]
    },
    {
     "data": {
      "text/plain": [
       "40"
      ]
     },
     "execution_count": 26,
     "metadata": {},
     "output_type": "execute_result"
    }
   ],
   "source": [
    "try:\n",
    "    print(6/0)\n",
    "except Exception as e:\n",
    "    print('We messed up...Error:',e)\n",
    "\n",
    "5*8\n"
   ]
  },
  {
   "cell_type": "code",
   "execution_count": 29,
   "id": "8a41b16e-e445-4ba0-b43f-b92f9e43c71d",
   "metadata": {},
   "outputs": [
    {
     "name": "stdout",
     "output_type": "stream",
     "text": [
      "Looks like the file is missing.... [Errno 2] No such file or directory: 'example4.txt'\n"
     ]
    }
   ],
   "source": [
    "try:\n",
    "    f = open(\"example4.txt\",'r')\n",
    "\n",
    "except Exception as e:\n",
    "    print('Looks like the file is missing....',e)\n",
    "\n",
    "else:\n",
    "     print(0)\n",
    "     print('This will be executed if try except block is executed without any exception')\n",
    "    "
   ]
  },
  {
   "cell_type": "code",
   "execution_count": 30,
   "id": "896abfdd-8125-4de4-82f2-2407221cdfaa",
   "metadata": {},
   "outputs": [],
   "source": [
    "# Use case of else\n",
    "# execute some code only if the try statement is successful and code doesnt enter \n",
    "# exception block"
   ]
  },
  {
   "cell_type": "code",
   "execution_count": 31,
   "id": "ffcba32d-906d-4ad5-9ecb-7d7b6d4ca349",
   "metadata": {},
   "outputs": [
    {
     "name": "stdout",
     "output_type": "stream",
     "text": [
      "0\n",
      "This will be executed if try except block is executed without any exception\n"
     ]
    }
   ],
   "source": [
    "try:\n",
    "    f = open(\"example.txt\",'r')\n",
    "\n",
    "except Exception as e:\n",
    "    print('Looks like the file is missing....',e)\n",
    "\n",
    "else:\n",
    "     print(0)\n",
    "     print('This will be executed if try except block is executed without any exception')\n",
    "    "
   ]
  },
  {
   "cell_type": "code",
   "execution_count": 33,
   "id": "5e4f02ae-5d31-4cfe-8e6a-3be25a7bae5f",
   "metadata": {},
   "outputs": [
    {
     "name": "stdout",
     "output_type": "stream",
     "text": [
      "0\n",
      "This will be executed if try except block is executed without any exception\n"
     ]
    }
   ],
   "source": [
    "# use case 2\n",
    "try:\n",
    "    f = open(\"example.txt\",'w')\n",
    "    f.write('Hello to exception handling')\n",
    "\n",
    "except Exception as e:\n",
    "    print('Looks like the file is missing....',e)\n",
    "\n",
    "else:\n",
    "     f.close()\n",
    "     print(0)\n",
    "     print('This will be executed if try except block is executed without any exception')\n",
    "    "
   ]
  },
  {
   "cell_type": "code",
   "execution_count": 34,
   "id": "386be246-7bef-4926-98bb-4191f110adbb",
   "metadata": {},
   "outputs": [],
   "source": [
    "# For example, you wanted to close a file if it opened withoutr any error."
   ]
  },
  {
   "cell_type": "code",
   "execution_count": 36,
   "id": "70007138-3cf2-4565-adaf-e4a645a086a7",
   "metadata": {},
   "outputs": [
    {
     "name": "stdout",
     "output_type": "stream",
     "text": [
      "0\n",
      "This will be executed if try except block is executed without any exception\n",
      "Always will be executed\n"
     ]
    }
   ],
   "source": [
    "try:\n",
    "    f = open(\"example.txt\",'w')\n",
    "    f.write('Hello to exception handling')\n",
    "\n",
    "except Exception as e:\n",
    "    print('Looks like the file is missing....',e)\n",
    "\n",
    "else:\n",
    "     f.close()\n",
    "     print(0)\n",
    "     print('This will be executed if try except block is executed without any exception')\n",
    "\n",
    "finally: # Even if we don't enter except block\n",
    "    print('Always will be executed')"
   ]
  },
  {
   "cell_type": "code",
   "execution_count": 40,
   "id": "36bf2faa-ba0d-49f8-b4b1-77a1239c6a5c",
   "metadata": {},
   "outputs": [
    {
     "name": "stdin",
     "output_type": "stream",
     "text": [
      "Enter your salary 5000000\n"
     ]
    }
   ],
   "source": [
    "#custom exception\n",
    "income = int(input('Enter your salary'))"
   ]
  },
  {
   "cell_type": "code",
   "execution_count": 48,
   "id": "04b3e17d-6639-4895-8f59-7acc77ca406d",
   "metadata": {},
   "outputs": [
    {
     "name": "stdout",
     "output_type": "stream",
     "text": [
      "salary is valid\n"
     ]
    }
   ],
   "source": [
    "validate_salary(999999999)"
   ]
  },
  {
   "cell_type": "code",
   "execution_count": 49,
   "id": "815363d5-9024-4792-a0aa-bf4738ee0146",
   "metadata": {},
   "outputs": [],
   "source": [
    "class ValidateSalary(Exception): # exception is the parent class\n",
    "    def __init__(self,msg):\n",
    "        self.msg = msg"
   ]
  },
  {
   "cell_type": "code",
   "execution_count": 52,
   "id": "efd1c212-3ee9-413c-8d4d-676ca82cc64b",
   "metadata": {},
   "outputs": [],
   "source": [
    "def validate_salary(salary):\n",
    "    if salary <= 0:\n",
    "        raise ValidateSalary('negative salary is not possible')\n",
    "    elif salary >= 9999999999:\n",
    "        raise ValidateSalary('salary is unexpected')\n",
    "    else:\n",
    "        print('salary is valid')"
   ]
  },
  {
   "cell_type": "code",
   "execution_count": 53,
   "id": "7d753747-3bd0-4ffa-a1fa-6a1fe3b43b6e",
   "metadata": {},
   "outputs": [
    {
     "name": "stdin",
     "output_type": "stream",
     "text": [
      "Enter your salary -5822\n"
     ]
    },
    {
     "name": "stdout",
     "output_type": "stream",
     "text": [
      "negative salary is not possible\n"
     ]
    }
   ],
   "source": [
    "try:\n",
    "    salary = int(input('Enter your salary'))\n",
    "    validate_salary(salary)\n",
    "except ValidateSalary as e:\n",
    "    print(e)"
   ]
  },
  {
   "cell_type": "code",
   "execution_count": 2,
   "id": "6286e6c2-2a0f-4e45-b457-41e1fb4cdd02",
   "metadata": {},
   "outputs": [
    {
     "name": "stdout",
     "output_type": "stream",
     "text": [
      "There is some error\n"
     ]
    }
   ],
   "source": [
    "try:\n",
    "    10/0\n",
    "except: # generic ecveption to print our message\n",
    "    print(\"There is some error\")"
   ]
  },
  {
   "cell_type": "code",
   "execution_count": 4,
   "id": "f2e03f9b-c4bd-4d5e-868c-6916b0e7699d",
   "metadata": {},
   "outputs": [
    {
     "name": "stdout",
     "output_type": "stream",
     "text": [
      "There is some error unsupported operand type(s) for /: 'int' and 'str'\n"
     ]
    }
   ],
   "source": [
    "try:\n",
    "    10/\"0\"\n",
    "except Exception as e : # generic ecveption to print our message\n",
    "    print(\"There is some error\",e)"
   ]
  },
  {
   "cell_type": "code",
   "execution_count": 9,
   "id": "fe9773fb-0f9d-4956-b722-6c40684fdf81",
   "metadata": {},
   "outputs": [
    {
     "name": "stdout",
     "output_type": "stream",
     "text": [
      "Handling error called division by zero\n"
     ]
    }
   ],
   "source": [
    "try:\n",
    "    10/0\n",
    "except ZeroDivisionError as e : \n",
    "    print('Handling error called',e)"
   ]
  },
  {
   "cell_type": "code",
   "execution_count": 10,
   "id": "8a8b379c-5a2f-422c-a9ad-e01393b5f005",
   "metadata": {},
   "outputs": [],
   "source": [
    "# best practice >> always catch specific error"
   ]
  },
  {
   "cell_type": "code",
   "execution_count": 11,
   "id": "cb4e8cdf-df8b-4507-9f92-3e026d028027",
   "metadata": {},
   "outputs": [
    {
     "name": "stdout",
     "output_type": "stream",
     "text": [
      "Handling error called unsupported operand type(s) for /: 'int' and 'str'\n"
     ]
    }
   ],
   "source": [
    "try:\n",
    "    10/'0'\n",
    "except TypeError as e : \n",
    "    print('Handling error called',e)"
   ]
  },
  {
   "cell_type": "code",
   "execution_count": 12,
   "id": "0e306eab-9e77-4706-b1dd-f7e68e76421a",
   "metadata": {},
   "outputs": [],
   "source": [
    "# benefit of handling specific error >> you know what error is expected and if \n",
    "# other error shows up which you were not able to think , you will be able to address"
   ]
  },
  {
   "cell_type": "code",
   "execution_count": 14,
   "id": "6a9482fa-a427-4cea-bd8c-b6f49ebc0d7d",
   "metadata": {},
   "outputs": [
    {
     "name": "stdout",
     "output_type": "stream",
     "text": [
      "The calculation is 3.3333333333333335\n",
      "Handling error called unsupported operand type(s) for /: 'int' and 'str'\n"
     ]
    }
   ],
   "source": [
    "# example to handle some exception\n",
    "try:\n",
    "    10/'3'\n",
    "except TypeError as e : \n",
    "    print('The calculation is',10/int('3'))\n",
    "    print('Handling error called',e)"
   ]
  },
  {
   "cell_type": "code",
   "execution_count": null,
   "id": "790b2ab3-2a40-43f0-b216-b0a0d543247d",
   "metadata": {},
   "outputs": [],
   "source": []
  }
 ],
 "metadata": {
  "kernelspec": {
   "display_name": "Python 3 (ipykernel)",
   "language": "python",
   "name": "python3"
  },
  "language_info": {
   "codemirror_mode": {
    "name": "ipython",
    "version": 3
   },
   "file_extension": ".py",
   "mimetype": "text/x-python",
   "name": "python",
   "nbconvert_exporter": "python",
   "pygments_lexer": "ipython3",
   "version": "3.12.4"
  }
 },
 "nbformat": 4,
 "nbformat_minor": 5
}
