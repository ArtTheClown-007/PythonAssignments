{
 "cells": [
  {
   "cell_type": "code",
   "execution_count": 6,
   "id": "164811df-6ace-47cd-9d61-244bd23bef7e",
   "metadata": {},
   "outputs": [
    {
     "name": "stdout",
     "output_type": "stream",
     "text": [
      "This is a student.\n",
      "This is a teacher.\n"
     ]
    }
   ],
   "source": [
    "%run Student/Student_details.py"
   ]
  },
  {
   "cell_type": "code",
   "execution_count": 9,
   "id": "937755ec-4b6d-4289-9a0e-76b618d60d2d",
   "metadata": {},
   "outputs": [
    {
     "name": "stdout",
     "output_type": "stream",
     "text": [
      "The path is D:\\PythonAssignments\\Python_Basics\\PythonAssignment\\Student\\Student_details.py\n"
     ]
    }
   ],
   "source": [
    "%run Student/Student_details.py  "
   ]
  },
  {
   "cell_type": "code",
   "execution_count": 10,
   "id": "dfe57aa3-7898-44e3-a6a6-29dff312c3ba",
   "metadata": {},
   "outputs": [
    {
     "name": "stdout",
     "output_type": "stream",
     "text": [
      "The path is D:\\PythonAssignments\\Python_Basics\\PythonAssignment\\Student\\Student_details.py\n",
      "The directory of the script is  D:\\PythonAssignments\\Python_Basics\\PythonAssignment\\Student\n"
     ]
    }
   ],
   "source": [
    "%run Student/Student_details.py  "
   ]
  },
  {
   "cell_type": "code",
   "execution_count": 11,
   "id": "925ca994-69db-47ee-a239-b7a000b59a26",
   "metadata": {},
   "outputs": [
    {
     "name": "stdout",
     "output_type": "stream",
     "text": [
      "The path is D:\\PythonAssignments\\Python_Basics\\PythonAssignment\\Student\\Student_details.py\n",
      "The directory of the script is  D:\\PythonAssignments\\Python_Basics\\PythonAssignment\\Student\n",
      "The directory of the script is  D:\\PythonAssignments\\Python_Basics\\PythonAssignment\\Student\\..\n"
     ]
    }
   ],
   "source": [
    "%run Student/Student_details.py  "
   ]
  },
  {
   "cell_type": "code",
   "execution_count": 12,
   "id": "16179c81-391c-4732-a6ef-cc89db84895c",
   "metadata": {},
   "outputs": [
    {
     "name": "stdout",
     "output_type": "stream",
     "text": [
      "The path is D:\\PythonAssignments\\Python_Basics\\PythonAssignment\\Student\\Student_details.py\n",
      "The directory of the script is  D:\\PythonAssignments\\Python_Basics\\PythonAssignment\\Student\n",
      "The directory of the script is  D:\\PythonAssignments\\Python_Basics\\PythonAssignment\\Student\\..\n",
      "The directory of the script is  D:\\PythonAssignments\\Python_Basics\\PythonAssignment\\Student\\..\n"
     ]
    }
   ],
   "source": [
    "%run Student/Student_details.py  "
   ]
  },
  {
   "cell_type": "code",
   "execution_count": 15,
   "id": "346fdbbd-b52a-4ef9-8afa-59861b84f15c",
   "metadata": {},
   "outputs": [
    {
     "name": "stdout",
     "output_type": "stream",
     "text": [
      "The path is D:\\PythonAssignments\\Python_Basics\\PythonAssignment\\Student\\Student_details.py\n",
      "The directory of the script is  D:\\PythonAssignments\\Python_Basics\\PythonAssignment\\Student\n",
      "The directory of the script is  D:\\PythonAssignments\\Python_Basics\\PythonAssignment\\Student\\..\n",
      "The directory of the script is  D:\\PythonAssignments\\Python_Basics\\PythonAssignment\n"
     ]
    }
   ],
   "source": [
    "%run Student/Student_details.py  "
   ]
  },
  {
   "cell_type": "code",
   "execution_count": 17,
   "id": "102e3ca8-373d-47f7-8e9a-28e558b5d6c8",
   "metadata": {},
   "outputs": [
    {
     "name": "stdout",
     "output_type": "stream",
     "text": [
      "The path is D:\\PythonAssignments\\Python_Basics\\PythonAssignment\\Student\\Student_details.py\n",
      "The directory of the script is  D:\\PythonAssignments\\Python_Basics\\PythonAssignment\\Student\n",
      "The directory of the script is  D:\\PythonAssignments\\Python_Basics\\PythonAssignment\\Student\\..\n",
      "The directory of the script is  D:\\PythonAssignments\\Python_Basics\\PythonAssignment\n"
     ]
    }
   ],
   "source": [
    "%run Student/Student_details.py  "
   ]
  },
  {
   "cell_type": "code",
   "execution_count": 20,
   "id": "55867299-02da-44fb-b3b6-91dce391f6d5",
   "metadata": {},
   "outputs": [
    {
     "name": "stdout",
     "output_type": "stream",
     "text": [
      "The path is D:\\PythonAssignments\\Python_Basics\\PythonAssignment\\Student\\Student_details.py\n",
      "The directory of the script is  D:\\PythonAssignments\\Python_Basics\\PythonAssignment\\Student\n",
      "The directory of the script is  D:\\PythonAssignments\\Python_Basics\\PythonAssignment\\Student\\..\n",
      "The directory of the script is  D:\\PythonAssignments\\Python_Basics\\PythonAssignment\n",
      "This is a student.\n"
     ]
    }
   ],
   "source": [
    "%run Teacher/Teacher_details.py"
   ]
  },
  {
   "cell_type": "code",
   "execution_count": null,
   "id": "2d420701-fc62-4411-a3e3-58cee835fcbc",
   "metadata": {},
   "outputs": [],
   "source": []
  }
 ],
 "metadata": {
  "kernelspec": {
   "display_name": "Python 3 (ipykernel)",
   "language": "python",
   "name": "python3"
  },
  "language_info": {
   "codemirror_mode": {
    "name": "ipython",
    "version": 3
   },
   "file_extension": ".py",
   "mimetype": "text/x-python",
   "name": "python",
   "nbconvert_exporter": "python",
   "pygments_lexer": "ipython3",
   "version": "3.12.4"
  }
 },
 "nbformat": 4,
 "nbformat_minor": 5
}
