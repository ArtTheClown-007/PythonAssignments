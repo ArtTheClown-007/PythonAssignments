{
 "cells": [
  {
   "cell_type": "code",
   "execution_count": 79,
   "id": "4bfd7c70-4ce7-4cbb-bb9c-ce46ee4d9602",
   "metadata": {},
   "outputs": [],
   "source": [
    "import math as mth\n"
   ]
  },
  {
   "cell_type": "code",
   "execution_count": 21,
   "id": "2ed00b2a-6e45-409e-bc28-0de08ade5ab1",
   "metadata": {},
   "outputs": [
    {
     "data": {
      "text/plain": [
       "7"
      ]
     },
     "execution_count": 21,
     "metadata": {},
     "output_type": "execute_result"
    }
   ],
   "source": [
    "mth.ceil(6.5)"
   ]
  },
  {
   "cell_type": "code",
   "execution_count": 22,
   "id": "c860f1eb-ab18-4d8c-bf41-f17842b31f40",
   "metadata": {},
   "outputs": [
    {
     "data": {
      "text/plain": [
       "8"
      ]
     },
     "execution_count": 22,
     "metadata": {},
     "output_type": "execute_result"
    }
   ],
   "source": [
    "mth.floor(8.9)"
   ]
  },
  {
   "cell_type": "code",
   "execution_count": 23,
   "id": "ab03ac1e-ac1f-409d-b417-0fe4529448bb",
   "metadata": {},
   "outputs": [],
   "source": [
    "# user defined function\n",
    "# def func():\n",
    "      #do something >> body of function"
   ]
  },
  {
   "cell_type": "code",
   "execution_count": 24,
   "id": "9b77da8b-fa9e-47a9-9697-ef9e60ee3f78",
   "metadata": {},
   "outputs": [],
   "source": [
    "# function is a block of code which performs some task\n",
    "# functions are reusable, organized , saves time"
   ]
  },
  {
   "cell_type": "code",
   "execution_count": 25,
   "id": "cc0e1848-13bf-43e9-b54b-6250dff53341",
   "metadata": {},
   "outputs": [],
   "source": [
    "def greet(name): # name is func argument\n",
    "    print(\"Hello \" + name + \", hope you're doin well.\")"
   ]
  },
  {
   "cell_type": "code",
   "execution_count": 26,
   "id": "38df2108-80e7-4148-9e23-d605847ad188",
   "metadata": {},
   "outputs": [
    {
     "name": "stdout",
     "output_type": "stream",
     "text": [
      "Hello Max, hope you're doin well.\n"
     ]
    }
   ],
   "source": [
    "greet(\"Max\")"
   ]
  },
  {
   "cell_type": "code",
   "execution_count": 42,
   "id": "55c1ef16-03a6-4ea6-b655-f7732aa867e2",
   "metadata": {},
   "outputs": [],
   "source": [
    "def Dob(date,month,year):\n",
    "    print(\"Your D.O.B. is \" + str(date) + '/' + str(month) + '/' + str(year))\n",
    "    print( \"You're \" + str((2024 - year)) + \" years old.\")"
   ]
  },
  {
   "cell_type": "code",
   "execution_count": 43,
   "id": "47899fda-4212-4462-8937-9d45e10e0b44",
   "metadata": {},
   "outputs": [
    {
     "name": "stdout",
     "output_type": "stream",
     "text": [
      "Your D.O.B. is 4/8/2005\n",
      "You're 19 years old.\n"
     ]
    }
   ],
   "source": [
    "Dob(4,8,2005)"
   ]
  },
  {
   "cell_type": "code",
   "execution_count": 2,
   "id": "5fbcee79-a803-48f9-b2be-5a2b556eb294",
   "metadata": {},
   "outputs": [
    {
     "name": "stdout",
     "output_type": "stream",
     "text": [
      "Text\n"
     ]
    }
   ],
   "source": [
    "def func():\n",
    "    print(\"Text\")\n",
    "func()"
   ]
  },
  {
   "cell_type": "code",
   "execution_count": 4,
   "id": "50a2612f-916c-4234-b60e-bb9c3c29bd0a",
   "metadata": {},
   "outputs": [
    {
     "name": "stdout",
     "output_type": "stream",
     "text": [
      "Text\n"
     ]
    },
    {
     "ename": "TypeError",
     "evalue": "unsupported operand type(s) for +: 'NoneType' and 'str'",
     "output_type": "error",
     "traceback": [
      "\u001b[1;31m---------------------------------------------------------------------------\u001b[0m",
      "\u001b[1;31mTypeError\u001b[0m                                 Traceback (most recent call last)",
      "Cell \u001b[1;32mIn[4], line 1\u001b[0m\n\u001b[1;32m----> 1\u001b[0m \u001b[43mfunc\u001b[49m\u001b[43m(\u001b[49m\u001b[43m)\u001b[49m\u001b[43m \u001b[49m\u001b[38;5;241;43m+\u001b[39;49m\u001b[43m \u001b[49m\u001b[38;5;124;43m\"\u001b[39;49m\u001b[38;5;124;43m goes here\u001b[39;49m\u001b[38;5;124;43m\"\u001b[39;49m\n",
      "\u001b[1;31mTypeError\u001b[0m: unsupported operand type(s) for +: 'NoneType' and 'str'"
     ]
    }
   ],
   "source": [
    "func() + \" goes here\""
   ]
  },
  {
   "cell_type": "code",
   "execution_count": 8,
   "id": "0ca033f8-3d13-4194-9ce0-738a91c1833c",
   "metadata": {},
   "outputs": [
    {
     "data": {
      "text/plain": [
       "'Text goes here'"
      ]
     },
     "execution_count": 8,
     "metadata": {},
     "output_type": "execute_result"
    }
   ],
   "source": [
    "def print_Text(): # returns output\n",
    "    return(\"Text\")\n",
    "\n",
    "print_Text() + \" goes here\""
   ]
  },
  {
   "cell_type": "code",
   "execution_count": 11,
   "id": "88a0e23a-4faa-49d8-b0ac-e92e68f2cf98",
   "metadata": {},
   "outputs": [],
   "source": [
    "def nullf():\n",
    "    return 0"
   ]
  },
  {
   "cell_type": "code",
   "execution_count": 14,
   "id": "0ebc1782-016a-4c3f-b867-0df8a1135341",
   "metadata": {},
   "outputs": [
    {
     "data": {
      "text/plain": [
       "0"
      ]
     },
     "execution_count": 14,
     "metadata": {},
     "output_type": "execute_result"
    }
   ],
   "source": [
    "1 * nullf()"
   ]
  },
  {
   "cell_type": "code",
   "execution_count": 15,
   "id": "02f20b3f-4880-4aeb-96d6-441eb7c4a625",
   "metadata": {},
   "outputs": [],
   "source": [
    "def tup():\n",
    "    return \"Text\",1,3,6,True,3+7j"
   ]
  },
  {
   "cell_type": "code",
   "execution_count": 19,
   "id": "2044a537-49d2-40e5-9cd6-e2574ed68100",
   "metadata": {},
   "outputs": [
    {
     "data": {
      "text/plain": [
       "tuple"
      ]
     },
     "execution_count": 19,
     "metadata": {},
     "output_type": "execute_result"
    }
   ],
   "source": [
    "t = tup()\n",
    "type(t)"
   ]
  },
  {
   "cell_type": "code",
   "execution_count": 24,
   "id": "44ec95e1-f8d1-45cb-a261-dad79304e4e7",
   "metadata": {},
   "outputs": [],
   "source": [
    "x,y,z,u,v,w = tup()"
   ]
  },
  {
   "cell_type": "code",
   "execution_count": 30,
   "id": "47e79812-f397-419e-8a34-4c0eb403acc0",
   "metadata": {},
   "outputs": [
    {
     "name": "stdout",
     "output_type": "stream",
     "text": [
      "Text\n",
      "1\n",
      "3\n"
     ]
    }
   ],
   "source": [
    "print(x)\n",
    "print(y)\n",
    "print(z)"
   ]
  },
  {
   "cell_type": "code",
   "execution_count": 34,
   "id": "5848805f-e4b4-4a43-86b6-634fde4adb11",
   "metadata": {},
   "outputs": [],
   "source": [
    "x,b,c,g = func() "
   ]
  },
  {
   "cell_type": "code",
   "execution_count": 35,
   "id": "83e46c26-e566-4cda-8517-fb9ee7bd05e1",
   "metadata": {},
   "outputs": [
    {
     "name": "stdout",
     "output_type": "stream",
     "text": [
      "T\n",
      "e\n",
      "x\n",
      "t\n"
     ]
    }
   ],
   "source": [
    "print(x)\n",
    "print(b)\n",
    "print(c)\n",
    "print(g)"
   ]
  },
  {
   "cell_type": "code",
   "execution_count": 38,
   "id": "6fcd762a-ca22-414a-85eb-757d39c59b38",
   "metadata": {},
   "outputs": [],
   "source": [
    "def func():\n",
    "    calc = 2+3+6*5\n",
    "    return calc"
   ]
  },
  {
   "cell_type": "code",
   "execution_count": 42,
   "id": "ba4762ba-41b5-4e28-82cc-43057c19d454",
   "metadata": {},
   "outputs": [
    {
     "name": "stdout",
     "output_type": "stream",
     "text": [
      "35\n"
     ]
    }
   ],
   "source": [
    "type(func())\n",
    "print(func())"
   ]
  },
  {
   "cell_type": "code",
   "execution_count": 43,
   "id": "7dbd9a47-6fc7-4342-8bd3-a662b9f737e3",
   "metadata": {},
   "outputs": [],
   "source": [
    "def square_my_num(num):\n",
    "    return num*num"
   ]
  },
  {
   "cell_type": "code",
   "execution_count": 48,
   "id": "71eb1724-c06d-48fb-af0b-8b6ef6fa8f49",
   "metadata": {},
   "outputs": [
    {
     "data": {
      "text/plain": [
       "441"
      ]
     },
     "execution_count": 48,
     "metadata": {},
     "output_type": "execute_result"
    }
   ],
   "source": [
    "square_my_num(21)"
   ]
  },
  {
   "cell_type": "code",
   "execution_count": 49,
   "id": "ad62f42c-eaa9-4035-ad7a-2491922b7837",
   "metadata": {},
   "outputs": [],
   "source": [
    "def sum(a,b):\n",
    "    return a + b"
   ]
  },
  {
   "cell_type": "code",
   "execution_count": 50,
   "id": "e8739a54-22c6-4189-8566-17f983930eb8",
   "metadata": {},
   "outputs": [
    {
     "data": {
      "text/plain": [
       "447"
      ]
     },
     "execution_count": 50,
     "metadata": {},
     "output_type": "execute_result"
    }
   ],
   "source": [
    "sum(2,445)"
   ]
  },
  {
   "cell_type": "code",
   "execution_count": 51,
   "id": "e056b6b0-a970-4dfe-bb5c-564596cef37f",
   "metadata": {},
   "outputs": [
    {
     "data": {
      "text/plain": [
       "'String'"
      ]
     },
     "execution_count": 51,
     "metadata": {},
     "output_type": "execute_result"
    }
   ],
   "source": [
    "sum(\"Str\",\"ing\")"
   ]
  },
  {
   "cell_type": "code",
   "execution_count": 52,
   "id": "25bab14a-5efc-4ded-ba06-ad41218d93df",
   "metadata": {},
   "outputs": [
    {
     "data": {
      "text/plain": [
       "[1, 2, 3, 4, 5, 6]"
      ]
     },
     "execution_count": 52,
     "metadata": {},
     "output_type": "execute_result"
    }
   ],
   "source": [
    "sum([1,2,3],[4,5,6])"
   ]
  },
  {
   "cell_type": "code",
   "execution_count": 53,
   "id": "0660bf98-605c-4d5d-95df-e5093da2de80",
   "metadata": {},
   "outputs": [
    {
     "data": {
      "text/plain": [
       "'string'"
      ]
     },
     "execution_count": 53,
     "metadata": {},
     "output_type": "execute_result"
    }
   ],
   "source": [
    "sum( b = 'ing',a = 'str')"
   ]
  },
  {
   "cell_type": "code",
   "execution_count": 58,
   "id": "b6ab9f63-fc29-41dc-9d66-249ebfe64481",
   "metadata": {},
   "outputs": [],
   "source": [
    "# Default argument must be the trailing argument.\n",
    "def sum1(a , b , c = 0):\n",
    "    return a + b + c\n"
   ]
  },
  {
   "cell_type": "code",
   "execution_count": 59,
   "id": "99b91f79-2dad-45b4-953e-154b85e76401",
   "metadata": {},
   "outputs": [
    {
     "data": {
      "text/plain": [
       "5"
      ]
     },
     "execution_count": 59,
     "metadata": {},
     "output_type": "execute_result"
    }
   ],
   "source": [
    "sum1(2,3)"
   ]
  },
  {
   "cell_type": "code",
   "execution_count": 61,
   "id": "02479466-ce5a-4d7a-8e70-77a4a9e81dba",
   "metadata": {},
   "outputs": [],
   "source": [
    "def sum2(a = 0 , b= 0, c = 0):\n",
    "    return a + b + c"
   ]
  },
  {
   "cell_type": "code",
   "execution_count": 62,
   "id": "1bc03af8-fe48-4f7e-ad8b-baa85b7a5d52",
   "metadata": {},
   "outputs": [
    {
     "data": {
      "text/plain": [
       "0"
      ]
     },
     "execution_count": 62,
     "metadata": {},
     "output_type": "execute_result"
    }
   ],
   "source": [
    "sum2()"
   ]
  },
  {
   "cell_type": "code",
   "execution_count": 63,
   "id": "8feab4a5-cda1-42e6-b06a-47df069cc0fe",
   "metadata": {},
   "outputs": [],
   "source": [
    "def add_two_num():\n",
    "    a = int(input(\"Enter first no: \")) \n",
    "    b = int(input(\"Enter second no: \")) \n",
    "    return a + b"
   ]
  },
  {
   "cell_type": "code",
   "execution_count": 64,
   "id": "e5c522c4-5188-4f17-8421-232c49f8499f",
   "metadata": {},
   "outputs": [
    {
     "name": "stdin",
     "output_type": "stream",
     "text": [
      "Enter first no:  2\n",
      "Enter second no:  21\n"
     ]
    },
    {
     "data": {
      "text/plain": [
       "23"
      ]
     },
     "execution_count": 64,
     "metadata": {},
     "output_type": "execute_result"
    }
   ],
   "source": [
    "add_two_num()"
   ]
  },
  {
   "cell_type": "code",
   "execution_count": 1,
   "id": "6860829d-3f4c-4abe-9c60-0ac28bfa8870",
   "metadata": {},
   "outputs": [],
   "source": [
    "def only_numeric(a):\n",
    "    n = []\n",
    "    for i in a:\n",
    "        if type(i) == int or type(i) == float:\n",
    "            n.append(i)\n",
    "    return n"
   ]
  },
  {
   "cell_type": "code",
   "execution_count": 3,
   "id": "d4b0de0b-f361-476d-9c8f-d76480f199e2",
   "metadata": {},
   "outputs": [
    {
     "data": {
      "text/plain": [
       "[1, 2, 5, 3.4]"
      ]
     },
     "execution_count": 3,
     "metadata": {},
     "output_type": "execute_result"
    }
   ],
   "source": [
    "only_numeric([1,2,5,3.4,\"Book\",2+3j])"
   ]
  },
  {
   "cell_type": "code",
   "execution_count": 17,
   "id": "8ca584b4-5cc7-4000-ac69-8a1e5e8c59f9",
   "metadata": {},
   "outputs": [],
   "source": [
    "def only_numeric(a):\n",
    "    n = []\n",
    "    for i in a:\n",
    "        if type(i) == list:\n",
    "            for j in i:\n",
    "                if type(j) == int or type(j) == float: \n",
    "                 n.append(j)\n",
    "        else:\n",
    "            if type(i) == int or type(i) == float:\n",
    "             n.append(i)\n",
    "    return n"
   ]
  },
  {
   "cell_type": "code",
   "execution_count": 19,
   "id": "2cd7728c-df8d-4b78-88dc-a4f328f30207",
   "metadata": {},
   "outputs": [
    {
     "data": {
      "text/plain": [
       "[1, 2, 5, 3.4, 2, 5, 4.69]"
      ]
     },
     "execution_count": 19,
     "metadata": {},
     "output_type": "execute_result"
    }
   ],
   "source": [
    "only_numeric([1,2,5,3.4,\"Book\",2+3j,[2,5,4.69,'fudge']])"
   ]
  },
  {
   "cell_type": "code",
   "execution_count": 20,
   "id": "cdf7b9b4-faf8-40f3-9f27-84b4304c26b5",
   "metadata": {},
   "outputs": [],
   "source": [
    "# variable length arguement>> when no of args is unknown\n",
    "# prefix a * with the function arg"
   ]
  },
  {
   "cell_type": "code",
   "execution_count": 27,
   "id": "a85ac512-6dc4-4d77-bb6c-dad1699897ba",
   "metadata": {},
   "outputs": [],
   "source": [
    "def sum1(*args,a = 1):\n",
    "    s = 0\n",
    "    for i in args:\n",
    "        s += i\n",
    "    return s,a\n",
    "    "
   ]
  },
  {
   "cell_type": "code",
   "execution_count": 28,
   "id": "fcc4a1b3-e321-4d7d-815c-c6d42e13c548",
   "metadata": {},
   "outputs": [
    {
     "data": {
      "text/plain": [
       "(51, 1)"
      ]
     },
     "execution_count": 28,
     "metadata": {},
     "output_type": "execute_result"
    }
   ],
   "source": [
    "sum1(11,2,3,4,5,6,6,7,7)"
   ]
  },
  {
   "cell_type": "code",
   "execution_count": 29,
   "id": "e0921f5a-8fd6-49fa-b3a3-4c7208c29d07",
   "metadata": {},
   "outputs": [],
   "source": [
    "# variable argument >> takes any no of argument\n",
    "# positional argument >> fixed argument"
   ]
  },
  {
   "cell_type": "code",
   "execution_count": 33,
   "id": "4070f655-59cd-4b51-a06b-da47bd7c075d",
   "metadata": {},
   "outputs": [],
   "source": [
    "def get_list(*args):\n",
    "    return list(args)"
   ]
  },
  {
   "cell_type": "code",
   "execution_count": 34,
   "id": "ebb38cab-e4a4-4cd4-bdec-857abb42e14b",
   "metadata": {},
   "outputs": [
    {
     "data": {
      "text/plain": [
       "[1, 34, 4, 56, 7, 'Hello', True]"
      ]
     },
     "execution_count": 34,
     "metadata": {},
     "output_type": "execute_result"
    }
   ],
   "source": [
    "get_list(1,34,4,56,7,'Hello',True)"
   ]
  },
  {
   "cell_type": "code",
   "execution_count": 37,
   "id": "baf991c1-4a18-454f-9b08-4331625ef792",
   "metadata": {},
   "outputs": [],
   "source": [
    "def return_list_only(*args):\n",
    "    l = []\n",
    "    for i in args:\n",
    "        if type(i) == list:\n",
    "            l.append(i)\n",
    "    return l"
   ]
  },
  {
   "cell_type": "code",
   "execution_count": 38,
   "id": "5070be03-c047-47d2-9fda-a1402ae04eae",
   "metadata": {},
   "outputs": [
    {
     "data": {
      "text/plain": [
       "[['bread', 'butter']]"
      ]
     },
     "execution_count": 38,
     "metadata": {},
     "output_type": "execute_result"
    }
   ],
   "source": [
    "return_list_only(1,2,4,['bread','butter'],'buck')"
   ]
  },
  {
   "cell_type": "code",
   "execution_count": 39,
   "id": "f0afe4e4-1d60-438d-a0d1-38a571f6d14e",
   "metadata": {},
   "outputs": [],
   "source": [
    "def team(name,project):\n",
    "    return f\"{name} is working on {project}.\""
   ]
  },
  {
   "cell_type": "code",
   "execution_count": 42,
   "id": "77d8a536-ed97-4a4d-b9fa-b1e4980cc5fc",
   "metadata": {},
   "outputs": [
    {
     "data": {
      "text/plain": [
       "'Max is working on Project Zero'"
      ]
     },
     "execution_count": 42,
     "metadata": {},
     "output_type": "execute_result"
    }
   ],
   "source": [
    "team('Max','Project Zero')"
   ]
  },
  {
   "cell_type": "code",
   "execution_count": 44,
   "id": "3e321f65-7ce3-4424-ba97-24e6c75b536f",
   "metadata": {},
   "outputs": [
    {
     "data": {
      "text/plain": [
       "((1, 2, 3, 4), {'a': 100, 'b': 50})"
      ]
     },
     "execution_count": 44,
     "metadata": {},
     "output_type": "execute_result"
    }
   ],
   "source": [
    "def test(*args,**args1):\n",
    "    return args,args1\n",
    "\n",
    "test(1,2,3,4,a=100,b=50)"
   ]
  },
  {
   "cell_type": "code",
   "execution_count": 45,
   "id": "4a354940-5b88-4d11-8813-4b72e35c6207",
   "metadata": {},
   "outputs": [],
   "source": [
    "# Python namespace"
   ]
  },
  {
   "cell_type": "code",
   "execution_count": 49,
   "id": "98600fb9-7ef5-4cc3-bf94-4d99e6b8758b",
   "metadata": {},
   "outputs": [],
   "source": [
    "def greet():\n",
    "    message = \"Hello, welcome!\"  # local variable \n",
    "    print(message)"
   ]
  },
  {
   "cell_type": "code",
   "execution_count": 50,
   "id": "6b50dfbb-0e01-45bc-89a1-ec17ce9e4e94",
   "metadata": {},
   "outputs": [
    {
     "name": "stdout",
     "output_type": "stream",
     "text": [
      "Hello, welcome!\n"
     ]
    }
   ],
   "source": [
    "greet()"
   ]
  },
  {
   "cell_type": "code",
   "execution_count": 51,
   "id": "cded1611-4d62-4fe1-b608-7b1a7deca462",
   "metadata": {},
   "outputs": [
    {
     "ename": "NameError",
     "evalue": "name 'message' is not defined",
     "output_type": "error",
     "traceback": [
      "\u001b[1;31m---------------------------------------------------------------------------\u001b[0m",
      "\u001b[1;31mNameError\u001b[0m                                 Traceback (most recent call last)",
      "Cell \u001b[1;32mIn[51], line 1\u001b[0m\n\u001b[1;32m----> 1\u001b[0m \u001b[38;5;28mprint\u001b[39m(\u001b[43mmessage\u001b[49m)\n",
      "\u001b[1;31mNameError\u001b[0m: name 'message' is not defined"
     ]
    }
   ],
   "source": [
    "print(message)"
   ]
  },
  {
   "cell_type": "code",
   "execution_count": 59,
   "id": "eca71dad-e0ba-46aa-9511-99b06bf84359",
   "metadata": {},
   "outputs": [],
   "source": [
    "part = \" to the course!\"    # Global variable\n",
    "def greet1():\n",
    "    message = \"Hello, welcome\" + part # local variable \n",
    "    print(message)"
   ]
  },
  {
   "cell_type": "code",
   "execution_count": 60,
   "id": "b4632f1e-8303-4618-8ded-3a4e05177efb",
   "metadata": {},
   "outputs": [
    {
     "name": "stdout",
     "output_type": "stream",
     "text": [
      "Hello, welcome to the course!\n"
     ]
    }
   ],
   "source": [
    "greet1()"
   ]
  },
  {
   "cell_type": "code",
   "execution_count": 67,
   "id": "182562e6-5891-4f8f-a8e0-d32eb81babf3",
   "metadata": {},
   "outputs": [],
   "source": [
    "# function inside function\n",
    "# Think of **kwargs as a way to pass values to a function by giving them names.\n",
    "# Inside the function, kwargs is like a dictionary containing all the named values \n",
    "# you passed, and you can use it to access those values.\n",
    "\n",
    "def marks_in_subject(**kwargs):\n",
    "    def total_marks(marks_list):\n",
    "        return sum(marks_list)\n",
    "    marks_list = []\n",
    "    for sub,marks in kwargs.items():\n",
    "        marks_list.append(marks)\n",
    "\n",
    "    return total_marks(marks_list)\n",
    "    "
   ]
  },
  {
   "cell_type": "code",
   "execution_count": 68,
   "id": "38e17655-05ea-497c-af21-5eb3db558f62",
   "metadata": {},
   "outputs": [
    {
     "data": {
      "text/plain": [
       "110"
      ]
     },
     "execution_count": 68,
     "metadata": {},
     "output_type": "execute_result"
    }
   ],
   "source": [
    "marks_in_subject(a = 90, b = 20)"
   ]
  },
  {
   "cell_type": "code",
   "execution_count": 81,
   "id": "664c1472-a49f-4f9e-834c-5dadd3784103",
   "metadata": {},
   "outputs": [],
   "source": [
    "def find_power(num,power):\n",
    "    \"\"\"  # Doc string\n",
    "    This function returns the power of no \n",
    "    Args:\n",
    "    num(int): provide int as input\n",
    "    power(int):provide power as input \n",
    "    Returns:\n",
    "    integer: power of no\n",
    "    \"\"\"\n",
    "    return num**power"
   ]
  },
  {
   "cell_type": "code",
   "execution_count": 82,
   "id": "1e86e681-24e2-4d4d-9899-ea52f9fe5649",
   "metadata": {},
   "outputs": [
    {
     "data": {
      "text/plain": [
       "8"
      ]
     },
     "execution_count": 82,
     "metadata": {},
     "output_type": "execute_result"
    }
   ],
   "source": [
    "find_power(2,3)"
   ]
  },
  {
   "cell_type": "code",
   "execution_count": 83,
   "id": "c8a8802e-103f-4392-b122-198f846e7b1c",
   "metadata": {},
   "outputs": [
    {
     "name": "stdout",
     "output_type": "stream",
     "text": [
      "Help on function find_power in module __main__:\n",
      "\n",
      "find_power(num, power)\n",
      "    # Doc string\n",
      "    This function returns the power of no\n",
      "    Args:\n",
      "    num(int): provide int as input\n",
      "    power(int):provide power as input\n",
      "    Returns:\n",
      "    integer: power of no\n",
      "\n"
     ]
    }
   ],
   "source": [
    "help(find_power)"
   ]
  },
  {
   "cell_type": "code",
   "execution_count": 84,
   "id": "0e94c107-3007-40e3-923a-daa5d1118ca9",
   "metadata": {},
   "outputs": [
    {
     "name": "stdout",
     "output_type": "stream",
     "text": [
      "  # Doc string\n",
      "    This function returns the power of no \n",
      "    Args:\n",
      "    num(int): provide int as input\n",
      "    power(int):provide power as input \n",
      "    Returns:\n",
      "    integer: power of no\n",
      "    \n"
     ]
    }
   ],
   "source": [
    "print(find_power.__doc__)"
   ]
  },
  {
   "cell_type": "code",
   "execution_count": 85,
   "id": "bd1bef74-6bb5-4bfc-b630-a54114fbd731",
   "metadata": {},
   "outputs": [],
   "source": [
    "#----------------------------------------------------------------"
   ]
  },
  {
   "cell_type": "code",
   "execution_count": 90,
   "id": "6a0234e4-c27b-45d4-96a8-c6ec1856ae8f",
   "metadata": {},
   "outputs": [],
   "source": [
    "# an iterable is any python obj/sequential data structure that is capable of returning\n",
    "# its members one at a time\n",
    "# permitting it to be iterated over in a for loop or while loop\n",
    "# examples: list, tuples"
   ]
  },
  {
   "cell_type": "code",
   "execution_count": 91,
   "id": "cb2f8a76-2639-4efb-83af-6e8a75caeec5",
   "metadata": {},
   "outputs": [
    {
     "name": "stdout",
     "output_type": "stream",
     "text": [
      "1\n",
      "8.9\n",
      "90\n"
     ]
    }
   ],
   "source": [
    "lis = [1,8.9,90] # list is iterable obj\n",
    "for i in lis:\n",
    "    print(i)"
   ]
  },
  {
   "cell_type": "code",
   "execution_count": 93,
   "id": "7f89b226-a3d6-4c57-aeba-fadeebc70fa0",
   "metadata": {},
   "outputs": [],
   "source": [
    "# iteration is a process of looping through the elements of an iterable(list,string)\n",
    "# using a loop\n",
    "# the process of returning element one by one "
   ]
  },
  {
   "cell_type": "code",
   "execution_count": 94,
   "id": "3cd5a86d-04ee-41fc-8154-f5c8a5917903",
   "metadata": {},
   "outputs": [],
   "source": [
    "# iterator>> an object representing a stream of data >> return the data one \n",
    "# by one \n",
    "\n",
    "# Analogy\n",
    "# potato(iterable) >> it cannot be cooked in original form\n",
    "# chop/wash the potato >> ready for cooking >> iterator\n",
    "# the process of cooking >> iteration"
   ]
  },
  {
   "cell_type": "code",
   "execution_count": 96,
   "id": "df3925d7-3f4a-4557-a5d0-41c828f94519",
   "metadata": {},
   "outputs": [
    {
     "name": "stdout",
     "output_type": "stream",
     "text": [
      "s\n",
      "t\n",
      "r\n",
      "i\n",
      "n\n",
      "g\n"
     ]
    }
   ],
   "source": [
    "strg = \"string\" # string is iterable\n",
    "for i in strg:\n",
    "    print(i)"
   ]
  },
  {
   "cell_type": "code",
   "execution_count": 101,
   "id": "fd7391fa-d13a-4001-b379-5640a548a922",
   "metadata": {},
   "outputs": [
    {
     "data": {
      "text/plain": [
       "<str_ascii_iterator at 0x2a47ae77f70>"
      ]
     },
     "execution_count": 101,
     "metadata": {},
     "output_type": "execute_result"
    }
   ],
   "source": [
    "# python >> can i prepare strg for iteration ?\n",
    "iter(strg) #iterator  object"
   ]
  },
  {
   "cell_type": "code",
   "execution_count": 102,
   "id": "508f2ce6-0383-4b59-8b6a-e2b969fa5fd9",
   "metadata": {},
   "outputs": [
    {
     "data": {
      "text/plain": [
       "<str_ascii_iterator at 0x2a47ae76260>"
      ]
     },
     "execution_count": 102,
     "metadata": {},
     "output_type": "execute_result"
    }
   ],
   "source": [
    "a = iter(strg)\n",
    "a"
   ]
  },
  {
   "cell_type": "code",
   "execution_count": 103,
   "id": "e91b2b09-49c4-48cf-9d45-7fcd96bb90c6",
   "metadata": {},
   "outputs": [
    {
     "data": {
      "text/plain": [
       "'s'"
      ]
     },
     "execution_count": 103,
     "metadata": {},
     "output_type": "execute_result"
    }
   ],
   "source": [
    "next(a)"
   ]
  },
  {
   "cell_type": "code",
   "execution_count": 104,
   "id": "70a85b79-14d1-4afd-a061-5de3a6fa7272",
   "metadata": {},
   "outputs": [
    {
     "data": {
      "text/plain": [
       "'t'"
      ]
     },
     "execution_count": 104,
     "metadata": {},
     "output_type": "execute_result"
    }
   ],
   "source": [
    "next(a)"
   ]
  },
  {
   "cell_type": "code",
   "execution_count": 105,
   "id": "9d632d4b-cc28-41f1-ac8b-6c36fcd9777c",
   "metadata": {},
   "outputs": [
    {
     "data": {
      "text/plain": [
       "'r'"
      ]
     },
     "execution_count": 105,
     "metadata": {},
     "output_type": "execute_result"
    }
   ],
   "source": [
    "next(a)"
   ]
  },
  {
   "cell_type": "code",
   "execution_count": 106,
   "id": "030be587-7a77-4247-8f99-dee2907ecb80",
   "metadata": {},
   "outputs": [
    {
     "data": {
      "text/plain": [
       "'i'"
      ]
     },
     "execution_count": 106,
     "metadata": {},
     "output_type": "execute_result"
    }
   ],
   "source": [
    "next(a)"
   ]
  },
  {
   "cell_type": "code",
   "execution_count": 107,
   "id": "e2cff692-39c1-47f7-bc34-691b4bb4d2f6",
   "metadata": {},
   "outputs": [
    {
     "data": {
      "text/plain": [
       "'n'"
      ]
     },
     "execution_count": 107,
     "metadata": {},
     "output_type": "execute_result"
    }
   ],
   "source": [
    "next(a)"
   ]
  },
  {
   "cell_type": "code",
   "execution_count": 108,
   "id": "adcd4225-400d-41ae-a14f-38b1d9c1901a",
   "metadata": {},
   "outputs": [
    {
     "data": {
      "text/plain": [
       "'g'"
      ]
     },
     "execution_count": 108,
     "metadata": {},
     "output_type": "execute_result"
    }
   ],
   "source": [
    "next(a)"
   ]
  },
  {
   "cell_type": "code",
   "execution_count": 109,
   "id": "5ad5abfe-9f52-40af-a0a8-973021a0cd76",
   "metadata": {},
   "outputs": [
    {
     "ename": "StopIteration",
     "evalue": "",
     "output_type": "error",
     "traceback": [
      "\u001b[1;31m---------------------------------------------------------------------------\u001b[0m",
      "\u001b[1;31mStopIteration\u001b[0m                             Traceback (most recent call last)",
      "Cell \u001b[1;32mIn[109], line 1\u001b[0m\n\u001b[1;32m----> 1\u001b[0m \u001b[38;5;28;43mnext\u001b[39;49m\u001b[43m(\u001b[49m\u001b[43ma\u001b[49m\u001b[43m)\u001b[49m\n",
      "\u001b[1;31mStopIteration\u001b[0m: "
     ]
    }
   ],
   "source": [
    "next(a)"
   ]
  },
  {
   "cell_type": "code",
   "execution_count": 111,
   "id": "8dce060e-1ebe-4c62-9a78-52cf7368dc4b",
   "metadata": {},
   "outputs": [
    {
     "name": "stdout",
     "output_type": "stream",
     "text": [
      "M\n",
      "a\n",
      "x\n",
      "P\n",
      "a\n",
      "y\n",
      "n\n",
      "e\n"
     ]
    }
   ],
   "source": [
    "for i in \"MaxPayne\": #first converting the iterable string to iterator object\n",
    "    # (using iter) and then access using next\n",
    "    print(i)"
   ]
  },
  {
   "cell_type": "code",
   "execution_count": 1,
   "id": "9d7dd97a-c93c-4b45-8e1c-b88858c8bdb9",
   "metadata": {},
   "outputs": [
    {
     "data": {
      "text/plain": [
       "<list_iterator at 0x1dfe2476830>"
      ]
     },
     "execution_count": 1,
     "metadata": {},
     "output_type": "execute_result"
    }
   ],
   "source": [
    "l = iter([1,2,3,4])\n",
    "l"
   ]
  },
  {
   "cell_type": "code",
   "execution_count": 2,
   "id": "f07e4743-6dd1-43a7-aaf9-f72f076fef76",
   "metadata": {},
   "outputs": [
    {
     "data": {
      "text/plain": [
       "1"
      ]
     },
     "execution_count": 2,
     "metadata": {},
     "output_type": "execute_result"
    }
   ],
   "source": [
    "next(l)"
   ]
  },
  {
   "cell_type": "code",
   "execution_count": 4,
   "id": "a3ab3bbd-a3f4-4914-a54b-46a2688c0ef6",
   "metadata": {},
   "outputs": [
    {
     "data": {
      "text/plain": [
       "3"
      ]
     },
     "execution_count": 4,
     "metadata": {},
     "output_type": "execute_result"
    }
   ],
   "source": [
    "next(l)"
   ]
  },
  {
   "cell_type": "code",
   "execution_count": 5,
   "id": "57cb5bf7-e712-4aea-9cde-8454d1585417",
   "metadata": {},
   "outputs": [
    {
     "data": {
      "text/plain": [
       "4"
      ]
     },
     "execution_count": 5,
     "metadata": {},
     "output_type": "execute_result"
    }
   ],
   "source": [
    "next(l)"
   ]
  },
  {
   "cell_type": "code",
   "execution_count": 7,
   "id": "3c9f26e3-355a-4ecd-842a-442da42c0bbd",
   "metadata": {},
   "outputs": [
    {
     "data": {
      "text/plain": [
       "<tuple_iterator at 0x1dfe2476350>"
      ]
     },
     "execution_count": 7,
     "metadata": {},
     "output_type": "execute_result"
    }
   ],
   "source": [
    "t = iter((5,6,7,8))\n",
    "t"
   ]
  },
  {
   "cell_type": "code",
   "execution_count": 8,
   "id": "7b4e964a-7935-4819-8972-6d89d7a17a23",
   "metadata": {},
   "outputs": [
    {
     "data": {
      "text/plain": [
       "5"
      ]
     },
     "execution_count": 8,
     "metadata": {},
     "output_type": "execute_result"
    }
   ],
   "source": [
    "next(t)"
   ]
  },
  {
   "cell_type": "code",
   "execution_count": 9,
   "id": "e335a4cb-bc04-401c-bf9e-c0d7bf120e07",
   "metadata": {},
   "outputs": [
    {
     "data": {
      "text/plain": [
       "6"
      ]
     },
     "execution_count": 9,
     "metadata": {},
     "output_type": "execute_result"
    }
   ],
   "source": [
    "next(t)"
   ]
  },
  {
   "cell_type": "code",
   "execution_count": 10,
   "id": "4c3119cf-704d-4542-993c-849551500747",
   "metadata": {},
   "outputs": [
    {
     "data": {
      "text/plain": [
       "7"
      ]
     },
     "execution_count": 10,
     "metadata": {},
     "output_type": "execute_result"
    }
   ],
   "source": [
    "next(t)"
   ]
  },
  {
   "cell_type": "code",
   "execution_count": 11,
   "id": "8a28c35d-d11c-4060-8df9-e1cf762a0668",
   "metadata": {},
   "outputs": [
    {
     "data": {
      "text/plain": [
       "8"
      ]
     },
     "execution_count": 11,
     "metadata": {},
     "output_type": "execute_result"
    }
   ],
   "source": [
    "next(t)"
   ]
  },
  {
   "cell_type": "code",
   "execution_count": 14,
   "id": "d6f196f4-c801-46f6-bcb7-0cb44300cfc9",
   "metadata": {},
   "outputs": [
    {
     "data": {
      "text/plain": [
       "<set_iterator at 0x1dfe299fa00>"
      ]
     },
     "execution_count": 14,
     "metadata": {},
     "output_type": "execute_result"
    }
   ],
   "source": [
    "st = iter({2,5,6,8})\n",
    "st"
   ]
  },
  {
   "cell_type": "code",
   "execution_count": 15,
   "id": "6367f92b-9bac-48b3-b27b-6538dc8314b0",
   "metadata": {},
   "outputs": [
    {
     "data": {
      "text/plain": [
       "8"
      ]
     },
     "execution_count": 15,
     "metadata": {},
     "output_type": "execute_result"
    }
   ],
   "source": [
    "next(st)"
   ]
  },
  {
   "cell_type": "code",
   "execution_count": 16,
   "id": "3b07de86-b1f1-4cff-a37e-2e092c3c34b3",
   "metadata": {},
   "outputs": [
    {
     "data": {
      "text/plain": [
       "2"
      ]
     },
     "execution_count": 16,
     "metadata": {},
     "output_type": "execute_result"
    }
   ],
   "source": [
    "next(st)"
   ]
  },
  {
   "cell_type": "code",
   "execution_count": 17,
   "id": "448f021b-5f6c-4440-8f55-6ad67221660b",
   "metadata": {},
   "outputs": [
    {
     "data": {
      "text/plain": [
       "5"
      ]
     },
     "execution_count": 17,
     "metadata": {},
     "output_type": "execute_result"
    }
   ],
   "source": [
    "next(st)"
   ]
  },
  {
   "cell_type": "code",
   "execution_count": 18,
   "id": "bf060651-6b25-426b-970e-5dc937b36565",
   "metadata": {},
   "outputs": [
    {
     "data": {
      "text/plain": [
       "6"
      ]
     },
     "execution_count": 18,
     "metadata": {},
     "output_type": "execute_result"
    }
   ],
   "source": [
    "next(st)"
   ]
  },
  {
   "cell_type": "code",
   "execution_count": 20,
   "id": "6d827047-9ec6-4664-94c2-1d34de4c6de5",
   "metadata": {},
   "outputs": [
    {
     "data": {
      "text/plain": [
       "<dict_keyiterator at 0x1dfe2499800>"
      ]
     },
     "execution_count": 20,
     "metadata": {},
     "output_type": "execute_result"
    }
   ],
   "source": [
    "d = iter({1:True,0:False})\n",
    "d"
   ]
  },
  {
   "cell_type": "code",
   "execution_count": 21,
   "id": "82b0c46a-d829-4c60-9a9e-d17f7d901105",
   "metadata": {},
   "outputs": [
    {
     "data": {
      "text/plain": [
       "1"
      ]
     },
     "execution_count": 21,
     "metadata": {},
     "output_type": "execute_result"
    }
   ],
   "source": [
    "next(d)"
   ]
  },
  {
   "cell_type": "code",
   "execution_count": 22,
   "id": "2aa3a77c-6e76-4769-a602-97e8322a7ac5",
   "metadata": {},
   "outputs": [
    {
     "data": {
      "text/plain": [
       "0"
      ]
     },
     "execution_count": 22,
     "metadata": {},
     "output_type": "execute_result"
    }
   ],
   "source": [
    "next(d)"
   ]
  },
  {
   "cell_type": "code",
   "execution_count": 24,
   "id": "1ed9a143-84b8-4f38-b709-fac72820f8f8",
   "metadata": {},
   "outputs": [],
   "source": [
    "# generator function"
   ]
  },
  {
   "cell_type": "code",
   "execution_count": 1,
   "id": "eaef7aa5-cafc-4995-a165-4dc2d94f745f",
   "metadata": {},
   "outputs": [
    {
     "data": {
      "text/plain": [
       "[25, 16, 36, 64]"
      ]
     },
     "execution_count": 1,
     "metadata": {},
     "output_type": "execute_result"
    }
   ],
   "source": [
    "# regular function >> takes a list and gives square of each of the list\n",
    "def square_num(n):\n",
    "    result = []\n",
    "    for i in n:\n",
    "        result.append(i**2)\n",
    "    return result\n",
    "square_num([5,4,6,8])"
   ]
  },
  {
   "cell_type": "code",
   "execution_count": 3,
   "id": "ba7fd17c-a251-480a-a4f9-045678af5f8d",
   "metadata": {},
   "outputs": [
    {
     "data": {
      "text/plain": [
       "[0,\n",
       " 1,\n",
       " 4,\n",
       " 9,\n",
       " 16,\n",
       " 25,\n",
       " 36,\n",
       " 49,\n",
       " 64,\n",
       " 81,\n",
       " 100,\n",
       " 121,\n",
       " 144,\n",
       " 169,\n",
       " 196,\n",
       " 225,\n",
       " 256,\n",
       " 289,\n",
       " 324,\n",
       " 361,\n",
       " 400,\n",
       " 441,\n",
       " 484,\n",
       " 529,\n",
       " 576,\n",
       " 625,\n",
       " 676,\n",
       " 729,\n",
       " 784,\n",
       " 841,\n",
       " 900,\n",
       " 961,\n",
       " 1024,\n",
       " 1089,\n",
       " 1156,\n",
       " 1225,\n",
       " 1296,\n",
       " 1369,\n",
       " 1444,\n",
       " 1521,\n",
       " 1600,\n",
       " 1681,\n",
       " 1764,\n",
       " 1849,\n",
       " 1936,\n",
       " 2025,\n",
       " 2116,\n",
       " 2209,\n",
       " 2304,\n",
       " 2401,\n",
       " 2500,\n",
       " 2601,\n",
       " 2704,\n",
       " 2809,\n",
       " 2916,\n",
       " 3025,\n",
       " 3136,\n",
       " 3249,\n",
       " 3364,\n",
       " 3481,\n",
       " 3600,\n",
       " 3721,\n",
       " 3844,\n",
       " 3969,\n",
       " 4096,\n",
       " 4225,\n",
       " 4356,\n",
       " 4489,\n",
       " 4624,\n",
       " 4761,\n",
       " 4900,\n",
       " 5041,\n",
       " 5184,\n",
       " 5329,\n",
       " 5476,\n",
       " 5625,\n",
       " 5776,\n",
       " 5929,\n",
       " 6084,\n",
       " 6241,\n",
       " 6400,\n",
       " 6561,\n",
       " 6724,\n",
       " 6889,\n",
       " 7056,\n",
       " 7225,\n",
       " 7396,\n",
       " 7569,\n",
       " 7744,\n",
       " 7921,\n",
       " 8100,\n",
       " 8281,\n",
       " 8464,\n",
       " 8649,\n",
       " 8836,\n",
       " 9025,\n",
       " 9216,\n",
       " 9409,\n",
       " 9604,\n",
       " 9801]"
      ]
     },
     "execution_count": 3,
     "metadata": {},
     "output_type": "execute_result"
    }
   ],
   "source": [
    "# regular function >> takes a list and gives square of each of the list and returns in one go\n",
    "# since its returning in one go >> memory usage will be more\n",
    "# it will take a lot of execution time if there is a lot of computation as all \n",
    "# the computations will be done first and then the calcualtion will be returned \n",
    "# in one go\n",
    "def square_num(n):\n",
    "    result = []\n",
    "    for i in range(n):\n",
    "        result.append(i**2)\n",
    "    return result\n",
    "square_num(100)"
   ]
  },
  {
   "cell_type": "code",
   "execution_count": 4,
   "id": "be2f92b3-86cc-44e9-97c4-0521d0661f83",
   "metadata": {},
   "outputs": [],
   "source": [
    "# yield >> general function uses return statement but a generator funciton uses\n",
    "# yield statement to return values one at a time"
   ]
  },
  {
   "cell_type": "code",
   "execution_count": 21,
   "id": "df66e537-881a-47aa-817f-77d069673361",
   "metadata": {},
   "outputs": [
    {
     "data": {
      "text/plain": [
       "<generator object square_num_gen at 0x000001CA1BE40C70>"
      ]
     },
     "execution_count": 21,
     "metadata": {},
     "output_type": "execute_result"
    }
   ],
   "source": [
    "def square_num_gen(n):\n",
    "    for i in range(n):\n",
    "        yield i**2  # yield creates generator object\n",
    "square_num_gen(10) # it is a generator object"
   ]
  },
  {
   "cell_type": "code",
   "execution_count": 22,
   "id": "a9555525-b133-4016-b5ae-98aa738c88cd",
   "metadata": {},
   "outputs": [],
   "source": [
    "gen = square_num_gen(10)"
   ]
  },
  {
   "cell_type": "code",
   "execution_count": 23,
   "id": "12cb5a99-88c8-4272-8672-25f3677b3b9c",
   "metadata": {},
   "outputs": [
    {
     "data": {
      "text/plain": [
       "0"
      ]
     },
     "execution_count": 23,
     "metadata": {},
     "output_type": "execute_result"
    }
   ],
   "source": [
    "next(gen)"
   ]
  },
  {
   "cell_type": "code",
   "execution_count": 24,
   "id": "f074078b-edfa-40da-a483-4d1b12298a06",
   "metadata": {},
   "outputs": [
    {
     "data": {
      "text/plain": [
       "1"
      ]
     },
     "execution_count": 24,
     "metadata": {},
     "output_type": "execute_result"
    }
   ],
   "source": [
    "next(gen)"
   ]
  },
  {
   "cell_type": "code",
   "execution_count": 29,
   "id": "5fa3c9d7-0f50-4cd1-9380-e4e08401333a",
   "metadata": {},
   "outputs": [],
   "source": [
    "# fibonacci series: sum of last two numbers 0, 1, 1, 2, 3, 5, 8\n",
    "\n",
    "def fibnac_series(n):\n",
    "    a = 0\n",
    "    b = 1\n",
    "    for i in range(n): # if n = 5 , 0 , 1, 2, 3, 4\n",
    "        yield a\n",
    "        a , b = b , a + b"
   ]
  },
  {
   "cell_type": "code",
   "execution_count": 31,
   "id": "3292bee9-090c-440d-b8bc-251b9e9e70c8",
   "metadata": {},
   "outputs": [],
   "source": [
    "fs = fibnac_series(100000000000000)"
   ]
  },
  {
   "cell_type": "code",
   "execution_count": 32,
   "id": "aa1418dc-3ad7-4837-842d-837791ee5205",
   "metadata": {},
   "outputs": [
    {
     "data": {
      "text/plain": [
       "0"
      ]
     },
     "execution_count": 32,
     "metadata": {},
     "output_type": "execute_result"
    }
   ],
   "source": [
    "next(fs)"
   ]
  },
  {
   "cell_type": "code",
   "execution_count": 33,
   "id": "e7aaed94-5545-4d20-8a16-34b5621cf620",
   "metadata": {},
   "outputs": [
    {
     "data": {
      "text/plain": [
       "1"
      ]
     },
     "execution_count": 33,
     "metadata": {},
     "output_type": "execute_result"
    }
   ],
   "source": [
    "next(fs)"
   ]
  },
  {
   "cell_type": "code",
   "execution_count": 34,
   "id": "f8c4bcef-be6b-4153-a690-b5b6f09b8e32",
   "metadata": {},
   "outputs": [
    {
     "data": {
      "text/plain": [
       "1"
      ]
     },
     "execution_count": 34,
     "metadata": {},
     "output_type": "execute_result"
    }
   ],
   "source": [
    "next(fs)"
   ]
  },
  {
   "cell_type": "code",
   "execution_count": 35,
   "id": "2c1b10c9-6e4e-4f0d-a230-165858156cf8",
   "metadata": {},
   "outputs": [
    {
     "data": {
      "text/plain": [
       "2"
      ]
     },
     "execution_count": 35,
     "metadata": {},
     "output_type": "execute_result"
    }
   ],
   "source": [
    "next(fs)"
   ]
  },
  {
   "cell_type": "code",
   "execution_count": 36,
   "id": "e4905c49-cca7-4cd6-91f4-2cb57989589f",
   "metadata": {},
   "outputs": [
    {
     "data": {
      "text/plain": [
       "3"
      ]
     },
     "execution_count": 36,
     "metadata": {},
     "output_type": "execute_result"
    }
   ],
   "source": [
    "next(fs)"
   ]
  },
  {
   "cell_type": "code",
   "execution_count": 37,
   "id": "9abeb2fa-fcef-42a5-b6e4-7f3a838343b2",
   "metadata": {},
   "outputs": [],
   "source": [
    "#-----------------------------------------------------------------------"
   ]
  },
  {
   "cell_type": "code",
   "execution_count": 40,
   "id": "933dff16-8e7f-4507-84c5-d9e1d910f6d6",
   "metadata": {},
   "outputs": [],
   "source": [
    "# Lambda fucntion >>  anonymous function\n",
    "# syntax\n",
    "# lambda arguments: expression >> no need of return statement"
   ]
  },
  {
   "cell_type": "code",
   "execution_count": 41,
   "id": "834b2737-bd16-40a4-9a53-8e09a916ff56",
   "metadata": {},
   "outputs": [
    {
     "data": {
      "text/plain": [
       "4"
      ]
     },
     "execution_count": 41,
     "metadata": {},
     "output_type": "execute_result"
    }
   ],
   "source": [
    "def square(x):\n",
    "    return x**2\n",
    "square(2)"
   ]
  },
  {
   "cell_type": "code",
   "execution_count": 42,
   "id": "56628c37-bfba-42b5-8755-c66db79790d1",
   "metadata": {},
   "outputs": [],
   "source": [
    "sq_lambda = lambda x : x**2"
   ]
  },
  {
   "cell_type": "code",
   "execution_count": 43,
   "id": "be94adf5-d9a8-452e-a20c-45ca614d4c9a",
   "metadata": {},
   "outputs": [],
   "source": [
    "add = lambda a, b : a + b"
   ]
  },
  {
   "cell_type": "code",
   "execution_count": 44,
   "id": "29b04e9d-0328-4a2d-b2c6-e69172c1de9e",
   "metadata": {},
   "outputs": [
    {
     "data": {
      "text/plain": [
       "11"
      ]
     },
     "execution_count": 44,
     "metadata": {},
     "output_type": "execute_result"
    }
   ],
   "source": [
    "add(4,7)"
   ]
  },
  {
   "cell_type": "code",
   "execution_count": 45,
   "id": "60589819-0f19-425b-aac4-0f715bf0a83f",
   "metadata": {},
   "outputs": [],
   "source": [
    "bIsEven = lambda x: x % 2 == 0"
   ]
  },
  {
   "cell_type": "code",
   "execution_count": 46,
   "id": "89d9a135-92ec-49b3-841e-13eb61968fd9",
   "metadata": {},
   "outputs": [
    {
     "data": {
      "text/plain": [
       "True"
      ]
     },
     "execution_count": 46,
     "metadata": {},
     "output_type": "execute_result"
    }
   ],
   "source": [
    "bIsEven(8)"
   ]
  },
  {
   "cell_type": "code",
   "execution_count": 47,
   "id": "7a984e76-3116-48dd-909c-ce1b503333f2",
   "metadata": {},
   "outputs": [
    {
     "data": {
      "text/plain": [
       "['Python', 'Data Science']"
      ]
     },
     "execution_count": 47,
     "metadata": {},
     "output_type": "execute_result"
    }
   ],
   "source": [
    "x = [\"Python\",\"Data Science\"]\n",
    "x"
   ]
  },
  {
   "cell_type": "code",
   "execution_count": 48,
   "id": "1e300e6c-96d1-461c-9116-cafd1f6672c9",
   "metadata": {},
   "outputs": [
    {
     "data": {
      "text/plain": [
       "['Data Science', 'Python']"
      ]
     },
     "execution_count": 48,
     "metadata": {},
     "output_type": "execute_result"
    }
   ],
   "source": [
    "sorted(x)"
   ]
  },
  {
   "cell_type": "code",
   "execution_count": 49,
   "id": "b4ce3f28-ac9a-4efb-b821-3f14ae7d1062",
   "metadata": {},
   "outputs": [
    {
     "data": {
      "text/plain": [
       "5"
      ]
     },
     "execution_count": 49,
     "metadata": {},
     "output_type": "execute_result"
    }
   ],
   "source": [
    "# sort the list based on element of list\n",
    "le = lambda x : len(x) \n",
    "le(\"Awoll\")"
   ]
  },
  {
   "cell_type": "code",
   "execution_count": 50,
   "id": "f3d2d46b-29af-496b-82d1-85755730af90",
   "metadata": {},
   "outputs": [
    {
     "data": {
      "text/plain": [
       "['Python', 'Data Science']"
      ]
     },
     "execution_count": 50,
     "metadata": {},
     "output_type": "execute_result"
    }
   ],
   "source": [
    "sorted(x, key = lambda x : len(x))"
   ]
  },
  {
   "cell_type": "code",
   "execution_count": 57,
   "id": "199adade-9beb-4b60-9776-1c6d8463bf44",
   "metadata": {},
   "outputs": [
    {
     "data": {
      "text/plain": [
       "[0, 1, 1, 2, 3, 5, 8, 13, 21, 34]"
      ]
     },
     "execution_count": 57,
     "metadata": {},
     "output_type": "execute_result"
    }
   ],
   "source": [
    "fib = lambda n: n if n<=1 else fib(n - 1) + fib(n - 2)\n",
    "[fib(i) for i in range(10)]"
   ]
  },
  {
   "cell_type": "code",
   "execution_count": 58,
   "id": "9089e0d7-2985-45c1-9a88-da3d7e4b80b8",
   "metadata": {},
   "outputs": [],
   "source": [
    "# factorial of 5 or 5!"
   ]
  },
  {
   "cell_type": "code",
   "execution_count": 62,
   "id": "cb8e6e05-d3ce-4724-b59b-d82dae20f4be",
   "metadata": {},
   "outputs": [],
   "source": [
    "def fact(n):\n",
    "    if n == 0:\n",
    "        return 1\n",
    "    else:\n",
    "        return n* fact_n(n-1)"
   ]
  },
  {
   "cell_type": "code",
   "execution_count": 64,
   "id": "4f4ef412-3400-4b04-904b-69396421e732",
   "metadata": {},
   "outputs": [
    {
     "data": {
      "text/plain": [
       "120"
      ]
     },
     "execution_count": 64,
     "metadata": {},
     "output_type": "execute_result"
    }
   ],
   "source": [
    "fact(5)"
   ]
  },
  {
   "cell_type": "code",
   "execution_count": 65,
   "id": "912a8340-ed7a-4830-ab64-0e15c939be3e",
   "metadata": {},
   "outputs": [
    {
     "data": {
      "text/plain": [
       "1"
      ]
     },
     "execution_count": 65,
     "metadata": {},
     "output_type": "execute_result"
    }
   ],
   "source": [
    "fact(0)"
   ]
  },
  {
   "cell_type": "code",
   "execution_count": 68,
   "id": "ca890e75-aa8c-452c-ad94-c2cb6dbf486b",
   "metadata": {},
   "outputs": [],
   "source": [
    "fact = lambda n : 1 if n == 0 else n * fact(n-1)"
   ]
  },
  {
   "cell_type": "code",
   "execution_count": 69,
   "id": "dbca7120-9fc2-4869-8e9d-604931c1104b",
   "metadata": {},
   "outputs": [
    {
     "data": {
      "text/plain": [
       "3628800"
      ]
     },
     "execution_count": 69,
     "metadata": {},
     "output_type": "execute_result"
    }
   ],
   "source": [
    "fact(10)"
   ]
  },
  {
   "cell_type": "code",
   "execution_count": 70,
   "id": "a8a598dc-9e1b-476a-b0f7-28318893e538",
   "metadata": {},
   "outputs": [],
   "source": [
    "# map >> executes a specified function for each item of an iterable\n",
    "# syntax >> map(func, *iterables)"
   ]
  },
  {
   "cell_type": "code",
   "execution_count": 71,
   "id": "cafdedbe-cde3-4deb-9d76-8863482d6ac3",
   "metadata": {},
   "outputs": [
    {
     "name": "stdout",
     "output_type": "stream",
     "text": [
      "Help on class map in module builtins:\n",
      "\n",
      "class map(object)\n",
      " |  map(func, *iterables) --> map object\n",
      " |\n",
      " |  Make an iterator that computes the function using arguments from\n",
      " |  each of the iterables.  Stops when the shortest iterable is exhausted.\n",
      " |\n",
      " |  Methods defined here:\n",
      " |\n",
      " |  __getattribute__(self, name, /)\n",
      " |      Return getattr(self, name).\n",
      " |\n",
      " |  __iter__(self, /)\n",
      " |      Implement iter(self).\n",
      " |\n",
      " |  __next__(self, /)\n",
      " |      Implement next(self).\n",
      " |\n",
      " |  __reduce__(...)\n",
      " |      Return state information for pickling.\n",
      " |\n",
      " |  ----------------------------------------------------------------------\n",
      " |  Static methods defined here:\n",
      " |\n",
      " |  __new__(*args, **kwargs)\n",
      " |      Create and return a new object.  See help(type) for accurate signature.\n",
      "\n"
     ]
    }
   ],
   "source": [
    "help(map)"
   ]
  },
  {
   "cell_type": "code",
   "execution_count": 72,
   "id": "61f9cbad-0491-431b-8ce1-43c5dfc39c03",
   "metadata": {},
   "outputs": [],
   "source": [
    "list1 = [1,2,3,4,5]\n",
    "def square(l):\n",
    "    sq = []\n",
    "    for i in l:\n",
    "        sq.append(i**2)\n",
    "    return sq"
   ]
  },
  {
   "cell_type": "code",
   "execution_count": 76,
   "id": "d37bbc84-6655-47bc-8f3f-d79800c0736a",
   "metadata": {},
   "outputs": [
    {
     "data": {
      "text/plain": [
       "[1, 4, 9, 16, 25]"
      ]
     },
     "execution_count": 76,
     "metadata": {},
     "output_type": "execute_result"
    }
   ],
   "source": [
    "square(list1)    # WITHOUT MAPPING"
   ]
  },
  {
   "cell_type": "code",
   "execution_count": 80,
   "id": "4bc25651-677e-42d1-9bb5-f8b959569d34",
   "metadata": {},
   "outputs": [],
   "source": [
    "def sq(x): return x**2"
   ]
  },
  {
   "cell_type": "code",
   "execution_count": 82,
   "id": "372790b5-e47b-43b0-921b-b840ccef2b53",
   "metadata": {},
   "outputs": [
    {
     "data": {
      "text/plain": [
       "[1, 2, 3, 4, 5]"
      ]
     },
     "execution_count": 82,
     "metadata": {},
     "output_type": "execute_result"
    }
   ],
   "source": [
    "list1"
   ]
  },
  {
   "cell_type": "code",
   "execution_count": 85,
   "id": "2d0980f4-4ca4-42da-8114-00599c6b3cc8",
   "metadata": {},
   "outputs": [
    {
     "data": {
      "text/plain": [
       "<map at 0x1ca1bb39870>"
      ]
     },
     "execution_count": 85,
     "metadata": {},
     "output_type": "execute_result"
    }
   ],
   "source": [
    "# map(func,iterable)\n",
    "map(sq,list1)    # so it takes the iterating value as input to the function !"
   ]
  },
  {
   "cell_type": "code",
   "execution_count": 86,
   "id": "fa62b756-146b-45f8-b18d-9efbc5b6b0d5",
   "metadata": {},
   "outputs": [
    {
     "data": {
      "text/plain": [
       "[1, 4, 9, 16, 25]"
      ]
     },
     "execution_count": 86,
     "metadata": {},
     "output_type": "execute_result"
    }
   ],
   "source": [
    "list(map(sq,list1))"
   ]
  },
  {
   "cell_type": "code",
   "execution_count": 92,
   "id": "f225aa6b-4c8c-4d10-9d85-20ebb8c38a1e",
   "metadata": {},
   "outputs": [],
   "source": [
    "mod = lambda n: n if n > 0 else -n "
   ]
  },
  {
   "cell_type": "code",
   "execution_count": 94,
   "id": "688d7abe-e8ea-4642-9124-4b3c063c1296",
   "metadata": {},
   "outputs": [
    {
     "data": {
      "text/plain": [
       "<map at 0x1ca1b8bd270>"
      ]
     },
     "execution_count": 94,
     "metadata": {},
     "output_type": "execute_result"
    }
   ],
   "source": [
    "Num_list = [ -1, -55, -67, -88 , 89, -1000]\n",
    "map(mod,Num_list)"
   ]
  },
  {
   "cell_type": "code",
   "execution_count": 95,
   "id": "d9694714-9ac2-438a-8ba9-c0552b41d22f",
   "metadata": {
    "collapsed": true,
    "jupyter": {
     "outputs_hidden": true
    }
   },
   "outputs": [
    {
     "data": {
      "text/plain": [
       "[1, 55, 67, 88, 89, 1000]"
      ]
     },
     "execution_count": 95,
     "metadata": {},
     "output_type": "execute_result"
    }
   ],
   "source": [
    "list(map(mod,Num_list))"
   ]
  },
  {
   "cell_type": "code",
   "execution_count": 96,
   "id": "6dd7c0c7-42e8-446e-8ee8-a21618318f16",
   "metadata": {},
   "outputs": [],
   "source": [
    "# lambda arguments: expression"
   ]
  },
  {
   "cell_type": "code",
   "execution_count": 3,
   "id": "81b4d132-6c3b-4d71-8629-6a73e3b20105",
   "metadata": {},
   "outputs": [
    {
     "data": {
      "text/plain": [
       "[1, 4, 9, 16, 25]"
      ]
     },
     "execution_count": 3,
     "metadata": {},
     "output_type": "execute_result"
    }
   ],
   "source": [
    "list1 = [1,2,3,4,5]\n",
    "list(map(lambda x: x**2,list1))"
   ]
  },
  {
   "cell_type": "code",
   "execution_count": 6,
   "id": "5fc98eba-189b-40f8-9524-3c4be8356830",
   "metadata": {},
   "outputs": [
    {
     "data": {
      "text/plain": [
       "[1, 2, 3, 4]"
      ]
     },
     "execution_count": 6,
     "metadata": {},
     "output_type": "execute_result"
    }
   ],
   "source": [
    "l = [\"1\",\"2\",\"3\",\"4\"]\n",
    "list(map(lambda x: int(x), l))"
   ]
  },
  {
   "cell_type": "code",
   "execution_count": 7,
   "id": "b1283a96-a987-43db-9df4-9eb31ebb5177",
   "metadata": {},
   "outputs": [
    {
     "data": {
      "text/plain": [
       "[101, 202, 303, 404]"
      ]
     },
     "execution_count": 7,
     "metadata": {},
     "output_type": "execute_result"
    }
   ],
   "source": [
    "l1 = [100,200,300,400]\n",
    "l2 = [1,2,3,4]\n",
    "list(map(lambda x,y : x + y, l1,l2))"
   ]
  },
  {
   "cell_type": "code",
   "execution_count": 9,
   "id": "9314e1b2-6c70-4af2-b4ff-643eaa9d678d",
   "metadata": {},
   "outputs": [
    {
     "data": {
      "text/plain": [
       "['L',\n",
       " 'O',\n",
       " 'N',\n",
       " 'E',\n",
       " 'L',\n",
       " 'Y',\n",
       " 'I',\n",
       " 'S',\n",
       " 'T',\n",
       " 'H',\n",
       " 'E',\n",
       " 'N',\n",
       " 'I',\n",
       " 'G',\n",
       " 'H',\n",
       " 'T']"
      ]
     },
     "execution_count": 9,
     "metadata": {},
     "output_type": "execute_result"
    }
   ],
   "source": [
    "s = \"lonelyisthenight\"\n",
    "list(map(lambda x : x.upper(),s))"
   ]
  },
  {
   "cell_type": "code",
   "execution_count": 13,
   "id": "f4b912de-77b9-49e0-a1da-08e42d3e58e7",
   "metadata": {},
   "outputs": [
    {
     "data": {
      "text/plain": [
       "[8, 7, 5, 5]"
      ]
     },
     "execution_count": 13,
     "metadata": {},
     "output_type": "execute_result"
    }
   ],
   "source": [
    "grades = [\"A\",\"B\",\"C\",\"D\"]\n",
    "list(map(lambda grade : 8 if grade == \"A\" else(7 if grade == \"B\" else 5), grades))"
   ]
  },
  {
   "cell_type": "code",
   "execution_count": 26,
   "id": "0fd5444d-55ef-4679-95a8-732ecbaba27e",
   "metadata": {},
   "outputs": [],
   "source": [
    "# reduce >> folding/reduction\n",
    "#syntax >> reduce(func,iterable)\n",
    "\"\"\"\n",
    "It’s used to apply a given function to the elements of an iterable, \n",
    "reducing them to a single cumulative value.\n",
    "Think of it as a magical spell that combines elements step by step.\n",
    "# It will always take two arguments only\n",
    "\"\"\"\n",
    "from functools import reduce\n"
   ]
  },
  {
   "cell_type": "code",
   "execution_count": 27,
   "id": "d56c9040-7c6d-41aa-848a-d8db566b8bf8",
   "metadata": {},
   "outputs": [
    {
     "data": {
      "text/plain": [
       "21"
      ]
     },
     "execution_count": 27,
     "metadata": {},
     "output_type": "execute_result"
    }
   ],
   "source": [
    "l = [1,2,3,4,5,6]\n",
    "reduce(lambda x,y : x + y , l)"
   ]
  },
  {
   "cell_type": "code",
   "execution_count": 32,
   "id": "fdc9d206-1910-425c-b959-6b01d9c06f5f",
   "metadata": {},
   "outputs": [
    {
     "ename": "TypeError",
     "evalue": "<lambda>() missing 1 required positional argument: 'z'",
     "output_type": "error",
     "traceback": [
      "\u001b[1;31m---------------------------------------------------------------------------\u001b[0m",
      "\u001b[1;31mTypeError\u001b[0m                                 Traceback (most recent call last)",
      "Cell \u001b[1;32mIn[32], line 2\u001b[0m\n\u001b[0;32m      1\u001b[0m l \u001b[38;5;241m=\u001b[39m [\u001b[38;5;241m1\u001b[39m,\u001b[38;5;241m2\u001b[39m,\u001b[38;5;241m3\u001b[39m,\u001b[38;5;241m4\u001b[39m,\u001b[38;5;241m5\u001b[39m,\u001b[38;5;241m5\u001b[39m,\u001b[38;5;241m2\u001b[39m,\u001b[38;5;241m65\u001b[39m,\u001b[38;5;241m2\u001b[39m]\n\u001b[1;32m----> 2\u001b[0m \u001b[43mreduce\u001b[49m\u001b[43m(\u001b[49m\u001b[38;5;28;43;01mlambda\u001b[39;49;00m\u001b[43m \u001b[49m\u001b[43mx\u001b[49m\u001b[43m,\u001b[49m\u001b[43my\u001b[49m\u001b[43m,\u001b[49m\u001b[43mz\u001b[49m\u001b[43m \u001b[49m\u001b[43m:\u001b[49m\u001b[43m \u001b[49m\u001b[43mx\u001b[49m\u001b[43m \u001b[49m\u001b[38;5;241;43m+\u001b[39;49m\u001b[43m \u001b[49m\u001b[43my\u001b[49m\u001b[43m \u001b[49m\u001b[38;5;241;43m+\u001b[39;49m\u001b[43m \u001b[49m\u001b[43mz\u001b[49m\u001b[43m \u001b[49m\u001b[43m,\u001b[49m\u001b[43m \u001b[49m\u001b[43ml\u001b[49m\u001b[43m)\u001b[49m\n",
      "\u001b[1;31mTypeError\u001b[0m: <lambda>() missing 1 required positional argument: 'z'"
     ]
    }
   ],
   "source": [
    "l = [1,2,3,4,5,5,2,65,2]\n",
    "reduce(lambda x,y,z : x + y + z , l)"
   ]
  },
  {
   "cell_type": "code",
   "execution_count": 33,
   "id": "873d35c8-12a7-4fa1-9620-c3403bd69fae",
   "metadata": {},
   "outputs": [
    {
     "data": {
      "text/plain": [
       "720"
      ]
     },
     "execution_count": 33,
     "metadata": {},
     "output_type": "execute_result"
    }
   ],
   "source": [
    "l = [1,2,3,4,5,6]\n",
    "reduce(lambda x,y : x * y , l)"
   ]
  },
  {
   "cell_type": "code",
   "execution_count": 34,
   "id": "c5cef740-f90d-440a-a073-d9237f17e04c",
   "metadata": {},
   "outputs": [
    {
     "data": {
      "text/plain": [
       "-19"
      ]
     },
     "execution_count": 34,
     "metadata": {},
     "output_type": "execute_result"
    }
   ],
   "source": [
    "l = [1,2,3,4,5,6]\n",
    "reduce(lambda x,y : x - y , l)"
   ]
  },
  {
   "cell_type": "code",
   "execution_count": 35,
   "id": "a3ff94d2-9d13-4d14-904d-8118f0e6eaff",
   "metadata": {},
   "outputs": [
    {
     "data": {
      "text/plain": [
       "1"
      ]
     },
     "execution_count": 35,
     "metadata": {},
     "output_type": "execute_result"
    }
   ],
   "source": [
    "l = [1,2,3,4,5,6]\n",
    "reduce(lambda x,y : x % y , l)"
   ]
  },
  {
   "cell_type": "code",
   "execution_count": 36,
   "id": "27401622-68d5-4e60-bebd-8f698b87dc93",
   "metadata": {},
   "outputs": [
    {
     "data": {
      "text/plain": [
       "1"
      ]
     },
     "execution_count": 36,
     "metadata": {},
     "output_type": "execute_result"
    }
   ],
   "source": [
    "l = [1,2,3,4,5,6]\n",
    "reduce(lambda x,y : x ** y , l)"
   ]
  },
  {
   "cell_type": "code",
   "execution_count": 37,
   "id": "1a91077d-18c2-40f3-aeef-69bf622b2722",
   "metadata": {},
   "outputs": [
    {
     "data": {
      "text/plain": [
       "0"
      ]
     },
     "execution_count": 37,
     "metadata": {},
     "output_type": "execute_result"
    }
   ],
   "source": [
    "l = [1,2,3,4,5,6]\n",
    "reduce(lambda x,y : x // y , l)"
   ]
  },
  {
   "cell_type": "code",
   "execution_count": 42,
   "id": "c569d82a-4c1f-4025-be43-a4e5e21a7317",
   "metadata": {},
   "outputs": [
    {
     "data": {
      "text/plain": [
       "'Data Science course'"
      ]
     },
     "execution_count": 42,
     "metadata": {},
     "output_type": "execute_result"
    }
   ],
   "source": [
    "l1 = [\"Data\",\"Science\",\"course\"]\n",
    "reduce(lambda x,y : x + \" \" + y , l1)"
   ]
  },
  {
   "cell_type": "code",
   "execution_count": 45,
   "id": "e5a72de4-6674-497c-af07-3cc8f335341a",
   "metadata": {},
   "outputs": [
    {
     "data": {
      "text/plain": [
       "2000"
      ]
     },
     "execution_count": 45,
     "metadata": {},
     "output_type": "execute_result"
    }
   ],
   "source": [
    "num = [1,2,3,4,4,2000,5,6,100]\n",
    "reduce(lambda x,y : x if x > y else y, num)"
   ]
  },
  {
   "cell_type": "code",
   "execution_count": 47,
   "id": "e96fa346-0d44-44d1-b62e-1e249178a6eb",
   "metadata": {},
   "outputs": [],
   "source": [
    "def factorial(n):\n",
    "    return reduce(lambda x , y : x *y ,range ( 1, n+1))"
   ]
  },
  {
   "cell_type": "code",
   "execution_count": 48,
   "id": "9d0f8386-dd6d-41d5-b6df-679c7fe617bc",
   "metadata": {},
   "outputs": [
    {
     "data": {
      "text/plain": [
       "3628800"
      ]
     },
     "execution_count": 48,
     "metadata": {},
     "output_type": "execute_result"
    }
   ],
   "source": [
    "factorial(10)"
   ]
  },
  {
   "cell_type": "code",
   "execution_count": 49,
   "id": "85811534-a85b-4f1e-a161-8be7cb2edc18",
   "metadata": {},
   "outputs": [],
   "source": [
    "# filter function >> used  to filter elements from an iterable based on some condition\n",
    "# syntax >> filter(function,iterable)\n",
    "#"
   ]
  },
  {
   "cell_type": "code",
   "execution_count": 51,
   "id": "a51ebc04-8eb6-4f55-814f-a75f2891b58b",
   "metadata": {},
   "outputs": [
    {
     "data": {
      "text/plain": [
       "[1, 2, 3, 4, 5, 6]"
      ]
     },
     "execution_count": 51,
     "metadata": {},
     "output_type": "execute_result"
    }
   ],
   "source": [
    "l"
   ]
  },
  {
   "cell_type": "code",
   "execution_count": 52,
   "id": "837fb153-0673-4270-82a0-652182b05f24",
   "metadata": {},
   "outputs": [
    {
     "data": {
      "text/plain": [
       "[2, 4, 6]"
      ]
     },
     "execution_count": 52,
     "metadata": {},
     "output_type": "execute_result"
    }
   ],
   "source": [
    "list(filter(lambda x : x % 2 == 0 , l))"
   ]
  },
  {
   "cell_type": "code",
   "execution_count": 53,
   "id": "1f73aa98-d1fa-4098-900d-9b1524d8a881",
   "metadata": {},
   "outputs": [
    {
     "data": {
      "text/plain": [
       "[1, 3, 5]"
      ]
     },
     "execution_count": 53,
     "metadata": {},
     "output_type": "execute_result"
    }
   ],
   "source": [
    "list(filter(lambda x : x % 2 != 0 , l))"
   ]
  },
  {
   "cell_type": "code",
   "execution_count": 54,
   "id": "783dbd01-78a5-4ed5-8f17-158ccb081f16",
   "metadata": {},
   "outputs": [
    {
     "data": {
      "text/plain": [
       "'\\nfilter() is the gatekeeper, allowing only worthy elements to pass.\\nreduce() is the alchemist, distilling a single value from a sequence.\\n\\n'"
      ]
     },
     "execution_count": 54,
     "metadata": {},
     "output_type": "execute_result"
    }
   ],
   "source": [
    "\"\"\"\n",
    "filter() is the gatekeeper, allowing only worthy elements to pass.\n",
    "reduce() is the alchemist, distilling a single value from a sequence.\n",
    "\n",
    "\"\"\""
   ]
  },
  {
   "cell_type": "code",
   "execution_count": 55,
   "id": "2997f73b-8f1c-455e-82f7-6a5b99d1fab8",
   "metadata": {},
   "outputs": [
    {
     "data": {
      "text/plain": [
       "113"
      ]
     },
     "execution_count": 55,
     "metadata": {},
     "output_type": "execute_result"
    }
   ],
   "source": [
    "l = [47,11,42,13]\n",
    "reduce(lambda x, y: x + y , l)\n"
   ]
  },
  {
   "cell_type": "code",
   "execution_count": null,
   "id": "3dc9a3e2-fc84-4e98-9cb8-462a0dcc32e8",
   "metadata": {},
   "outputs": [],
   "source": []
  }
 ],
 "metadata": {
  "kernelspec": {
   "display_name": "Python 3 (ipykernel)",
   "language": "python",
   "name": "python3"
  },
  "language_info": {
   "codemirror_mode": {
    "name": "ipython",
    "version": 3
   },
   "file_extension": ".py",
   "mimetype": "text/x-python",
   "name": "python",
   "nbconvert_exporter": "python",
   "pygments_lexer": "ipython3",
   "version": "3.12.4"
  }
 },
 "nbformat": 4,
 "nbformat_minor": 5
}
