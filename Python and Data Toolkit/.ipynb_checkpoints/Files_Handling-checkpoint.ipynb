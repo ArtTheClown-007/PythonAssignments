{
 "cells": [
  {
   "cell_type": "raw",
   "id": "c35fd81c-6b38-44fb-b855-fd6a84553ce6",
   "metadata": {},
   "source": [
    "Modes for open function \n",
    "'r'       open for reading (default)\n",
    "'w'       open for writing, truncating the file first\n",
    "'x'       create a new file and open it for writing\n",
    "'a'       open for writing, appending to the end of the file if it exists\n",
    "'b'       binary mode\n",
    "'t'       text mode (default)\n",
    "'+'       open a disk file for updating (reading and writing)\n",
    "'r+'      reading and writing"
   ]
  },
  {
   "cell_type": "code",
   "execution_count": 3,
   "id": "12ebf57f-b115-4128-bd6c-b2650adde490",
   "metadata": {},
   "outputs": [
    {
     "ename": "FileNotFoundError",
     "evalue": "[Errno 2] No such file or directory: 'files.txt'",
     "output_type": "error",
     "traceback": [
      "\u001b[1;31m---------------------------------------------------------------------------\u001b[0m",
      "\u001b[1;31mFileNotFoundError\u001b[0m                         Traceback (most recent call last)",
      "Cell \u001b[1;32mIn[3], line 1\u001b[0m\n\u001b[1;32m----> 1\u001b[0m \u001b[38;5;28;43mopen\u001b[39;49m\u001b[43m(\u001b[49m\u001b[38;5;124;43m\"\u001b[39;49m\u001b[38;5;124;43mfiles.txt\u001b[39;49m\u001b[38;5;124;43m\"\u001b[39;49m\u001b[43m,\u001b[49m\u001b[43m \u001b[49m\u001b[38;5;124;43m'\u001b[39;49m\u001b[38;5;124;43mr\u001b[39;49m\u001b[38;5;124;43m'\u001b[39;49m\u001b[43m)\u001b[49m \u001b[38;5;66;03m# if there is no such file, it will throw an error\u001b[39;00m\n",
      "File \u001b[1;32mD:\\PythonAssignments\\Python_Basics\\PythonAssignment\\.venv\\Lib\\site-packages\\IPython\\core\\interactiveshell.py:324\u001b[0m, in \u001b[0;36m_modified_open\u001b[1;34m(file, *args, **kwargs)\u001b[0m\n\u001b[0;32m    317\u001b[0m \u001b[38;5;28;01mif\u001b[39;00m file \u001b[38;5;129;01min\u001b[39;00m {\u001b[38;5;241m0\u001b[39m, \u001b[38;5;241m1\u001b[39m, \u001b[38;5;241m2\u001b[39m}:\n\u001b[0;32m    318\u001b[0m     \u001b[38;5;28;01mraise\u001b[39;00m \u001b[38;5;167;01mValueError\u001b[39;00m(\n\u001b[0;32m    319\u001b[0m         \u001b[38;5;124mf\u001b[39m\u001b[38;5;124m\"\u001b[39m\u001b[38;5;124mIPython won\u001b[39m\u001b[38;5;124m'\u001b[39m\u001b[38;5;124mt let you open fd=\u001b[39m\u001b[38;5;132;01m{\u001b[39;00mfile\u001b[38;5;132;01m}\u001b[39;00m\u001b[38;5;124m by default \u001b[39m\u001b[38;5;124m\"\u001b[39m\n\u001b[0;32m    320\u001b[0m         \u001b[38;5;124m\"\u001b[39m\u001b[38;5;124mas it is likely to crash IPython. If you know what you are doing, \u001b[39m\u001b[38;5;124m\"\u001b[39m\n\u001b[0;32m    321\u001b[0m         \u001b[38;5;124m\"\u001b[39m\u001b[38;5;124myou can use builtins\u001b[39m\u001b[38;5;124m'\u001b[39m\u001b[38;5;124m open.\u001b[39m\u001b[38;5;124m\"\u001b[39m\n\u001b[0;32m    322\u001b[0m     )\n\u001b[1;32m--> 324\u001b[0m \u001b[38;5;28;01mreturn\u001b[39;00m \u001b[43mio_open\u001b[49m\u001b[43m(\u001b[49m\u001b[43mfile\u001b[49m\u001b[43m,\u001b[49m\u001b[43m \u001b[49m\u001b[38;5;241;43m*\u001b[39;49m\u001b[43margs\u001b[49m\u001b[43m,\u001b[49m\u001b[43m \u001b[49m\u001b[38;5;241;43m*\u001b[39;49m\u001b[38;5;241;43m*\u001b[39;49m\u001b[43mkwargs\u001b[49m\u001b[43m)\u001b[49m\n",
      "\u001b[1;31mFileNotFoundError\u001b[0m: [Errno 2] No such file or directory: 'files.txt'"
     ]
    }
   ],
   "source": [
    "open(\"files.txt\", 'r') # if there is no such file, it will throw an error"
   ]
  },
  {
   "cell_type": "code",
   "execution_count": 4,
   "id": "a6a2f8b2-e824-44a4-b9d6-752859fefff5",
   "metadata": {},
   "outputs": [],
   "source": [
    "file = open(\"file.txt\",\"w\") # w for write mode. it will create a file if file is not present \n",
    "# and read it "
   ]
  },
  {
   "cell_type": "code",
   "execution_count": 5,
   "id": "96def711-1ade-4275-902f-2a9b912b646d",
   "metadata": {},
   "outputs": [
    {
     "data": {
      "text/plain": [
       "47"
      ]
     },
     "execution_count": 5,
     "metadata": {},
     "output_type": "execute_result"
    }
   ],
   "source": [
    "file.write(\"Hello World, this is the first line in this doc\")\n",
    "# number below is the no of bytes written"
   ]
  },
  {
   "cell_type": "code",
   "execution_count": 6,
   "id": "8d9f32f3-4c7a-41fd-891e-5a338ad9754d",
   "metadata": {},
   "outputs": [],
   "source": [
    "# As of now, if we open the written file we don't see any changes and it is empty\n",
    "# To see you have to close the file"
   ]
  },
  {
   "cell_type": "code",
   "execution_count": 7,
   "id": "0cc49df9-6be7-4b93-9392-8db46e549ffc",
   "metadata": {},
   "outputs": [],
   "source": [
    "file.close()"
   ]
  },
  {
   "cell_type": "code",
   "execution_count": 8,
   "id": "0ad3540a-7b37-4436-a631-cdf2f69ca2a2",
   "metadata": {},
   "outputs": [
    {
     "data": {
      "text/plain": [
       "<_io.TextIOWrapper name='file.txt' mode='w' encoding='cp1252'>"
      ]
     },
     "execution_count": 8,
     "metadata": {},
     "output_type": "execute_result"
    }
   ],
   "source": [
    "file"
   ]
  },
  {
   "cell_type": "code",
   "execution_count": 9,
   "id": "f0689f47-9e95-4b60-b5b9-21a274d208c1",
   "metadata": {},
   "outputs": [
    {
     "data": {
      "text/plain": [
       "True"
      ]
     },
     "execution_count": 9,
     "metadata": {},
     "output_type": "execute_result"
    }
   ],
   "source": [
    "# file attributes\n",
    "file.closed"
   ]
  },
  {
   "cell_type": "code",
   "execution_count": 10,
   "id": "2924f0bd-224e-42e7-a0c9-c91b55783353",
   "metadata": {},
   "outputs": [],
   "source": [
    "file = open(\"file.txt\",'r')"
   ]
  },
  {
   "cell_type": "code",
   "execution_count": 11,
   "id": "c355953e-0fc7-4163-ad19-b7b68e354ec4",
   "metadata": {},
   "outputs": [
    {
     "data": {
      "text/plain": [
       "False"
      ]
     },
     "execution_count": 11,
     "metadata": {},
     "output_type": "execute_result"
    }
   ],
   "source": [
    "file.closed # checks if file is closed or not"
   ]
  },
  {
   "cell_type": "code",
   "execution_count": 12,
   "id": "266b5aa7-54b2-4f72-8b80-50bd952bcf06",
   "metadata": {},
   "outputs": [],
   "source": [
    "file.close()"
   ]
  },
  {
   "cell_type": "code",
   "execution_count": 13,
   "id": "e6c0dd40-9ea3-4d91-a22f-bde38606124d",
   "metadata": {},
   "outputs": [
    {
     "data": {
      "text/plain": [
       "True"
      ]
     },
     "execution_count": 13,
     "metadata": {},
     "output_type": "execute_result"
    }
   ],
   "source": [
    "file.closed"
   ]
  },
  {
   "cell_type": "code",
   "execution_count": 14,
   "id": "9b84b836-1d98-4645-ad74-7c47d17758d7",
   "metadata": {},
   "outputs": [
    {
     "data": {
      "text/plain": [
       "'file.txt'"
      ]
     },
     "execution_count": 14,
     "metadata": {},
     "output_type": "execute_result"
    }
   ],
   "source": [
    "file.name"
   ]
  },
  {
   "cell_type": "code",
   "execution_count": 15,
   "id": "4f219513-a914-4ce2-b79d-80c949df49f5",
   "metadata": {},
   "outputs": [
    {
     "data": {
      "text/plain": [
       "'r'"
      ]
     },
     "execution_count": 15,
     "metadata": {},
     "output_type": "execute_result"
    }
   ],
   "source": [
    "file.mode"
   ]
  },
  {
   "cell_type": "code",
   "execution_count": 16,
   "id": "c355dc6c-fc56-4657-a24b-0fbbae9ed0d6",
   "metadata": {},
   "outputs": [
    {
     "ename": "ValueError",
     "evalue": "I/O operation on closed file.",
     "output_type": "error",
     "traceback": [
      "\u001b[1;31m---------------------------------------------------------------------------\u001b[0m",
      "\u001b[1;31mValueError\u001b[0m                                Traceback (most recent call last)",
      "Cell \u001b[1;32mIn[16], line 1\u001b[0m\n\u001b[1;32m----> 1\u001b[0m \u001b[43mfile\u001b[49m\u001b[38;5;241;43m.\u001b[39;49m\u001b[43mwrite\u001b[49m\u001b[43m(\u001b[49m\u001b[38;5;124;43m\"\u001b[39;49m\u001b[38;5;124;43mThis is my second line\u001b[39;49m\u001b[38;5;124;43m\"\u001b[39;49m\u001b[43m)\u001b[49m\n\u001b[0;32m      2\u001b[0m \u001b[38;5;66;03m# Operation on closed file is not allowed\u001b[39;00m\n",
      "\u001b[1;31mValueError\u001b[0m: I/O operation on closed file."
     ]
    }
   ],
   "source": [
    "file.write(\"This is my second line\")\n",
    "# Operation on closed file is not allowed"
   ]
  },
  {
   "cell_type": "code",
   "execution_count": 17,
   "id": "ee316ef8-c876-46f2-a769-4b26e6efe568",
   "metadata": {},
   "outputs": [],
   "source": [
    "file = open(\"file.txt\",\"w\")\n",
    "# it will truncate(delete) all earlier contenet and make a fresh text file"
   ]
  },
  {
   "cell_type": "code",
   "execution_count": 18,
   "id": "2bd7dadd-3524-4b3e-8067-8af83628b322",
   "metadata": {},
   "outputs": [],
   "source": [
    "file.close()"
   ]
  },
  {
   "cell_type": "code",
   "execution_count": 19,
   "id": "3209df2f-5ab8-43fb-8a85-e9be93019dc8",
   "metadata": {},
   "outputs": [],
   "source": [
    "file = open(\"file.txt\",\"w\")\n",
    "file.write(\"1st line\\n\")\n",
    "file.write(\"2st line\\n\")\n",
    "file.write(\"3st line\\n\")\n",
    "file.write(\"4st line\\n\")\n",
    "file.write(\"5st line\\n\")\n",
    "file.write(\"6st line\")\n",
    "file.close()"
   ]
  },
  {
   "cell_type": "code",
   "execution_count": 20,
   "id": "7965e37b-5b32-4eb6-a2d8-0809d47d3030",
   "metadata": {},
   "outputs": [],
   "source": [
    "file = open(\"file.txt\",\"w\")\n",
    "file.write(\"This is the 7th line\\n\") # all earlier content will be deleted\n",
    "file.close()"
   ]
  },
  {
   "cell_type": "code",
   "execution_count": 21,
   "id": "8591904a-5d3c-48f1-a975-abaac50bd4d8",
   "metadata": {},
   "outputs": [],
   "source": [
    "file = open(\"file.txt\",\"a\") # append the new line\n",
    "file.write(\"This is the 8th line\")\n",
    "file.close()"
   ]
  },
  {
   "cell_type": "code",
   "execution_count": 22,
   "id": "e030f8ed-242a-4f86-8356-19006420b0bb",
   "metadata": {},
   "outputs": [],
   "source": [
    "# Summary:\n",
    "# You open a file\n",
    "# You write text to it\n",
    "# You close it to see the results"
   ]
  },
  {
   "cell_type": "code",
   "execution_count": 23,
   "id": "73840ff5-0934-4828-8091-25742f1189cf",
   "metadata": {},
   "outputs": [],
   "source": [
    "file = open(\"file.txt\",'r') # open in read mode"
   ]
  },
  {
   "cell_type": "code",
   "execution_count": 24,
   "id": "bf96f3ff-3cf5-4880-a6b4-f2f9f1475f05",
   "metadata": {},
   "outputs": [
    {
     "name": "stdout",
     "output_type": "stream",
     "text": [
      "This is the 7th line\n",
      "\n",
      "This is the 8th line\n"
     ]
    }
   ],
   "source": [
    "for i in file:\n",
    "    print(i)"
   ]
  },
  {
   "cell_type": "code",
   "execution_count": 25,
   "id": "c6063256-3459-4fc9-8321-f0aad6537568",
   "metadata": {},
   "outputs": [
    {
     "name": "stdout",
     "output_type": "stream",
     "text": [
      "\n"
     ]
    }
   ],
   "source": [
    "print(file.read()) # here the cursor/pointer is at last position\n",
    "# thats why it returns empty string\n",
    "\n",
    "# file.close() # lets close it now"
   ]
  },
  {
   "cell_type": "code",
   "execution_count": 26,
   "id": "526bc016-afb3-4d18-bdce-1670b7d8fef1",
   "metadata": {},
   "outputs": [
    {
     "data": {
      "text/plain": [
       "42"
      ]
     },
     "execution_count": 26,
     "metadata": {},
     "output_type": "execute_result"
    }
   ],
   "source": [
    "file.tell() # tells the current position of the cursor"
   ]
  },
  {
   "cell_type": "code",
   "execution_count": 27,
   "id": "ea5eb241-300f-4205-a97a-57ab7821bd02",
   "metadata": {},
   "outputs": [
    {
     "data": {
      "text/plain": [
       "0"
      ]
     },
     "execution_count": 27,
     "metadata": {},
     "output_type": "execute_result"
    }
   ],
   "source": [
    "file.seek(0) # cursor is at 0th position now"
   ]
  },
  {
   "cell_type": "code",
   "execution_count": 28,
   "id": "13c3b366-b79a-49f5-a91f-a9711b33858d",
   "metadata": {},
   "outputs": [
    {
     "name": "stdout",
     "output_type": "stream",
     "text": [
      "This is the 7th line\n",
      "This is the 8th line\n"
     ]
    }
   ],
   "source": [
    "print(file.read())"
   ]
  },
  {
   "cell_type": "code",
   "execution_count": 29,
   "id": "47f621c5-86b7-4dd0-af01-75dd805e4d59",
   "metadata": {},
   "outputs": [
    {
     "name": "stdout",
     "output_type": "stream",
     "text": [
      "This is the 7th line\n",
      "\n"
     ]
    }
   ],
   "source": [
    "file.seek(0) # brings the cursor to 0th position\n",
    "print(file.readline()) # only reads the first line"
   ]
  },
  {
   "cell_type": "code",
   "execution_count": 30,
   "id": "2be3b185-ef38-477c-834c-47fd02f8bdc3",
   "metadata": {},
   "outputs": [
    {
     "name": "stdout",
     "output_type": "stream",
     "text": [
      "['This is the 7th line\\n', 'This is the 8th line']\n"
     ]
    }
   ],
   "source": [
    "file = open(\"file.txt\",'r')\n",
    "file.seek(0)\n",
    "print(file.readlines())"
   ]
  },
  {
   "cell_type": "code",
   "execution_count": 31,
   "id": "6f54679a-b676-41b9-bb84-e87e00f129c1",
   "metadata": {},
   "outputs": [],
   "source": [
    "import os"
   ]
  },
  {
   "cell_type": "code",
   "execution_count": 32,
   "id": "2bc4ee79-b880-438b-a408-a6b8c37ed5a3",
   "metadata": {},
   "outputs": [],
   "source": [
    "# present working directory"
   ]
  },
  {
   "cell_type": "code",
   "execution_count": 33,
   "id": "52c76c2f-152d-47e8-bfac-3b0c1d2cfbf5",
   "metadata": {},
   "outputs": [
    {
     "data": {
      "text/plain": [
       "'D:\\\\PythonAssignments\\\\Python_Basics\\\\PythonAssignment'"
      ]
     },
     "execution_count": 33,
     "metadata": {},
     "output_type": "execute_result"
    }
   ],
   "source": [
    "pwd  # without using os"
   ]
  },
  {
   "cell_type": "code",
   "execution_count": 34,
   "id": "4070675d-bace-4588-ae9d-ab7911197b6c",
   "metadata": {},
   "outputs": [
    {
     "data": {
      "text/plain": [
       "'D:\\\\PythonAssignments\\\\Python_Basics\\\\PythonAssignment'"
      ]
     },
     "execution_count": 34,
     "metadata": {},
     "output_type": "execute_result"
    }
   ],
   "source": [
    "os.getcwd() # cwd-> current working directory"
   ]
  },
  {
   "cell_type": "code",
   "execution_count": 35,
   "id": "75113ca1-f212-49d4-ac96-eb6773f45c61",
   "metadata": {},
   "outputs": [
    {
     "name": "stdout",
     "output_type": "stream",
     "text": [
      " Volume in drive D has no label.\n",
      " Volume Serial Number is ECAA-1B5C\n",
      "\n",
      " Directory of D:\\PythonAssignments\\Python_Basics\\PythonAssignment\n",
      "\n",
      "08/26/2024  12:44 PM    <DIR>          .\n",
      "08/19/2024  11:24 AM    <DIR>          ..\n",
      "08/26/2024  10:42 AM    <DIR>          .idea\n",
      "08/26/2024  11:51 AM    <DIR>          .ipynb_checkpoints\n",
      "07/31/2024  05:53 PM    <DIR>          .venv\n",
      "08/26/2024  11:41 AM    <DIR>          Assignments\n",
      "08/26/2024  12:44 PM    <DIR>          Corn\n",
      "08/13/2024  05:12 PM             8,610 FbLeagues.csv\n",
      "08/26/2024  12:45 PM                42 file.txt\n",
      "08/26/2024  12:38 PM                 0 file_test.txt\n",
      "08/26/2024  12:44 PM            26,973 Files_Handling.ipynb\n",
      "08/13/2024  04:47 PM           136,632 LUSID Excel - Setting up your market data.xlsx\n",
      "08/16/2024  07:59 PM         1,494,688 movie_metadata.csv\n",
      "08/26/2024  11:41 AM    <DIR>          Python and Data Toolkit\n",
      "07/31/2024  06:22 PM                27 README.md\n",
      "08/12/2024  10:35 PM            19,128 services.csv\n",
      "08/13/2024  04:53 PM            14,618 taxonomy.csv\n",
      "08/26/2024  12:32 PM    <DIR>          test\n",
      "08/25/2024  04:15 PM             6,480 test.html\n",
      "              10 File(s)      1,707,198 bytes\n",
      "               9 Dir(s)  191,219,351,552 bytes free\n"
     ]
    }
   ],
   "source": [
    "ls "
   ]
  },
  {
   "cell_type": "code",
   "execution_count": 36,
   "id": "31a71d0c-84a2-449d-89bf-7c2b415ea814",
   "metadata": {},
   "outputs": [],
   "source": [
    "# ls -> list the documents in the directory"
   ]
  },
  {
   "cell_type": "code",
   "execution_count": 37,
   "id": "4d3fef0d-2e61-47ca-acc3-94c908a93a3b",
   "metadata": {},
   "outputs": [
    {
     "data": {
      "text/plain": [
       "42"
      ]
     },
     "execution_count": 37,
     "metadata": {},
     "output_type": "execute_result"
    }
   ],
   "source": [
    "os.path.getsize('file.txt') # get file size"
   ]
  },
  {
   "cell_type": "code",
   "execution_count": 38,
   "id": "c64feca3-12a3-4900-acef-dea06cd3928f",
   "metadata": {},
   "outputs": [],
   "source": [
    "os.mkdir('Dir_Made_with_Python_cmd') # mkdir -> make directory"
   ]
  },
  {
   "cell_type": "code",
   "execution_count": 39,
   "id": "54edc4f2-146e-41a2-ae5c-5279c1304187",
   "metadata": {},
   "outputs": [],
   "source": [
    "os.mkdir('Dir_Made_with_Python_cmd/ cmd_1')\n",
    "# well I made the dir before \n",
    "# and now rexecution is just not possible"
   ]
  },
  {
   "cell_type": "code",
   "execution_count": 40,
   "id": "bb39f212-836a-4872-a9bd-743991ca9da3",
   "metadata": {},
   "outputs": [],
   "source": [
    "os.makedirs(\"1/2/3/4\")"
   ]
  },
  {
   "cell_type": "code",
   "execution_count": 41,
   "id": "292ef0ce-d200-4c5b-aca1-9302a25fac70",
   "metadata": {},
   "outputs": [
    {
     "data": {
      "text/plain": [
       "['.git',\n",
       " '.idea',\n",
       " '.ipynb_checkpoints',\n",
       " '.venv',\n",
       " '1',\n",
       " 'Assignments',\n",
       " 'Corn',\n",
       " 'Dir_Made_with_Python_cmd',\n",
       " 'FbLeagues.csv',\n",
       " 'file.txt',\n",
       " 'Files_Handling.ipynb',\n",
       " 'file_test.txt',\n",
       " 'LUSID Excel - Setting up your market data.xlsx',\n",
       " 'movie_metadata.csv',\n",
       " 'Python and Data Toolkit',\n",
       " 'README.md',\n",
       " 'services.csv',\n",
       " 'taxonomy.csv',\n",
       " 'test',\n",
       " 'test.html']"
      ]
     },
     "execution_count": 41,
     "metadata": {},
     "output_type": "execute_result"
    }
   ],
   "source": [
    "os.listdir() # lists the directory"
   ]
  },
  {
   "cell_type": "code",
   "execution_count": 42,
   "id": "c9926916-b5cc-47dc-bf41-e03add0de1a9",
   "metadata": {},
   "outputs": [
    {
     "ename": "FileExistsError",
     "evalue": "[WinError 183] Cannot create a file when that file already exists: 'Corn'",
     "output_type": "error",
     "traceback": [
      "\u001b[1;31m---------------------------------------------------------------------------\u001b[0m",
      "\u001b[1;31mFileExistsError\u001b[0m                           Traceback (most recent call last)",
      "Cell \u001b[1;32mIn[42], line 1\u001b[0m\n\u001b[1;32m----> 1\u001b[0m \u001b[43mos\u001b[49m\u001b[38;5;241;43m.\u001b[39;49m\u001b[43mmkdir\u001b[49m\u001b[43m(\u001b[49m\u001b[38;5;124;43m'\u001b[39;49m\u001b[38;5;124;43mCorn\u001b[39;49m\u001b[38;5;124;43m'\u001b[39;49m\u001b[43m)\u001b[49m\n",
      "\u001b[1;31mFileExistsError\u001b[0m: [WinError 183] Cannot create a file when that file already exists: 'Corn'"
     ]
    }
   ],
   "source": [
    "os.mkdir('Corn')"
   ]
  },
  {
   "cell_type": "code",
   "execution_count": 43,
   "id": "c2af3806-d544-4560-87fa-0443efb4a499",
   "metadata": {},
   "outputs": [
    {
     "ename": "OSError",
     "evalue": "[WinError 145] The directory is not empty: 'Corn'",
     "output_type": "error",
     "traceback": [
      "\u001b[1;31m---------------------------------------------------------------------------\u001b[0m",
      "\u001b[1;31mOSError\u001b[0m                                   Traceback (most recent call last)",
      "Cell \u001b[1;32mIn[43], line 1\u001b[0m\n\u001b[1;32m----> 1\u001b[0m \u001b[43mos\u001b[49m\u001b[38;5;241;43m.\u001b[39;49m\u001b[43mrmdir\u001b[49m\u001b[43m(\u001b[49m\u001b[38;5;124;43m'\u001b[39;49m\u001b[38;5;124;43mCorn\u001b[39;49m\u001b[38;5;124;43m'\u001b[39;49m\u001b[43m)\u001b[49m \u001b[38;5;66;03m# remove an empty directory\u001b[39;00m\n",
      "\u001b[1;31mOSError\u001b[0m: [WinError 145] The directory is not empty: 'Corn'"
     ]
    }
   ],
   "source": [
    "os.rmdir('Corn') # remove an empty directory"
   ]
  },
  {
   "cell_type": "code",
   "execution_count": 44,
   "id": "dfaceb89-ac71-4e2b-9936-ac6c14c7cb93",
   "metadata": {},
   "outputs": [
    {
     "ename": "OSError",
     "evalue": "[WinError 145] The directory is not empty: '1'",
     "output_type": "error",
     "traceback": [
      "\u001b[1;31m---------------------------------------------------------------------------\u001b[0m",
      "\u001b[1;31mOSError\u001b[0m                                   Traceback (most recent call last)",
      "Cell \u001b[1;32mIn[44], line 1\u001b[0m\n\u001b[1;32m----> 1\u001b[0m \u001b[43mos\u001b[49m\u001b[38;5;241;43m.\u001b[39;49m\u001b[43mrmdir\u001b[49m\u001b[43m(\u001b[49m\u001b[38;5;124;43m\"\u001b[39;49m\u001b[38;5;124;43m1\u001b[39;49m\u001b[38;5;124;43m\"\u001b[39;49m\u001b[43m)\u001b[49m\n",
      "\u001b[1;31mOSError\u001b[0m: [WinError 145] The directory is not empty: '1'"
     ]
    }
   ],
   "source": [
    "os.rmdir(\"1\")"
   ]
  },
  {
   "cell_type": "code",
   "execution_count": 45,
   "id": "34b6f38a-9c93-4ce8-80a5-c7020ebcd2c6",
   "metadata": {},
   "outputs": [],
   "source": [
    "import shutil"
   ]
  },
  {
   "cell_type": "code",
   "execution_count": 46,
   "id": "41eec5d5-145d-47b3-bfd1-6a42d3478d0a",
   "metadata": {},
   "outputs": [],
   "source": [
    "shutil.rmtree(\"Dir_Made_with_Python_cmd/\")"
   ]
  },
  {
   "cell_type": "code",
   "execution_count": 47,
   "id": "df8c35da-e8d5-4c5f-b85f-2c2ebabc1e62",
   "metadata": {},
   "outputs": [],
   "source": [
    "shutil.rmtree(\"1\")"
   ]
  },
  {
   "cell_type": "code",
   "execution_count": 48,
   "id": "03e5c806-a7ee-4dd0-8e59-9a516922cc3e",
   "metadata": {},
   "outputs": [
    {
     "data": {
      "text/plain": [
       "'D:\\\\PythonAssignments\\\\Python_Basics\\\\PythonAssignment'"
      ]
     },
     "execution_count": 48,
     "metadata": {},
     "output_type": "execute_result"
    }
   ],
   "source": [
    "os.getcwd()"
   ]
  },
  {
   "cell_type": "code",
   "execution_count": 49,
   "id": "be45105d-0f34-4ce1-80fb-b5d704fad3b7",
   "metadata": {},
   "outputs": [
    {
     "ename": "FileExistsError",
     "evalue": "[WinError 183] Cannot create a file when that file already exists: 'test/test1'",
     "output_type": "error",
     "traceback": [
      "\u001b[1;31m---------------------------------------------------------------------------\u001b[0m",
      "\u001b[1;31mFileExistsError\u001b[0m                           Traceback (most recent call last)",
      "Cell \u001b[1;32mIn[49], line 1\u001b[0m\n\u001b[1;32m----> 1\u001b[0m \u001b[43mos\u001b[49m\u001b[38;5;241;43m.\u001b[39;49m\u001b[43mmakedirs\u001b[49m\u001b[43m(\u001b[49m\u001b[38;5;124;43m'\u001b[39;49m\u001b[38;5;124;43mtest/test1\u001b[39;49m\u001b[38;5;124;43m'\u001b[39;49m\u001b[43m)\u001b[49m\n",
      "File \u001b[1;32m<frozen os>:225\u001b[0m, in \u001b[0;36mmakedirs\u001b[1;34m(name, mode, exist_ok)\u001b[0m\n",
      "\u001b[1;31mFileExistsError\u001b[0m: [WinError 183] Cannot create a file when that file already exists: 'test/test1'"
     ]
    }
   ],
   "source": [
    "os.makedirs('test/test1')"
   ]
  },
  {
   "cell_type": "code",
   "execution_count": 50,
   "id": "ab2efe60-9694-48a5-bbe7-4ae3c39e17d3",
   "metadata": {},
   "outputs": [],
   "source": [
    "f = open(\"/PythonAssignments/Python_Basics/PythonAssignment/test/test1/file_test.txt\", 'w')"
   ]
  },
  {
   "cell_type": "code",
   "execution_count": 51,
   "id": "cd7d47c7-ede2-48ac-b576-56210059fbd2",
   "metadata": {},
   "outputs": [],
   "source": [
    "# copying the above file in the cwd (current directory).\n",
    "# shutil.copy(src, dst)"
   ]
  },
  {
   "cell_type": "code",
   "execution_count": 52,
   "id": "d42f5e1c-dcbf-4281-a046-e9129fe889a5",
   "metadata": {},
   "outputs": [
    {
     "data": {
      "text/plain": [
       "'D:\\\\PythonAssignments\\\\Python_Basics\\\\PythonAssignment\\\\file_test.txt'"
      ]
     },
     "execution_count": 52,
     "metadata": {},
     "output_type": "execute_result"
    }
   ],
   "source": [
    "shutil.copy('/PythonAssignments/Python_Basics/PythonAssignment/test/test1/file_test.txt','D:\\\\PythonAssignments\\\\Python_Basics\\\\PythonAssignment') # Copy data and mode bits"
   ]
  },
  {
   "cell_type": "code",
   "execution_count": null,
   "id": "8fe39ffb-dddc-4855-b91b-43be6087e7da",
   "metadata": {},
   "outputs": [],
   "source": []
  },
  {
   "cell_type": "code",
   "execution_count": 62,
   "id": "474b2ef8-a6ba-4ca4-ad95-07653b407c33",
   "metadata": {},
   "outputs": [],
   "source": [
    "os.mkdir('Corn')"
   ]
  },
  {
   "cell_type": "code",
   "execution_count": 64,
   "id": "150e6a15-0c4a-4430-8a06-2fe26346480a",
   "metadata": {},
   "outputs": [
    {
     "ename": "PermissionError",
     "evalue": "[WinError 32] The process cannot access the file because it is being used by another process: '/PythonAssignments/Python_Basics/PythonAssignment/test/test1/file_test.txt'",
     "output_type": "error",
     "traceback": [
      "\u001b[1;31m---------------------------------------------------------------------------\u001b[0m",
      "\u001b[1;31mPermissionError\u001b[0m                           Traceback (most recent call last)",
      "File \u001b[1;32m~\\AppData\\Local\\Programs\\Python\\Python312\\Lib\\shutil.py:847\u001b[0m, in \u001b[0;36mmove\u001b[1;34m(src, dst, copy_function)\u001b[0m\n\u001b[0;32m    846\u001b[0m \u001b[38;5;28;01mtry\u001b[39;00m:\n\u001b[1;32m--> 847\u001b[0m     \u001b[43mos\u001b[49m\u001b[38;5;241;43m.\u001b[39;49m\u001b[43mrename\u001b[49m\u001b[43m(\u001b[49m\u001b[43msrc\u001b[49m\u001b[43m,\u001b[49m\u001b[43m \u001b[49m\u001b[43mreal_dst\u001b[49m\u001b[43m)\u001b[49m\n\u001b[0;32m    848\u001b[0m \u001b[38;5;28;01mexcept\u001b[39;00m \u001b[38;5;167;01mOSError\u001b[39;00m:\n",
      "\u001b[1;31mPermissionError\u001b[0m: [WinError 32] The process cannot access the file because it is being used by another process: '/PythonAssignments/Python_Basics/PythonAssignment/test/test1/file_test.txt' -> '/PythonAssignments/Python_Basics/PythonAssignment/Corn/file_test.txt'",
      "\nDuring handling of the above exception, another exception occurred:\n",
      "\u001b[1;31mPermissionError\u001b[0m                           Traceback (most recent call last)",
      "Cell \u001b[1;32mIn[64], line 1\u001b[0m\n\u001b[1;32m----> 1\u001b[0m \u001b[43mshutil\u001b[49m\u001b[38;5;241;43m.\u001b[39;49m\u001b[43mmove\u001b[49m\u001b[43m(\u001b[49m\u001b[38;5;124;43m'\u001b[39;49m\u001b[38;5;124;43m/PythonAssignments/Python_Basics/PythonAssignment/test/test1/file_test.txt\u001b[39;49m\u001b[38;5;124;43m'\u001b[39;49m\u001b[43m,\u001b[49m\u001b[43m \u001b[49m\u001b[38;5;124;43m'\u001b[39;49m\u001b[38;5;124;43m/PythonAssignments/Python_Basics/PythonAssignment/Corn/\u001b[39;49m\u001b[38;5;124;43m'\u001b[39;49m\u001b[43m)\u001b[49m\n",
      "File \u001b[1;32m~\\AppData\\Local\\Programs\\Python\\Python312\\Lib\\shutil.py:868\u001b[0m, in \u001b[0;36mmove\u001b[1;34m(src, dst, copy_function)\u001b[0m\n\u001b[0;32m    866\u001b[0m     \u001b[38;5;28;01melse\u001b[39;00m:\n\u001b[0;32m    867\u001b[0m         copy_function(src, real_dst)\n\u001b[1;32m--> 868\u001b[0m         \u001b[43mos\u001b[49m\u001b[38;5;241;43m.\u001b[39;49m\u001b[43munlink\u001b[49m\u001b[43m(\u001b[49m\u001b[43msrc\u001b[49m\u001b[43m)\u001b[49m\n\u001b[0;32m    869\u001b[0m \u001b[38;5;28;01mreturn\u001b[39;00m real_dst\n",
      "\u001b[1;31mPermissionError\u001b[0m: [WinError 32] The process cannot access the file because it is being used by another process: '/PythonAssignments/Python_Basics/PythonAssignment/test/test1/file_test.txt'"
     ]
    }
   ],
   "source": [
    "shutil.move('/PythonAssignments/Python_Basics/PythonAssignment/test/test1/file_test.txt', '/PythonAssignments/Python_Basics/PythonAssignment/Corn/')"
   ]
  },
  {
   "cell_type": "code",
   "execution_count": 66,
   "id": "d2725652-37f5-4dea-95c2-b37783f6e592",
   "metadata": {},
   "outputs": [],
   "source": [
    "# no idea why im getting this error \n",
    "# but 'move' is supposed to move the file from the src to the target location"
   ]
  },
  {
   "cell_type": "code",
   "execution_count": null,
   "id": "6efcb244-546c-4322-bcd2-c50f39125e70",
   "metadata": {},
   "outputs": [],
   "source": []
  },
  {
   "cell_type": "code",
   "execution_count": 69,
   "id": "5e2d565c-8445-452b-bbae-629f85ddea76",
   "metadata": {},
   "outputs": [],
   "source": [
    "# with statement ensures that the file is closed properly after the block of code\n",
    "# is executed \n",
    "# important >> frees up system resources and avoid issues like data corruption \n",
    "# or file lock"
   ]
  },
  {
   "cell_type": "code",
   "execution_count": 70,
   "id": "1435bc3b-c04e-4fa8-9587-7ab5dfcfabdd",
   "metadata": {},
   "outputs": [],
   "source": [
    "with open('file.txt','w') as f:\n",
    "    f.write('This is the first line')"
   ]
  },
  {
   "cell_type": "code",
   "execution_count": 71,
   "id": "236a0ce4-0bb8-4bf3-a899-fc5815b12cbe",
   "metadata": {},
   "outputs": [
    {
     "name": "stdout",
     "output_type": "stream",
     "text": [
      "This is the first line\n"
     ]
    }
   ],
   "source": [
    "with open('file.txt','r') as f:\n",
    "    line = f.readline()\n",
    "    print(line)"
   ]
  },
  {
   "cell_type": "code",
   "execution_count": null,
   "id": "6dc96e69-8688-46e9-9947-bb736841d239",
   "metadata": {},
   "outputs": [],
   "source": []
  },
  {
   "cell_type": "code",
   "execution_count": 77,
   "id": "83366eaa-35f4-4ee2-b89e-f8dada35a1c2",
   "metadata": {},
   "outputs": [],
   "source": [
    "# FILE READING AND WRITING CONT."
   ]
  },
  {
   "cell_type": "code",
   "execution_count": 72,
   "id": "87efc0be-7d39-4bda-ad7c-c1c3bc8704e0",
   "metadata": {},
   "outputs": [],
   "source": [
    "text_content = \"\"\"\n",
    "example 1\n",
    "example 2\n",
    "example 3\n",
    "\"\"\""
   ]
  },
  {
   "cell_type": "code",
   "execution_count": 74,
   "id": "13b12d53-683d-4162-8c7a-c53f14e4c551",
   "metadata": {},
   "outputs": [],
   "source": [
    "with open(\"example.txt\",'w') as file:\n",
    "    file.write(text_content)"
   ]
  },
  {
   "cell_type": "code",
   "execution_count": 75,
   "id": "bb9303b3-4c9e-4189-98e4-fb685a6646ca",
   "metadata": {},
   "outputs": [
    {
     "name": "stdout",
     "output_type": "stream",
     "text": [
      "\n",
      "example 1\n",
      "example 2\n",
      "example 3\n",
      "\n"
     ]
    }
   ],
   "source": [
    "with open(\"example.txt\",'r') as file:\n",
    "    data = file.read()\n",
    "print(data)"
   ]
  },
  {
   "cell_type": "code",
   "execution_count": 79,
   "id": "14da0771-7175-442a-b5c2-21ad24fe6403",
   "metadata": {},
   "outputs": [],
   "source": [
    "# csv file >> comma separated values file"
   ]
  },
  {
   "cell_type": "code",
   "execution_count": 88,
   "id": "53b884da-0cc8-434f-bf80-a55113fb1d0d",
   "metadata": {},
   "outputs": [],
   "source": [
    "data = [[\"Name\",\"Course\",\"Fee\"],\n",
    "       [\"Max\",\"AI_ML\",\"2000\"],\n",
    "       [\"Maxine\",\"C++_DSA\",\"2400\"],\n",
    "       [\"Dexter\",\"C++_DSA\",\"2400\"],\n",
    "       [\"Lorraine\",\"C++_DSA\",\"2400\"],\n",
    "       [\"Ted Bundy\",\"Hacking_Crash_Course\",\"24000\"]]"
   ]
  },
  {
   "cell_type": "code",
   "execution_count": 89,
   "id": "44759c6a-dd11-4446-afca-7dcdc586fd1b",
   "metadata": {},
   "outputs": [
    {
     "name": "stdout",
     "output_type": "stream",
     "text": [
      "['Name', 'Course', 'Fee']\n",
      "['Max', 'AI_ML', '2000']\n",
      "['Maxine', 'C++_DSA', '2400']\n",
      "['Dexter', 'C++_DSA', '2400']\n",
      "['Lorraine', 'C++_DSA', '2400']\n",
      "['Ted Bundy', 'Hacking_Crash_Course', '24000']\n"
     ]
    }
   ],
   "source": [
    "for i in data:\n",
    "    print(i)"
   ]
  },
  {
   "cell_type": "code",
   "execution_count": 90,
   "id": "9ab2bfd7-16ed-4637-9607-b67332b72179",
   "metadata": {},
   "outputs": [],
   "source": [
    "import csv"
   ]
  },
  {
   "cell_type": "code",
   "execution_count": 91,
   "id": "f2fa4099-b5e0-47af-8a4f-95a6df7686f5",
   "metadata": {},
   "outputs": [],
   "source": [
    "with open(\"example_csv.csv\",'w') as f:\n",
    "    w = csv.writer(f)\n",
    "    for i in data:\n",
    "        w.writerow(i)"
   ]
  },
  {
   "cell_type": "code",
   "execution_count": 92,
   "id": "2b24ab89-92f8-41d1-ad3c-c340c3d7a149",
   "metadata": {},
   "outputs": [
    {
     "name": "stdout",
     "output_type": "stream",
     "text": [
      "['Name', 'Course', 'Fee']\n",
      "[]\n",
      "['Max', 'AI_ML', '2000']\n",
      "[]\n",
      "['Maxine', 'C++_DSA', '2400']\n",
      "[]\n",
      "['Dexter', 'C++_DSA', '2400']\n",
      "[]\n",
      "['Lorraine', 'C++_DSA', '2400']\n",
      "[]\n",
      "['Ted Bundy', 'Hacking_Crash_Course', '24000']\n",
      "[]\n"
     ]
    }
   ],
   "source": [
    "with open(\"example_csv.csv\",'r') as f:\n",
    "    r = csv.reader(f)\n",
    "    for i in r:\n",
    "        print(i)"
   ]
  },
  {
   "cell_type": "code",
   "execution_count": 93,
   "id": "eefcfe27-cde7-413e-b4ae-35ac903784e9",
   "metadata": {},
   "outputs": [],
   "source": [
    "# JSON -> JavaScript Object Notation\n",
    "data = {'Name': 'Max',\n",
    "       'Course': 'DSA',\n",
    "       'Fee': '25000'}"
   ]
  },
  {
   "cell_type": "code",
   "execution_count": 94,
   "id": "a04f7fe3-a873-4410-b6aa-6d8919b4cb2f",
   "metadata": {},
   "outputs": [
    {
     "data": {
      "text/plain": [
       "dict"
      ]
     },
     "execution_count": 94,
     "metadata": {},
     "output_type": "execute_result"
    }
   ],
   "source": [
    "type(data)"
   ]
  },
  {
   "cell_type": "code",
   "execution_count": 95,
   "id": "7dc6e386-3733-47b2-8ff6-083c0b6f554d",
   "metadata": {},
   "outputs": [],
   "source": [
    "import json"
   ]
  },
  {
   "cell_type": "code",
   "execution_count": 96,
   "id": "7aefd781-a99c-4dd3-80c0-589e8b89c736",
   "metadata": {},
   "outputs": [],
   "source": [
    "with open('test_JSON.json','w') as f:\n",
    "    json.dump(data,f)"
   ]
  },
  {
   "cell_type": "code",
   "execution_count": 97,
   "id": "d4bd2eb2-7859-4794-99af-dbcb5ddb3bf9",
   "metadata": {},
   "outputs": [
    {
     "name": "stdout",
     "output_type": "stream",
     "text": [
      "{'Name': 'Max', 'Course': 'DSA', 'Fee': '25000'}\n"
     ]
    }
   ],
   "source": [
    "with open(\"test_JSON.json\",'r') as f:\n",
    "    data = json.load(f)\n",
    "print(data)"
   ]
  },
  {
   "cell_type": "code",
   "execution_count": null,
   "id": "44ce6bf3-8257-44f8-b431-740f3c474902",
   "metadata": {},
   "outputs": [],
   "source": []
  }
 ],
 "metadata": {
  "kernelspec": {
   "display_name": "Python 3 (ipykernel)",
   "language": "python",
   "name": "python3"
  },
  "language_info": {
   "codemirror_mode": {
    "name": "ipython",
    "version": 3
   },
   "file_extension": ".py",
   "mimetype": "text/x-python",
   "name": "python",
   "nbconvert_exporter": "python",
   "pygments_lexer": "ipython3",
   "version": "3.12.4"
  }
 },
 "nbformat": 4,
 "nbformat_minor": 5
}
