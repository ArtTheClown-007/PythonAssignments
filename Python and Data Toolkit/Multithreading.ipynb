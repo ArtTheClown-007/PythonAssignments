{
 "cells": [
  {
   "cell_type": "code",
   "execution_count": 1,
   "id": "4f1bfc31-48e0-4a94-8cef-0cddf0b04532",
   "metadata": {},
   "outputs": [],
   "source": [
    "# A process is an instance of a computer program\n",
    "# if process runs parallely on multiple processors >> multiprocessing\n",
    "# if process runs concurrently on multiple threads in a proessor >> multithreading"
   ]
  },
  {
   "cell_type": "code",
   "execution_count": 6,
   "id": "ec4d9393-c737-47ef-8fcb-2318b07e92a4",
   "metadata": {},
   "outputs": [
    {
     "name": "stdout",
     "output_type": "stream",
     "text": [
      "do something\n",
      "sleep for 5 sec\n",
      "Done sleeping\n",
      "The program finished in 5.0 seconds\n"
     ]
    }
   ],
   "source": [
    "import time\n",
    "start = time.perf_counter()\n",
    "\n",
    "def test_func():\n",
    "    print('do something')\n",
    "    print('sleep for 5 sec')\n",
    "    time.sleep(5)\n",
    "    print('Done sleeping')\n",
    "\n",
    "test_func()\n",
    "end = time.perf_counter()\n",
    "\n",
    "print(f'The program finished in {round(end - start, 2)} seconds')"
   ]
  },
  {
   "cell_type": "code",
   "execution_count": 7,
   "id": "0e2f356f-cd35-46ce-a616-6490fdad0f75",
   "metadata": {},
   "outputs": [
    {
     "name": "stdout",
     "output_type": "stream",
     "text": [
      "do something\n",
      "sleep for 5 sec\n",
      "Done sleeping\n",
      "do something\n",
      "sleep for 5 sec\n",
      "Done sleeping\n",
      "do something\n",
      "sleep for 5 sec\n",
      "Done sleeping\n",
      "do something\n",
      "sleep for 5 sec\n",
      "Done sleeping\n",
      "The program finished in 20.0 seconds\n"
     ]
    }
   ],
   "source": [
    "import time\n",
    "start = time.perf_counter()\n",
    "\n",
    "def test_func():\n",
    "    print('do something')\n",
    "    print('sleep for 5 sec')\n",
    "    time.sleep(5)\n",
    "    print('Done sleeping')\n",
    "\n",
    "test_func()\n",
    "test_func()\n",
    "test_func()\n",
    "test_func()\n",
    "end = time.perf_counter()\n",
    "\n",
    "print(f'The program finished in {round(end - start, 2)} seconds')"
   ]
  },
  {
   "cell_type": "code",
   "execution_count": 9,
   "id": "63b5120b-7505-4fc0-9e6a-103eccf4126f",
   "metadata": {},
   "outputs": [],
   "source": [
    "# since the program ran sequentially (single thread on a single core), it took 20 s"
   ]
  },
  {
   "cell_type": "code",
   "execution_count": 15,
   "id": "421a75aa-eaa7-4e27-b642-0e9c53b13a38",
   "metadata": {},
   "outputs": [
    {
     "name": "stdout",
     "output_type": "stream",
     "text": [
      "do something\n",
      "sleep for 5 sec\n",
      "do something\n",
      "sleep for 5 sec\n",
      "The program finished in 0.0 seconds\n",
      "Done sleeping\n",
      "Done sleeping\n"
     ]
    }
   ],
   "source": [
    "import time\n",
    "import threading # python module\n",
    "start = time.perf_counter()\n",
    "\n",
    "def test_func():\n",
    "    print('do something')\n",
    "    print('sleep for 5 sec')\n",
    "    time.sleep(5)\n",
    "    print('Done sleeping')\n",
    "\n",
    "\n",
    "t1 = threading.Thread(target = test_func)\n",
    "t2 = threading.Thread(target = test_func)\n",
    "# Run the program on two threads t1 and t2\n",
    "\n",
    "t1.start()  # To start the read\n",
    "t2.start()\n",
    "\n",
    "\n",
    "end = time.perf_counter()\n",
    "\n",
    "print(f'The program finished in {round(end - start, 2)} seconds') # main thread executed this earlier"
   ]
  },
  {
   "cell_type": "code",
   "execution_count": 17,
   "id": "afe5779f-6b07-4fb9-8b03-e5ccb4e5dd32",
   "metadata": {},
   "outputs": [
    {
     "name": "stdout",
     "output_type": "stream",
     "text": [
      "do something\n",
      "sleep for 5 sec\n",
      "do something\n",
      "sleep for 5 sec\n",
      "Done sleeping\n",
      "Done sleeping\n",
      "The program finished in 5.0 seconds\n"
     ]
    }
   ],
   "source": [
    "# this program ran in 5s instead of 10s\n",
    "import time\n",
    "import threading # python module\n",
    "start = time.perf_counter()\n",
    "\n",
    "def test_func():\n",
    "    print('do something')\n",
    "    print('sleep for 5 sec')\n",
    "    time.sleep(5)\n",
    "    print('Done sleeping')\n",
    "\n",
    "\n",
    "t1 = threading.Thread(target = test_func)\n",
    "t2 = threading.Thread(target = test_func)\n",
    "# Run the program on two threads t1 and t2\n",
    "\n",
    "t1.start()  # To start the read\n",
    "t2.start()\n",
    "\n",
    "\n",
    "t1.join() # join first executes t1, t2 threads and then the main thread will be executed\n",
    "t2.join()\n",
    "\n",
    "end = time.perf_counter()\n",
    "\n",
    "print(f'The program finished in {round(end - start, 2)} seconds') # main thread executed this earlier\n"
   ]
  },
  {
   "cell_type": "code",
   "execution_count": 21,
   "id": "e72f835b-3fb2-490f-8dfe-997456a43a1e",
   "metadata": {},
   "outputs": [
    {
     "name": "stdout",
     "output_type": "stream",
     "text": [
      "do something\n",
      "sleep for 5 sec\n",
      "do something\n",
      "sleep for 5 sec\n",
      "do something\n",
      "sleep for 5 sec\n",
      "do something\n",
      "sleep for 5 sec\n",
      "do something\n",
      "sleep for 5 sec\n",
      "do something\n",
      "sleep for 5 sec\n",
      "do something\n",
      "sleep for 5 sec\n",
      "do something\n",
      "sleep for 5 sec\n",
      "do something\n",
      "sleep for 5 sec\n",
      "do something\n",
      "sleep for 5 sec\n",
      "do something\n",
      "sleep for 5 sec\n",
      "do something\n",
      "sleep for 5 sec\n",
      "do something\n",
      "sleep for 5 sec\n",
      "do something\n",
      "sleep for 5 sec\n",
      "do something\n",
      "sleep for 5 sec\n",
      "do something\n",
      "sleep for 5 sec\n",
      "do something\n",
      "sleep for 5 sec\n",
      "do something\n",
      "sleep for 5 sec\n",
      "do something\n",
      "sleep for 5 sec\n",
      "do something\n",
      "sleep for 5 sec\n",
      "Done sleepingDone sleeping\n",
      "Done sleeping\n",
      "\n",
      "Done sleeping\n",
      "Done sleeping\n",
      "Done sleeping\n",
      "Done sleeping\n",
      "Done sleeping\n",
      "Done sleeping\n",
      "Done sleeping\n",
      "Done sleeping\n",
      "Done sleeping\n",
      "Done sleeping\n",
      "Done sleeping\n",
      "Done sleeping\n",
      "Done sleeping\n",
      "Done sleeping\n",
      "Done sleeping\n",
      "Done sleeping\n",
      "Done sleeping\n",
      "The program finished in 5.01 seconds\n"
     ]
    }
   ],
   "source": [
    "# this program should run in 100s with single threading \n",
    "# but with multithreading it runs in 5s\n",
    "import time\n",
    "import threading # python module\n",
    "start = time.perf_counter()\n",
    "\n",
    "def test_func():\n",
    "    print('do something')\n",
    "    print('sleep for 5 sec')\n",
    "    time.sleep(5)\n",
    "    print('Done sleeping')\n",
    "\n",
    "\n",
    "threads = []\n",
    "for i in range(20):\n",
    "    t = threading.Thread(target = test_func)\n",
    "    t.start()\n",
    "    threads.append(t)\n",
    "\n",
    "for thread in threads:\n",
    "    thread.join()\n",
    "\n",
    "end = time.perf_counter()\n",
    "\n",
    "print(f'The program finished in {round(end - start, 2)} seconds') # main thread executed this earlier\n"
   ]
  },
  {
   "cell_type": "code",
   "execution_count": 22,
   "id": "06c5bd02-fe9e-4b75-8ecb-fbbac5798bcf",
   "metadata": {},
   "outputs": [],
   "source": [
    "# using multithreading with function that takes an argument"
   ]
  },
  {
   "cell_type": "code",
   "execution_count": 24,
   "id": "d76a2c00-9efd-4dc0-9664-981d5cb61930",
   "metadata": {},
   "outputs": [
    {
     "name": "stdout",
     "output_type": "stream",
     "text": [
      "do something\n",
      "sleep for 3 sec\n",
      "do something\n",
      "sleep for 3 sec\n",
      "do something\n",
      "sleep for 3 sec\n",
      "do something\n",
      "sleep for 3 sec\n",
      "do something\n",
      "sleep for 3 sec\n",
      "do something\n",
      "sleep for 3 sec\n",
      "do something\n",
      "sleep for 3 sec\n",
      "do something\n",
      "sleep for 3 sec\n",
      "do something\n",
      "sleep for 3 sec\n",
      "do something\n",
      "sleep for 3 sec\n",
      "do something\n",
      "sleep for 3 sec\n",
      "do something\n",
      "sleep for 3 sec\n",
      "do something\n",
      "sleep for 3 sec\n",
      "do something\n",
      "sleep for 3 sec\n",
      "do something\n",
      "sleep for 3 sec\n",
      "do something\n",
      "sleep for 3 sec\n",
      "do something\n",
      "sleep for 3 sec\n",
      "do something\n",
      "sleep for 3 sec\n",
      "do something\n",
      "sleep for 3 sec\n",
      "do something\n",
      "sleep for 3 sec\n",
      "Done sleepingDone sleeping\n",
      "\n",
      "Done sleeping\n",
      "Done sleeping\n",
      "Done sleeping\n",
      "Done sleeping\n",
      "Done sleeping\n",
      "Done sleeping\n",
      "Done sleeping\n",
      "Done sleeping\n",
      "Done sleeping\n",
      "Done sleeping\n",
      "Done sleeping\n",
      "Done sleeping\n",
      "Done sleeping\n",
      "Done sleeping\n",
      "Done sleeping\n",
      "Done sleeping\n",
      "Done sleeping\n",
      "Done sleeping\n",
      "The program finished in 3.01 seconds\n"
     ]
    }
   ],
   "source": [
    "# this program ran in 3s instead of 60s\n",
    "import time\n",
    "import threading # python module\n",
    "start = time.perf_counter()\n",
    "\n",
    "def test_func(args):\n",
    "    print('do something')\n",
    "    print(f'sleep for {args} sec')\n",
    "    time.sleep(args)\n",
    "    print('Done sleeping')\n",
    "\n",
    "threads = []\n",
    "for i in range(20):\n",
    "    t = threading.Thread(target = test_func, args = [3])\n",
    "    t.start()\n",
    "    threads.append(t)\n",
    "\n",
    "for thread in threads:\n",
    "    thread.join()\n",
    "\n",
    "\n",
    "end = time.perf_counter()\n",
    "\n",
    "print(f'The program finished in {round(end - start, 2)} seconds') # main thread executed this earlier\n"
   ]
  },
  {
   "cell_type": "code",
   "execution_count": 25,
   "id": "56734e18-f6bf-4b26-9ae2-e81a577bb777",
   "metadata": {},
   "outputs": [],
   "source": [
    "# Use Case \n",
    "# Multithreading works well with I/O bound task where some output has to wait for\n",
    "# input \n",
    "# e.g. reading-writing files, network communication, data base queries"
   ]
  },
  {
   "cell_type": "code",
   "execution_count": 27,
   "id": "a2c4234b-51f6-44b1-8890-bbef3b18b35d",
   "metadata": {},
   "outputs": [
    {
     "name": "stdout",
     "output_type": "stream",
     "text": [
      "The program finished in 0.89 seconds\n"
     ]
    }
   ],
   "source": [
    "import time\n",
    "import threading\n",
    "start = time.perf_counter()\n",
    "\n",
    "\n",
    "url_list = ['https://github.com/itsfoss/text-files/blob/master/agatha.txt',\n",
    "           'https://github.com/itsfoss/text-files/blob/master/sherlock.txt',\n",
    "           'https://github.com/itsfoss/text-files/blob/master/sample_log_file.txt',\n",
    "           'https://github.com/itsfoss/text-files/blob/master/agatha_complete.txt']\n",
    "\n",
    "data_list = ['data.txt','data2.txt','data3.txt','data4.txt']\n",
    "\n",
    "import urllib.request\n",
    "\n",
    "def file_download(url,filename):\n",
    "    urllib.request.urlretrieve(url,filename)\n",
    "\n",
    "\n",
    "threads = []\n",
    "for i in range(len(url_list)):\n",
    "    t = threading.Thread(target = file_download, args = (url_list[i],data_list[i]))\n",
    "    t.start()\n",
    "    threads.append(t)\n",
    "\n",
    "for thread in threads:\n",
    "    thread.join()\n",
    "\n",
    "\n",
    "end = time.perf_counter()\n",
    "\n",
    "print(f'The program finished in {round(end - start, 2)} seconds') # main thread executed this earlier\n"
   ]
  },
  {
   "cell_type": "code",
   "execution_count": null,
   "id": "b258e538-cfc8-46c6-b9e6-6a8d1959df91",
   "metadata": {},
   "outputs": [],
   "source": [
    "# multithreading using concurrent.futures >> keeps code concise "
   ]
  },
  {
   "cell_type": "code",
   "execution_count": 28,
   "id": "72eed6cf-7b3f-4986-8056-7e34f32c5c42",
   "metadata": {},
   "outputs": [
    {
     "name": "stdout",
     "output_type": "stream",
     "text": [
      "The program finished in 0.80655 seconds\n"
     ]
    }
   ],
   "source": [
    "import time\n",
    "import concurrent.futures\n",
    "start = time.perf_counter()\n",
    "\n",
    "\n",
    "url_list = ['https://github.com/itsfoss/text-files/blob/master/agatha.txt',\n",
    "           'https://github.com/itsfoss/text-files/blob/master/sherlock.txt',\n",
    "           'https://github.com/itsfoss/text-files/blob/master/sample_log_file.txt',\n",
    "           'https://github.com/itsfoss/text-files/blob/master/agatha_complete.txt']\n",
    "\n",
    "data_list = ['data5.txt','data6.txt','data9.txt','data10.txt']\n",
    "\n",
    "import urllib.request\n",
    "\n",
    "def file_download(url,filename):\n",
    "    urllib.request.urlretrieve(url,filename)\n",
    "\n",
    "\n",
    "with concurrent.futures.ThreadPoolExecutor() as executor :\n",
    "    executor.map(file_download,url_list,data_list) # args >> function name with arguments of the function\n",
    "\n",
    "end = time.perf_counter()\n",
    "\n",
    "print(f'The program finished in {round(end - start, 5)} seconds') # main thread executed this earlier\n"
   ]
  },
  {
   "cell_type": "code",
   "execution_count": 29,
   "id": "8dbd20d0-2aa4-4461-b010-c7480f2c2302",
   "metadata": {},
   "outputs": [
    {
     "name": "stdout",
     "output_type": "stream",
     "text": [
      "Thread1: incremented shared counter to 1\n",
      "Thread2: incremented shared counter to 2\n",
      "Thread3: incremented shared counter to 3\n",
      "Thread4: incremented shared counter to 4\n",
      "Thread5: incremented shared counter to 5\n",
      "Thread6: incremented shared counter to 6\n",
      "The program finished in 6.02 seconds.\n"
     ]
    }
   ],
   "source": [
    "# shared variable across all the threads \n",
    "\n",
    "start = time.perf_counter()\n",
    "shared_counter = 0\n",
    "counter_lock = threading.Lock() # locking the counter for a specific thread \n",
    "\n",
    "def increment_shared_counter(x):\n",
    "    global shared_counter # accessed by all the threads \n",
    "    with counter_lock:\n",
    "        shared_counter = shared_counter + 1\n",
    "        print(f'Thread{x}: incremented shared counter to {shared_counter}')\n",
    "        time.sleep(1)\n",
    "\n",
    "threads = [threading.Thread(target = increment_shared_counter, args = (i,)) for i in [1,2,3,4,5,6]]\n",
    "\n",
    "for thread in threads:\n",
    "    thread.start()\n",
    "for thread in threads:\n",
    "    thread.join()\n",
    "\n",
    "end = time.perf_counter()\n",
    "\n",
    "print(f'The program finished in {round(end-start,2)} seconds.')"
   ]
  },
  {
   "cell_type": "code",
   "execution_count": 30,
   "id": "64ce3d15-8f14-4ad1-a023-c79ab3ab7e74",
   "metadata": {},
   "outputs": [
    {
     "name": "stdout",
     "output_type": "stream",
     "text": [
      "Thread1: incremented shared counter to 1\n",
      "Thread2: incremented shared counter to 2\n",
      "Thread3: incremented shared counter to 3\n",
      "Thread4: incremented shared counter to 4\n",
      "Thread5: incremented shared counter to 5\n",
      "Thread6: incremented shared counter to 6\n",
      "The program finished in 6.01 seconds.\n"
     ]
    }
   ],
   "source": [
    "# same thing using concurrent futures\n",
    "\n",
    "start = time.perf_counter()\n",
    "shared_counter = 0\n",
    "counter_lock = threading.Lock() # locking the counter for a specific thread \n",
    "\n",
    "def increment_shared_counter(x):\n",
    "    global shared_counter # accessed by all the threads \n",
    "    with counter_lock:\n",
    "        shared_counter = shared_counter + 1\n",
    "        print(f'Thread{x}: incremented shared counter to {shared_counter}')\n",
    "        time.sleep(1)\n",
    "\n",
    "\n",
    "with concurrent.futures.ThreadPoolExecutor() as executor :\n",
    "    thread_args = [1,2,3,4,5,6]\n",
    "    executor.map(increment_shared_counter,thread_args)\n",
    "    \n",
    "end = time.perf_counter()\n",
    "\n",
    "print(f'The program finished in {round(end-start,2)} seconds.')"
   ]
  },
  {
   "cell_type": "code",
   "execution_count": 31,
   "id": "445b4acf-6814-48c8-9512-ce6174238dce",
   "metadata": {},
   "outputs": [],
   "source": [
    "# Summary >> shared variable can be incremented by individual threads of a process"
   ]
  },
  {
   "cell_type": "code",
   "execution_count": null,
   "id": "b169e890-981b-48d4-8630-4704e0c92e96",
   "metadata": {},
   "outputs": [],
   "source": []
  }
 ],
 "metadata": {
  "kernelspec": {
   "display_name": "Python 3 (ipykernel)",
   "language": "python",
   "name": "python3"
  },
  "language_info": {
   "codemirror_mode": {
    "name": "ipython",
    "version": 3
   },
   "file_extension": ".py",
   "mimetype": "text/x-python",
   "name": "python",
   "nbconvert_exporter": "python",
   "pygments_lexer": "ipython3",
   "version": "3.12.4"
  }
 },
 "nbformat": 4,
 "nbformat_minor": 5
}
