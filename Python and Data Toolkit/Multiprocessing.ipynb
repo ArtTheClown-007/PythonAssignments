{
 "cells": [
  {
   "cell_type": "code",
   "execution_count": 4,
   "id": "03252772-75e2-405a-aa05-ebf25466ce5a",
   "metadata": {},
   "outputs": [
    {
     "name": "stdout",
     "output_type": "stream",
     "text": [
      "do something\n",
      "sleep for 1 sec\n",
      "Done sleeping\n",
      "The program finished in 1.0 seconds\n"
     ]
    }
   ],
   "source": [
    "import time\n",
    "start = time.perf_counter()\n",
    "\n",
    "def test_func():\n",
    "    print('do something')\n",
    "    print('sleep for 1 sec')\n",
    "    time.sleep(1)\n",
    "    print('Done sleeping')\n",
    "\n",
    "test_func()\n",
    "end = time.perf_counter()\n",
    "\n",
    "print(f'The program finished in {round(end - start, 2)} seconds')"
   ]
  },
  {
   "cell_type": "code",
   "execution_count": 5,
   "id": "5bcae184-5244-4383-b775-830ae8f2679e",
   "metadata": {},
   "outputs": [],
   "source": [
    "\n",
    "def test_func():\n",
    "    print('do something')\n",
    "    print('sleep for 1 sec')\n",
    "    time.sleep(1)\n",
    "    print('Done sleeping')"
   ]
  },
  {
   "cell_type": "code",
   "execution_count": 6,
   "id": "828c6515-3450-407c-84a0-4027c9fe324b",
   "metadata": {},
   "outputs": [
    {
     "name": "stdout",
     "output_type": "stream",
     "text": [
      "The program finished in 0.18 seconds\n"
     ]
    },
    {
     "data": {
      "text/plain": [
       "'\\ndo something\\nsleep for 1 sec\\ndo something\\nsleep for 1 sec\\ndo somethingdo something\\nsleep for 1 sec\\ndo somethingdo something\\nsleep for 1 sec\\n\\nsleep for 1 sec\\n\\nsleep for 1 sec\\ndo something\\nsleep for 1 sec\\ndo something\\nsleep for 1 sec\\ndo somethingdo something\\nsleep for 1 sec\\n\\nsleep for 1 sec\\nDone sleeping\\nDone sleeping\\nDone sleeping\\nDone sleeping\\nDone sleeping\\nDone sleeping\\nDone sleeping\\nDone sleeping\\nDone sleeping\\nDone sleeping\\nThe program finished in 1.34 seconds\\n\\n\\n** Process exited - Return Code: 0 **\\nPress Enter to exit terminal\\n'"
      ]
     },
     "execution_count": 6,
     "metadata": {},
     "output_type": "execute_result"
    }
   ],
   "source": [
    "import multiprocessing\n",
    "import time\n",
    "\n",
    "\n",
    "start = time.perf_counter()\n",
    "\n",
    "processes = []\n",
    "\n",
    "for i in range(10):\n",
    "    p = multiprocessing.Process(target = test_func)\n",
    "    p.start()   \n",
    "    processes.append(p)\n",
    "\n",
    "for process in processes:\n",
    "    process.join()\n",
    "\n",
    "end = time.perf_counter()\n",
    "\n",
    "print(f'The program finished in {round(end - start, 2)} seconds')\n",
    "\n",
    "# OUTPUT \n",
    "\n",
    "'''\n",
    "do something\n",
    "sleep for 1 sec\n",
    "do something\n",
    "sleep for 1 sec\n",
    "do somethingdo something\n",
    "sleep for 1 sec\n",
    "do somethingdo something\n",
    "sleep for 1 sec\n",
    "\n",
    "sleep for 1 sec\n",
    "\n",
    "sleep for 1 sec\n",
    "do something\n",
    "sleep for 1 sec\n",
    "do something\n",
    "sleep for 1 sec\n",
    "do somethingdo something\n",
    "sleep for 1 sec\n",
    "\n",
    "sleep for 1 sec\n",
    "Done sleeping\n",
    "Done sleeping\n",
    "Done sleeping\n",
    "Done sleeping\n",
    "Done sleeping\n",
    "Done sleeping\n",
    "Done sleeping\n",
    "Done sleeping\n",
    "Done sleeping\n",
    "Done sleeping\n",
    "The program finished in 1.34 seconds\n",
    "\n",
    "\n",
    "** Process exited - Return Code: 0 **\n",
    "Press Enter to exit terminal\n",
    "'''"
   ]
  },
  {
   "cell_type": "code",
   "execution_count": 7,
   "id": "191e0bc2-7a26-4d0e-ae2f-1f3f19a57a1a",
   "metadata": {},
   "outputs": [],
   "source": [
    "import multiprocessing"
   ]
  },
  {
   "cell_type": "code",
   "execution_count": 8,
   "id": "79058428-7fa0-487e-ad67-b465e1e766c4",
   "metadata": {},
   "outputs": [
    {
     "name": "stdout",
     "output_type": "stream",
     "text": [
      "[1, 2, 3, 4, 5]\n",
      "The program finished in 0.12 seconds\n"
     ]
    }
   ],
   "source": [
    "# mutiprocessing >> should be used in case of computation\n",
    "# use case 1:\n",
    "\n",
    "import time\n",
    "\n",
    "def square(index,value):\n",
    "    value[index] = value[index] ** 2\n",
    "\n",
    "\n",
    "arr = multiprocessing.Array('i',[1,2,3,4,5])\n",
    "\n",
    "\n",
    "\n",
    "start = time.perf_counter()\n",
    "\n",
    "processes = []\n",
    "\n",
    "for i in range(5): # in array 5 numbers, therefore loop will be in range (5)\n",
    "    p = multiprocessing.Process(target = square, args = (i,arr))\n",
    "    p.start()   \n",
    "    processes.append(p)\n",
    "\n",
    "for process in processes:\n",
    "    process.join()\n",
    "\n",
    "print(list(arr))\n",
    "\n",
    "end = time.perf_counter()\n",
    "\n",
    "print(f'The program finished in {round(end - start, 2)} seconds')"
   ]
  },
  {
   "cell_type": "code",
   "execution_count": 9,
   "id": "8fefe56c-bfc1-4b82-a459-5f11fe24652a",
   "metadata": {},
   "outputs": [
    {
     "data": {
      "text/plain": [
       "'\\n[1, 4, 9, 16, 25]\\nThe program finished in 0.07 seconds\\n\\n\\n** Process exited - Return Code: 0 **\\nPress Enter to exit terminal\\n\\n'"
      ]
     },
     "execution_count": 9,
     "metadata": {},
     "output_type": "execute_result"
    }
   ],
   "source": [
    "# OUTPUT \n",
    "\n",
    "'''\n",
    "[1, 4, 9, 16, 25]\n",
    "The program finished in 0.07 seconds\n",
    "\n",
    "\n",
    "** Process exited - Return Code: 0 **\n",
    "Press Enter to exit terminal\n",
    "\n",
    "'''"
   ]
  },
  {
   "cell_type": "code",
   "execution_count": null,
   "id": "b47a2959-dd41-4558-8a71-e3f4646a5e93",
   "metadata": {},
   "outputs": [],
   "source": [
    "# using mutiprocessing.pool\n",
    "import time\n",
    "import multiprocessing\n",
    "\n",
    "start = time.perf_counter()\n",
    "\n",
    "def square(no):\n",
    "    result = no * no\n",
    "    print(f\"The square of {no} is {result}\")\n",
    "\n",
    "numbers = [1,2,3,4,6000]\n",
    "\n",
    "with multiprocessing.Pool() as pool :\n",
    "    pool.map(square, numbers)\n",
    "\n",
    "end = time.perf_counter()\n",
    "\n",
    "print(f'The program finished in {round(end - start, 2)} seconds')"
   ]
  },
  {
   "cell_type": "raw",
   "id": "b0f60766-81e6-4957-8b66-4f24ff45dedf",
   "metadata": {},
   "source": [
    "OUTPUT \n",
    "\n",
    "The square of 1 is 1\n",
    "The square of 2 is 4\n",
    "The square of 3 is 9\n",
    "The square of 4 is 16\n",
    "The square of 6000 is 36000000\n",
    "The program finished in 0.57 seconds\n",
    "\n",
    "\n",
    "** Process exited - Return Code: 0 **\n",
    "Press Enter to exit terminal"
   ]
  },
  {
   "cell_type": "code",
   "execution_count": null,
   "id": "7b9a46a4-0dd2-441b-9bea-c6c79385a015",
   "metadata": {},
   "outputs": [],
   "source": [
    "import multiprocessing\n",
    "import time\n",
    "\n",
    "def square(no):\n",
    "    result = no * no\n",
    "    print(f\"The square of {no} is {result}\")\n",
    "\n",
    "if __name__ == \"__main__\":\n",
    "    start = time.perf_counter()\n",
    "\n",
    "    numbers = [1, 2, 3, 4, 6000]\n",
    "\n",
    "    with multiprocessing.Pool() as pool:\n",
    "        pool.map(square, numbers)\n",
    "\n",
    "    end = time.perf_counter()\n",
    "\n",
    "    print(f'The program finished in {round(end - start, 2)} seconds')\n"
   ]
  },
  {
   "cell_type": "code",
   "execution_count": 1,
   "id": "2c9a82ee-6503-4e9b-baa0-686b67d06a62",
   "metadata": {},
   "outputs": [],
   "source": [
    "# no order in the results shows multiple cores/ processors being used and result\n",
    "# returned not sequentially >> parallel execution "
   ]
  },
  {
   "cell_type": "code",
   "execution_count": 2,
   "id": "31330efe-3d4a-408e-8420-52076c3b0554",
   "metadata": {},
   "outputs": [],
   "source": [
    "# use case 2"
   ]
  },
  {
   "cell_type": "code",
   "execution_count": 10,
   "id": "2461e53c-a3dd-4c26-b94b-fa8d9df80442",
   "metadata": {},
   "outputs": [],
   "source": [
    "# say we want admission in a school\n",
    "# we submit an enrollment request in a queue\n",
    "# these requests will be processed from the queue and registration will be done"
   ]
  },
  {
   "cell_type": "code",
   "execution_count": 11,
   "id": "6c3f31d7-07ed-453c-8608-d886cbfc0f98",
   "metadata": {},
   "outputs": [],
   "source": [
    "# These enrollment and registrations task can run in parallel \n",
    "# This means while one process is busy putting the requests into the queue"
   ]
  },
  {
   "cell_type": "code",
   "execution_count": 12,
   "id": "352d0565-af6d-46db-997d-c1abb5f3fa3c",
   "metadata": {},
   "outputs": [],
   "source": [
    "# the other process cab be busy busy processsing those request"
   ]
  },
  {
   "cell_type": "code",
   "execution_count": 16,
   "id": "74e99e0b-8f7f-42a6-96da-134f3ffe748e",
   "metadata": {},
   "outputs": [],
   "source": [
    "import multiprocessing\n",
    "\n",
    "def enroll_students(student_queue):\n",
    "    for student in ['Max','Maxine','John']:\n",
    "        student_queue.put(f'enroll request for {student}')\n",
    "\n",
    "def register_students(students_queue):\n",
    "    while True:\n",
    "        enrollment_req = students_queue.get()\n",
    "        if enrollment_req is None:\n",
    "            break\n",
    "        print(f'Register the enrollment request: {enrollment_req}')\n",
    "\n",
    "if True:\n",
    "    student_queue = multiprocessing.Queue() # multiprocessing has data structure queue\n",
    "    enrollment_process = multiprocessing.Process(target = enroll_students, args = (student_queue,))\n",
    "    registration_process = multiprocessing.Process(target = register_students, args = (student_queue,))\n",
    "\n",
    "enrollment_process.start()\n",
    "registration_process.start()\n",
    "\n",
    "enrollment_process.join()\n",
    "registration_process.join()"
   ]
  },
  {
   "cell_type": "raw",
   "id": "058960ab-bd30-41ab-ae2f-39f03e218dc5",
   "metadata": {},
   "source": [
    "OUTPUT \n",
    "\n",
    "Register the enrollment request: enroll request for Max\n",
    "Register the enrollment request: enroll request for Maxine\n",
    "Register the enrollment request: enroll request for John"
   ]
  },
  {
   "cell_type": "code",
   "execution_count": 19,
   "id": "29ae3556-7a77-492a-a902-b364cea2d859",
   "metadata": {},
   "outputs": [
    {
     "name": "stdout",
     "output_type": "stream",
     "text": [
      "The program finished in 0.21 seconds\n"
     ]
    }
   ],
   "source": [
    "# using concurrent.futures\n",
    "import concurrent.futures\n",
    "\n",
    "import time\n",
    "start = time.perf_counter()\n",
    "\n",
    "def test_func(i):\n",
    "    print('do something')\n",
    "    print('sleep for 1 sec')\n",
    "    time.sleep(1)\n",
    "    print('Done sleeping')\n",
    "\n",
    "with concurrent.futures.ProcessPoolExecutor() as executor:\n",
    "    executor.map(test_func, range(10))\n",
    "\n",
    "\n",
    "end = time.perf_counter()\n",
    "\n",
    "print(f'The program finished in {round(end - start, 2)} seconds')"
   ]
  },
  {
   "cell_type": "raw",
   "id": "ad44aea9-8f44-4fd1-9e18-084a54512509",
   "metadata": {},
   "source": [
    "OUTPUT \n",
    "\n",
    "do something\n",
    "sleep for 1 sec\n",
    "do something\n",
    "do something\n",
    "do something\n",
    "sleep for 1 sec\n",
    "sleep for 1 sec\n",
    "sleep for 1 sec\n",
    "Done sleeping\n",
    "do something\n",
    "sleep for 1 sec\n",
    "Done sleeping\n",
    "Done sleeping\n",
    "Done sleeping\n",
    "do something\n",
    "sleep for 1 sec\n",
    "do something\n",
    "sleep for 1 sec\n",
    "do something\n",
    "sleep for 1 sec\n",
    "Done sleeping\n",
    "do something\n",
    "sleep for 1 sec\n",
    "Done sleeping\n",
    "Done sleeping\n",
    "Done sleeping\n",
    "do something\n",
    "sleep for 1 sec\n",
    "Done sleeping\n",
    "Done sleeping\n",
    "The program finished in 3.08 seconds"
   ]
  },
  {
   "cell_type": "code",
   "execution_count": null,
   "id": "79d6e3d5-c9d1-42ff-8c0e-e62f9fd03ee1",
   "metadata": {},
   "outputs": [],
   "source": []
  }
 ],
 "metadata": {
  "kernelspec": {
   "display_name": "Python 3 (ipykernel)",
   "language": "python",
   "name": "python3"
  },
  "language_info": {
   "codemirror_mode": {
    "name": "ipython",
    "version": 3
   },
   "file_extension": ".py",
   "mimetype": "text/x-python",
   "name": "python",
   "nbconvert_exporter": "python",
   "pygments_lexer": "ipython3",
   "version": "3.12.4"
  }
 },
 "nbformat": 4,
 "nbformat_minor": 5
}
